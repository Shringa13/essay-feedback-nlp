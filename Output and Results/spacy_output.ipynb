{
  "metadata": {
    "kernelspec": {
      "language": "python",
      "display_name": "Python 3",
      "name": "python3"
    },
    "language_info": {
      "name": "python",
      "version": "3.7.12",
      "mimetype": "text/x-python",
      "codemirror_mode": {
        "name": "ipython",
        "version": 3
      },
      "pygments_lexer": "ipython3",
      "nbconvert_exporter": "python",
      "file_extension": ".py"
    },
    "colab": {
      "provenance": []
    },
    "gpuClass": "standard",
    "accelerator": "GPU"
  },
  "nbformat_minor": 0,
  "nbformat": 4,
  "cells": [
    {
      "cell_type": "code",
      "source": [
        "\n",
        "## for data\n",
        "import pandas as pd\n",
        "import numpy as np\n",
        "import re\n",
        "import os\n",
        "import glob\n",
        "\n",
        "## for plotting\n",
        "import matplotlib.pyplot as plt\n",
        "import seaborn as sns\n",
        "\n",
        "from collections import defaultdict\n",
        "from pathlib import Path\n",
        "\n",
        "import torch\n",
        "# import gradio as gr\n",
        "from tqdm import tqdm\n",
        "from time import sleep\n",
        "\n",
        "from typing import Dict, List, Tuple\n",
        "import codecs\n",
        "from text_unidecode import unidecode"
      ],
      "metadata": {
        "_uuid": "8f2839f25d086af736a60e9eeb907d3b93b6e0e5",
        "_cell_guid": "b1076dfc-b9ad-4769-8c92-a6c4dae69d19",
        "execution": {
          "iopub.status.busy": "2023-04-27T05:51:28.367264Z",
          "iopub.execute_input": "2023-04-27T05:51:28.367660Z",
          "iopub.status.idle": "2023-04-27T05:51:29.358133Z",
          "shell.execute_reply.started": "2023-04-27T05:51:28.367613Z",
          "shell.execute_reply": "2023-04-27T05:51:29.356841Z"
        },
        "trusted": true,
        "id": "shDLfnkmTjOy"
      },
      "execution_count": 1,
      "outputs": []
    },
    {
      "cell_type": "code",
      "source": [
        "from google.colab import drive\n",
        "drive.mount('/content/drive')"
      ],
      "metadata": {
        "colab": {
          "base_uri": "https://localhost:8080/"
        },
        "id": "zaufYCdIUutg",
        "outputId": "1ddc8b19-74aa-4797-d038-44d553335225"
      },
      "execution_count": 2,
      "outputs": [
        {
          "output_type": "stream",
          "name": "stdout",
          "text": [
            "Mounted at /content/drive\n"
          ]
        }
      ]
    },
    {
      "cell_type": "code",
      "source": [
        "pd.set_option('display.max_columns', None)\n",
        "pd.set_option('display.max_rows', None)\n",
        "pd.options.display.max_colwidth = 6000"
      ],
      "metadata": {
        "id": "0xA4AiQV2_pK"
      },
      "execution_count": 3,
      "outputs": []
    },
    {
      "cell_type": "markdown",
      "source": [
        "Reading Traning data"
      ],
      "metadata": {
        "id": "Cbj6ejFITjO0"
      }
    },
    {
      "cell_type": "code",
      "source": [
        "# filepath = '/content/drive/MyDrive/fourthbrain/Effective_Writing_Feedback/data/train.csv'\n",
        "# train_data = pd.read_csv(filepath)\n",
        "# train_data.shape"
      ],
      "metadata": {
        "execution": {
          "iopub.status.busy": "2023-04-27T05:51:33.756937Z",
          "iopub.execute_input": "2023-04-27T05:51:33.757323Z",
          "iopub.status.idle": "2023-04-27T05:51:34.035963Z",
          "shell.execute_reply.started": "2023-04-27T05:51:33.757292Z",
          "shell.execute_reply": "2023-04-27T05:51:34.034947Z"
        },
        "trusted": true,
        "id": "q_mjJMpnTjO0"
      },
      "execution_count": 4,
      "outputs": []
    },
    {
      "cell_type": "code",
      "source": [
        "import gc\n",
        "gc.collect()"
      ],
      "metadata": {
        "colab": {
          "base_uri": "https://localhost:8080/"
        },
        "id": "JcpfH6LBg24V",
        "outputId": "cb0f444b-f769-4d03-d25a-17da4916d583"
      },
      "execution_count": 5,
      "outputs": [
        {
          "output_type": "execute_result",
          "data": {
            "text/plain": [
              "0"
            ]
          },
          "metadata": {},
          "execution_count": 5
        }
      ]
    },
    {
      "cell_type": "code",
      "source": [
        "def read_data(path:str, file_type:str)-> pd.DataFrame:\n",
        "    if glob.glob(path+file_type+\".csv\"):\n",
        "        df = pd.read_csv(path+file_type+\".csv\")\n",
        "    \n",
        "    essay_dict = {}\n",
        "    for file in glob.glob(path+file_type+'/*.txt'): \n",
        "        with open(file, \"r\") as file_open:\n",
        "            filename = file.split(file_type+'/')[1].split('.txt')[0]\n",
        "            essay_dict[filename] = file_open.read()\n",
        "        \n",
        "    essay_data = pd.DataFrame.from_dict([essay_dict]).T.reset_index()\n",
        "    essay_data.columns = [\"essay_id\", \"essay_text\"]\n",
        "    train_data = pd.merge(df,essay_data,left_on = 'essay_id', right_on ='essay_id', how ='left')\n",
        "    print(file_type+\" data: \",train_data.shape)\n",
        "    return train_data"
      ],
      "metadata": {
        "execution": {
          "iopub.status.busy": "2023-04-27T05:51:34.038112Z",
          "iopub.execute_input": "2023-04-27T05:51:34.038806Z",
          "iopub.status.idle": "2023-04-27T05:51:34.046705Z",
          "shell.execute_reply.started": "2023-04-27T05:51:34.038766Z",
          "shell.execute_reply": "2023-04-27T05:51:34.045648Z"
        },
        "trusted": true,
        "id": "yUsbFuYnTjO0"
      },
      "execution_count": 6,
      "outputs": []
    },
    {
      "cell_type": "markdown",
      "source": [
        "### Reading Train data"
      ],
      "metadata": {
        "id": "rhtAa0vHTjO1"
      }
    },
    {
      "cell_type": "code",
      "source": [
        "filepath = '/content/drive/MyDrive/fourthbrain/Effective_Writing_Feedback/data/'\n",
        "train_data = read_data(filepath, 'train')\n",
        "test_data = read_data(filepath, 'test')\n"
      ],
      "metadata": {
        "execution": {
          "iopub.status.busy": "2023-04-27T05:51:34.623502Z",
          "iopub.execute_input": "2023-04-27T05:51:34.624486Z",
          "iopub.status.idle": "2023-04-27T05:51:49.743719Z",
          "shell.execute_reply.started": "2023-04-27T05:51:34.624435Z",
          "shell.execute_reply": "2023-04-27T05:51:49.742594Z"
        },
        "trusted": true,
        "colab": {
          "base_uri": "https://localhost:8080/"
        },
        "id": "pNSck1RZTjO1",
        "outputId": "416e49ce-2717-48c7-e1c8-59f6783c09aa"
      },
      "execution_count": 7,
      "outputs": [
        {
          "output_type": "stream",
          "name": "stdout",
          "text": [
            "train data:  (36765, 6)\n",
            "test data:  (21, 5)\n"
          ]
        }
      ]
    },
    {
      "cell_type": "markdown",
      "source": [
        "## Cleaning textual data"
      ],
      "metadata": {
        "id": "_saIoxb0TjO1"
      }
    },
    {
      "cell_type": "code",
      "source": [
        "# https://www.kaggle.com/competitions/feedback-prize-2021/discussion/313330\n",
        "def replace_encoding_with_utf8(error: UnicodeError) -> Tuple[bytes, int]:\n",
        "    return error.object[error.start : error.end].encode(\"utf-8\"), error.end\n",
        "\n",
        "\n",
        "def replace_decoding_with_cp1252(error: UnicodeError) -> Tuple[str, int]:\n",
        "    return error.object[error.start : error.end].decode(\"cp1252\"), error.end\n",
        "\n",
        "# Register the encoding and decoding error handlers for `utf-8` and `cp1252`.\n",
        "codecs.register_error(\"replace_encoding_with_utf8\", replace_encoding_with_utf8)\n",
        "codecs.register_error(\"replace_decoding_with_cp1252\", replace_decoding_with_cp1252)\n",
        "\n",
        "def resolve_encodings_and_normalize(text: str) -> str:\n",
        "    \"\"\"Resolve the encoding problems and normalize the abnormal characters.\"\"\"\n",
        "    text = (\n",
        "        text.encode(\"raw_unicode_escape\")\n",
        "        .decode(\"utf-8\", errors=\"replace_decoding_with_cp1252\")\n",
        "        .encode(\"cp1252\", errors=\"replace_encoding_with_utf8\")\n",
        "        .decode(\"utf-8\", errors=\"replace_decoding_with_cp1252\")\n",
        "    )\n",
        "    text = unidecode(text)\n",
        "    return text"
      ],
      "metadata": {
        "id": "vhcE3nx0L-QP"
      },
      "execution_count": 8,
      "outputs": []
    },
    {
      "cell_type": "code",
      "source": [
        "def cleanup_text(text):\n",
        "    punctuation_signs = list(\"?:!,;\")\n",
        "    text = text.replace(\"\\n\",\"\")\n",
        "    text = text.replace(\"\\r\", \" \")\n",
        "    text = text.replace(\"    \", \" \")\n",
        "    text = text.replace('\"', '')\n",
        "    text = text.replace(\"'s\", \"\")\n",
        "    for punct_sign in punctuation_signs:\n",
        "      text = text.replace(punct_sign, '')\n",
        "    words = re.sub(pattern = '[^a-zA-Z]',repl = ' ', string = text)\n",
        "    words = words.lower()\n",
        "    return words\n",
        "\n",
        "\n",
        "train_data['processed_discourse'] = train_data['discourse_text'].apply(cleanup_text)\n",
        "# train_data['processed_essay'] = train_data['essay_text'].apply(cleanup_text)\n",
        "\n",
        "\n",
        "test_data['normalized_discourse'] = test_data['discourse_text'].apply(resolve_encodings_and_normalize)\n",
        "test_data['processed_discourse'] = test_data['normalized_discourse'].apply(cleanup_text)\n",
        "\n",
        "test_data['processed_essay'] = test_data['essay_text'].apply(resolve_encodings_and_normalize)\n",
        "test_data['processed_essay'] = test_data['processed_essay'].apply(cleanup_text)\n",
        "display(test_data[test_data['discourse_id'] == '84942fc2ab0f'].head(1))"
      ],
      "metadata": {
        "execution": {
          "iopub.status.busy": "2023-04-27T05:52:02.060454Z",
          "iopub.execute_input": "2023-04-27T05:52:02.061354Z",
          "iopub.status.idle": "2023-04-27T05:52:06.476667Z",
          "shell.execute_reply.started": "2023-04-27T05:52:02.061309Z",
          "shell.execute_reply": "2023-04-27T05:52:06.475566Z"
        },
        "trusted": true,
        "colab": {
          "base_uri": "https://localhost:8080/",
          "height": 1000
        },
        "id": "7fXRE3ZlTjO1",
        "outputId": "252ed52d-9868-4eb9-a6ed-65aba7b39102"
      },
      "execution_count": 10,
      "outputs": [
        {
          "output_type": "display_data",
          "data": {
            "text/plain": [
              "    discourse_id      essay_id  \\\n",
              "12  84942fc2ab0f  A8445CABFECE   \n",
              "\n",
              "                                                                                                                                                                                                                                                                                                                                                                                                                                                                                                                                                                                                                                                                                                                                                                                                                                              discourse_text  \\\n",
              "12  According to an article by the Edgar Snyder Firm, 21% of teens that were part of a fatal car accident was due to phones. According to the same article, 35% know the risk but continue using their phones while on the road. This shows that its beyond dangerous and irresponsible of drivers not to be fully aware of their surroundings while driving. Drivers should be able to concentrate without any distractions, because it could be fatal.According to another article, \"Distracted Driving\" by the NHTSA, there has already been about 3,000 phone related car accident deaths since 2017. The article states that teen get too distracted with their phones, which causes their accident. Accidents that can be easily avoided by focusing on the road and not a phone. Drivers should not be able to use their phones at all while driving.   \n",
              "\n",
              "   discourse_type  \\\n",
              "12       Evidence   \n",
              "\n",
              "                                                                                                                                                                                                                                                                                                                                                                                                                                                                                                                                                                                                                                                                                                                                                                                                                                                                                                                                                                                                                                                                                                                                                                                                                                                                                             essay_text  \\\n",
              "12  Phones & Driving\\n\\nDrivers should not be able to use phones while operating a vehicle. Drivers who used their phone while operating a vehicle are most likely to get into an accident that could be fatal.\\n\\nAccording to an article by the Edgar Snyder Firm, 21% of teens that were part of a fatal car accident was due to phones. According to the same article, 35% know the risk but continue using their phones while on the road. This shows that its beyond dangerous and irresponsible of drivers not to be fully aware of their surroundings while driving. Drivers should be able to concentrate without any distractions, because it could be fatal.\\n\\nAccording to another article, \"Distracted Driving\" by the NHTSA, there has already been about 3,000 phone related car accident deaths since 2017. The article states that teen get too distracted with their phones, which causes their accident. Accidents that can be easily avoided by focusing on the road and not a phone. Drivers should not be able to use their phones at all while driving.\\n\\nIn conclusion, drivers should not able to work a vehicle while using their cell phone. Drivers who uses their phones while operating a vehicle and are likely to have an accident then those who don't.                \n",
              "\n",
              "                                                                                                                                                                                                                                                                                                                                                                                                                                                                                                                                                                                                                                                                                                                                                                                                                                        normalized_discourse  \\\n",
              "12  According to an article by the Edgar Snyder Firm, 21% of teens that were part of a fatal car accident was due to phones. According to the same article, 35% know the risk but continue using their phones while on the road. This shows that its beyond dangerous and irresponsible of drivers not to be fully aware of their surroundings while driving. Drivers should be able to concentrate without any distractions, because it could be fatal.According to another article, \"Distracted Driving\" by the NHTSA, there has already been about 3,000 phone related car accident deaths since 2017. The article states that teen get too distracted with their phones, which causes their accident. Accidents that can be easily avoided by focusing on the road and not a phone. Drivers should not be able to use their phones at all while driving.   \n",
              "\n",
              "                                                                                                                                                                                                                                                                                                                                                                                                                                                                                                                                                                                                                                                                                                                                                                                                                                processed_discourse  \\\n",
              "12  according to an article by the edgar snyder firm     of teens that were part of a fatal car accident was due to phones  according to the same article     know the risk but continue using their phones while on the road  this shows that its beyond dangerous and irresponsible of drivers not to be fully aware of their surroundings while driving  drivers should be able to concentrate without any distractions because it could be fatal according to another article distracted driving by the nhtsa there has already been about      phone related car accident deaths since       the article states that teen get too distracted with their phones which causes their accident  accidents that can be easily avoided by focusing on the road and not a phone  drivers should not be able to use their phones at all while driving    \n",
              "\n",
              "                                                                                                                                                                                                                                                                                                                                                                                                                                                                                                                                                                                                                                                                                                                                                                                                                                                                                                                                                                                                                                                                                                                                                                                                                                                     processed_essay  \n",
              "12  phones   drivingdrivers should not be able to use phones while operating a vehicle  drivers who used their phone while operating a vehicle are most likely to get into an accident that could be fatal according to an article by the edgar snyder firm     of teens that were part of a fatal car accident was due to phones  according to the same article     know the risk but continue using their phones while on the road  this shows that its beyond dangerous and irresponsible of drivers not to be fully aware of their surroundings while driving  drivers should be able to concentrate without any distractions because it could be fatal according to another article distracted driving by the nhtsa there has already been about      phone related car accident deaths since       the article states that teen get too distracted with their phones which causes their accident  accidents that can be easily avoided by focusing on the road and not a phone  drivers should not be able to use their phones at all while driving in conclusion drivers should not able to work a vehicle while using their cell phone  drivers who uses their phones while operating a vehicle and are likely to have an accident then those who don t       "
            ],
            "text/html": [
              "\n",
              "  <div id=\"df-ce04e2cc-bd63-485f-8f97-c4cbd622a0ce\">\n",
              "    <div class=\"colab-df-container\">\n",
              "      <div>\n",
              "<style scoped>\n",
              "    .dataframe tbody tr th:only-of-type {\n",
              "        vertical-align: middle;\n",
              "    }\n",
              "\n",
              "    .dataframe tbody tr th {\n",
              "        vertical-align: top;\n",
              "    }\n",
              "\n",
              "    .dataframe thead th {\n",
              "        text-align: right;\n",
              "    }\n",
              "</style>\n",
              "<table border=\"1\" class=\"dataframe\">\n",
              "  <thead>\n",
              "    <tr style=\"text-align: right;\">\n",
              "      <th></th>\n",
              "      <th>discourse_id</th>\n",
              "      <th>essay_id</th>\n",
              "      <th>discourse_text</th>\n",
              "      <th>discourse_type</th>\n",
              "      <th>essay_text</th>\n",
              "      <th>normalized_discourse</th>\n",
              "      <th>processed_discourse</th>\n",
              "      <th>processed_essay</th>\n",
              "    </tr>\n",
              "  </thead>\n",
              "  <tbody>\n",
              "    <tr>\n",
              "      <th>12</th>\n",
              "      <td>84942fc2ab0f</td>\n",
              "      <td>A8445CABFECE</td>\n",
              "      <td>According to an article by the Edgar Snyder Firm, 21% of teens that were part of a fatal car accident was due to phones. According to the same article, 35% know the risk but continue using their phones while on the road. This shows that its beyond dangerous and irresponsible of drivers not to be fully aware of their surroundings while driving. Drivers should be able to concentrate without any distractions, because it could be fatal.According to another article, \"Distracted Driving\" by the NHTSA, there has already been about 3,000 phone related car accident deaths since 2017. The article states that teen get too distracted with their phones, which causes their accident. Accidents that can be easily avoided by focusing on the road and not a phone. Drivers should not be able to use their phones at all while driving.</td>\n",
              "      <td>Evidence</td>\n",
              "      <td>Phones &amp; Driving\\n\\nDrivers should not be able to use phones while operating a vehicle. Drivers who used their phone while operating a vehicle are most likely to get into an accident that could be fatal.\\n\\nAccording to an article by the Edgar Snyder Firm, 21% of teens that were part of a fatal car accident was due to phones. According to the same article, 35% know the risk but continue using their phones while on the road. This shows that its beyond dangerous and irresponsible of drivers not to be fully aware of their surroundings while driving. Drivers should be able to concentrate without any distractions, because it could be fatal.\\n\\nAccording to another article, \"Distracted Driving\" by the NHTSA, there has already been about 3,000 phone related car accident deaths since 2017. The article states that teen get too distracted with their phones, which causes their accident. Accidents that can be easily avoided by focusing on the road and not a phone. Drivers should not be able to use their phones at all while driving.\\n\\nIn conclusion, drivers should not able to work a vehicle while using their cell phone. Drivers who uses their phones while operating a vehicle and are likely to have an accident then those who don't.</td>\n",
              "      <td>According to an article by the Edgar Snyder Firm, 21% of teens that were part of a fatal car accident was due to phones. According to the same article, 35% know the risk but continue using their phones while on the road. This shows that its beyond dangerous and irresponsible of drivers not to be fully aware of their surroundings while driving. Drivers should be able to concentrate without any distractions, because it could be fatal.According to another article, \"Distracted Driving\" by the NHTSA, there has already been about 3,000 phone related car accident deaths since 2017. The article states that teen get too distracted with their phones, which causes their accident. Accidents that can be easily avoided by focusing on the road and not a phone. Drivers should not be able to use their phones at all while driving.</td>\n",
              "      <td>according to an article by the edgar snyder firm     of teens that were part of a fatal car accident was due to phones  according to the same article     know the risk but continue using their phones while on the road  this shows that its beyond dangerous and irresponsible of drivers not to be fully aware of their surroundings while driving  drivers should be able to concentrate without any distractions because it could be fatal according to another article distracted driving by the nhtsa there has already been about      phone related car accident deaths since       the article states that teen get too distracted with their phones which causes their accident  accidents that can be easily avoided by focusing on the road and not a phone  drivers should not be able to use their phones at all while driving</td>\n",
              "      <td>phones   drivingdrivers should not be able to use phones while operating a vehicle  drivers who used their phone while operating a vehicle are most likely to get into an accident that could be fatal according to an article by the edgar snyder firm     of teens that were part of a fatal car accident was due to phones  according to the same article     know the risk but continue using their phones while on the road  this shows that its beyond dangerous and irresponsible of drivers not to be fully aware of their surroundings while driving  drivers should be able to concentrate without any distractions because it could be fatal according to another article distracted driving by the nhtsa there has already been about      phone related car accident deaths since       the article states that teen get too distracted with their phones which causes their accident  accidents that can be easily avoided by focusing on the road and not a phone  drivers should not be able to use their phones at all while driving in conclusion drivers should not able to work a vehicle while using their cell phone  drivers who uses their phones while operating a vehicle and are likely to have an accident then those who don t</td>\n",
              "    </tr>\n",
              "  </tbody>\n",
              "</table>\n",
              "</div>\n",
              "      <button class=\"colab-df-convert\" onclick=\"convertToInteractive('df-ce04e2cc-bd63-485f-8f97-c4cbd622a0ce')\"\n",
              "              title=\"Convert this dataframe to an interactive table.\"\n",
              "              style=\"display:none;\">\n",
              "        \n",
              "  <svg xmlns=\"http://www.w3.org/2000/svg\" height=\"24px\"viewBox=\"0 0 24 24\"\n",
              "       width=\"24px\">\n",
              "    <path d=\"M0 0h24v24H0V0z\" fill=\"none\"/>\n",
              "    <path d=\"M18.56 5.44l.94 2.06.94-2.06 2.06-.94-2.06-.94-.94-2.06-.94 2.06-2.06.94zm-11 1L8.5 8.5l.94-2.06 2.06-.94-2.06-.94L8.5 2.5l-.94 2.06-2.06.94zm10 10l.94 2.06.94-2.06 2.06-.94-2.06-.94-.94-2.06-.94 2.06-2.06.94z\"/><path d=\"M17.41 7.96l-1.37-1.37c-.4-.4-.92-.59-1.43-.59-.52 0-1.04.2-1.43.59L10.3 9.45l-7.72 7.72c-.78.78-.78 2.05 0 2.83L4 21.41c.39.39.9.59 1.41.59.51 0 1.02-.2 1.41-.59l7.78-7.78 2.81-2.81c.8-.78.8-2.07 0-2.86zM5.41 20L4 18.59l7.72-7.72 1.47 1.35L5.41 20z\"/>\n",
              "  </svg>\n",
              "      </button>\n",
              "      \n",
              "  <style>\n",
              "    .colab-df-container {\n",
              "      display:flex;\n",
              "      flex-wrap:wrap;\n",
              "      gap: 12px;\n",
              "    }\n",
              "\n",
              "    .colab-df-convert {\n",
              "      background-color: #E8F0FE;\n",
              "      border: none;\n",
              "      border-radius: 50%;\n",
              "      cursor: pointer;\n",
              "      display: none;\n",
              "      fill: #1967D2;\n",
              "      height: 32px;\n",
              "      padding: 0 0 0 0;\n",
              "      width: 32px;\n",
              "    }\n",
              "\n",
              "    .colab-df-convert:hover {\n",
              "      background-color: #E2EBFA;\n",
              "      box-shadow: 0px 1px 2px rgba(60, 64, 67, 0.3), 0px 1px 3px 1px rgba(60, 64, 67, 0.15);\n",
              "      fill: #174EA6;\n",
              "    }\n",
              "\n",
              "    [theme=dark] .colab-df-convert {\n",
              "      background-color: #3B4455;\n",
              "      fill: #D2E3FC;\n",
              "    }\n",
              "\n",
              "    [theme=dark] .colab-df-convert:hover {\n",
              "      background-color: #434B5C;\n",
              "      box-shadow: 0px 1px 3px 1px rgba(0, 0, 0, 0.15);\n",
              "      filter: drop-shadow(0px 1px 2px rgba(0, 0, 0, 0.3));\n",
              "      fill: #FFFFFF;\n",
              "    }\n",
              "  </style>\n",
              "\n",
              "      <script>\n",
              "        const buttonEl =\n",
              "          document.querySelector('#df-ce04e2cc-bd63-485f-8f97-c4cbd622a0ce button.colab-df-convert');\n",
              "        buttonEl.style.display =\n",
              "          google.colab.kernel.accessAllowed ? 'block' : 'none';\n",
              "\n",
              "        async function convertToInteractive(key) {\n",
              "          const element = document.querySelector('#df-ce04e2cc-bd63-485f-8f97-c4cbd622a0ce');\n",
              "          const dataTable =\n",
              "            await google.colab.kernel.invokeFunction('convertToInteractive',\n",
              "                                                     [key], {});\n",
              "          if (!dataTable) return;\n",
              "\n",
              "          const docLinkHtml = 'Like what you see? Visit the ' +\n",
              "            '<a target=\"_blank\" href=https://colab.research.google.com/notebooks/data_table.ipynb>data table notebook</a>'\n",
              "            + ' to learn more about interactive tables.';\n",
              "          element.innerHTML = '';\n",
              "          dataTable['output_type'] = 'display_data';\n",
              "          await google.colab.output.renderOutput(dataTable, element);\n",
              "          const docLink = document.createElement('div');\n",
              "          docLink.innerHTML = docLinkHtml;\n",
              "          element.appendChild(docLink);\n",
              "        }\n",
              "      </script>\n",
              "    </div>\n",
              "  </div>\n",
              "  "
            ]
          },
          "metadata": {}
        }
      ]
    },
    {
      "cell_type": "code",
      "source": [
        "def text_to_char_idx(full_text, substring):\n",
        "  try:\n",
        "    words = substring.split()\n",
        "    essay_token = full_text.split()\n",
        "    substring_text = \" \".join(words)\n",
        "    essay_text = \" \".join(essay_token)\n",
        "    start_char = essay_text.find(substring_text)\n",
        "    end_char = start_char + len(substring_text)\n",
        "    essay_len = len(essay_text)\n",
        "\n",
        "  except Exception as e:\n",
        "    print(e, full_text, substring)\n",
        "  return start_char, end_char, essay_len\n",
        "\n",
        "# def essay_len(full_text):\n",
        "#   essay_token = full_text.split()\n",
        "#   essay_text = \" \".join(essay_token)\n",
        "#   return len(essay_text)\n"
      ],
      "metadata": {
        "id": "KcuIkSgeuIpC"
      },
      "execution_count": 11,
      "outputs": []
    },
    {
      "cell_type": "code",
      "source": [
        "test_data[['discourse_start','discourse_end','essay_len']]= test_data.apply(lambda x: text_to_char_idx( x['processed_essay'] ,x['processed_discourse']),\\\n",
        "                                                                axis=1 , result_type='expand')\n",
        "# test_data['essay_len'] =test_data.apply(lambda x: essay_len(x['processed_essay']), axis = 1)\n",
        "\n",
        "# test_data.drop(columns =['essay_text','processed_essay'], inplace = True)"
      ],
      "metadata": {
        "id": "HgrhVM-9tjER"
      },
      "execution_count": 12,
      "outputs": []
    },
    {
      "cell_type": "code",
      "source": [
        "test_data[test_data['discourse_start'] == -1]"
      ],
      "metadata": {
        "colab": {
          "base_uri": "https://localhost:8080/",
          "height": 113
        },
        "id": "vb2DqtGBi0of",
        "outputId": "c3b1f17e-d917-4992-f0a6-271332cdddb9"
      },
      "execution_count": 13,
      "outputs": [
        {
          "output_type": "execute_result",
          "data": {
            "text/plain": [
              "Empty DataFrame\n",
              "Columns: [discourse_id, essay_id, discourse_text, discourse_type, essay_text, normalized_discourse, processed_discourse, processed_essay, discourse_start, discourse_end, essay_len]\n",
              "Index: []"
            ],
            "text/html": [
              "\n",
              "  <div id=\"df-09eaf2da-8229-4d27-8583-92054cf38185\">\n",
              "    <div class=\"colab-df-container\">\n",
              "      <div>\n",
              "<style scoped>\n",
              "    .dataframe tbody tr th:only-of-type {\n",
              "        vertical-align: middle;\n",
              "    }\n",
              "\n",
              "    .dataframe tbody tr th {\n",
              "        vertical-align: top;\n",
              "    }\n",
              "\n",
              "    .dataframe thead th {\n",
              "        text-align: right;\n",
              "    }\n",
              "</style>\n",
              "<table border=\"1\" class=\"dataframe\">\n",
              "  <thead>\n",
              "    <tr style=\"text-align: right;\">\n",
              "      <th></th>\n",
              "      <th>discourse_id</th>\n",
              "      <th>essay_id</th>\n",
              "      <th>discourse_text</th>\n",
              "      <th>discourse_type</th>\n",
              "      <th>essay_text</th>\n",
              "      <th>normalized_discourse</th>\n",
              "      <th>processed_discourse</th>\n",
              "      <th>processed_essay</th>\n",
              "      <th>discourse_start</th>\n",
              "      <th>discourse_end</th>\n",
              "      <th>essay_len</th>\n",
              "    </tr>\n",
              "  </thead>\n",
              "  <tbody>\n",
              "  </tbody>\n",
              "</table>\n",
              "</div>\n",
              "      <button class=\"colab-df-convert\" onclick=\"convertToInteractive('df-09eaf2da-8229-4d27-8583-92054cf38185')\"\n",
              "              title=\"Convert this dataframe to an interactive table.\"\n",
              "              style=\"display:none;\">\n",
              "        \n",
              "  <svg xmlns=\"http://www.w3.org/2000/svg\" height=\"24px\"viewBox=\"0 0 24 24\"\n",
              "       width=\"24px\">\n",
              "    <path d=\"M0 0h24v24H0V0z\" fill=\"none\"/>\n",
              "    <path d=\"M18.56 5.44l.94 2.06.94-2.06 2.06-.94-2.06-.94-.94-2.06-.94 2.06-2.06.94zm-11 1L8.5 8.5l.94-2.06 2.06-.94-2.06-.94L8.5 2.5l-.94 2.06-2.06.94zm10 10l.94 2.06.94-2.06 2.06-.94-2.06-.94-.94-2.06-.94 2.06-2.06.94z\"/><path d=\"M17.41 7.96l-1.37-1.37c-.4-.4-.92-.59-1.43-.59-.52 0-1.04.2-1.43.59L10.3 9.45l-7.72 7.72c-.78.78-.78 2.05 0 2.83L4 21.41c.39.39.9.59 1.41.59.51 0 1.02-.2 1.41-.59l7.78-7.78 2.81-2.81c.8-.78.8-2.07 0-2.86zM5.41 20L4 18.59l7.72-7.72 1.47 1.35L5.41 20z\"/>\n",
              "  </svg>\n",
              "      </button>\n",
              "      \n",
              "  <style>\n",
              "    .colab-df-container {\n",
              "      display:flex;\n",
              "      flex-wrap:wrap;\n",
              "      gap: 12px;\n",
              "    }\n",
              "\n",
              "    .colab-df-convert {\n",
              "      background-color: #E8F0FE;\n",
              "      border: none;\n",
              "      border-radius: 50%;\n",
              "      cursor: pointer;\n",
              "      display: none;\n",
              "      fill: #1967D2;\n",
              "      height: 32px;\n",
              "      padding: 0 0 0 0;\n",
              "      width: 32px;\n",
              "    }\n",
              "\n",
              "    .colab-df-convert:hover {\n",
              "      background-color: #E2EBFA;\n",
              "      box-shadow: 0px 1px 2px rgba(60, 64, 67, 0.3), 0px 1px 3px 1px rgba(60, 64, 67, 0.15);\n",
              "      fill: #174EA6;\n",
              "    }\n",
              "\n",
              "    [theme=dark] .colab-df-convert {\n",
              "      background-color: #3B4455;\n",
              "      fill: #D2E3FC;\n",
              "    }\n",
              "\n",
              "    [theme=dark] .colab-df-convert:hover {\n",
              "      background-color: #434B5C;\n",
              "      box-shadow: 0px 1px 3px 1px rgba(0, 0, 0, 0.15);\n",
              "      filter: drop-shadow(0px 1px 2px rgba(0, 0, 0, 0.3));\n",
              "      fill: #FFFFFF;\n",
              "    }\n",
              "  </style>\n",
              "\n",
              "      <script>\n",
              "        const buttonEl =\n",
              "          document.querySelector('#df-09eaf2da-8229-4d27-8583-92054cf38185 button.colab-df-convert');\n",
              "        buttonEl.style.display =\n",
              "          google.colab.kernel.accessAllowed ? 'block' : 'none';\n",
              "\n",
              "        async function convertToInteractive(key) {\n",
              "          const element = document.querySelector('#df-09eaf2da-8229-4d27-8583-92054cf38185');\n",
              "          const dataTable =\n",
              "            await google.colab.kernel.invokeFunction('convertToInteractive',\n",
              "                                                     [key], {});\n",
              "          if (!dataTable) return;\n",
              "\n",
              "          const docLinkHtml = 'Like what you see? Visit the ' +\n",
              "            '<a target=\"_blank\" href=https://colab.research.google.com/notebooks/data_table.ipynb>data table notebook</a>'\n",
              "            + ' to learn more about interactive tables.';\n",
              "          element.innerHTML = '';\n",
              "          dataTable['output_type'] = 'display_data';\n",
              "          await google.colab.output.renderOutput(dataTable, element);\n",
              "          const docLink = document.createElement('div');\n",
              "          docLink.innerHTML = docLinkHtml;\n",
              "          element.appendChild(docLink);\n",
              "        }\n",
              "      </script>\n",
              "    </div>\n",
              "  </div>\n",
              "  "
            ]
          },
          "metadata": {},
          "execution_count": 13
        }
      ]
    },
    {
      "cell_type": "markdown",
      "source": [
        "Calculating Gap length between 2 discourses"
      ],
      "metadata": {
        "id": "ci9DnyQI6lQE"
      }
    },
    {
      "cell_type": "code",
      "source": [
        "#initialize column\n",
        "test_data['gap_length'] = np.nan\n",
        "#set the first one\n",
        "test_data.loc[0, 'gap_length'] = 0\n",
        "\n",
        "#loop over rest\n",
        "for i in range(1, len(test_data)):\n",
        "    #gap if difference is not 1 within an essay\n",
        "    if ((test_data.loc[i, \"essay_id\"] == test_data.loc[i-1, \"essay_id\"])\\\n",
        "        and (test_data.loc[i, \"discourse_start\"] - test_data.loc[i-1, \"discourse_end\"] > 1)):\n",
        "        test_data.loc[i, 'gap_length'] = test_data.loc[i, \"discourse_start\"] - test_data.loc[i-1, \"discourse_end\"] - 2\n",
        "        #minus 2 as the previous end is always -1 and the previous start always +1\n",
        "    #gap if the first discourse of an new essay does not start at 0\n",
        "    elif ((test_data.loc[i, \"essay_id\"] != test_data.loc[i-1, \"essay_id\"])\\\n",
        "        and (test_data.loc[i, \"discourse_start\"] != 0)):\n",
        "        test_data.loc[i, 'gap_length'] = test_data.loc[i, \"discourse_start\"] -1\n",
        "\n",
        "\n",
        " #is there any text after the last discourse of an essay?\n",
        "last_ones = test_data.drop_duplicates(subset=\"essay_id\", keep='last')\n",
        "last_ones['gap_end_length'] = np.where((last_ones.discourse_end < last_ones.essay_len),\\\n",
        "                                       (last_ones.essay_len - last_ones.discourse_end),\\\n",
        "                                       np.nan)\n",
        "\n",
        "cols_to_merge = ['essay_id', 'gap_end_length']\n",
        "test_data_w_gap_len = test_data.merge(last_ones[cols_to_merge], on = [\"essay_id\"], how = \"left\")"
      ],
      "metadata": {
        "colab": {
          "base_uri": "https://localhost:8080/"
        },
        "id": "KtKnJDXMCr13",
        "outputId": "1ee85cc3-02df-4cc9-ee75-b80807bc4c26"
      },
      "execution_count": 14,
      "outputs": [
        {
          "output_type": "stream",
          "name": "stderr",
          "text": [
            "<ipython-input-14-123e11db70a2>:21: SettingWithCopyWarning: \n",
            "A value is trying to be set on a copy of a slice from a DataFrame.\n",
            "Try using .loc[row_indexer,col_indexer] = value instead\n",
            "\n",
            "See the caveats in the documentation: https://pandas.pydata.org/pandas-docs/stable/user_guide/indexing.html#returning-a-view-versus-a-copy\n",
            "  last_ones['gap_end_length'] = np.where((last_ones.discourse_end < last_ones.essay_len),\\\n"
          ]
        }
      ]
    },
    {
      "cell_type": "markdown",
      "source": [
        "For testing purpose, I added label as **Effective** for all inputs"
      ],
      "metadata": {
        "id": "zftMLKqd6szL"
      }
    },
    {
      "cell_type": "code",
      "source": [
        "test_data_w_gap_len['label'] = 'Effective'"
      ],
      "metadata": {
        "id": "qUcX5Ol288Ub"
      },
      "execution_count": 15,
      "outputs": []
    },
    {
      "cell_type": "code",
      "source": [
        "test_data_w_gap_len.head()"
      ],
      "metadata": {
        "colab": {
          "base_uri": "https://localhost:8080/",
          "height": 1000
        },
        "id": "6xOC1rA6DfNT",
        "outputId": "c7dc982b-e4fc-4458-ff48-170b58ab95c5"
      },
      "execution_count": 16,
      "outputs": [
        {
          "output_type": "execute_result",
          "data": {
            "text/plain": [
              "   discourse_id      essay_id  \\\n",
              "0  a261b6e14276  D72CB1C11673   \n",
              "1  5a88900e7dc1  D72CB1C11673   \n",
              "2  9790d835736b  D72CB1C11673   \n",
              "3  75ce6d68b67b  D72CB1C11673   \n",
              "4  93578d946723  D72CB1C11673   \n",
              "\n",
              "                                                                                                                                                                                                                                                                       discourse_text  \\\n",
              "0  Making choices in life can be very difficult. People often ask for advice when they can not decide on one thing. It's always good to ask others for their advice when making a choice. When you have multiple opinions you have the ability to make the best choice for yourself.    \n",
              "1                                                                                                                                                                                                                   Seeking multiple opinions can help a person make a better choice    \n",
              "2                                                                                                                                                                                                                                                      it can decrease stress levels    \n",
              "3                                                                                                                                                                                                                                              a great chance to learn something new    \n",
              "4                                                                                                                                                                                                                                                can be very helpful and beneficial.    \n",
              "\n",
              "  discourse_type  \\\n",
              "0           Lead   \n",
              "1       Position   \n",
              "2          Claim   \n",
              "3          Claim   \n",
              "4          Claim   \n",
              "\n",
              "                                                                                                                                                                                                                                                                                                                                                                                                                                                                                                                                                                                                                                                                                                                                                                                                                                                                                                                                                                                                                                                                                                                                                                                                                                                                                                                                                                                                                                                                                                                                                                                                                                                                                                                                                                                                                                                                                                                                                                                                                                                                                                                                                                                                                                                                                                                                                                                                                                                                                                                 essay_text  \\\n",
              "0  Making choices in life can be very difficult. People often ask for advice when they can not decide on one thing. It's always good to ask others for their advice when making a choice. When you have multiple opinions you have the ability to make the best choice for yourself. Seeking multiple opinions can help a person make a better choice because it can decrease stress levels, a great chance to learn something new, can be very helpful and beneficial.\\n\\nTo begin with, Seeking information from more than one person can decrease stress levels. When making a decision there is a chance that you can become very stressed and overwhelmed. Being stressed can cause a person to give up on what they are doing. Having multiple opinions from people can make choosing an option less difficult and more easier. The information that you receive from others may have a special meaning in the future. Other peoples opinion can make a person feel confident in making the right choice.\\n\\nWhen you ask other people for their opinion you can also learn many new things. Everyone is different and may have more experience than you. Seeking other peoples opinion can cause you to gain a new skill or lesson. For example, someones advice could teach you how to do something the correct way. Many people are very different and have experience different things in life. Seeking advice from others can teach you a lot. We all learn from our mistakes in life, by sharing your past experiences you may prevent someone else from making the same mistake.\\n\\nSeeking others opinion can be very helpful and beneficial. Taking other peoples advice and doing what they say may lead to a great outcome. When you receive other opinions whether they are good or bad you will be able to look at them from a different point of view. For example, When a group of people give you advice on yourself, you then know how they look at you as a person. Everyone looks at certain things from a different prospective. How someone else looks at it may be how its supposed to be viewed in life.\\n\\nIn conclusion, You can learn from others experiences by seeking the advice that someone give you. Making decisions can cause stress on a person. Relating to someones advice may higher your self-esteem because you no longer feel left out. Ask others for advice when making a difficult decision. When you seek others opinion more opportunities are available fro yourself.    \n",
              "1  Making choices in life can be very difficult. People often ask for advice when they can not decide on one thing. It's always good to ask others for their advice when making a choice. When you have multiple opinions you have the ability to make the best choice for yourself. Seeking multiple opinions can help a person make a better choice because it can decrease stress levels, a great chance to learn something new, can be very helpful and beneficial.\\n\\nTo begin with, Seeking information from more than one person can decrease stress levels. When making a decision there is a chance that you can become very stressed and overwhelmed. Being stressed can cause a person to give up on what they are doing. Having multiple opinions from people can make choosing an option less difficult and more easier. The information that you receive from others may have a special meaning in the future. Other peoples opinion can make a person feel confident in making the right choice.\\n\\nWhen you ask other people for their opinion you can also learn many new things. Everyone is different and may have more experience than you. Seeking other peoples opinion can cause you to gain a new skill or lesson. For example, someones advice could teach you how to do something the correct way. Many people are very different and have experience different things in life. Seeking advice from others can teach you a lot. We all learn from our mistakes in life, by sharing your past experiences you may prevent someone else from making the same mistake.\\n\\nSeeking others opinion can be very helpful and beneficial. Taking other peoples advice and doing what they say may lead to a great outcome. When you receive other opinions whether they are good or bad you will be able to look at them from a different point of view. For example, When a group of people give you advice on yourself, you then know how they look at you as a person. Everyone looks at certain things from a different prospective. How someone else looks at it may be how its supposed to be viewed in life.\\n\\nIn conclusion, You can learn from others experiences by seeking the advice that someone give you. Making decisions can cause stress on a person. Relating to someones advice may higher your self-esteem because you no longer feel left out. Ask others for advice when making a difficult decision. When you seek others opinion more opportunities are available fro yourself.    \n",
              "2  Making choices in life can be very difficult. People often ask for advice when they can not decide on one thing. It's always good to ask others for their advice when making a choice. When you have multiple opinions you have the ability to make the best choice for yourself. Seeking multiple opinions can help a person make a better choice because it can decrease stress levels, a great chance to learn something new, can be very helpful and beneficial.\\n\\nTo begin with, Seeking information from more than one person can decrease stress levels. When making a decision there is a chance that you can become very stressed and overwhelmed. Being stressed can cause a person to give up on what they are doing. Having multiple opinions from people can make choosing an option less difficult and more easier. The information that you receive from others may have a special meaning in the future. Other peoples opinion can make a person feel confident in making the right choice.\\n\\nWhen you ask other people for their opinion you can also learn many new things. Everyone is different and may have more experience than you. Seeking other peoples opinion can cause you to gain a new skill or lesson. For example, someones advice could teach you how to do something the correct way. Many people are very different and have experience different things in life. Seeking advice from others can teach you a lot. We all learn from our mistakes in life, by sharing your past experiences you may prevent someone else from making the same mistake.\\n\\nSeeking others opinion can be very helpful and beneficial. Taking other peoples advice and doing what they say may lead to a great outcome. When you receive other opinions whether they are good or bad you will be able to look at them from a different point of view. For example, When a group of people give you advice on yourself, you then know how they look at you as a person. Everyone looks at certain things from a different prospective. How someone else looks at it may be how its supposed to be viewed in life.\\n\\nIn conclusion, You can learn from others experiences by seeking the advice that someone give you. Making decisions can cause stress on a person. Relating to someones advice may higher your self-esteem because you no longer feel left out. Ask others for advice when making a difficult decision. When you seek others opinion more opportunities are available fro yourself.    \n",
              "3  Making choices in life can be very difficult. People often ask for advice when they can not decide on one thing. It's always good to ask others for their advice when making a choice. When you have multiple opinions you have the ability to make the best choice for yourself. Seeking multiple opinions can help a person make a better choice because it can decrease stress levels, a great chance to learn something new, can be very helpful and beneficial.\\n\\nTo begin with, Seeking information from more than one person can decrease stress levels. When making a decision there is a chance that you can become very stressed and overwhelmed. Being stressed can cause a person to give up on what they are doing. Having multiple opinions from people can make choosing an option less difficult and more easier. The information that you receive from others may have a special meaning in the future. Other peoples opinion can make a person feel confident in making the right choice.\\n\\nWhen you ask other people for their opinion you can also learn many new things. Everyone is different and may have more experience than you. Seeking other peoples opinion can cause you to gain a new skill or lesson. For example, someones advice could teach you how to do something the correct way. Many people are very different and have experience different things in life. Seeking advice from others can teach you a lot. We all learn from our mistakes in life, by sharing your past experiences you may prevent someone else from making the same mistake.\\n\\nSeeking others opinion can be very helpful and beneficial. Taking other peoples advice and doing what they say may lead to a great outcome. When you receive other opinions whether they are good or bad you will be able to look at them from a different point of view. For example, When a group of people give you advice on yourself, you then know how they look at you as a person. Everyone looks at certain things from a different prospective. How someone else looks at it may be how its supposed to be viewed in life.\\n\\nIn conclusion, You can learn from others experiences by seeking the advice that someone give you. Making decisions can cause stress on a person. Relating to someones advice may higher your self-esteem because you no longer feel left out. Ask others for advice when making a difficult decision. When you seek others opinion more opportunities are available fro yourself.    \n",
              "4  Making choices in life can be very difficult. People often ask for advice when they can not decide on one thing. It's always good to ask others for their advice when making a choice. When you have multiple opinions you have the ability to make the best choice for yourself. Seeking multiple opinions can help a person make a better choice because it can decrease stress levels, a great chance to learn something new, can be very helpful and beneficial.\\n\\nTo begin with, Seeking information from more than one person can decrease stress levels. When making a decision there is a chance that you can become very stressed and overwhelmed. Being stressed can cause a person to give up on what they are doing. Having multiple opinions from people can make choosing an option less difficult and more easier. The information that you receive from others may have a special meaning in the future. Other peoples opinion can make a person feel confident in making the right choice.\\n\\nWhen you ask other people for their opinion you can also learn many new things. Everyone is different and may have more experience than you. Seeking other peoples opinion can cause you to gain a new skill or lesson. For example, someones advice could teach you how to do something the correct way. Many people are very different and have experience different things in life. Seeking advice from others can teach you a lot. We all learn from our mistakes in life, by sharing your past experiences you may prevent someone else from making the same mistake.\\n\\nSeeking others opinion can be very helpful and beneficial. Taking other peoples advice and doing what they say may lead to a great outcome. When you receive other opinions whether they are good or bad you will be able to look at them from a different point of view. For example, When a group of people give you advice on yourself, you then know how they look at you as a person. Everyone looks at certain things from a different prospective. How someone else looks at it may be how its supposed to be viewed in life.\\n\\nIn conclusion, You can learn from others experiences by seeking the advice that someone give you. Making decisions can cause stress on a person. Relating to someones advice may higher your self-esteem because you no longer feel left out. Ask others for advice when making a difficult decision. When you seek others opinion more opportunities are available fro yourself.    \n",
              "\n",
              "                                                                                                                                                                                                                                                                 normalized_discourse  \\\n",
              "0  Making choices in life can be very difficult. People often ask for advice when they can not decide on one thing. It's always good to ask others for their advice when making a choice. When you have multiple opinions you have the ability to make the best choice for yourself.    \n",
              "1                                                                                                                                                                                                                   Seeking multiple opinions can help a person make a better choice    \n",
              "2                                                                                                                                                                                                                                                      it can decrease stress levels    \n",
              "3                                                                                                                                                                                                                                              a great chance to learn something new    \n",
              "4                                                                                                                                                                                                                                                can be very helpful and beneficial.    \n",
              "\n",
              "                                                                                                                                                                                                                                                                processed_discourse  \\\n",
              "0  making choices in life can be very difficult  people often ask for advice when they can not decide on one thing  it always good to ask others for their advice when making a choice  when you have multiple opinions you have the ability to make the best choice for yourself     \n",
              "1                                                                                                                                                                                                                 seeking multiple opinions can help a person make a better choice    \n",
              "2                                                                                                                                                                                                                                                    it can decrease stress levels    \n",
              "3                                                                                                                                                                                                                                            a great chance to learn something new    \n",
              "4                                                                                                                                                                                                                                              can be very helpful and beneficial     \n",
              "\n",
              "                                                                                                                                                                                                                                                                                                                                                                                                                                                                                                                                                                                                                                                                                                                                                                                                                                                                                                                                                                                                                                                                                                                                                                                                                                                                                                                                                                                                                                                                                                                                                                                                                                                                                                                                                                                                                                                                                                                                                                                                                                                                                                                                                                                                                                                                                                                                                                                                                                                                                  processed_essay  \\\n",
              "0  making choices in life can be very difficult  people often ask for advice when they can not decide on one thing  it always good to ask others for their advice when making a choice  when you have multiple opinions you have the ability to make the best choice for yourself  seeking multiple opinions can help a person make a better choice because it can decrease stress levels a great chance to learn something new can be very helpful and beneficial to begin with seeking information from more than one person can decrease stress levels  when making a decision there is a chance that you can become very stressed and overwhelmed  being stressed can cause a person to give up on what they are doing  having multiple opinions from people can make choosing an option less difficult and more easier  the information that you receive from others may have a special meaning in the future  other peoples opinion can make a person feel confident in making the right choice when you ask other people for their opinion you can also learn many new things  everyone is different and may have more experience than you  seeking other peoples opinion can cause you to gain a new skill or lesson  for example someones advice could teach you how to do something the correct way  many people are very different and have experience different things in life  seeking advice from others can teach you a lot  we all learn from our mistakes in life by sharing your past experiences you may prevent someone else from making the same mistake seeking others opinion can be very helpful and beneficial  taking other peoples advice and doing what they say may lead to a great outcome  when you receive other opinions whether they are good or bad you will be able to look at them from a different point of view  for example when a group of people give you advice on yourself you then know how they look at you as a person  everyone looks at certain things from a different prospective  how someone else looks at it may be how its supposed to be viewed in life in conclusion you can learn from others experiences by seeking the advice that someone give you  making decisions can cause stress on a person  relating to someones advice may higher your self esteem because you no longer feel left out  ask others for advice when making a difficult decision  when you seek others opinion more opportunities are available fro yourself     \n",
              "1  making choices in life can be very difficult  people often ask for advice when they can not decide on one thing  it always good to ask others for their advice when making a choice  when you have multiple opinions you have the ability to make the best choice for yourself  seeking multiple opinions can help a person make a better choice because it can decrease stress levels a great chance to learn something new can be very helpful and beneficial to begin with seeking information from more than one person can decrease stress levels  when making a decision there is a chance that you can become very stressed and overwhelmed  being stressed can cause a person to give up on what they are doing  having multiple opinions from people can make choosing an option less difficult and more easier  the information that you receive from others may have a special meaning in the future  other peoples opinion can make a person feel confident in making the right choice when you ask other people for their opinion you can also learn many new things  everyone is different and may have more experience than you  seeking other peoples opinion can cause you to gain a new skill or lesson  for example someones advice could teach you how to do something the correct way  many people are very different and have experience different things in life  seeking advice from others can teach you a lot  we all learn from our mistakes in life by sharing your past experiences you may prevent someone else from making the same mistake seeking others opinion can be very helpful and beneficial  taking other peoples advice and doing what they say may lead to a great outcome  when you receive other opinions whether they are good or bad you will be able to look at them from a different point of view  for example when a group of people give you advice on yourself you then know how they look at you as a person  everyone looks at certain things from a different prospective  how someone else looks at it may be how its supposed to be viewed in life in conclusion you can learn from others experiences by seeking the advice that someone give you  making decisions can cause stress on a person  relating to someones advice may higher your self esteem because you no longer feel left out  ask others for advice when making a difficult decision  when you seek others opinion more opportunities are available fro yourself     \n",
              "2  making choices in life can be very difficult  people often ask for advice when they can not decide on one thing  it always good to ask others for their advice when making a choice  when you have multiple opinions you have the ability to make the best choice for yourself  seeking multiple opinions can help a person make a better choice because it can decrease stress levels a great chance to learn something new can be very helpful and beneficial to begin with seeking information from more than one person can decrease stress levels  when making a decision there is a chance that you can become very stressed and overwhelmed  being stressed can cause a person to give up on what they are doing  having multiple opinions from people can make choosing an option less difficult and more easier  the information that you receive from others may have a special meaning in the future  other peoples opinion can make a person feel confident in making the right choice when you ask other people for their opinion you can also learn many new things  everyone is different and may have more experience than you  seeking other peoples opinion can cause you to gain a new skill or lesson  for example someones advice could teach you how to do something the correct way  many people are very different and have experience different things in life  seeking advice from others can teach you a lot  we all learn from our mistakes in life by sharing your past experiences you may prevent someone else from making the same mistake seeking others opinion can be very helpful and beneficial  taking other peoples advice and doing what they say may lead to a great outcome  when you receive other opinions whether they are good or bad you will be able to look at them from a different point of view  for example when a group of people give you advice on yourself you then know how they look at you as a person  everyone looks at certain things from a different prospective  how someone else looks at it may be how its supposed to be viewed in life in conclusion you can learn from others experiences by seeking the advice that someone give you  making decisions can cause stress on a person  relating to someones advice may higher your self esteem because you no longer feel left out  ask others for advice when making a difficult decision  when you seek others opinion more opportunities are available fro yourself     \n",
              "3  making choices in life can be very difficult  people often ask for advice when they can not decide on one thing  it always good to ask others for their advice when making a choice  when you have multiple opinions you have the ability to make the best choice for yourself  seeking multiple opinions can help a person make a better choice because it can decrease stress levels a great chance to learn something new can be very helpful and beneficial to begin with seeking information from more than one person can decrease stress levels  when making a decision there is a chance that you can become very stressed and overwhelmed  being stressed can cause a person to give up on what they are doing  having multiple opinions from people can make choosing an option less difficult and more easier  the information that you receive from others may have a special meaning in the future  other peoples opinion can make a person feel confident in making the right choice when you ask other people for their opinion you can also learn many new things  everyone is different and may have more experience than you  seeking other peoples opinion can cause you to gain a new skill or lesson  for example someones advice could teach you how to do something the correct way  many people are very different and have experience different things in life  seeking advice from others can teach you a lot  we all learn from our mistakes in life by sharing your past experiences you may prevent someone else from making the same mistake seeking others opinion can be very helpful and beneficial  taking other peoples advice and doing what they say may lead to a great outcome  when you receive other opinions whether they are good or bad you will be able to look at them from a different point of view  for example when a group of people give you advice on yourself you then know how they look at you as a person  everyone looks at certain things from a different prospective  how someone else looks at it may be how its supposed to be viewed in life in conclusion you can learn from others experiences by seeking the advice that someone give you  making decisions can cause stress on a person  relating to someones advice may higher your self esteem because you no longer feel left out  ask others for advice when making a difficult decision  when you seek others opinion more opportunities are available fro yourself     \n",
              "4  making choices in life can be very difficult  people often ask for advice when they can not decide on one thing  it always good to ask others for their advice when making a choice  when you have multiple opinions you have the ability to make the best choice for yourself  seeking multiple opinions can help a person make a better choice because it can decrease stress levels a great chance to learn something new can be very helpful and beneficial to begin with seeking information from more than one person can decrease stress levels  when making a decision there is a chance that you can become very stressed and overwhelmed  being stressed can cause a person to give up on what they are doing  having multiple opinions from people can make choosing an option less difficult and more easier  the information that you receive from others may have a special meaning in the future  other peoples opinion can make a person feel confident in making the right choice when you ask other people for their opinion you can also learn many new things  everyone is different and may have more experience than you  seeking other peoples opinion can cause you to gain a new skill or lesson  for example someones advice could teach you how to do something the correct way  many people are very different and have experience different things in life  seeking advice from others can teach you a lot  we all learn from our mistakes in life by sharing your past experiences you may prevent someone else from making the same mistake seeking others opinion can be very helpful and beneficial  taking other peoples advice and doing what they say may lead to a great outcome  when you receive other opinions whether they are good or bad you will be able to look at them from a different point of view  for example when a group of people give you advice on yourself you then know how they look at you as a person  everyone looks at certain things from a different prospective  how someone else looks at it may be how its supposed to be viewed in life in conclusion you can learn from others experiences by seeking the advice that someone give you  making decisions can cause stress on a person  relating to someones advice may higher your self esteem because you no longer feel left out  ask others for advice when making a difficult decision  when you seek others opinion more opportunities are available fro yourself     \n",
              "\n",
              "   discourse_start  discourse_end  essay_len  gap_length  gap_end_length  \\\n",
              "0                0            267       2372         0.0             NaN   \n",
              "1              268            332       2372         NaN             NaN   \n",
              "2              341            370       2372         7.0             NaN   \n",
              "3              371            408       2372         NaN             NaN   \n",
              "4              409            443       2372         NaN             NaN   \n",
              "\n",
              "       label  \n",
              "0  Effective  \n",
              "1  Effective  \n",
              "2  Effective  \n",
              "3  Effective  \n",
              "4  Effective  "
            ],
            "text/html": [
              "\n",
              "  <div id=\"df-97117298-5261-4cae-8d12-3b00b74d4f55\">\n",
              "    <div class=\"colab-df-container\">\n",
              "      <div>\n",
              "<style scoped>\n",
              "    .dataframe tbody tr th:only-of-type {\n",
              "        vertical-align: middle;\n",
              "    }\n",
              "\n",
              "    .dataframe tbody tr th {\n",
              "        vertical-align: top;\n",
              "    }\n",
              "\n",
              "    .dataframe thead th {\n",
              "        text-align: right;\n",
              "    }\n",
              "</style>\n",
              "<table border=\"1\" class=\"dataframe\">\n",
              "  <thead>\n",
              "    <tr style=\"text-align: right;\">\n",
              "      <th></th>\n",
              "      <th>discourse_id</th>\n",
              "      <th>essay_id</th>\n",
              "      <th>discourse_text</th>\n",
              "      <th>discourse_type</th>\n",
              "      <th>essay_text</th>\n",
              "      <th>normalized_discourse</th>\n",
              "      <th>processed_discourse</th>\n",
              "      <th>processed_essay</th>\n",
              "      <th>discourse_start</th>\n",
              "      <th>discourse_end</th>\n",
              "      <th>essay_len</th>\n",
              "      <th>gap_length</th>\n",
              "      <th>gap_end_length</th>\n",
              "      <th>label</th>\n",
              "    </tr>\n",
              "  </thead>\n",
              "  <tbody>\n",
              "    <tr>\n",
              "      <th>0</th>\n",
              "      <td>a261b6e14276</td>\n",
              "      <td>D72CB1C11673</td>\n",
              "      <td>Making choices in life can be very difficult. People often ask for advice when they can not decide on one thing. It's always good to ask others for their advice when making a choice. When you have multiple opinions you have the ability to make the best choice for yourself.</td>\n",
              "      <td>Lead</td>\n",
              "      <td>Making choices in life can be very difficult. People often ask for advice when they can not decide on one thing. It's always good to ask others for their advice when making a choice. When you have multiple opinions you have the ability to make the best choice for yourself. Seeking multiple opinions can help a person make a better choice because it can decrease stress levels, a great chance to learn something new, can be very helpful and beneficial.\\n\\nTo begin with, Seeking information from more than one person can decrease stress levels. When making a decision there is a chance that you can become very stressed and overwhelmed. Being stressed can cause a person to give up on what they are doing. Having multiple opinions from people can make choosing an option less difficult and more easier. The information that you receive from others may have a special meaning in the future. Other peoples opinion can make a person feel confident in making the right choice.\\n\\nWhen you ask other people for their opinion you can also learn many new things. Everyone is different and may have more experience than you. Seeking other peoples opinion can cause you to gain a new skill or lesson. For example, someones advice could teach you how to do something the correct way. Many people are very different and have experience different things in life. Seeking advice from others can teach you a lot. We all learn from our mistakes in life, by sharing your past experiences you may prevent someone else from making the same mistake.\\n\\nSeeking others opinion can be very helpful and beneficial. Taking other peoples advice and doing what they say may lead to a great outcome. When you receive other opinions whether they are good or bad you will be able to look at them from a different point of view. For example, When a group of people give you advice on yourself, you then know how they look at you as a person. Everyone looks at certain things from a different prospective. How someone else looks at it may be how its supposed to be viewed in life.\\n\\nIn conclusion, You can learn from others experiences by seeking the advice that someone give you. Making decisions can cause stress on a person. Relating to someones advice may higher your self-esteem because you no longer feel left out. Ask others for advice when making a difficult decision. When you seek others opinion more opportunities are available fro yourself.</td>\n",
              "      <td>Making choices in life can be very difficult. People often ask for advice when they can not decide on one thing. It's always good to ask others for their advice when making a choice. When you have multiple opinions you have the ability to make the best choice for yourself.</td>\n",
              "      <td>making choices in life can be very difficult  people often ask for advice when they can not decide on one thing  it always good to ask others for their advice when making a choice  when you have multiple opinions you have the ability to make the best choice for yourself</td>\n",
              "      <td>making choices in life can be very difficult  people often ask for advice when they can not decide on one thing  it always good to ask others for their advice when making a choice  when you have multiple opinions you have the ability to make the best choice for yourself  seeking multiple opinions can help a person make a better choice because it can decrease stress levels a great chance to learn something new can be very helpful and beneficial to begin with seeking information from more than one person can decrease stress levels  when making a decision there is a chance that you can become very stressed and overwhelmed  being stressed can cause a person to give up on what they are doing  having multiple opinions from people can make choosing an option less difficult and more easier  the information that you receive from others may have a special meaning in the future  other peoples opinion can make a person feel confident in making the right choice when you ask other people for their opinion you can also learn many new things  everyone is different and may have more experience than you  seeking other peoples opinion can cause you to gain a new skill or lesson  for example someones advice could teach you how to do something the correct way  many people are very different and have experience different things in life  seeking advice from others can teach you a lot  we all learn from our mistakes in life by sharing your past experiences you may prevent someone else from making the same mistake seeking others opinion can be very helpful and beneficial  taking other peoples advice and doing what they say may lead to a great outcome  when you receive other opinions whether they are good or bad you will be able to look at them from a different point of view  for example when a group of people give you advice on yourself you then know how they look at you as a person  everyone looks at certain things from a different prospective  how someone else looks at it may be how its supposed to be viewed in life in conclusion you can learn from others experiences by seeking the advice that someone give you  making decisions can cause stress on a person  relating to someones advice may higher your self esteem because you no longer feel left out  ask others for advice when making a difficult decision  when you seek others opinion more opportunities are available fro yourself</td>\n",
              "      <td>0</td>\n",
              "      <td>267</td>\n",
              "      <td>2372</td>\n",
              "      <td>0.0</td>\n",
              "      <td>NaN</td>\n",
              "      <td>Effective</td>\n",
              "    </tr>\n",
              "    <tr>\n",
              "      <th>1</th>\n",
              "      <td>5a88900e7dc1</td>\n",
              "      <td>D72CB1C11673</td>\n",
              "      <td>Seeking multiple opinions can help a person make a better choice</td>\n",
              "      <td>Position</td>\n",
              "      <td>Making choices in life can be very difficult. People often ask for advice when they can not decide on one thing. It's always good to ask others for their advice when making a choice. When you have multiple opinions you have the ability to make the best choice for yourself. Seeking multiple opinions can help a person make a better choice because it can decrease stress levels, a great chance to learn something new, can be very helpful and beneficial.\\n\\nTo begin with, Seeking information from more than one person can decrease stress levels. When making a decision there is a chance that you can become very stressed and overwhelmed. Being stressed can cause a person to give up on what they are doing. Having multiple opinions from people can make choosing an option less difficult and more easier. The information that you receive from others may have a special meaning in the future. Other peoples opinion can make a person feel confident in making the right choice.\\n\\nWhen you ask other people for their opinion you can also learn many new things. Everyone is different and may have more experience than you. Seeking other peoples opinion can cause you to gain a new skill or lesson. For example, someones advice could teach you how to do something the correct way. Many people are very different and have experience different things in life. Seeking advice from others can teach you a lot. We all learn from our mistakes in life, by sharing your past experiences you may prevent someone else from making the same mistake.\\n\\nSeeking others opinion can be very helpful and beneficial. Taking other peoples advice and doing what they say may lead to a great outcome. When you receive other opinions whether they are good or bad you will be able to look at them from a different point of view. For example, When a group of people give you advice on yourself, you then know how they look at you as a person. Everyone looks at certain things from a different prospective. How someone else looks at it may be how its supposed to be viewed in life.\\n\\nIn conclusion, You can learn from others experiences by seeking the advice that someone give you. Making decisions can cause stress on a person. Relating to someones advice may higher your self-esteem because you no longer feel left out. Ask others for advice when making a difficult decision. When you seek others opinion more opportunities are available fro yourself.</td>\n",
              "      <td>Seeking multiple opinions can help a person make a better choice</td>\n",
              "      <td>seeking multiple opinions can help a person make a better choice</td>\n",
              "      <td>making choices in life can be very difficult  people often ask for advice when they can not decide on one thing  it always good to ask others for their advice when making a choice  when you have multiple opinions you have the ability to make the best choice for yourself  seeking multiple opinions can help a person make a better choice because it can decrease stress levels a great chance to learn something new can be very helpful and beneficial to begin with seeking information from more than one person can decrease stress levels  when making a decision there is a chance that you can become very stressed and overwhelmed  being stressed can cause a person to give up on what they are doing  having multiple opinions from people can make choosing an option less difficult and more easier  the information that you receive from others may have a special meaning in the future  other peoples opinion can make a person feel confident in making the right choice when you ask other people for their opinion you can also learn many new things  everyone is different and may have more experience than you  seeking other peoples opinion can cause you to gain a new skill or lesson  for example someones advice could teach you how to do something the correct way  many people are very different and have experience different things in life  seeking advice from others can teach you a lot  we all learn from our mistakes in life by sharing your past experiences you may prevent someone else from making the same mistake seeking others opinion can be very helpful and beneficial  taking other peoples advice and doing what they say may lead to a great outcome  when you receive other opinions whether they are good or bad you will be able to look at them from a different point of view  for example when a group of people give you advice on yourself you then know how they look at you as a person  everyone looks at certain things from a different prospective  how someone else looks at it may be how its supposed to be viewed in life in conclusion you can learn from others experiences by seeking the advice that someone give you  making decisions can cause stress on a person  relating to someones advice may higher your self esteem because you no longer feel left out  ask others for advice when making a difficult decision  when you seek others opinion more opportunities are available fro yourself</td>\n",
              "      <td>268</td>\n",
              "      <td>332</td>\n",
              "      <td>2372</td>\n",
              "      <td>NaN</td>\n",
              "      <td>NaN</td>\n",
              "      <td>Effective</td>\n",
              "    </tr>\n",
              "    <tr>\n",
              "      <th>2</th>\n",
              "      <td>9790d835736b</td>\n",
              "      <td>D72CB1C11673</td>\n",
              "      <td>it can decrease stress levels</td>\n",
              "      <td>Claim</td>\n",
              "      <td>Making choices in life can be very difficult. People often ask for advice when they can not decide on one thing. It's always good to ask others for their advice when making a choice. When you have multiple opinions you have the ability to make the best choice for yourself. Seeking multiple opinions can help a person make a better choice because it can decrease stress levels, a great chance to learn something new, can be very helpful and beneficial.\\n\\nTo begin with, Seeking information from more than one person can decrease stress levels. When making a decision there is a chance that you can become very stressed and overwhelmed. Being stressed can cause a person to give up on what they are doing. Having multiple opinions from people can make choosing an option less difficult and more easier. The information that you receive from others may have a special meaning in the future. Other peoples opinion can make a person feel confident in making the right choice.\\n\\nWhen you ask other people for their opinion you can also learn many new things. Everyone is different and may have more experience than you. Seeking other peoples opinion can cause you to gain a new skill or lesson. For example, someones advice could teach you how to do something the correct way. Many people are very different and have experience different things in life. Seeking advice from others can teach you a lot. We all learn from our mistakes in life, by sharing your past experiences you may prevent someone else from making the same mistake.\\n\\nSeeking others opinion can be very helpful and beneficial. Taking other peoples advice and doing what they say may lead to a great outcome. When you receive other opinions whether they are good or bad you will be able to look at them from a different point of view. For example, When a group of people give you advice on yourself, you then know how they look at you as a person. Everyone looks at certain things from a different prospective. How someone else looks at it may be how its supposed to be viewed in life.\\n\\nIn conclusion, You can learn from others experiences by seeking the advice that someone give you. Making decisions can cause stress on a person. Relating to someones advice may higher your self-esteem because you no longer feel left out. Ask others for advice when making a difficult decision. When you seek others opinion more opportunities are available fro yourself.</td>\n",
              "      <td>it can decrease stress levels</td>\n",
              "      <td>it can decrease stress levels</td>\n",
              "      <td>making choices in life can be very difficult  people often ask for advice when they can not decide on one thing  it always good to ask others for their advice when making a choice  when you have multiple opinions you have the ability to make the best choice for yourself  seeking multiple opinions can help a person make a better choice because it can decrease stress levels a great chance to learn something new can be very helpful and beneficial to begin with seeking information from more than one person can decrease stress levels  when making a decision there is a chance that you can become very stressed and overwhelmed  being stressed can cause a person to give up on what they are doing  having multiple opinions from people can make choosing an option less difficult and more easier  the information that you receive from others may have a special meaning in the future  other peoples opinion can make a person feel confident in making the right choice when you ask other people for their opinion you can also learn many new things  everyone is different and may have more experience than you  seeking other peoples opinion can cause you to gain a new skill or lesson  for example someones advice could teach you how to do something the correct way  many people are very different and have experience different things in life  seeking advice from others can teach you a lot  we all learn from our mistakes in life by sharing your past experiences you may prevent someone else from making the same mistake seeking others opinion can be very helpful and beneficial  taking other peoples advice and doing what they say may lead to a great outcome  when you receive other opinions whether they are good or bad you will be able to look at them from a different point of view  for example when a group of people give you advice on yourself you then know how they look at you as a person  everyone looks at certain things from a different prospective  how someone else looks at it may be how its supposed to be viewed in life in conclusion you can learn from others experiences by seeking the advice that someone give you  making decisions can cause stress on a person  relating to someones advice may higher your self esteem because you no longer feel left out  ask others for advice when making a difficult decision  when you seek others opinion more opportunities are available fro yourself</td>\n",
              "      <td>341</td>\n",
              "      <td>370</td>\n",
              "      <td>2372</td>\n",
              "      <td>7.0</td>\n",
              "      <td>NaN</td>\n",
              "      <td>Effective</td>\n",
              "    </tr>\n",
              "    <tr>\n",
              "      <th>3</th>\n",
              "      <td>75ce6d68b67b</td>\n",
              "      <td>D72CB1C11673</td>\n",
              "      <td>a great chance to learn something new</td>\n",
              "      <td>Claim</td>\n",
              "      <td>Making choices in life can be very difficult. People often ask for advice when they can not decide on one thing. It's always good to ask others for their advice when making a choice. When you have multiple opinions you have the ability to make the best choice for yourself. Seeking multiple opinions can help a person make a better choice because it can decrease stress levels, a great chance to learn something new, can be very helpful and beneficial.\\n\\nTo begin with, Seeking information from more than one person can decrease stress levels. When making a decision there is a chance that you can become very stressed and overwhelmed. Being stressed can cause a person to give up on what they are doing. Having multiple opinions from people can make choosing an option less difficult and more easier. The information that you receive from others may have a special meaning in the future. Other peoples opinion can make a person feel confident in making the right choice.\\n\\nWhen you ask other people for their opinion you can also learn many new things. Everyone is different and may have more experience than you. Seeking other peoples opinion can cause you to gain a new skill or lesson. For example, someones advice could teach you how to do something the correct way. Many people are very different and have experience different things in life. Seeking advice from others can teach you a lot. We all learn from our mistakes in life, by sharing your past experiences you may prevent someone else from making the same mistake.\\n\\nSeeking others opinion can be very helpful and beneficial. Taking other peoples advice and doing what they say may lead to a great outcome. When you receive other opinions whether they are good or bad you will be able to look at them from a different point of view. For example, When a group of people give you advice on yourself, you then know how they look at you as a person. Everyone looks at certain things from a different prospective. How someone else looks at it may be how its supposed to be viewed in life.\\n\\nIn conclusion, You can learn from others experiences by seeking the advice that someone give you. Making decisions can cause stress on a person. Relating to someones advice may higher your self-esteem because you no longer feel left out. Ask others for advice when making a difficult decision. When you seek others opinion more opportunities are available fro yourself.</td>\n",
              "      <td>a great chance to learn something new</td>\n",
              "      <td>a great chance to learn something new</td>\n",
              "      <td>making choices in life can be very difficult  people often ask for advice when they can not decide on one thing  it always good to ask others for their advice when making a choice  when you have multiple opinions you have the ability to make the best choice for yourself  seeking multiple opinions can help a person make a better choice because it can decrease stress levels a great chance to learn something new can be very helpful and beneficial to begin with seeking information from more than one person can decrease stress levels  when making a decision there is a chance that you can become very stressed and overwhelmed  being stressed can cause a person to give up on what they are doing  having multiple opinions from people can make choosing an option less difficult and more easier  the information that you receive from others may have a special meaning in the future  other peoples opinion can make a person feel confident in making the right choice when you ask other people for their opinion you can also learn many new things  everyone is different and may have more experience than you  seeking other peoples opinion can cause you to gain a new skill or lesson  for example someones advice could teach you how to do something the correct way  many people are very different and have experience different things in life  seeking advice from others can teach you a lot  we all learn from our mistakes in life by sharing your past experiences you may prevent someone else from making the same mistake seeking others opinion can be very helpful and beneficial  taking other peoples advice and doing what they say may lead to a great outcome  when you receive other opinions whether they are good or bad you will be able to look at them from a different point of view  for example when a group of people give you advice on yourself you then know how they look at you as a person  everyone looks at certain things from a different prospective  how someone else looks at it may be how its supposed to be viewed in life in conclusion you can learn from others experiences by seeking the advice that someone give you  making decisions can cause stress on a person  relating to someones advice may higher your self esteem because you no longer feel left out  ask others for advice when making a difficult decision  when you seek others opinion more opportunities are available fro yourself</td>\n",
              "      <td>371</td>\n",
              "      <td>408</td>\n",
              "      <td>2372</td>\n",
              "      <td>NaN</td>\n",
              "      <td>NaN</td>\n",
              "      <td>Effective</td>\n",
              "    </tr>\n",
              "    <tr>\n",
              "      <th>4</th>\n",
              "      <td>93578d946723</td>\n",
              "      <td>D72CB1C11673</td>\n",
              "      <td>can be very helpful and beneficial.</td>\n",
              "      <td>Claim</td>\n",
              "      <td>Making choices in life can be very difficult. People often ask for advice when they can not decide on one thing. It's always good to ask others for their advice when making a choice. When you have multiple opinions you have the ability to make the best choice for yourself. Seeking multiple opinions can help a person make a better choice because it can decrease stress levels, a great chance to learn something new, can be very helpful and beneficial.\\n\\nTo begin with, Seeking information from more than one person can decrease stress levels. When making a decision there is a chance that you can become very stressed and overwhelmed. Being stressed can cause a person to give up on what they are doing. Having multiple opinions from people can make choosing an option less difficult and more easier. The information that you receive from others may have a special meaning in the future. Other peoples opinion can make a person feel confident in making the right choice.\\n\\nWhen you ask other people for their opinion you can also learn many new things. Everyone is different and may have more experience than you. Seeking other peoples opinion can cause you to gain a new skill or lesson. For example, someones advice could teach you how to do something the correct way. Many people are very different and have experience different things in life. Seeking advice from others can teach you a lot. We all learn from our mistakes in life, by sharing your past experiences you may prevent someone else from making the same mistake.\\n\\nSeeking others opinion can be very helpful and beneficial. Taking other peoples advice and doing what they say may lead to a great outcome. When you receive other opinions whether they are good or bad you will be able to look at them from a different point of view. For example, When a group of people give you advice on yourself, you then know how they look at you as a person. Everyone looks at certain things from a different prospective. How someone else looks at it may be how its supposed to be viewed in life.\\n\\nIn conclusion, You can learn from others experiences by seeking the advice that someone give you. Making decisions can cause stress on a person. Relating to someones advice may higher your self-esteem because you no longer feel left out. Ask others for advice when making a difficult decision. When you seek others opinion more opportunities are available fro yourself.</td>\n",
              "      <td>can be very helpful and beneficial.</td>\n",
              "      <td>can be very helpful and beneficial</td>\n",
              "      <td>making choices in life can be very difficult  people often ask for advice when they can not decide on one thing  it always good to ask others for their advice when making a choice  when you have multiple opinions you have the ability to make the best choice for yourself  seeking multiple opinions can help a person make a better choice because it can decrease stress levels a great chance to learn something new can be very helpful and beneficial to begin with seeking information from more than one person can decrease stress levels  when making a decision there is a chance that you can become very stressed and overwhelmed  being stressed can cause a person to give up on what they are doing  having multiple opinions from people can make choosing an option less difficult and more easier  the information that you receive from others may have a special meaning in the future  other peoples opinion can make a person feel confident in making the right choice when you ask other people for their opinion you can also learn many new things  everyone is different and may have more experience than you  seeking other peoples opinion can cause you to gain a new skill or lesson  for example someones advice could teach you how to do something the correct way  many people are very different and have experience different things in life  seeking advice from others can teach you a lot  we all learn from our mistakes in life by sharing your past experiences you may prevent someone else from making the same mistake seeking others opinion can be very helpful and beneficial  taking other peoples advice and doing what they say may lead to a great outcome  when you receive other opinions whether they are good or bad you will be able to look at them from a different point of view  for example when a group of people give you advice on yourself you then know how they look at you as a person  everyone looks at certain things from a different prospective  how someone else looks at it may be how its supposed to be viewed in life in conclusion you can learn from others experiences by seeking the advice that someone give you  making decisions can cause stress on a person  relating to someones advice may higher your self esteem because you no longer feel left out  ask others for advice when making a difficult decision  when you seek others opinion more opportunities are available fro yourself</td>\n",
              "      <td>409</td>\n",
              "      <td>443</td>\n",
              "      <td>2372</td>\n",
              "      <td>NaN</td>\n",
              "      <td>NaN</td>\n",
              "      <td>Effective</td>\n",
              "    </tr>\n",
              "  </tbody>\n",
              "</table>\n",
              "</div>\n",
              "      <button class=\"colab-df-convert\" onclick=\"convertToInteractive('df-97117298-5261-4cae-8d12-3b00b74d4f55')\"\n",
              "              title=\"Convert this dataframe to an interactive table.\"\n",
              "              style=\"display:none;\">\n",
              "        \n",
              "  <svg xmlns=\"http://www.w3.org/2000/svg\" height=\"24px\"viewBox=\"0 0 24 24\"\n",
              "       width=\"24px\">\n",
              "    <path d=\"M0 0h24v24H0V0z\" fill=\"none\"/>\n",
              "    <path d=\"M18.56 5.44l.94 2.06.94-2.06 2.06-.94-2.06-.94-.94-2.06-.94 2.06-2.06.94zm-11 1L8.5 8.5l.94-2.06 2.06-.94-2.06-.94L8.5 2.5l-.94 2.06-2.06.94zm10 10l.94 2.06.94-2.06 2.06-.94-2.06-.94-.94-2.06-.94 2.06-2.06.94z\"/><path d=\"M17.41 7.96l-1.37-1.37c-.4-.4-.92-.59-1.43-.59-.52 0-1.04.2-1.43.59L10.3 9.45l-7.72 7.72c-.78.78-.78 2.05 0 2.83L4 21.41c.39.39.9.59 1.41.59.51 0 1.02-.2 1.41-.59l7.78-7.78 2.81-2.81c.8-.78.8-2.07 0-2.86zM5.41 20L4 18.59l7.72-7.72 1.47 1.35L5.41 20z\"/>\n",
              "  </svg>\n",
              "      </button>\n",
              "      \n",
              "  <style>\n",
              "    .colab-df-container {\n",
              "      display:flex;\n",
              "      flex-wrap:wrap;\n",
              "      gap: 12px;\n",
              "    }\n",
              "\n",
              "    .colab-df-convert {\n",
              "      background-color: #E8F0FE;\n",
              "      border: none;\n",
              "      border-radius: 50%;\n",
              "      cursor: pointer;\n",
              "      display: none;\n",
              "      fill: #1967D2;\n",
              "      height: 32px;\n",
              "      padding: 0 0 0 0;\n",
              "      width: 32px;\n",
              "    }\n",
              "\n",
              "    .colab-df-convert:hover {\n",
              "      background-color: #E2EBFA;\n",
              "      box-shadow: 0px 1px 2px rgba(60, 64, 67, 0.3), 0px 1px 3px 1px rgba(60, 64, 67, 0.15);\n",
              "      fill: #174EA6;\n",
              "    }\n",
              "\n",
              "    [theme=dark] .colab-df-convert {\n",
              "      background-color: #3B4455;\n",
              "      fill: #D2E3FC;\n",
              "    }\n",
              "\n",
              "    [theme=dark] .colab-df-convert:hover {\n",
              "      background-color: #434B5C;\n",
              "      box-shadow: 0px 1px 3px 1px rgba(0, 0, 0, 0.15);\n",
              "      filter: drop-shadow(0px 1px 2px rgba(0, 0, 0, 0.3));\n",
              "      fill: #FFFFFF;\n",
              "    }\n",
              "  </style>\n",
              "\n",
              "      <script>\n",
              "        const buttonEl =\n",
              "          document.querySelector('#df-97117298-5261-4cae-8d12-3b00b74d4f55 button.colab-df-convert');\n",
              "        buttonEl.style.display =\n",
              "          google.colab.kernel.accessAllowed ? 'block' : 'none';\n",
              "\n",
              "        async function convertToInteractive(key) {\n",
              "          const element = document.querySelector('#df-97117298-5261-4cae-8d12-3b00b74d4f55');\n",
              "          const dataTable =\n",
              "            await google.colab.kernel.invokeFunction('convertToInteractive',\n",
              "                                                     [key], {});\n",
              "          if (!dataTable) return;\n",
              "\n",
              "          const docLinkHtml = 'Like what you see? Visit the ' +\n",
              "            '<a target=\"_blank\" href=https://colab.research.google.com/notebooks/data_table.ipynb>data table notebook</a>'\n",
              "            + ' to learn more about interactive tables.';\n",
              "          element.innerHTML = '';\n",
              "          dataTable['output_type'] = 'display_data';\n",
              "          await google.colab.output.renderOutput(dataTable, element);\n",
              "          const docLink = document.createElement('div');\n",
              "          docLink.innerHTML = docLinkHtml;\n",
              "          element.appendChild(docLink);\n",
              "        }\n",
              "      </script>\n",
              "    </div>\n",
              "  </div>\n",
              "  "
            ]
          },
          "metadata": {},
          "execution_count": 16
        }
      ]
    },
    {
      "cell_type": "code",
      "source": [
        "def add_gap_rows(essay):\n",
        "    cols_to_keep = ['discourse_start', 'discourse_end', 'discourse_type', 'gap_length', 'gap_end_length', 'label']\n",
        "    df_essay = test_data_w_gap_len.query('essay_id == @essay')[cols_to_keep].reset_index(drop = True)\n",
        "\n",
        "    #index new row\n",
        "    insert_row = len(df_essay)\n",
        "   \n",
        "    for i in range(1, len(df_essay)):          \n",
        "        if df_essay.loc[i,\"gap_length\"] >0:\n",
        "            if i == 0:\n",
        "                start = 0 #as there is no i-1 for first row\n",
        "                end = df_essay.loc[0, 'discourse_start'] -1\n",
        "                disc_type = \"Nothing\"\n",
        "                gap_end = np.nan\n",
        "                gap = np.nan\n",
        "                label = \"\"\n",
        "                df_essay.loc[insert_row] = [start, end, disc_type, gap, gap_end, label]\n",
        "                insert_row += 1\n",
        "            else:\n",
        "                start = df_essay.loc[i-1, \"discourse_end\"] + 1\n",
        "                end = df_essay.loc[i, 'discourse_start'] -1\n",
        "                disc_type = \"Nothing\"\n",
        "                gap_end = np.nan\n",
        "                gap = np.nan\n",
        "                label = \"\"\n",
        "                df_essay.loc[insert_row] = [start, end, disc_type, gap, gap_end, label]\n",
        "                insert_row += 1\n",
        "\n",
        "    df_essay = df_essay.sort_values(by = \"discourse_start\").reset_index(drop=True)\n",
        "\n",
        "    #add gap at end\n",
        "    if df_essay.loc[(len(df_essay)-1),'gap_end_length'] > 0:\n",
        "        start = df_essay.loc[(len(df_essay)-1), \"discourse_end\"] + 1\n",
        "        end = start + df_essay.loc[(len(df_essay)-1), 'gap_end_length']\n",
        "        disc_type = \"Nothing\"\n",
        "        gap_end = np.nan\n",
        "        gap = np.nan\n",
        "        label = \"\"\n",
        "        df_essay.loc[insert_row] = [start, end, disc_type, gap, gap_end, label]\n",
        "\n",
        "    df_essay.loc[df_essay.discourse_type.isna(),'discourse_type'] = 'Nothing'\n",
        "    # print(df_essay[df_essay.discourse_type.isna()].shape)\n",
        "    return(df_essay)"
      ],
      "metadata": {
        "id": "Xzmpt49XCd9u"
      },
      "execution_count": 17,
      "outputs": []
    },
    {
      "cell_type": "code",
      "source": [
        "add_gap_rows(\"A8445CABFECE\")"
      ],
      "metadata": {
        "colab": {
          "base_uri": "https://localhost:8080/",
          "height": 175
        },
        "id": "EMpi5L4SHX-J",
        "outputId": "5aac5c9f-4ce2-4978-b940-ae669552220f"
      },
      "execution_count": 18,
      "outputs": [
        {
          "output_type": "execute_result",
          "data": {
            "text/plain": [
              "   discourse_start  discourse_end        discourse_type  gap_length  \\\n",
              "0               14             80              Position        13.0   \n",
              "1               81            195                 Claim         NaN   \n",
              "2              196            986              Evidence         NaN   \n",
              "3              987           1183  Concluding Statement         NaN   \n",
              "\n",
              "   gap_end_length      label  \n",
              "0             NaN  Effective  \n",
              "1             NaN  Effective  \n",
              "2             NaN  Effective  \n",
              "3             NaN  Effective  "
            ],
            "text/html": [
              "\n",
              "  <div id=\"df-685f7ef2-9adf-4ef3-b97b-f4314c759efa\">\n",
              "    <div class=\"colab-df-container\">\n",
              "      <div>\n",
              "<style scoped>\n",
              "    .dataframe tbody tr th:only-of-type {\n",
              "        vertical-align: middle;\n",
              "    }\n",
              "\n",
              "    .dataframe tbody tr th {\n",
              "        vertical-align: top;\n",
              "    }\n",
              "\n",
              "    .dataframe thead th {\n",
              "        text-align: right;\n",
              "    }\n",
              "</style>\n",
              "<table border=\"1\" class=\"dataframe\">\n",
              "  <thead>\n",
              "    <tr style=\"text-align: right;\">\n",
              "      <th></th>\n",
              "      <th>discourse_start</th>\n",
              "      <th>discourse_end</th>\n",
              "      <th>discourse_type</th>\n",
              "      <th>gap_length</th>\n",
              "      <th>gap_end_length</th>\n",
              "      <th>label</th>\n",
              "    </tr>\n",
              "  </thead>\n",
              "  <tbody>\n",
              "    <tr>\n",
              "      <th>0</th>\n",
              "      <td>14</td>\n",
              "      <td>80</td>\n",
              "      <td>Position</td>\n",
              "      <td>13.0</td>\n",
              "      <td>NaN</td>\n",
              "      <td>Effective</td>\n",
              "    </tr>\n",
              "    <tr>\n",
              "      <th>1</th>\n",
              "      <td>81</td>\n",
              "      <td>195</td>\n",
              "      <td>Claim</td>\n",
              "      <td>NaN</td>\n",
              "      <td>NaN</td>\n",
              "      <td>Effective</td>\n",
              "    </tr>\n",
              "    <tr>\n",
              "      <th>2</th>\n",
              "      <td>196</td>\n",
              "      <td>986</td>\n",
              "      <td>Evidence</td>\n",
              "      <td>NaN</td>\n",
              "      <td>NaN</td>\n",
              "      <td>Effective</td>\n",
              "    </tr>\n",
              "    <tr>\n",
              "      <th>3</th>\n",
              "      <td>987</td>\n",
              "      <td>1183</td>\n",
              "      <td>Concluding Statement</td>\n",
              "      <td>NaN</td>\n",
              "      <td>NaN</td>\n",
              "      <td>Effective</td>\n",
              "    </tr>\n",
              "  </tbody>\n",
              "</table>\n",
              "</div>\n",
              "      <button class=\"colab-df-convert\" onclick=\"convertToInteractive('df-685f7ef2-9adf-4ef3-b97b-f4314c759efa')\"\n",
              "              title=\"Convert this dataframe to an interactive table.\"\n",
              "              style=\"display:none;\">\n",
              "        \n",
              "  <svg xmlns=\"http://www.w3.org/2000/svg\" height=\"24px\"viewBox=\"0 0 24 24\"\n",
              "       width=\"24px\">\n",
              "    <path d=\"M0 0h24v24H0V0z\" fill=\"none\"/>\n",
              "    <path d=\"M18.56 5.44l.94 2.06.94-2.06 2.06-.94-2.06-.94-.94-2.06-.94 2.06-2.06.94zm-11 1L8.5 8.5l.94-2.06 2.06-.94-2.06-.94L8.5 2.5l-.94 2.06-2.06.94zm10 10l.94 2.06.94-2.06 2.06-.94-2.06-.94-.94-2.06-.94 2.06-2.06.94z\"/><path d=\"M17.41 7.96l-1.37-1.37c-.4-.4-.92-.59-1.43-.59-.52 0-1.04.2-1.43.59L10.3 9.45l-7.72 7.72c-.78.78-.78 2.05 0 2.83L4 21.41c.39.39.9.59 1.41.59.51 0 1.02-.2 1.41-.59l7.78-7.78 2.81-2.81c.8-.78.8-2.07 0-2.86zM5.41 20L4 18.59l7.72-7.72 1.47 1.35L5.41 20z\"/>\n",
              "  </svg>\n",
              "      </button>\n",
              "      \n",
              "  <style>\n",
              "    .colab-df-container {\n",
              "      display:flex;\n",
              "      flex-wrap:wrap;\n",
              "      gap: 12px;\n",
              "    }\n",
              "\n",
              "    .colab-df-convert {\n",
              "      background-color: #E8F0FE;\n",
              "      border: none;\n",
              "      border-radius: 50%;\n",
              "      cursor: pointer;\n",
              "      display: none;\n",
              "      fill: #1967D2;\n",
              "      height: 32px;\n",
              "      padding: 0 0 0 0;\n",
              "      width: 32px;\n",
              "    }\n",
              "\n",
              "    .colab-df-convert:hover {\n",
              "      background-color: #E2EBFA;\n",
              "      box-shadow: 0px 1px 2px rgba(60, 64, 67, 0.3), 0px 1px 3px 1px rgba(60, 64, 67, 0.15);\n",
              "      fill: #174EA6;\n",
              "    }\n",
              "\n",
              "    [theme=dark] .colab-df-convert {\n",
              "      background-color: #3B4455;\n",
              "      fill: #D2E3FC;\n",
              "    }\n",
              "\n",
              "    [theme=dark] .colab-df-convert:hover {\n",
              "      background-color: #434B5C;\n",
              "      box-shadow: 0px 1px 3px 1px rgba(0, 0, 0, 0.15);\n",
              "      filter: drop-shadow(0px 1px 2px rgba(0, 0, 0, 0.3));\n",
              "      fill: #FFFFFF;\n",
              "    }\n",
              "  </style>\n",
              "\n",
              "      <script>\n",
              "        const buttonEl =\n",
              "          document.querySelector('#df-685f7ef2-9adf-4ef3-b97b-f4314c759efa button.colab-df-convert');\n",
              "        buttonEl.style.display =\n",
              "          google.colab.kernel.accessAllowed ? 'block' : 'none';\n",
              "\n",
              "        async function convertToInteractive(key) {\n",
              "          const element = document.querySelector('#df-685f7ef2-9adf-4ef3-b97b-f4314c759efa');\n",
              "          const dataTable =\n",
              "            await google.colab.kernel.invokeFunction('convertToInteractive',\n",
              "                                                     [key], {});\n",
              "          if (!dataTable) return;\n",
              "\n",
              "          const docLinkHtml = 'Like what you see? Visit the ' +\n",
              "            '<a target=\"_blank\" href=https://colab.research.google.com/notebooks/data_table.ipynb>data table notebook</a>'\n",
              "            + ' to learn more about interactive tables.';\n",
              "          element.innerHTML = '';\n",
              "          dataTable['output_type'] = 'display_data';\n",
              "          await google.colab.output.renderOutput(dataTable, element);\n",
              "          const docLink = document.createElement('div');\n",
              "          docLink.innerHTML = docLinkHtml;\n",
              "          element.appendChild(docLink);\n",
              "        }\n",
              "      </script>\n",
              "    </div>\n",
              "  </div>\n",
              "  "
            ]
          },
          "metadata": {},
          "execution_count": 18
        }
      ]
    },
    {
      "cell_type": "code",
      "source": [
        "import spacy\n",
        "\n",
        "\n",
        "\n",
        "def print_colored_essay(essay_file):\n",
        "    essay_id = os.path.basename(essay_file).split('.')[0]\n",
        "    df_essay = add_gap_rows(essay_id)\n",
        "    ents = []\n",
        "    for i, row in df_essay.iterrows():\n",
        "        ents.append({\n",
        "                        'start': int(row['discourse_start']), \n",
        "                         'end': int(row['discourse_end']), \n",
        "                         'label': row['discourse_type']\n",
        "                    })\n",
        "\n",
        "\n",
        "    with open(essay_file, 'r') as file: \n",
        "      data = file.read()\n",
        "      clean_data = cleanup_text(data)\n",
        "      tokens_essay = clean_data.split()\n",
        "      essay_text = \" \".join(tokens_essay)\n",
        "\n",
        "    doc = {\"text\": essay_text, \"ents\": ents,}\n",
        "    print(doc)\n",
        "    colors = {'Lead': '#EE11D0','Position': '#AB4DE1','Claim': '#1EDE71','Evidence': '#33FAFA','Counterclaim': '#4253C1',\\\n",
        "                 'Concluding Statement': 'yellow','Rebuttal': 'red'}\n",
        "    options = {\"ents\": df_essay.discourse_type.unique().tolist(), \"colors\": colors}\n",
        "\n",
        "    spacy.displacy.render(doc, style=\"ent\", options=options, manual=True, jupyter=True);\n",
        " "
      ],
      "metadata": {
        "id": "9IkBQYHkKMKP"
      },
      "execution_count": 19,
      "outputs": []
    },
    {
      "cell_type": "code",
      "source": [],
      "metadata": {
        "id": "4wtt49dSJZMu"
      },
      "execution_count": null,
      "outputs": []
    },
    {
      "cell_type": "code",
      "source": [
        "essay_file = '/content/drive/MyDrive/fourthbrain/Effective_Writing_Feedback/data/test/A8445CABFECE.txt'\n",
        "print_colored_essay(essay_file)"
      ],
      "metadata": {
        "colab": {
          "base_uri": "https://localhost:8080/",
          "height": 265
        },
        "id": "mL_5GsV1Iear",
        "outputId": "970e1fca-6bbf-4b45-9e79-4aebe6203d52"
      },
      "execution_count": 20,
      "outputs": [
        {
          "output_type": "stream",
          "name": "stdout",
          "text": [
            "{'text': 'phones drivingdrivers should not be able to use phones while operating a vehicle drivers who used their phone while operating a vehicle are most likely to get into an accident that could be fatal according to an article by the edgar snyder firm of teens that were part of a fatal car accident was due to phones according to the same article know the risk but continue using their phones while on the road this shows that its beyond dangerous and irresponsible of drivers not to be fully aware of their surroundings while driving drivers should be able to concentrate without any distractions because it could be fatal according to another article distracted driving by the nhtsa there has already been about phone related car accident deaths since the article states that teen get too distracted with their phones which causes their accident accidents that can be easily avoided by focusing on the road and not a phone drivers should not be able to use their phones at all while driving in conclusion drivers should not able to work a vehicle while using their cell phone drivers who uses their phones while operating a vehicle and are likely to have an accident then those who don t', 'ents': [{'start': 14, 'end': 80, 'label': 'Position'}, {'start': 81, 'end': 195, 'label': 'Claim'}, {'start': 196, 'end': 986, 'label': 'Evidence'}, {'start': 987, 'end': 1183, 'label': 'Concluding Statement'}]}\n"
          ]
        },
        {
          "output_type": "display_data",
          "data": {
            "text/plain": [
              "<IPython.core.display.HTML object>"
            ],
            "text/html": [
              "<span class=\"tex2jax_ignore\"><div class=\"entities\" style=\"line-height: 2.5; direction: ltr\">phones driving\n",
              "<mark class=\"entity\" style=\"background: #AB4DE1; padding: 0.45em 0.6em; margin: 0 0.25em; line-height: 1; border-radius: 0.35em;\">\n",
              "    drivers should not be able to use phones while operating a vehicle\n",
              "    <span style=\"font-size: 0.8em; font-weight: bold; line-height: 1; border-radius: 0.35em; vertical-align: middle; margin-left: 0.5rem\">Position</span>\n",
              "</mark>\n",
              " \n",
              "<mark class=\"entity\" style=\"background: #1EDE71; padding: 0.45em 0.6em; margin: 0 0.25em; line-height: 1; border-radius: 0.35em;\">\n",
              "    drivers who used their phone while operating a vehicle are most likely to get into an accident that could be fatal\n",
              "    <span style=\"font-size: 0.8em; font-weight: bold; line-height: 1; border-radius: 0.35em; vertical-align: middle; margin-left: 0.5rem\">Claim</span>\n",
              "</mark>\n",
              " \n",
              "<mark class=\"entity\" style=\"background: #33FAFA; padding: 0.45em 0.6em; margin: 0 0.25em; line-height: 1; border-radius: 0.35em;\">\n",
              "    according to an article by the edgar snyder firm of teens that were part of a fatal car accident was due to phones according to the same article know the risk but continue using their phones while on the road this shows that its beyond dangerous and irresponsible of drivers not to be fully aware of their surroundings while driving drivers should be able to concentrate without any distractions because it could be fatal according to another article distracted driving by the nhtsa there has already been about phone related car accident deaths since the article states that teen get too distracted with their phones which causes their accident accidents that can be easily avoided by focusing on the road and not a phone drivers should not be able to use their phones at all while driving\n",
              "    <span style=\"font-size: 0.8em; font-weight: bold; line-height: 1; border-radius: 0.35em; vertical-align: middle; margin-left: 0.5rem\">Evidence</span>\n",
              "</mark>\n",
              " \n",
              "<mark class=\"entity\" style=\"background: yellow; padding: 0.45em 0.6em; margin: 0 0.25em; line-height: 1; border-radius: 0.35em;\">\n",
              "    in conclusion drivers should not able to work a vehicle while using their cell phone drivers who uses their phones while operating a vehicle and are likely to have an accident then those who don t\n",
              "    <span style=\"font-size: 0.8em; font-weight: bold; line-height: 1; border-radius: 0.35em; vertical-align: middle; margin-left: 0.5rem\">Concluding Statement</span>\n",
              "</mark>\n",
              "</div></span>"
            ]
          },
          "metadata": {}
        }
      ]
    },
    {
      "cell_type": "code",
      "source": [
        "# def read_file(file_name,text):\n",
        "#   try:\n",
        "#     essay_id = os.path.basename(file_name).split('.')[0]\n",
        "#     df_essay = add_gap_rows(essay_id)\n",
        "    \n",
        "#     ents = []\n",
        "#     for i, row in df_essay.iterrows():\n",
        "#         ents.append({\n",
        "#                         'entity': row['discourse_type'] + \":: \" +'Effective',\n",
        "#                         'start': int(row['discourse_start']), \n",
        "#                          'end': int(row['discourse_end']), \n",
        "#                     })\n",
        "\n",
        "#     clean_data = cleanup_text(text)\n",
        "#     tokens_essay = clean_data.split()\n",
        "#     essay_text = \" \".join(tokens_essay)\n",
        "\n",
        "#     doc = {\"text\": essay_text, \"entities\": ents}\n",
        "#     return doc\n",
        "#   except Exception as e:\n",
        "#     return e\n",
        "\n",
        "\n",
        "# demo = gr.Interface(read_file,\n",
        "#              inputs = [gr.Textbox(placeholder=\"Enter sentence here...\", lines = 1, label =\"Enter Essay Id\"),gr.Textbox(placeholder=\"Enter sentence here...\", lines = 30, label =\"Enter Essay Text\")],\n",
        "#              outputs = gr.HighlightedText(), examples=[[\"D72CB1C11673\", essay_text_ex]])\n",
        "\n",
        "\n",
        "# if __name__ == \"__main__\":\n",
        "#     demo.launch()\n"
      ],
      "metadata": {
        "id": "asP6ORSe_2Qb"
      },
      "execution_count": 21,
      "outputs": []
    },
    {
      "cell_type": "code",
      "source": [
        "# essay_file = '/content/drive/MyDrive/fourthbrain/Effective_Writing_Feedback/data/test/D72CB1C11673.txt'\n",
        "# read_file(essay_file)"
      ],
      "metadata": {
        "id": "5eZ5Xyw5N4Rl"
      },
      "execution_count": 22,
      "outputs": []
    },
    {
      "cell_type": "code",
      "source": [
        "# curl \\\n",
        "# --header \"Content-Type: application/json\" \\\n",
        "# --request POST \\\n",
        "# --data '{\"essay_text\":\"Seeking others opinion can be very helpful and beneficial.\"}' \\\n",
        "# http://50.18.96.207:8000/predict"
      ],
      "metadata": {
        "id": "UT0OjNlPN4Kg"
      },
      "execution_count": 23,
      "outputs": []
    },
    {
      "cell_type": "code",
      "source": [],
      "metadata": {
        "id": "5kKPpY9WASvs"
      },
      "execution_count": null,
      "outputs": []
    }
  ]
}