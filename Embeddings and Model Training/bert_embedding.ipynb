{
  "cells": [
    {
      "cell_type": "code",
      "source": [
        "from google.colab import drive\n",
        "drive.mount('/content/drive')"
      ],
      "metadata": {
        "colab": {
          "base_uri": "https://localhost:8080/"
        },
        "id": "WoZH6276xpL5",
        "outputId": "2b73fe57-325e-45d8-e88c-10e92acf79a9"
      },
      "id": "WoZH6276xpL5",
      "execution_count": 2,
      "outputs": [
        {
          "output_type": "stream",
          "name": "stdout",
          "text": [
            "Drive already mounted at /content/drive; to attempt to forcibly remount, call drive.mount(\"/content/drive\", force_remount=True).\n"
          ]
        }
      ]
    },
    {
      "cell_type": "code",
      "source": [
        "!pip install transformers\n",
        "!pip install tensorflow"
      ],
      "metadata": {
        "colab": {
          "base_uri": "https://localhost:8080/"
        },
        "id": "iNDGc3EMx6EV",
        "outputId": "c9b43ceb-8320-4e51-ba74-c0cd804c4251"
      },
      "id": "iNDGc3EMx6EV",
      "execution_count": 3,
      "outputs": [
        {
          "output_type": "stream",
          "name": "stdout",
          "text": [
            "Looking in indexes: https://pypi.org/simple, https://us-python.pkg.dev/colab-wheels/public/simple/\n",
            "Collecting transformers\n",
            "  Downloading transformers-4.28.1-py3-none-any.whl (7.0 MB)\n",
            "\u001b[2K     \u001b[90m━━━━━━━━━━━━━━━━━━━━━━━━━━━━━━━━━━━━━━━━\u001b[0m \u001b[32m7.0/7.0 MB\u001b[0m \u001b[31m57.3 MB/s\u001b[0m eta \u001b[36m0:00:00\u001b[0m\n",
            "\u001b[?25hCollecting tokenizers!=0.11.3,<0.14,>=0.11.1\n",
            "  Downloading tokenizers-0.13.3-cp310-cp310-manylinux_2_17_x86_64.manylinux2014_x86_64.whl (7.8 MB)\n",
            "\u001b[2K     \u001b[90m━━━━━━━━━━━━━━━━━━━━━━━━━━━━━━━━━━━━━━━━\u001b[0m \u001b[32m7.8/7.8 MB\u001b[0m \u001b[31m105.5 MB/s\u001b[0m eta \u001b[36m0:00:00\u001b[0m\n",
            "\u001b[?25hRequirement already satisfied: pyyaml>=5.1 in /usr/local/lib/python3.10/dist-packages (from transformers) (6.0)\n",
            "Requirement already satisfied: filelock in /usr/local/lib/python3.10/dist-packages (from transformers) (3.12.0)\n",
            "Requirement already satisfied: requests in /usr/local/lib/python3.10/dist-packages (from transformers) (2.27.1)\n",
            "Collecting huggingface-hub<1.0,>=0.11.0\n",
            "  Downloading huggingface_hub-0.14.1-py3-none-any.whl (224 kB)\n",
            "\u001b[2K     \u001b[90m━━━━━━━━━━━━━━━━━━━━━━━━━━━━━━━━━━━━━━\u001b[0m \u001b[32m224.5/224.5 kB\u001b[0m \u001b[31m27.9 MB/s\u001b[0m eta \u001b[36m0:00:00\u001b[0m\n",
            "\u001b[?25hRequirement already satisfied: packaging>=20.0 in /usr/local/lib/python3.10/dist-packages (from transformers) (23.1)\n",
            "Requirement already satisfied: regex!=2019.12.17 in /usr/local/lib/python3.10/dist-packages (from transformers) (2022.10.31)\n",
            "Requirement already satisfied: numpy>=1.17 in /usr/local/lib/python3.10/dist-packages (from transformers) (1.22.4)\n",
            "Requirement already satisfied: tqdm>=4.27 in /usr/local/lib/python3.10/dist-packages (from transformers) (4.65.0)\n",
            "Requirement already satisfied: fsspec in /usr/local/lib/python3.10/dist-packages (from huggingface-hub<1.0,>=0.11.0->transformers) (2023.4.0)\n",
            "Requirement already satisfied: typing-extensions>=3.7.4.3 in /usr/local/lib/python3.10/dist-packages (from huggingface-hub<1.0,>=0.11.0->transformers) (4.5.0)\n",
            "Requirement already satisfied: idna<4,>=2.5 in /usr/local/lib/python3.10/dist-packages (from requests->transformers) (3.4)\n",
            "Requirement already satisfied: urllib3<1.27,>=1.21.1 in /usr/local/lib/python3.10/dist-packages (from requests->transformers) (1.26.15)\n",
            "Requirement already satisfied: certifi>=2017.4.17 in /usr/local/lib/python3.10/dist-packages (from requests->transformers) (2022.12.7)\n",
            "Requirement already satisfied: charset-normalizer~=2.0.0 in /usr/local/lib/python3.10/dist-packages (from requests->transformers) (2.0.12)\n",
            "Installing collected packages: tokenizers, huggingface-hub, transformers\n",
            "Successfully installed huggingface-hub-0.14.1 tokenizers-0.13.3 transformers-4.28.1\n",
            "Looking in indexes: https://pypi.org/simple, https://us-python.pkg.dev/colab-wheels/public/simple/\n",
            "Requirement already satisfied: tensorflow in /usr/local/lib/python3.10/dist-packages (2.12.0)\n",
            "Requirement already satisfied: typing-extensions>=3.6.6 in /usr/local/lib/python3.10/dist-packages (from tensorflow) (4.5.0)\n",
            "Requirement already satisfied: packaging in /usr/local/lib/python3.10/dist-packages (from tensorflow) (23.1)\n",
            "Requirement already satisfied: setuptools in /usr/local/lib/python3.10/dist-packages (from tensorflow) (67.7.2)\n",
            "Requirement already satisfied: astunparse>=1.6.0 in /usr/local/lib/python3.10/dist-packages (from tensorflow) (1.6.3)\n",
            "Requirement already satisfied: protobuf!=4.21.0,!=4.21.1,!=4.21.2,!=4.21.3,!=4.21.4,!=4.21.5,<5.0.0dev,>=3.20.3 in /usr/local/lib/python3.10/dist-packages (from tensorflow) (3.20.3)\n",
            "Requirement already satisfied: jax>=0.3.15 in /usr/local/lib/python3.10/dist-packages (from tensorflow) (0.4.8)\n",
            "Requirement already satisfied: tensorboard<2.13,>=2.12 in /usr/local/lib/python3.10/dist-packages (from tensorflow) (2.12.2)\n",
            "Requirement already satisfied: keras<2.13,>=2.12.0 in /usr/local/lib/python3.10/dist-packages (from tensorflow) (2.12.0)\n",
            "Requirement already satisfied: h5py>=2.9.0 in /usr/local/lib/python3.10/dist-packages (from tensorflow) (3.8.0)\n",
            "Requirement already satisfied: opt-einsum>=2.3.2 in /usr/local/lib/python3.10/dist-packages (from tensorflow) (3.3.0)\n",
            "Requirement already satisfied: absl-py>=1.0.0 in /usr/local/lib/python3.10/dist-packages (from tensorflow) (1.4.0)\n",
            "Requirement already satisfied: wrapt<1.15,>=1.11.0 in /usr/local/lib/python3.10/dist-packages (from tensorflow) (1.14.1)\n",
            "Requirement already satisfied: grpcio<2.0,>=1.24.3 in /usr/local/lib/python3.10/dist-packages (from tensorflow) (1.54.0)\n",
            "Requirement already satisfied: google-pasta>=0.1.1 in /usr/local/lib/python3.10/dist-packages (from tensorflow) (0.2.0)\n",
            "Requirement already satisfied: numpy<1.24,>=1.22 in /usr/local/lib/python3.10/dist-packages (from tensorflow) (1.22.4)\n",
            "Requirement already satisfied: tensorflow-io-gcs-filesystem>=0.23.1 in /usr/local/lib/python3.10/dist-packages (from tensorflow) (0.32.0)\n",
            "Requirement already satisfied: six>=1.12.0 in /usr/local/lib/python3.10/dist-packages (from tensorflow) (1.16.0)\n",
            "Requirement already satisfied: flatbuffers>=2.0 in /usr/local/lib/python3.10/dist-packages (from tensorflow) (23.3.3)\n",
            "Requirement already satisfied: libclang>=13.0.0 in /usr/local/lib/python3.10/dist-packages (from tensorflow) (16.0.0)\n",
            "Requirement already satisfied: tensorflow-estimator<2.13,>=2.12.0 in /usr/local/lib/python3.10/dist-packages (from tensorflow) (2.12.0)\n",
            "Requirement already satisfied: gast<=0.4.0,>=0.2.1 in /usr/local/lib/python3.10/dist-packages (from tensorflow) (0.4.0)\n",
            "Requirement already satisfied: termcolor>=1.1.0 in /usr/local/lib/python3.10/dist-packages (from tensorflow) (2.3.0)\n",
            "Requirement already satisfied: wheel<1.0,>=0.23.0 in /usr/local/lib/python3.10/dist-packages (from astunparse>=1.6.0->tensorflow) (0.40.0)\n",
            "Requirement already satisfied: scipy>=1.7 in /usr/local/lib/python3.10/dist-packages (from jax>=0.3.15->tensorflow) (1.10.1)\n",
            "Requirement already satisfied: ml-dtypes>=0.0.3 in /usr/local/lib/python3.10/dist-packages (from jax>=0.3.15->tensorflow) (0.1.0)\n",
            "Requirement already satisfied: google-auth-oauthlib<1.1,>=0.5 in /usr/local/lib/python3.10/dist-packages (from tensorboard<2.13,>=2.12->tensorflow) (1.0.0)\n",
            "Requirement already satisfied: markdown>=2.6.8 in /usr/local/lib/python3.10/dist-packages (from tensorboard<2.13,>=2.12->tensorflow) (3.4.3)\n",
            "Requirement already satisfied: tensorboard-data-server<0.8.0,>=0.7.0 in /usr/local/lib/python3.10/dist-packages (from tensorboard<2.13,>=2.12->tensorflow) (0.7.0)\n",
            "Requirement already satisfied: google-auth<3,>=1.6.3 in /usr/local/lib/python3.10/dist-packages (from tensorboard<2.13,>=2.12->tensorflow) (2.17.3)\n",
            "Requirement already satisfied: tensorboard-plugin-wit>=1.6.0 in /usr/local/lib/python3.10/dist-packages (from tensorboard<2.13,>=2.12->tensorflow) (1.8.1)\n",
            "Requirement already satisfied: werkzeug>=1.0.1 in /usr/local/lib/python3.10/dist-packages (from tensorboard<2.13,>=2.12->tensorflow) (2.3.0)\n",
            "Requirement already satisfied: requests<3,>=2.21.0 in /usr/local/lib/python3.10/dist-packages (from tensorboard<2.13,>=2.12->tensorflow) (2.27.1)\n",
            "Requirement already satisfied: cachetools<6.0,>=2.0.0 in /usr/local/lib/python3.10/dist-packages (from google-auth<3,>=1.6.3->tensorboard<2.13,>=2.12->tensorflow) (5.3.0)\n",
            "Requirement already satisfied: pyasn1-modules>=0.2.1 in /usr/local/lib/python3.10/dist-packages (from google-auth<3,>=1.6.3->tensorboard<2.13,>=2.12->tensorflow) (0.3.0)\n",
            "Requirement already satisfied: rsa<5,>=3.1.4 in /usr/local/lib/python3.10/dist-packages (from google-auth<3,>=1.6.3->tensorboard<2.13,>=2.12->tensorflow) (4.9)\n",
            "Requirement already satisfied: requests-oauthlib>=0.7.0 in /usr/local/lib/python3.10/dist-packages (from google-auth-oauthlib<1.1,>=0.5->tensorboard<2.13,>=2.12->tensorflow) (1.3.1)\n",
            "Requirement already satisfied: urllib3<1.27,>=1.21.1 in /usr/local/lib/python3.10/dist-packages (from requests<3,>=2.21.0->tensorboard<2.13,>=2.12->tensorflow) (1.26.15)\n",
            "Requirement already satisfied: idna<4,>=2.5 in /usr/local/lib/python3.10/dist-packages (from requests<3,>=2.21.0->tensorboard<2.13,>=2.12->tensorflow) (3.4)\n",
            "Requirement already satisfied: charset-normalizer~=2.0.0 in /usr/local/lib/python3.10/dist-packages (from requests<3,>=2.21.0->tensorboard<2.13,>=2.12->tensorflow) (2.0.12)\n",
            "Requirement already satisfied: certifi>=2017.4.17 in /usr/local/lib/python3.10/dist-packages (from requests<3,>=2.21.0->tensorboard<2.13,>=2.12->tensorflow) (2022.12.7)\n",
            "Requirement already satisfied: MarkupSafe>=2.1.1 in /usr/local/lib/python3.10/dist-packages (from werkzeug>=1.0.1->tensorboard<2.13,>=2.12->tensorflow) (2.1.2)\n",
            "Requirement already satisfied: pyasn1<0.6.0,>=0.4.6 in /usr/local/lib/python3.10/dist-packages (from pyasn1-modules>=0.2.1->google-auth<3,>=1.6.3->tensorboard<2.13,>=2.12->tensorflow) (0.5.0)\n",
            "Requirement already satisfied: oauthlib>=3.0.0 in /usr/local/lib/python3.10/dist-packages (from requests-oauthlib>=0.7.0->google-auth-oauthlib<1.1,>=0.5->tensorboard<2.13,>=2.12->tensorflow) (3.2.2)\n"
          ]
        }
      ]
    },
    {
      "cell_type": "code",
      "execution_count": 4,
      "id": "14ba2494-465d-499e-801a-6fa20f1e2de8",
      "metadata": {
        "tags": [],
        "id": "14ba2494-465d-499e-801a-6fa20f1e2de8"
      },
      "outputs": [],
      "source": [
        "from transformers import TFBertModel, BertTokenizer, AutoTokenizer, TFDistilBertModel, DistilBertTokenizer\n",
        "from tensorflow.keras.layers import Input, Dropout, Dense \n",
        "from tensorflow.keras.optimizers import Adam\n",
        "from tensorflow.keras import Model\n",
        "import tensorflow as tf \n",
        "import tensorflow.keras.backend as K\n",
        "from keras.utils.np_utils import to_categorical\n",
        "\n",
        "## for data\n",
        "import pandas as pd\n",
        "import numpy as np\n",
        "import re\n",
        "import glob\n",
        "from sklearn.model_selection import train_test_split\n",
        "from sklearn.metrics import log_loss, classification_report, ConfusionMatrixDisplay,confusion_matrix\n",
        "\n",
        "## for plotting\n",
        "import matplotlib.pyplot as plt\n",
        "import seaborn as sns\n",
        "\n",
        "\n",
        "from typing import Dict, List, Tuple\n",
        "import codecs\n",
        "from text_unidecode import unidecode\n"
      ]
    },
    {
      "cell_type": "code",
      "source": [],
      "metadata": {
        "id": "Ga6hqRF4WTRe"
      },
      "id": "Ga6hqRF4WTRe",
      "execution_count": 4,
      "outputs": []
    },
    {
      "cell_type": "code",
      "execution_count": 5,
      "id": "70490969-8f55-404c-ac03-3e68f9658c67",
      "metadata": {
        "tags": [],
        "id": "70490969-8f55-404c-ac03-3e68f9658c67"
      },
      "outputs": [],
      "source": [
        "pd.set_option('display.max_columns', None)\n",
        "pd.set_option('display.max_rows', None)\n",
        "pd.options.display.max_colwidth = 6000"
      ]
    },
    {
      "cell_type": "code",
      "execution_count": 6,
      "id": "c6ef06ec-aa45-4082-8ce7-7bde6d887c3d",
      "metadata": {
        "tags": [],
        "id": "c6ef06ec-aa45-4082-8ce7-7bde6d887c3d"
      },
      "outputs": [],
      "source": [
        "# !conda install -c conda-forge h5py -y"
      ]
    },
    {
      "cell_type": "markdown",
      "id": "77694894-1ad6-44de-9f44-ad3cadfea1e6",
      "metadata": {
        "id": "77694894-1ad6-44de-9f44-ad3cadfea1e6"
      },
      "source": [
        "## Load Data"
      ]
    },
    {
      "cell_type": "code",
      "execution_count": 7,
      "id": "7d0a6658-99f8-4a96-a430-bd6c0e1c436a",
      "metadata": {
        "tags": [],
        "id": "7d0a6658-99f8-4a96-a430-bd6c0e1c436a"
      },
      "outputs": [],
      "source": [
        "def read_data(path:str, file_type:str)-> pd.DataFrame:\n",
        "    if glob.glob(path+file_type+\".csv\"):\n",
        "        df = pd.read_csv(path+file_type+\".csv\")\n",
        "    \n",
        "    essay_dict = {}\n",
        "    for file in glob.glob(path+file_type+'/*.txt'): \n",
        "        with open(file, \"r\") as file_open:\n",
        "            filename = file.split(file_type+'/')[1].split('.txt')[0]\n",
        "            essay_dict[filename] = file_open.read()\n",
        "        \n",
        "    essay_data = pd.DataFrame.from_dict([essay_dict]).T.reset_index()\n",
        "    essay_data.columns = [\"essay_id\", \"essay_text\"]\n",
        "    train_data = pd.merge(df,essay_data,left_on = 'essay_id', right_on ='essay_id', how ='left')\n",
        "    print(file_type+\" data: \",train_data.shape)\n",
        "    return train_data"
      ]
    },
    {
      "cell_type": "code",
      "execution_count": 8,
      "id": "1de4a4e6-8540-46f9-b342-01b8e194282e",
      "metadata": {
        "tags": [],
        "colab": {
          "base_uri": "https://localhost:8080/"
        },
        "id": "1de4a4e6-8540-46f9-b342-01b8e194282e",
        "outputId": "0002e978-c259-43db-cc9a-a756113628d5"
      },
      "outputs": [
        {
          "output_type": "stream",
          "name": "stdout",
          "text": [
            "train data:  (36765, 6)\n",
            "test data:  (21, 5)\n",
            "(36765, 6) (21, 5)\n"
          ]
        }
      ],
      "source": [
        "filepath = '/content/drive/MyDrive/fourthbrain/Effective_Writing_Feedback/data/'\n",
        "train_data = read_data(filepath, 'train')\n",
        "test_data = read_data(filepath, 'test')\n",
        "print(train_data.shape, test_data.shape)"
      ]
    },
    {
      "cell_type": "code",
      "execution_count": 9,
      "id": "20d33514-54f1-4295-8b32-2fa0ca107c7c",
      "metadata": {
        "tags": [],
        "id": "20d33514-54f1-4295-8b32-2fa0ca107c7c"
      },
      "outputs": [],
      "source": [
        "AUTO = tf.data.experimental.AUTOTUNE\n",
        "# Configuration\n",
        "EPOCHS = 10\n",
        "BATCH_SIZE = 16\n",
        "MAX_LEN = 256\n",
        "MODEL_TYPE=\"bert\""
      ]
    },
    {
      "cell_type": "code",
      "execution_count": 10,
      "id": "599ac6af-834c-4863-b2d7-30efa0653cc8",
      "metadata": {
        "tags": [],
        "id": "599ac6af-834c-4863-b2d7-30efa0653cc8"
      },
      "outputs": [],
      "source": [
        "# https://www.kaggle.com/competitions/feedback-prize-2021/discussion/313330\n",
        "def replace_encoding_with_utf8(error: UnicodeError) -> Tuple[bytes, int]:\n",
        "    return error.object[error.start : error.end].encode(\"utf-8\"), error.end\n",
        "\n",
        "\n",
        "def replace_decoding_with_cp1252(error: UnicodeError) -> Tuple[str, int]:\n",
        "    return error.object[error.start : error.end].decode(\"cp1252\"), error.end\n",
        "\n",
        "# Register the encoding and decoding error handlers for `utf-8` and `cp1252`.\n",
        "codecs.register_error(\"replace_encoding_with_utf8\", replace_encoding_with_utf8)\n",
        "codecs.register_error(\"replace_decoding_with_cp1252\", replace_decoding_with_cp1252)\n",
        "\n",
        "def resolve_encodings_and_normalize(text: str) -> str:\n",
        "    \"\"\"Resolve the encoding problems and normalize the abnormal characters.\"\"\"\n",
        "    text = (\n",
        "        text.encode(\"raw_unicode_escape\")\n",
        "        .decode(\"utf-8\", errors=\"replace_decoding_with_cp1252\")\n",
        "        .encode(\"cp1252\", errors=\"replace_encoding_with_utf8\")\n",
        "        .decode(\"utf-8\", errors=\"replace_decoding_with_cp1252\")\n",
        "    )\n",
        "    text = unidecode(text)\n",
        "    return text"
      ]
    },
    {
      "cell_type": "code",
      "execution_count": 11,
      "id": "f51da798-3891-487d-a230-2db21f48c6d8",
      "metadata": {
        "tags": [],
        "id": "f51da798-3891-487d-a230-2db21f48c6d8",
        "colab": {
          "base_uri": "https://localhost:8080/",
          "height": 1000
        },
        "outputId": "f3a43298-3002-4ab0-c1e0-905c5181a89d"
      },
      "outputs": [
        {
          "output_type": "display_data",
          "data": {
            "text/plain": [
              "    discourse_id      essay_id  \\\n",
              "12  84942fc2ab0f  A8445CABFECE   \n",
              "\n",
              "                                                                                                                                                                                                                                                                                                                                                                                                                                                                                                                                                                                                                                                                                                                                                                                                                                              discourse_text  \\\n",
              "12  According to an article by the Edgar Snyder Firm, 21% of teens that were part of a fatal car accident was due to phones. According to the same article, 35% know the risk but continue using their phones while on the road. This shows that its beyond dangerous and irresponsible of drivers not to be fully aware of their surroundings while driving. Drivers should be able to concentrate without any distractions, because it could be fatal.According to another article, \"Distracted Driving\" by the NHTSA, there has already been about 3,000 phone related car accident deaths since 2017. The article states that teen get too distracted with their phones, which causes their accident. Accidents that can be easily avoided by focusing on the road and not a phone. Drivers should not be able to use their phones at all while driving.   \n",
              "\n",
              "   discourse_type  \\\n",
              "12       Evidence   \n",
              "\n",
              "                                                                                                                                                                                                                                                                                                                                                                                                                                                                                                                                                                                                                                                                                                                                                                                                                                                                                                                                                                                                                                                                                                                                                                                                                                                                                             essay_text  \\\n",
              "12  Phones & Driving\\n\\nDrivers should not be able to use phones while operating a vehicle. Drivers who used their phone while operating a vehicle are most likely to get into an accident that could be fatal.\\n\\nAccording to an article by the Edgar Snyder Firm, 21% of teens that were part of a fatal car accident was due to phones. According to the same article, 35% know the risk but continue using their phones while on the road. This shows that its beyond dangerous and irresponsible of drivers not to be fully aware of their surroundings while driving. Drivers should be able to concentrate without any distractions, because it could be fatal.\\n\\nAccording to another article, \"Distracted Driving\" by the NHTSA, there has already been about 3,000 phone related car accident deaths since 2017. The article states that teen get too distracted with their phones, which causes their accident. Accidents that can be easily avoided by focusing on the road and not a phone. Drivers should not be able to use their phones at all while driving.\\n\\nIn conclusion, drivers should not able to work a vehicle while using their cell phone. Drivers who uses their phones while operating a vehicle and are likely to have an accident then those who don't.                \n",
              "\n",
              "                                                                                                                                                                                                                                                                                                                                                                                                                                                                                                                                                                                                                                                                                                                                                                                                                                        normalized_discourse  \\\n",
              "12  According to an article by the Edgar Snyder Firm, 21% of teens that were part of a fatal car accident was due to phones. According to the same article, 35% know the risk but continue using their phones while on the road. This shows that its beyond dangerous and irresponsible of drivers not to be fully aware of their surroundings while driving. Drivers should be able to concentrate without any distractions, because it could be fatal.According to another article, \"Distracted Driving\" by the NHTSA, there has already been about 3,000 phone related car accident deaths since 2017. The article states that teen get too distracted with their phones, which causes their accident. Accidents that can be easily avoided by focusing on the road and not a phone. Drivers should not be able to use their phones at all while driving.   \n",
              "\n",
              "                                                                                                                                                                                                                                                                                                                                                                                                                                                                                                                                                                                                                                                                                                                                                                                                                                processed_discourse  \\\n",
              "12  according to an article by the edgar snyder firm     of teens that were part of a fatal car accident was due to phones  according to the same article     know the risk but continue using their phones while on the road  this shows that its beyond dangerous and irresponsible of drivers not to be fully aware of their surroundings while driving  drivers should be able to concentrate without any distractions because it could be fatal according to another article distracted driving by the nhtsa there has already been about      phone related car accident deaths since       the article states that teen get too distracted with their phones which causes their accident  accidents that can be easily avoided by focusing on the road and not a phone  drivers should not be able to use their phones at all while driving    \n",
              "\n",
              "                                                                                                                                                                                                                                                                                                                                                                                                                                                                                                                                                                                                                                                                                                                                                                                                                                                                                                                                                                                                                                                                                                                                                                                                                                                     processed_essay  \n",
              "12  phones   drivingdrivers should not be able to use phones while operating a vehicle  drivers who used their phone while operating a vehicle are most likely to get into an accident that could be fatal according to an article by the edgar snyder firm     of teens that were part of a fatal car accident was due to phones  according to the same article     know the risk but continue using their phones while on the road  this shows that its beyond dangerous and irresponsible of drivers not to be fully aware of their surroundings while driving  drivers should be able to concentrate without any distractions because it could be fatal according to another article distracted driving by the nhtsa there has already been about      phone related car accident deaths since       the article states that teen get too distracted with their phones which causes their accident  accidents that can be easily avoided by focusing on the road and not a phone  drivers should not be able to use their phones at all while driving in conclusion drivers should not able to work a vehicle while using their cell phone  drivers who uses their phones while operating a vehicle and are likely to have an accident then those who don t       "
            ],
            "text/html": [
              "\n",
              "  <div id=\"df-700165f4-d1a8-44f0-9bab-58ad24808a5b\">\n",
              "    <div class=\"colab-df-container\">\n",
              "      <div>\n",
              "<style scoped>\n",
              "    .dataframe tbody tr th:only-of-type {\n",
              "        vertical-align: middle;\n",
              "    }\n",
              "\n",
              "    .dataframe tbody tr th {\n",
              "        vertical-align: top;\n",
              "    }\n",
              "\n",
              "    .dataframe thead th {\n",
              "        text-align: right;\n",
              "    }\n",
              "</style>\n",
              "<table border=\"1\" class=\"dataframe\">\n",
              "  <thead>\n",
              "    <tr style=\"text-align: right;\">\n",
              "      <th></th>\n",
              "      <th>discourse_id</th>\n",
              "      <th>essay_id</th>\n",
              "      <th>discourse_text</th>\n",
              "      <th>discourse_type</th>\n",
              "      <th>essay_text</th>\n",
              "      <th>normalized_discourse</th>\n",
              "      <th>processed_discourse</th>\n",
              "      <th>processed_essay</th>\n",
              "    </tr>\n",
              "  </thead>\n",
              "  <tbody>\n",
              "    <tr>\n",
              "      <th>12</th>\n",
              "      <td>84942fc2ab0f</td>\n",
              "      <td>A8445CABFECE</td>\n",
              "      <td>According to an article by the Edgar Snyder Firm, 21% of teens that were part of a fatal car accident was due to phones. According to the same article, 35% know the risk but continue using their phones while on the road. This shows that its beyond dangerous and irresponsible of drivers not to be fully aware of their surroundings while driving. Drivers should be able to concentrate without any distractions, because it could be fatal.According to another article, \"Distracted Driving\" by the NHTSA, there has already been about 3,000 phone related car accident deaths since 2017. The article states that teen get too distracted with their phones, which causes their accident. Accidents that can be easily avoided by focusing on the road and not a phone. Drivers should not be able to use their phones at all while driving.</td>\n",
              "      <td>Evidence</td>\n",
              "      <td>Phones &amp; Driving\\n\\nDrivers should not be able to use phones while operating a vehicle. Drivers who used their phone while operating a vehicle are most likely to get into an accident that could be fatal.\\n\\nAccording to an article by the Edgar Snyder Firm, 21% of teens that were part of a fatal car accident was due to phones. According to the same article, 35% know the risk but continue using their phones while on the road. This shows that its beyond dangerous and irresponsible of drivers not to be fully aware of their surroundings while driving. Drivers should be able to concentrate without any distractions, because it could be fatal.\\n\\nAccording to another article, \"Distracted Driving\" by the NHTSA, there has already been about 3,000 phone related car accident deaths since 2017. The article states that teen get too distracted with their phones, which causes their accident. Accidents that can be easily avoided by focusing on the road and not a phone. Drivers should not be able to use their phones at all while driving.\\n\\nIn conclusion, drivers should not able to work a vehicle while using their cell phone. Drivers who uses their phones while operating a vehicle and are likely to have an accident then those who don't.</td>\n",
              "      <td>According to an article by the Edgar Snyder Firm, 21% of teens that were part of a fatal car accident was due to phones. According to the same article, 35% know the risk but continue using their phones while on the road. This shows that its beyond dangerous and irresponsible of drivers not to be fully aware of their surroundings while driving. Drivers should be able to concentrate without any distractions, because it could be fatal.According to another article, \"Distracted Driving\" by the NHTSA, there has already been about 3,000 phone related car accident deaths since 2017. The article states that teen get too distracted with their phones, which causes their accident. Accidents that can be easily avoided by focusing on the road and not a phone. Drivers should not be able to use their phones at all while driving.</td>\n",
              "      <td>according to an article by the edgar snyder firm     of teens that were part of a fatal car accident was due to phones  according to the same article     know the risk but continue using their phones while on the road  this shows that its beyond dangerous and irresponsible of drivers not to be fully aware of their surroundings while driving  drivers should be able to concentrate without any distractions because it could be fatal according to another article distracted driving by the nhtsa there has already been about      phone related car accident deaths since       the article states that teen get too distracted with their phones which causes their accident  accidents that can be easily avoided by focusing on the road and not a phone  drivers should not be able to use their phones at all while driving</td>\n",
              "      <td>phones   drivingdrivers should not be able to use phones while operating a vehicle  drivers who used their phone while operating a vehicle are most likely to get into an accident that could be fatal according to an article by the edgar snyder firm     of teens that were part of a fatal car accident was due to phones  according to the same article     know the risk but continue using their phones while on the road  this shows that its beyond dangerous and irresponsible of drivers not to be fully aware of their surroundings while driving  drivers should be able to concentrate without any distractions because it could be fatal according to another article distracted driving by the nhtsa there has already been about      phone related car accident deaths since       the article states that teen get too distracted with their phones which causes their accident  accidents that can be easily avoided by focusing on the road and not a phone  drivers should not be able to use their phones at all while driving in conclusion drivers should not able to work a vehicle while using their cell phone  drivers who uses their phones while operating a vehicle and are likely to have an accident then those who don t</td>\n",
              "    </tr>\n",
              "  </tbody>\n",
              "</table>\n",
              "</div>\n",
              "      <button class=\"colab-df-convert\" onclick=\"convertToInteractive('df-700165f4-d1a8-44f0-9bab-58ad24808a5b')\"\n",
              "              title=\"Convert this dataframe to an interactive table.\"\n",
              "              style=\"display:none;\">\n",
              "        \n",
              "  <svg xmlns=\"http://www.w3.org/2000/svg\" height=\"24px\"viewBox=\"0 0 24 24\"\n",
              "       width=\"24px\">\n",
              "    <path d=\"M0 0h24v24H0V0z\" fill=\"none\"/>\n",
              "    <path d=\"M18.56 5.44l.94 2.06.94-2.06 2.06-.94-2.06-.94-.94-2.06-.94 2.06-2.06.94zm-11 1L8.5 8.5l.94-2.06 2.06-.94-2.06-.94L8.5 2.5l-.94 2.06-2.06.94zm10 10l.94 2.06.94-2.06 2.06-.94-2.06-.94-.94-2.06-.94 2.06-2.06.94z\"/><path d=\"M17.41 7.96l-1.37-1.37c-.4-.4-.92-.59-1.43-.59-.52 0-1.04.2-1.43.59L10.3 9.45l-7.72 7.72c-.78.78-.78 2.05 0 2.83L4 21.41c.39.39.9.59 1.41.59.51 0 1.02-.2 1.41-.59l7.78-7.78 2.81-2.81c.8-.78.8-2.07 0-2.86zM5.41 20L4 18.59l7.72-7.72 1.47 1.35L5.41 20z\"/>\n",
              "  </svg>\n",
              "      </button>\n",
              "      \n",
              "  <style>\n",
              "    .colab-df-container {\n",
              "      display:flex;\n",
              "      flex-wrap:wrap;\n",
              "      gap: 12px;\n",
              "    }\n",
              "\n",
              "    .colab-df-convert {\n",
              "      background-color: #E8F0FE;\n",
              "      border: none;\n",
              "      border-radius: 50%;\n",
              "      cursor: pointer;\n",
              "      display: none;\n",
              "      fill: #1967D2;\n",
              "      height: 32px;\n",
              "      padding: 0 0 0 0;\n",
              "      width: 32px;\n",
              "    }\n",
              "\n",
              "    .colab-df-convert:hover {\n",
              "      background-color: #E2EBFA;\n",
              "      box-shadow: 0px 1px 2px rgba(60, 64, 67, 0.3), 0px 1px 3px 1px rgba(60, 64, 67, 0.15);\n",
              "      fill: #174EA6;\n",
              "    }\n",
              "\n",
              "    [theme=dark] .colab-df-convert {\n",
              "      background-color: #3B4455;\n",
              "      fill: #D2E3FC;\n",
              "    }\n",
              "\n",
              "    [theme=dark] .colab-df-convert:hover {\n",
              "      background-color: #434B5C;\n",
              "      box-shadow: 0px 1px 3px 1px rgba(0, 0, 0, 0.15);\n",
              "      filter: drop-shadow(0px 1px 2px rgba(0, 0, 0, 0.3));\n",
              "      fill: #FFFFFF;\n",
              "    }\n",
              "  </style>\n",
              "\n",
              "      <script>\n",
              "        const buttonEl =\n",
              "          document.querySelector('#df-700165f4-d1a8-44f0-9bab-58ad24808a5b button.colab-df-convert');\n",
              "        buttonEl.style.display =\n",
              "          google.colab.kernel.accessAllowed ? 'block' : 'none';\n",
              "\n",
              "        async function convertToInteractive(key) {\n",
              "          const element = document.querySelector('#df-700165f4-d1a8-44f0-9bab-58ad24808a5b');\n",
              "          const dataTable =\n",
              "            await google.colab.kernel.invokeFunction('convertToInteractive',\n",
              "                                                     [key], {});\n",
              "          if (!dataTable) return;\n",
              "\n",
              "          const docLinkHtml = 'Like what you see? Visit the ' +\n",
              "            '<a target=\"_blank\" href=https://colab.research.google.com/notebooks/data_table.ipynb>data table notebook</a>'\n",
              "            + ' to learn more about interactive tables.';\n",
              "          element.innerHTML = '';\n",
              "          dataTable['output_type'] = 'display_data';\n",
              "          await google.colab.output.renderOutput(dataTable, element);\n",
              "          const docLink = document.createElement('div');\n",
              "          docLink.innerHTML = docLinkHtml;\n",
              "          element.appendChild(docLink);\n",
              "        }\n",
              "      </script>\n",
              "    </div>\n",
              "  </div>\n",
              "  "
            ]
          },
          "metadata": {}
        }
      ],
      "source": [
        "def cleanup_text(text):\n",
        "    punctuation_signs = list(\"?:!,;\")\n",
        "    text = text.replace(\"\\n\",\"\")\n",
        "    text = text.replace(\"\\r\", \" \")\n",
        "    text = text.replace(\"    \", \" \")\n",
        "    text = text.replace('\"', '')\n",
        "    text = text.replace(\"'s\", \"\")\n",
        "    for punct_sign in punctuation_signs:\n",
        "      text = text.replace(punct_sign, '')\n",
        "    words = re.sub(pattern = '[^a-zA-Z]',repl = ' ', string = text)\n",
        "    words = words.lower()\n",
        "    return words\n",
        "\n",
        "\n",
        "train_data['processed_discourse'] = train_data['discourse_text'].apply(cleanup_text)\n",
        "train_data['processed_essay'] = train_data['essay_text'].apply(cleanup_text)\n",
        "\n",
        "\n",
        "test_data['normalized_discourse'] = test_data['discourse_text'].apply(resolve_encodings_and_normalize)\n",
        "test_data['processed_discourse'] = test_data['normalized_discourse'].apply(cleanup_text)\n",
        "\n",
        "test_data['processed_essay'] = test_data['essay_text'].apply(resolve_encodings_and_normalize)\n",
        "test_data['processed_essay'] = test_data['processed_essay'].apply(cleanup_text)\n",
        "display(test_data[test_data['discourse_id'] == '84942fc2ab0f'].head(1))"
      ]
    },
    {
      "cell_type": "markdown",
      "id": "a7c305e9-ae41-42b5-bc04-79abf26a040c",
      "metadata": {
        "id": "a7c305e9-ae41-42b5-bc04-79abf26a040c"
      },
      "source": [
        "## BERT Encoder"
      ]
    },
    {
      "cell_type": "code",
      "execution_count": 12,
      "id": "dec0a09c-8955-4fbc-a61b-dd3a85d65c01",
      "metadata": {
        "tags": [],
        "id": "dec0a09c-8955-4fbc-a61b-dd3a85d65c01",
        "colab": {
          "base_uri": "https://localhost:8080/",
          "height": 113,
          "referenced_widgets": [
            "40b9888877b94acb962c3acc7b9d512b",
            "641a415d42c64233a9fec0e63dfb5f59",
            "d7acf743b8164407965d49afbe02cccf",
            "17e7b1a74b534efc950c52bd51b9efe7",
            "5047c4f6a0374f95a0aaa5b1d96b2ea3",
            "9f443b491e5a4aa89f78d2bd63cee8e4",
            "3f82ebc35bef4089ae76d74a69538d67",
            "8d178d5ffef64710be4a99d73c23f68e",
            "d2190613b40b4744bbd873da5106d19e",
            "34af6ef7a52f461bb31bd311618b36ff",
            "3b617c6b37ec4ae5ae453849081538b3",
            "24729199e3f14607a3cbe3eb4b16b405",
            "d32e66d8b663482bb6b49ad4ccef7086",
            "6e46af7d4a3a4bed868d263ba1967da9",
            "d6894531d65948009ee7f9fb03c76072",
            "cc2167d0b66643948e2e0f458d44f443",
            "6451ed2b263d4f29bd3e3492ae76e543",
            "8c391c5a106c449db6fae9508b045630",
            "acdba12d93bc41b599b0cb525bc0bec0",
            "c8df42655a374a82af83cbaff3ee0a25",
            "40979b1ccf9746dbaf371a9cd2ddcf71",
            "c2ff88f34935485f87c0df29cc588615",
            "5f07bc27c80f4b6d91e7587a2616c80f",
            "1948164e6c6f4296b6132209e9e85e19",
            "1eaa1143ee24464a9b38d2ca2996bd1e",
            "0eb873e3ec814b5e8ea04dafb07cc984",
            "8525c912f6534b4e8035e42f4eb526ac",
            "8f23f975edf74ea6a68c0f6695accea7",
            "749787b7a9864ab38a0105369f1abafe",
            "b80c67c814d24ea8bfbaef969995a5f0",
            "8185532cfc2b4cf091965ae3a7f47e0c",
            "04c761072cf14472b75d25714fd3014d",
            "5315c35f4ecc45bbab92856f7d947065"
          ]
        },
        "outputId": "82ffc29f-6771-47c6-9828-3abfaba7283b"
      },
      "outputs": [
        {
          "output_type": "display_data",
          "data": {
            "text/plain": [
              "Downloading (…)solve/main/vocab.txt:   0%|          | 0.00/232k [00:00<?, ?B/s]"
            ],
            "application/vnd.jupyter.widget-view+json": {
              "version_major": 2,
              "version_minor": 0,
              "model_id": "40b9888877b94acb962c3acc7b9d512b"
            }
          },
          "metadata": {}
        },
        {
          "output_type": "display_data",
          "data": {
            "text/plain": [
              "Downloading (…)okenizer_config.json:   0%|          | 0.00/28.0 [00:00<?, ?B/s]"
            ],
            "application/vnd.jupyter.widget-view+json": {
              "version_major": 2,
              "version_minor": 0,
              "model_id": "24729199e3f14607a3cbe3eb4b16b405"
            }
          },
          "metadata": {}
        },
        {
          "output_type": "display_data",
          "data": {
            "text/plain": [
              "Downloading (…)lve/main/config.json:   0%|          | 0.00/570 [00:00<?, ?B/s]"
            ],
            "application/vnd.jupyter.widget-view+json": {
              "version_major": 2,
              "version_minor": 0,
              "model_id": "5f07bc27c80f4b6d91e7587a2616c80f"
            }
          },
          "metadata": {}
        }
      ],
      "source": [
        "if MODEL_TYPE==\"bert\":\n",
        "    tokenizer = BertTokenizer.from_pretrained('bert-base-uncased', do_lower_case=True)\n",
        "elif MODEL_TYPE==\"distilbert\":\n",
        "    tokenizer = DistilBertTokenizer.from_pretrained('distilbert-base-uncased', do_lower_case=True)\n",
        "# Save the loaded tokenizer locally\n",
        "tokenizer.save_pretrained('.')\n",
        "sep = tokenizer.sep_token\n"
      ]
    },
    {
      "cell_type": "code",
      "execution_count": 13,
      "id": "b947a1bc-10d2-43f6-8ea7-5121f215584b",
      "metadata": {
        "tags": [],
        "colab": {
          "base_uri": "https://localhost:8080/",
          "height": 1000
        },
        "id": "b947a1bc-10d2-43f6-8ea7-5121f215584b",
        "outputId": "eb0f2aba-977d-4456-86cd-91e2a434067d"
      },
      "outputs": [
        {
          "output_type": "execute_result",
          "data": {
            "text/plain": [
              "   discourse_id      essay_id  \\\n",
              "0  0013cc385424  007ACE74B050   \n",
              "1  9704a709b505  007ACE74B050   \n",
              "\n",
              "                                                                                                                                                                                                                                                                                                                  discourse_text  \\\n",
              "0  Hi, i'm Isaac, i'm going to be writing about how this face on Mars is a natural landform or if there is life on Mars that made it. The story is about how NASA took a picture of Mars and a face was seen on the planet. NASA doesn't know if the landform was created by life on Mars, or if it is just a natural landform.    \n",
              "1                                                                                                             On my perspective, I think that the face is a natural landform because I dont think that there is any life on Mars. In these next few paragraphs, I'll be talking about how I think that is is a natural landform    \n",
              "\n",
              "  discourse_type discourse_effectiveness  \\\n",
              "0           Lead                Adequate   \n",
              "1       Position                Adequate   \n",
              "\n",
              "                                                                                                                                                                                                                                                                                                                                                                                                                                                                                                                                                                                                                                                                                                                                                                                                                                                                                                                                                                                                                                                                                                                                                                                                                                                                                                                                                                                                                                                                                                                                                                                                                                                                                                                                                                                                                                                                                         essay_text  \\\n",
              "0  Hi, i'm Isaac, i'm going to be writing about how this face on Mars is a natural landform or if there is life on Mars that made it. The story is about how NASA took a picture of Mars and a face was seen on the planet. NASA doesn't know if the landform was created by life on Mars, or if it is just a natural landform. On my perspective, I think that the face is a natural landform because I dont think that there is any life on Mars. In these next few paragraphs, I'll be talking about how I think that is is a natural landform\\n\\nI think that the face is a natural landform because there is no life on Mars that we have descovered yet. If life was on Mars, we would know by now. The reason why I think it is a natural landform because, nobody live on Mars in order to create the figure. It says in paragraph 9, \"It's not easy to target Cydonia,\" in which he is saying that its not easy to know if it is a natural landform at this point. In all that they're saying, its probably a natural landform.\\n\\nPeople thought that the face was formed by alieans because they thought that there was life on Mars. though some say that life on Mars does exist, I think that there is no life on Mars.\\n\\nIt says in paragraph 7, on April 5, 1998, Mars Global Surveyor flew over Cydonia for the first time. Michael Malin took a picture of Mars with his Orbiter Camera, that the face was a natural landform. Everyone who thought it was made by alieans even though it wasn't, was not satisfied. I think they were not satisfied because they have thought since 1976 that it was really formed by alieans.\\n\\nThough people were not satified about how the landform was a natural landform, in all, we new that alieans did not form the face. I would like to know how the landform was formed. we know now that life on Mars doesn't exist.                \n",
              "1  Hi, i'm Isaac, i'm going to be writing about how this face on Mars is a natural landform or if there is life on Mars that made it. The story is about how NASA took a picture of Mars and a face was seen on the planet. NASA doesn't know if the landform was created by life on Mars, or if it is just a natural landform. On my perspective, I think that the face is a natural landform because I dont think that there is any life on Mars. In these next few paragraphs, I'll be talking about how I think that is is a natural landform\\n\\nI think that the face is a natural landform because there is no life on Mars that we have descovered yet. If life was on Mars, we would know by now. The reason why I think it is a natural landform because, nobody live on Mars in order to create the figure. It says in paragraph 9, \"It's not easy to target Cydonia,\" in which he is saying that its not easy to know if it is a natural landform at this point. In all that they're saying, its probably a natural landform.\\n\\nPeople thought that the face was formed by alieans because they thought that there was life on Mars. though some say that life on Mars does exist, I think that there is no life on Mars.\\n\\nIt says in paragraph 7, on April 5, 1998, Mars Global Surveyor flew over Cydonia for the first time. Michael Malin took a picture of Mars with his Orbiter Camera, that the face was a natural landform. Everyone who thought it was made by alieans even though it wasn't, was not satisfied. I think they were not satisfied because they have thought since 1976 that it was really formed by alieans.\\n\\nThough people were not satified about how the landform was a natural landform, in all, we new that alieans did not form the face. I would like to know how the landform was formed. we know now that life on Mars doesn't exist.                \n",
              "\n",
              "                                                                                                                                                                                                                                                                                                          processed_discourse  \\\n",
              "0  hi i m isaac i m going to be writing about how this face on mars is a natural landform or if there is life on mars that made it  the story is about how nasa took a picture of mars and a face was seen on the planet  nasa doesn t know if the landform was created by life on mars or if it is just a natural landform     \n",
              "1                                                                                                            on my perspective i think that the face is a natural landform because i dont think that there is any life on mars  in these next few paragraphs i ll be talking about how i think that is is a natural landform    \n",
              "\n",
              "                                                                                                                                                                                                                                                                                                                                                                                                                                                                                                                                                                                                                                                                                                                                                                                                                                                                                                                                                                                                                                                                                                                                                                                                                                                                                                                                                                                                                                                                                                                                                                                                                                                                                                                                                                                                                                     processed_essay  \\\n",
              "0  hi i m isaac i m going to be writing about how this face on mars is a natural landform or if there is life on mars that made it  the story is about how nasa took a picture of mars and a face was seen on the planet  nasa doesn t know if the landform was created by life on mars or if it is just a natural landform  on my perspective i think that the face is a natural landform because i dont think that there is any life on mars  in these next few paragraphs i ll be talking about how i think that is is a natural landformi think that the face is a natural landform because there is no life on mars that we have descovered yet  if life was on mars we would know by now  the reason why i think it is a natural landform because nobody live on mars in order to create the figure  it says in paragraph   it not easy to target cydonia in which he is saying that its not easy to know if it is a natural landform at this point  in all that they re saying its probably a natural landform people thought that the face was formed by alieans because they thought that there was life on mars  though some say that life on mars does exist i think that there is no life on mars it says in paragraph   on april        mars global surveyor flew over cydonia for the first time  michael malin took a picture of mars with his orbiter camera that the face was a natural landform  everyone who thought it was made by alieans even though it wasn t was not satisfied  i think they were not satisfied because they have thought since      that it was really formed by alieans though people were not satified about how the landform was a natural landform in all we new that alieans did not form the face  i would like to know how the landform was formed  we know now that life on mars doesn t exist        \n",
              "1  hi i m isaac i m going to be writing about how this face on mars is a natural landform or if there is life on mars that made it  the story is about how nasa took a picture of mars and a face was seen on the planet  nasa doesn t know if the landform was created by life on mars or if it is just a natural landform  on my perspective i think that the face is a natural landform because i dont think that there is any life on mars  in these next few paragraphs i ll be talking about how i think that is is a natural landformi think that the face is a natural landform because there is no life on mars that we have descovered yet  if life was on mars we would know by now  the reason why i think it is a natural landform because nobody live on mars in order to create the figure  it says in paragraph   it not easy to target cydonia in which he is saying that its not easy to know if it is a natural landform at this point  in all that they re saying its probably a natural landform people thought that the face was formed by alieans because they thought that there was life on mars  though some say that life on mars does exist i think that there is no life on mars it says in paragraph   on april        mars global surveyor flew over cydonia for the first time  michael malin took a picture of mars with his orbiter camera that the face was a natural landform  everyone who thought it was made by alieans even though it wasn t was not satisfied  i think they were not satisfied because they have thought since      that it was really formed by alieans though people were not satified about how the landform was a natural landform in all we new that alieans did not form the face  i would like to know how the landform was formed  we know now that life on mars doesn t exist        \n",
              "\n",
              "                                                                                                                                                                                                                                                                                                                                   inputs  \n",
              "0  Lead[SEP]Hi, i'm Isaac, i'm going to be writing about how this face on Mars is a natural landform or if there is life on Mars that made it. The story is about how NASA took a picture of Mars and a face was seen on the planet. NASA doesn't know if the landform was created by life on Mars, or if it is just a natural landform.   \n",
              "1                                                                                                         Position[SEP]On my perspective, I think that the face is a natural landform because I dont think that there is any life on Mars. In these next few paragraphs, I'll be talking about how I think that is is a natural landform   "
            ],
            "text/html": [
              "\n",
              "  <div id=\"df-f57bf72d-6fc2-4a16-946c-eb4af6bd4a3b\">\n",
              "    <div class=\"colab-df-container\">\n",
              "      <div>\n",
              "<style scoped>\n",
              "    .dataframe tbody tr th:only-of-type {\n",
              "        vertical-align: middle;\n",
              "    }\n",
              "\n",
              "    .dataframe tbody tr th {\n",
              "        vertical-align: top;\n",
              "    }\n",
              "\n",
              "    .dataframe thead th {\n",
              "        text-align: right;\n",
              "    }\n",
              "</style>\n",
              "<table border=\"1\" class=\"dataframe\">\n",
              "  <thead>\n",
              "    <tr style=\"text-align: right;\">\n",
              "      <th></th>\n",
              "      <th>discourse_id</th>\n",
              "      <th>essay_id</th>\n",
              "      <th>discourse_text</th>\n",
              "      <th>discourse_type</th>\n",
              "      <th>discourse_effectiveness</th>\n",
              "      <th>essay_text</th>\n",
              "      <th>processed_discourse</th>\n",
              "      <th>processed_essay</th>\n",
              "      <th>inputs</th>\n",
              "    </tr>\n",
              "  </thead>\n",
              "  <tbody>\n",
              "    <tr>\n",
              "      <th>0</th>\n",
              "      <td>0013cc385424</td>\n",
              "      <td>007ACE74B050</td>\n",
              "      <td>Hi, i'm Isaac, i'm going to be writing about how this face on Mars is a natural landform or if there is life on Mars that made it. The story is about how NASA took a picture of Mars and a face was seen on the planet. NASA doesn't know if the landform was created by life on Mars, or if it is just a natural landform.</td>\n",
              "      <td>Lead</td>\n",
              "      <td>Adequate</td>\n",
              "      <td>Hi, i'm Isaac, i'm going to be writing about how this face on Mars is a natural landform or if there is life on Mars that made it. The story is about how NASA took a picture of Mars and a face was seen on the planet. NASA doesn't know if the landform was created by life on Mars, or if it is just a natural landform. On my perspective, I think that the face is a natural landform because I dont think that there is any life on Mars. In these next few paragraphs, I'll be talking about how I think that is is a natural landform\\n\\nI think that the face is a natural landform because there is no life on Mars that we have descovered yet. If life was on Mars, we would know by now. The reason why I think it is a natural landform because, nobody live on Mars in order to create the figure. It says in paragraph 9, \"It's not easy to target Cydonia,\" in which he is saying that its not easy to know if it is a natural landform at this point. In all that they're saying, its probably a natural landform.\\n\\nPeople thought that the face was formed by alieans because they thought that there was life on Mars. though some say that life on Mars does exist, I think that there is no life on Mars.\\n\\nIt says in paragraph 7, on April 5, 1998, Mars Global Surveyor flew over Cydonia for the first time. Michael Malin took a picture of Mars with his Orbiter Camera, that the face was a natural landform. Everyone who thought it was made by alieans even though it wasn't, was not satisfied. I think they were not satisfied because they have thought since 1976 that it was really formed by alieans.\\n\\nThough people were not satified about how the landform was a natural landform, in all, we new that alieans did not form the face. I would like to know how the landform was formed. we know now that life on Mars doesn't exist.</td>\n",
              "      <td>hi i m isaac i m going to be writing about how this face on mars is a natural landform or if there is life on mars that made it  the story is about how nasa took a picture of mars and a face was seen on the planet  nasa doesn t know if the landform was created by life on mars or if it is just a natural landform</td>\n",
              "      <td>hi i m isaac i m going to be writing about how this face on mars is a natural landform or if there is life on mars that made it  the story is about how nasa took a picture of mars and a face was seen on the planet  nasa doesn t know if the landform was created by life on mars or if it is just a natural landform  on my perspective i think that the face is a natural landform because i dont think that there is any life on mars  in these next few paragraphs i ll be talking about how i think that is is a natural landformi think that the face is a natural landform because there is no life on mars that we have descovered yet  if life was on mars we would know by now  the reason why i think it is a natural landform because nobody live on mars in order to create the figure  it says in paragraph   it not easy to target cydonia in which he is saying that its not easy to know if it is a natural landform at this point  in all that they re saying its probably a natural landform people thought that the face was formed by alieans because they thought that there was life on mars  though some say that life on mars does exist i think that there is no life on mars it says in paragraph   on april        mars global surveyor flew over cydonia for the first time  michael malin took a picture of mars with his orbiter camera that the face was a natural landform  everyone who thought it was made by alieans even though it wasn t was not satisfied  i think they were not satisfied because they have thought since      that it was really formed by alieans though people were not satified about how the landform was a natural landform in all we new that alieans did not form the face  i would like to know how the landform was formed  we know now that life on mars doesn t exist</td>\n",
              "      <td>Lead[SEP]Hi, i'm Isaac, i'm going to be writing about how this face on Mars is a natural landform or if there is life on Mars that made it. The story is about how NASA took a picture of Mars and a face was seen on the planet. NASA doesn't know if the landform was created by life on Mars, or if it is just a natural landform.</td>\n",
              "    </tr>\n",
              "    <tr>\n",
              "      <th>1</th>\n",
              "      <td>9704a709b505</td>\n",
              "      <td>007ACE74B050</td>\n",
              "      <td>On my perspective, I think that the face is a natural landform because I dont think that there is any life on Mars. In these next few paragraphs, I'll be talking about how I think that is is a natural landform</td>\n",
              "      <td>Position</td>\n",
              "      <td>Adequate</td>\n",
              "      <td>Hi, i'm Isaac, i'm going to be writing about how this face on Mars is a natural landform or if there is life on Mars that made it. The story is about how NASA took a picture of Mars and a face was seen on the planet. NASA doesn't know if the landform was created by life on Mars, or if it is just a natural landform. On my perspective, I think that the face is a natural landform because I dont think that there is any life on Mars. In these next few paragraphs, I'll be talking about how I think that is is a natural landform\\n\\nI think that the face is a natural landform because there is no life on Mars that we have descovered yet. If life was on Mars, we would know by now. The reason why I think it is a natural landform because, nobody live on Mars in order to create the figure. It says in paragraph 9, \"It's not easy to target Cydonia,\" in which he is saying that its not easy to know if it is a natural landform at this point. In all that they're saying, its probably a natural landform.\\n\\nPeople thought that the face was formed by alieans because they thought that there was life on Mars. though some say that life on Mars does exist, I think that there is no life on Mars.\\n\\nIt says in paragraph 7, on April 5, 1998, Mars Global Surveyor flew over Cydonia for the first time. Michael Malin took a picture of Mars with his Orbiter Camera, that the face was a natural landform. Everyone who thought it was made by alieans even though it wasn't, was not satisfied. I think they were not satisfied because they have thought since 1976 that it was really formed by alieans.\\n\\nThough people were not satified about how the landform was a natural landform, in all, we new that alieans did not form the face. I would like to know how the landform was formed. we know now that life on Mars doesn't exist.</td>\n",
              "      <td>on my perspective i think that the face is a natural landform because i dont think that there is any life on mars  in these next few paragraphs i ll be talking about how i think that is is a natural landform</td>\n",
              "      <td>hi i m isaac i m going to be writing about how this face on mars is a natural landform or if there is life on mars that made it  the story is about how nasa took a picture of mars and a face was seen on the planet  nasa doesn t know if the landform was created by life on mars or if it is just a natural landform  on my perspective i think that the face is a natural landform because i dont think that there is any life on mars  in these next few paragraphs i ll be talking about how i think that is is a natural landformi think that the face is a natural landform because there is no life on mars that we have descovered yet  if life was on mars we would know by now  the reason why i think it is a natural landform because nobody live on mars in order to create the figure  it says in paragraph   it not easy to target cydonia in which he is saying that its not easy to know if it is a natural landform at this point  in all that they re saying its probably a natural landform people thought that the face was formed by alieans because they thought that there was life on mars  though some say that life on mars does exist i think that there is no life on mars it says in paragraph   on april        mars global surveyor flew over cydonia for the first time  michael malin took a picture of mars with his orbiter camera that the face was a natural landform  everyone who thought it was made by alieans even though it wasn t was not satisfied  i think they were not satisfied because they have thought since      that it was really formed by alieans though people were not satified about how the landform was a natural landform in all we new that alieans did not form the face  i would like to know how the landform was formed  we know now that life on mars doesn t exist</td>\n",
              "      <td>Position[SEP]On my perspective, I think that the face is a natural landform because I dont think that there is any life on Mars. In these next few paragraphs, I'll be talking about how I think that is is a natural landform</td>\n",
              "    </tr>\n",
              "  </tbody>\n",
              "</table>\n",
              "</div>\n",
              "      <button class=\"colab-df-convert\" onclick=\"convertToInteractive('df-f57bf72d-6fc2-4a16-946c-eb4af6bd4a3b')\"\n",
              "              title=\"Convert this dataframe to an interactive table.\"\n",
              "              style=\"display:none;\">\n",
              "        \n",
              "  <svg xmlns=\"http://www.w3.org/2000/svg\" height=\"24px\"viewBox=\"0 0 24 24\"\n",
              "       width=\"24px\">\n",
              "    <path d=\"M0 0h24v24H0V0z\" fill=\"none\"/>\n",
              "    <path d=\"M18.56 5.44l.94 2.06.94-2.06 2.06-.94-2.06-.94-.94-2.06-.94 2.06-2.06.94zm-11 1L8.5 8.5l.94-2.06 2.06-.94-2.06-.94L8.5 2.5l-.94 2.06-2.06.94zm10 10l.94 2.06.94-2.06 2.06-.94-2.06-.94-.94-2.06-.94 2.06-2.06.94z\"/><path d=\"M17.41 7.96l-1.37-1.37c-.4-.4-.92-.59-1.43-.59-.52 0-1.04.2-1.43.59L10.3 9.45l-7.72 7.72c-.78.78-.78 2.05 0 2.83L4 21.41c.39.39.9.59 1.41.59.51 0 1.02-.2 1.41-.59l7.78-7.78 2.81-2.81c.8-.78.8-2.07 0-2.86zM5.41 20L4 18.59l7.72-7.72 1.47 1.35L5.41 20z\"/>\n",
              "  </svg>\n",
              "      </button>\n",
              "      \n",
              "  <style>\n",
              "    .colab-df-container {\n",
              "      display:flex;\n",
              "      flex-wrap:wrap;\n",
              "      gap: 12px;\n",
              "    }\n",
              "\n",
              "    .colab-df-convert {\n",
              "      background-color: #E8F0FE;\n",
              "      border: none;\n",
              "      border-radius: 50%;\n",
              "      cursor: pointer;\n",
              "      display: none;\n",
              "      fill: #1967D2;\n",
              "      height: 32px;\n",
              "      padding: 0 0 0 0;\n",
              "      width: 32px;\n",
              "    }\n",
              "\n",
              "    .colab-df-convert:hover {\n",
              "      background-color: #E2EBFA;\n",
              "      box-shadow: 0px 1px 2px rgba(60, 64, 67, 0.3), 0px 1px 3px 1px rgba(60, 64, 67, 0.15);\n",
              "      fill: #174EA6;\n",
              "    }\n",
              "\n",
              "    [theme=dark] .colab-df-convert {\n",
              "      background-color: #3B4455;\n",
              "      fill: #D2E3FC;\n",
              "    }\n",
              "\n",
              "    [theme=dark] .colab-df-convert:hover {\n",
              "      background-color: #434B5C;\n",
              "      box-shadow: 0px 1px 3px 1px rgba(0, 0, 0, 0.15);\n",
              "      filter: drop-shadow(0px 1px 2px rgba(0, 0, 0, 0.3));\n",
              "      fill: #FFFFFF;\n",
              "    }\n",
              "  </style>\n",
              "\n",
              "      <script>\n",
              "        const buttonEl =\n",
              "          document.querySelector('#df-f57bf72d-6fc2-4a16-946c-eb4af6bd4a3b button.colab-df-convert');\n",
              "        buttonEl.style.display =\n",
              "          google.colab.kernel.accessAllowed ? 'block' : 'none';\n",
              "\n",
              "        async function convertToInteractive(key) {\n",
              "          const element = document.querySelector('#df-f57bf72d-6fc2-4a16-946c-eb4af6bd4a3b');\n",
              "          const dataTable =\n",
              "            await google.colab.kernel.invokeFunction('convertToInteractive',\n",
              "                                                     [key], {});\n",
              "          if (!dataTable) return;\n",
              "\n",
              "          const docLinkHtml = 'Like what you see? Visit the ' +\n",
              "            '<a target=\"_blank\" href=https://colab.research.google.com/notebooks/data_table.ipynb>data table notebook</a>'\n",
              "            + ' to learn more about interactive tables.';\n",
              "          element.innerHTML = '';\n",
              "          dataTable['output_type'] = 'display_data';\n",
              "          await google.colab.output.renderOutput(dataTable, element);\n",
              "          const docLink = document.createElement('div');\n",
              "          docLink.innerHTML = docLinkHtml;\n",
              "          element.appendChild(docLink);\n",
              "        }\n",
              "      </script>\n",
              "    </div>\n",
              "  </div>\n",
              "  "
            ]
          },
          "metadata": {},
          "execution_count": 13
        }
      ],
      "source": [
        "train_data['inputs'] = train_data.discourse_type + sep +train_data.discourse_text\n",
        "train_data.head(2)"
      ]
    },
    {
      "cell_type": "code",
      "execution_count": 14,
      "id": "eb55bbcf-6bc7-492f-a03a-edae2a1af857",
      "metadata": {
        "tags": [],
        "id": "eb55bbcf-6bc7-492f-a03a-edae2a1af857"
      },
      "outputs": [],
      "source": [
        "bin_map = {\"discourse_effectiveness\": {\"Ineffective\": 0, \"Adequate\": 1, \"Effective\": 2}}\n",
        "train_data = train_data.replace(bin_map)\n",
        "train_data = train_data.rename(columns = {\"discourse_effectiveness\": \"label\"})\n"
      ]
    },
    {
      "cell_type": "code",
      "execution_count": 15,
      "id": "9e38ff16-0b1b-404e-811e-76ff3808702c",
      "metadata": {
        "tags": [],
        "colab": {
          "base_uri": "https://localhost:8080/",
          "height": 1000
        },
        "id": "9e38ff16-0b1b-404e-811e-76ff3808702c",
        "outputId": "9c0ffe25-6d38-4e96-def4-43b344c9b626"
      },
      "outputs": [
        {
          "output_type": "execute_result",
          "data": {
            "text/plain": [
              "   discourse_id      essay_id  \\\n",
              "0  0013cc385424  007ACE74B050   \n",
              "1  9704a709b505  007ACE74B050   \n",
              "\n",
              "                                                                                                                                                                                                                                                                                                                  discourse_text  \\\n",
              "0  Hi, i'm Isaac, i'm going to be writing about how this face on Mars is a natural landform or if there is life on Mars that made it. The story is about how NASA took a picture of Mars and a face was seen on the planet. NASA doesn't know if the landform was created by life on Mars, or if it is just a natural landform.    \n",
              "1                                                                                                             On my perspective, I think that the face is a natural landform because I dont think that there is any life on Mars. In these next few paragraphs, I'll be talking about how I think that is is a natural landform    \n",
              "\n",
              "  discourse_type  label  \\\n",
              "0           Lead      1   \n",
              "1       Position      1   \n",
              "\n",
              "                                                                                                                                                                                                                                                                                                                                                                                                                                                                                                                                                                                                                                                                                                                                                                                                                                                                                                                                                                                                                                                                                                                                                                                                                                                                                                                                                                                                                                                                                                                                                                                                                                                                                                                                                                                                                                                                                         essay_text  \\\n",
              "0  Hi, i'm Isaac, i'm going to be writing about how this face on Mars is a natural landform or if there is life on Mars that made it. The story is about how NASA took a picture of Mars and a face was seen on the planet. NASA doesn't know if the landform was created by life on Mars, or if it is just a natural landform. On my perspective, I think that the face is a natural landform because I dont think that there is any life on Mars. In these next few paragraphs, I'll be talking about how I think that is is a natural landform\\n\\nI think that the face is a natural landform because there is no life on Mars that we have descovered yet. If life was on Mars, we would know by now. The reason why I think it is a natural landform because, nobody live on Mars in order to create the figure. It says in paragraph 9, \"It's not easy to target Cydonia,\" in which he is saying that its not easy to know if it is a natural landform at this point. In all that they're saying, its probably a natural landform.\\n\\nPeople thought that the face was formed by alieans because they thought that there was life on Mars. though some say that life on Mars does exist, I think that there is no life on Mars.\\n\\nIt says in paragraph 7, on April 5, 1998, Mars Global Surveyor flew over Cydonia for the first time. Michael Malin took a picture of Mars with his Orbiter Camera, that the face was a natural landform. Everyone who thought it was made by alieans even though it wasn't, was not satisfied. I think they were not satisfied because they have thought since 1976 that it was really formed by alieans.\\n\\nThough people were not satified about how the landform was a natural landform, in all, we new that alieans did not form the face. I would like to know how the landform was formed. we know now that life on Mars doesn't exist.                \n",
              "1  Hi, i'm Isaac, i'm going to be writing about how this face on Mars is a natural landform or if there is life on Mars that made it. The story is about how NASA took a picture of Mars and a face was seen on the planet. NASA doesn't know if the landform was created by life on Mars, or if it is just a natural landform. On my perspective, I think that the face is a natural landform because I dont think that there is any life on Mars. In these next few paragraphs, I'll be talking about how I think that is is a natural landform\\n\\nI think that the face is a natural landform because there is no life on Mars that we have descovered yet. If life was on Mars, we would know by now. The reason why I think it is a natural landform because, nobody live on Mars in order to create the figure. It says in paragraph 9, \"It's not easy to target Cydonia,\" in which he is saying that its not easy to know if it is a natural landform at this point. In all that they're saying, its probably a natural landform.\\n\\nPeople thought that the face was formed by alieans because they thought that there was life on Mars. though some say that life on Mars does exist, I think that there is no life on Mars.\\n\\nIt says in paragraph 7, on April 5, 1998, Mars Global Surveyor flew over Cydonia for the first time. Michael Malin took a picture of Mars with his Orbiter Camera, that the face was a natural landform. Everyone who thought it was made by alieans even though it wasn't, was not satisfied. I think they were not satisfied because they have thought since 1976 that it was really formed by alieans.\\n\\nThough people were not satified about how the landform was a natural landform, in all, we new that alieans did not form the face. I would like to know how the landform was formed. we know now that life on Mars doesn't exist.                \n",
              "\n",
              "                                                                                                                                                                                                                                                                                                          processed_discourse  \\\n",
              "0  hi i m isaac i m going to be writing about how this face on mars is a natural landform or if there is life on mars that made it  the story is about how nasa took a picture of mars and a face was seen on the planet  nasa doesn t know if the landform was created by life on mars or if it is just a natural landform     \n",
              "1                                                                                                            on my perspective i think that the face is a natural landform because i dont think that there is any life on mars  in these next few paragraphs i ll be talking about how i think that is is a natural landform    \n",
              "\n",
              "                                                                                                                                                                                                                                                                                                                                                                                                                                                                                                                                                                                                                                                                                                                                                                                                                                                                                                                                                                                                                                                                                                                                                                                                                                                                                                                                                                                                                                                                                                                                                                                                                                                                                                                                                                                                                                     processed_essay  \\\n",
              "0  hi i m isaac i m going to be writing about how this face on mars is a natural landform or if there is life on mars that made it  the story is about how nasa took a picture of mars and a face was seen on the planet  nasa doesn t know if the landform was created by life on mars or if it is just a natural landform  on my perspective i think that the face is a natural landform because i dont think that there is any life on mars  in these next few paragraphs i ll be talking about how i think that is is a natural landformi think that the face is a natural landform because there is no life on mars that we have descovered yet  if life was on mars we would know by now  the reason why i think it is a natural landform because nobody live on mars in order to create the figure  it says in paragraph   it not easy to target cydonia in which he is saying that its not easy to know if it is a natural landform at this point  in all that they re saying its probably a natural landform people thought that the face was formed by alieans because they thought that there was life on mars  though some say that life on mars does exist i think that there is no life on mars it says in paragraph   on april        mars global surveyor flew over cydonia for the first time  michael malin took a picture of mars with his orbiter camera that the face was a natural landform  everyone who thought it was made by alieans even though it wasn t was not satisfied  i think they were not satisfied because they have thought since      that it was really formed by alieans though people were not satified about how the landform was a natural landform in all we new that alieans did not form the face  i would like to know how the landform was formed  we know now that life on mars doesn t exist        \n",
              "1  hi i m isaac i m going to be writing about how this face on mars is a natural landform or if there is life on mars that made it  the story is about how nasa took a picture of mars and a face was seen on the planet  nasa doesn t know if the landform was created by life on mars or if it is just a natural landform  on my perspective i think that the face is a natural landform because i dont think that there is any life on mars  in these next few paragraphs i ll be talking about how i think that is is a natural landformi think that the face is a natural landform because there is no life on mars that we have descovered yet  if life was on mars we would know by now  the reason why i think it is a natural landform because nobody live on mars in order to create the figure  it says in paragraph   it not easy to target cydonia in which he is saying that its not easy to know if it is a natural landform at this point  in all that they re saying its probably a natural landform people thought that the face was formed by alieans because they thought that there was life on mars  though some say that life on mars does exist i think that there is no life on mars it says in paragraph   on april        mars global surveyor flew over cydonia for the first time  michael malin took a picture of mars with his orbiter camera that the face was a natural landform  everyone who thought it was made by alieans even though it wasn t was not satisfied  i think they were not satisfied because they have thought since      that it was really formed by alieans though people were not satified about how the landform was a natural landform in all we new that alieans did not form the face  i would like to know how the landform was formed  we know now that life on mars doesn t exist        \n",
              "\n",
              "                                                                                                                                                                                                                                                                                                                                   inputs  \n",
              "0  Lead[SEP]Hi, i'm Isaac, i'm going to be writing about how this face on Mars is a natural landform or if there is life on Mars that made it. The story is about how NASA took a picture of Mars and a face was seen on the planet. NASA doesn't know if the landform was created by life on Mars, or if it is just a natural landform.   \n",
              "1                                                                                                         Position[SEP]On my perspective, I think that the face is a natural landform because I dont think that there is any life on Mars. In these next few paragraphs, I'll be talking about how I think that is is a natural landform   "
            ],
            "text/html": [
              "\n",
              "  <div id=\"df-91a037aa-a7e2-4bcb-a923-5de286e29cea\">\n",
              "    <div class=\"colab-df-container\">\n",
              "      <div>\n",
              "<style scoped>\n",
              "    .dataframe tbody tr th:only-of-type {\n",
              "        vertical-align: middle;\n",
              "    }\n",
              "\n",
              "    .dataframe tbody tr th {\n",
              "        vertical-align: top;\n",
              "    }\n",
              "\n",
              "    .dataframe thead th {\n",
              "        text-align: right;\n",
              "    }\n",
              "</style>\n",
              "<table border=\"1\" class=\"dataframe\">\n",
              "  <thead>\n",
              "    <tr style=\"text-align: right;\">\n",
              "      <th></th>\n",
              "      <th>discourse_id</th>\n",
              "      <th>essay_id</th>\n",
              "      <th>discourse_text</th>\n",
              "      <th>discourse_type</th>\n",
              "      <th>label</th>\n",
              "      <th>essay_text</th>\n",
              "      <th>processed_discourse</th>\n",
              "      <th>processed_essay</th>\n",
              "      <th>inputs</th>\n",
              "    </tr>\n",
              "  </thead>\n",
              "  <tbody>\n",
              "    <tr>\n",
              "      <th>0</th>\n",
              "      <td>0013cc385424</td>\n",
              "      <td>007ACE74B050</td>\n",
              "      <td>Hi, i'm Isaac, i'm going to be writing about how this face on Mars is a natural landform or if there is life on Mars that made it. The story is about how NASA took a picture of Mars and a face was seen on the planet. NASA doesn't know if the landform was created by life on Mars, or if it is just a natural landform.</td>\n",
              "      <td>Lead</td>\n",
              "      <td>1</td>\n",
              "      <td>Hi, i'm Isaac, i'm going to be writing about how this face on Mars is a natural landform or if there is life on Mars that made it. The story is about how NASA took a picture of Mars and a face was seen on the planet. NASA doesn't know if the landform was created by life on Mars, or if it is just a natural landform. On my perspective, I think that the face is a natural landform because I dont think that there is any life on Mars. In these next few paragraphs, I'll be talking about how I think that is is a natural landform\\n\\nI think that the face is a natural landform because there is no life on Mars that we have descovered yet. If life was on Mars, we would know by now. The reason why I think it is a natural landform because, nobody live on Mars in order to create the figure. It says in paragraph 9, \"It's not easy to target Cydonia,\" in which he is saying that its not easy to know if it is a natural landform at this point. In all that they're saying, its probably a natural landform.\\n\\nPeople thought that the face was formed by alieans because they thought that there was life on Mars. though some say that life on Mars does exist, I think that there is no life on Mars.\\n\\nIt says in paragraph 7, on April 5, 1998, Mars Global Surveyor flew over Cydonia for the first time. Michael Malin took a picture of Mars with his Orbiter Camera, that the face was a natural landform. Everyone who thought it was made by alieans even though it wasn't, was not satisfied. I think they were not satisfied because they have thought since 1976 that it was really formed by alieans.\\n\\nThough people were not satified about how the landform was a natural landform, in all, we new that alieans did not form the face. I would like to know how the landform was formed. we know now that life on Mars doesn't exist.</td>\n",
              "      <td>hi i m isaac i m going to be writing about how this face on mars is a natural landform or if there is life on mars that made it  the story is about how nasa took a picture of mars and a face was seen on the planet  nasa doesn t know if the landform was created by life on mars or if it is just a natural landform</td>\n",
              "      <td>hi i m isaac i m going to be writing about how this face on mars is a natural landform or if there is life on mars that made it  the story is about how nasa took a picture of mars and a face was seen on the planet  nasa doesn t know if the landform was created by life on mars or if it is just a natural landform  on my perspective i think that the face is a natural landform because i dont think that there is any life on mars  in these next few paragraphs i ll be talking about how i think that is is a natural landformi think that the face is a natural landform because there is no life on mars that we have descovered yet  if life was on mars we would know by now  the reason why i think it is a natural landform because nobody live on mars in order to create the figure  it says in paragraph   it not easy to target cydonia in which he is saying that its not easy to know if it is a natural landform at this point  in all that they re saying its probably a natural landform people thought that the face was formed by alieans because they thought that there was life on mars  though some say that life on mars does exist i think that there is no life on mars it says in paragraph   on april        mars global surveyor flew over cydonia for the first time  michael malin took a picture of mars with his orbiter camera that the face was a natural landform  everyone who thought it was made by alieans even though it wasn t was not satisfied  i think they were not satisfied because they have thought since      that it was really formed by alieans though people were not satified about how the landform was a natural landform in all we new that alieans did not form the face  i would like to know how the landform was formed  we know now that life on mars doesn t exist</td>\n",
              "      <td>Lead[SEP]Hi, i'm Isaac, i'm going to be writing about how this face on Mars is a natural landform or if there is life on Mars that made it. The story is about how NASA took a picture of Mars and a face was seen on the planet. NASA doesn't know if the landform was created by life on Mars, or if it is just a natural landform.</td>\n",
              "    </tr>\n",
              "    <tr>\n",
              "      <th>1</th>\n",
              "      <td>9704a709b505</td>\n",
              "      <td>007ACE74B050</td>\n",
              "      <td>On my perspective, I think that the face is a natural landform because I dont think that there is any life on Mars. In these next few paragraphs, I'll be talking about how I think that is is a natural landform</td>\n",
              "      <td>Position</td>\n",
              "      <td>1</td>\n",
              "      <td>Hi, i'm Isaac, i'm going to be writing about how this face on Mars is a natural landform or if there is life on Mars that made it. The story is about how NASA took a picture of Mars and a face was seen on the planet. NASA doesn't know if the landform was created by life on Mars, or if it is just a natural landform. On my perspective, I think that the face is a natural landform because I dont think that there is any life on Mars. In these next few paragraphs, I'll be talking about how I think that is is a natural landform\\n\\nI think that the face is a natural landform because there is no life on Mars that we have descovered yet. If life was on Mars, we would know by now. The reason why I think it is a natural landform because, nobody live on Mars in order to create the figure. It says in paragraph 9, \"It's not easy to target Cydonia,\" in which he is saying that its not easy to know if it is a natural landform at this point. In all that they're saying, its probably a natural landform.\\n\\nPeople thought that the face was formed by alieans because they thought that there was life on Mars. though some say that life on Mars does exist, I think that there is no life on Mars.\\n\\nIt says in paragraph 7, on April 5, 1998, Mars Global Surveyor flew over Cydonia for the first time. Michael Malin took a picture of Mars with his Orbiter Camera, that the face was a natural landform. Everyone who thought it was made by alieans even though it wasn't, was not satisfied. I think they were not satisfied because they have thought since 1976 that it was really formed by alieans.\\n\\nThough people were not satified about how the landform was a natural landform, in all, we new that alieans did not form the face. I would like to know how the landform was formed. we know now that life on Mars doesn't exist.</td>\n",
              "      <td>on my perspective i think that the face is a natural landform because i dont think that there is any life on mars  in these next few paragraphs i ll be talking about how i think that is is a natural landform</td>\n",
              "      <td>hi i m isaac i m going to be writing about how this face on mars is a natural landform or if there is life on mars that made it  the story is about how nasa took a picture of mars and a face was seen on the planet  nasa doesn t know if the landform was created by life on mars or if it is just a natural landform  on my perspective i think that the face is a natural landform because i dont think that there is any life on mars  in these next few paragraphs i ll be talking about how i think that is is a natural landformi think that the face is a natural landform because there is no life on mars that we have descovered yet  if life was on mars we would know by now  the reason why i think it is a natural landform because nobody live on mars in order to create the figure  it says in paragraph   it not easy to target cydonia in which he is saying that its not easy to know if it is a natural landform at this point  in all that they re saying its probably a natural landform people thought that the face was formed by alieans because they thought that there was life on mars  though some say that life on mars does exist i think that there is no life on mars it says in paragraph   on april        mars global surveyor flew over cydonia for the first time  michael malin took a picture of mars with his orbiter camera that the face was a natural landform  everyone who thought it was made by alieans even though it wasn t was not satisfied  i think they were not satisfied because they have thought since      that it was really formed by alieans though people were not satified about how the landform was a natural landform in all we new that alieans did not form the face  i would like to know how the landform was formed  we know now that life on mars doesn t exist</td>\n",
              "      <td>Position[SEP]On my perspective, I think that the face is a natural landform because I dont think that there is any life on Mars. In these next few paragraphs, I'll be talking about how I think that is is a natural landform</td>\n",
              "    </tr>\n",
              "  </tbody>\n",
              "</table>\n",
              "</div>\n",
              "      <button class=\"colab-df-convert\" onclick=\"convertToInteractive('df-91a037aa-a7e2-4bcb-a923-5de286e29cea')\"\n",
              "              title=\"Convert this dataframe to an interactive table.\"\n",
              "              style=\"display:none;\">\n",
              "        \n",
              "  <svg xmlns=\"http://www.w3.org/2000/svg\" height=\"24px\"viewBox=\"0 0 24 24\"\n",
              "       width=\"24px\">\n",
              "    <path d=\"M0 0h24v24H0V0z\" fill=\"none\"/>\n",
              "    <path d=\"M18.56 5.44l.94 2.06.94-2.06 2.06-.94-2.06-.94-.94-2.06-.94 2.06-2.06.94zm-11 1L8.5 8.5l.94-2.06 2.06-.94-2.06-.94L8.5 2.5l-.94 2.06-2.06.94zm10 10l.94 2.06.94-2.06 2.06-.94-2.06-.94-.94-2.06-.94 2.06-2.06.94z\"/><path d=\"M17.41 7.96l-1.37-1.37c-.4-.4-.92-.59-1.43-.59-.52 0-1.04.2-1.43.59L10.3 9.45l-7.72 7.72c-.78.78-.78 2.05 0 2.83L4 21.41c.39.39.9.59 1.41.59.51 0 1.02-.2 1.41-.59l7.78-7.78 2.81-2.81c.8-.78.8-2.07 0-2.86zM5.41 20L4 18.59l7.72-7.72 1.47 1.35L5.41 20z\"/>\n",
              "  </svg>\n",
              "      </button>\n",
              "      \n",
              "  <style>\n",
              "    .colab-df-container {\n",
              "      display:flex;\n",
              "      flex-wrap:wrap;\n",
              "      gap: 12px;\n",
              "    }\n",
              "\n",
              "    .colab-df-convert {\n",
              "      background-color: #E8F0FE;\n",
              "      border: none;\n",
              "      border-radius: 50%;\n",
              "      cursor: pointer;\n",
              "      display: none;\n",
              "      fill: #1967D2;\n",
              "      height: 32px;\n",
              "      padding: 0 0 0 0;\n",
              "      width: 32px;\n",
              "    }\n",
              "\n",
              "    .colab-df-convert:hover {\n",
              "      background-color: #E2EBFA;\n",
              "      box-shadow: 0px 1px 2px rgba(60, 64, 67, 0.3), 0px 1px 3px 1px rgba(60, 64, 67, 0.15);\n",
              "      fill: #174EA6;\n",
              "    }\n",
              "\n",
              "    [theme=dark] .colab-df-convert {\n",
              "      background-color: #3B4455;\n",
              "      fill: #D2E3FC;\n",
              "    }\n",
              "\n",
              "    [theme=dark] .colab-df-convert:hover {\n",
              "      background-color: #434B5C;\n",
              "      box-shadow: 0px 1px 3px 1px rgba(0, 0, 0, 0.15);\n",
              "      filter: drop-shadow(0px 1px 2px rgba(0, 0, 0, 0.3));\n",
              "      fill: #FFFFFF;\n",
              "    }\n",
              "  </style>\n",
              "\n",
              "      <script>\n",
              "        const buttonEl =\n",
              "          document.querySelector('#df-91a037aa-a7e2-4bcb-a923-5de286e29cea button.colab-df-convert');\n",
              "        buttonEl.style.display =\n",
              "          google.colab.kernel.accessAllowed ? 'block' : 'none';\n",
              "\n",
              "        async function convertToInteractive(key) {\n",
              "          const element = document.querySelector('#df-91a037aa-a7e2-4bcb-a923-5de286e29cea');\n",
              "          const dataTable =\n",
              "            await google.colab.kernel.invokeFunction('convertToInteractive',\n",
              "                                                     [key], {});\n",
              "          if (!dataTable) return;\n",
              "\n",
              "          const docLinkHtml = 'Like what you see? Visit the ' +\n",
              "            '<a target=\"_blank\" href=https://colab.research.google.com/notebooks/data_table.ipynb>data table notebook</a>'\n",
              "            + ' to learn more about interactive tables.';\n",
              "          element.innerHTML = '';\n",
              "          dataTable['output_type'] = 'display_data';\n",
              "          await google.colab.output.renderOutput(dataTable, element);\n",
              "          const docLink = document.createElement('div');\n",
              "          docLink.innerHTML = docLinkHtml;\n",
              "          element.appendChild(docLink);\n",
              "        }\n",
              "      </script>\n",
              "    </div>\n",
              "  </div>\n",
              "  "
            ]
          },
          "metadata": {},
          "execution_count": 15
        }
      ],
      "source": [
        "train_data.head(2)"
      ]
    },
    {
      "cell_type": "code",
      "execution_count": 16,
      "id": "7a18c583-1a65-458a-a7f8-e69058060f8d",
      "metadata": {
        "tags": [],
        "colab": {
          "base_uri": "https://localhost:8080/"
        },
        "id": "7a18c583-1a65-458a-a7f8-e69058060f8d",
        "outputId": "dda7cf9b-0391-4ab9-a793-159e69275dbb"
      },
      "outputs": [
        {
          "output_type": "execute_result",
          "data": {
            "text/plain": [
              "1    20977\n",
              "2     9326\n",
              "0     6462\n",
              "Name: label, dtype: int64"
            ]
          },
          "metadata": {},
          "execution_count": 16
        }
      ],
      "source": [
        "train_data.label.value_counts()"
      ]
    },
    {
      "cell_type": "code",
      "execution_count": 17,
      "id": "10bbca88-d44b-4055-9815-1218486de27e",
      "metadata": {
        "tags": [],
        "id": "10bbca88-d44b-4055-9815-1218486de27e"
      },
      "outputs": [],
      "source": [
        "from sklearn.model_selection import train_test_split\n",
        "X_train_text, X_valid_text, y_train, y_valid = train_test_split(train_data['inputs'], train_data['label'], test_size=0.1, random_state=42,\\\n",
        "                                                      stratify=train_data[\"label\"])\n",
        "#X_train.shape,X_valid.shape,y_train.shape,y_valid.shape"
      ]
    },
    {
      "cell_type": "markdown",
      "id": "f410c666-0a06-4a29-aa8b-6ca6dfd0f678",
      "metadata": {
        "tags": [],
        "id": "f410c666-0a06-4a29-aa8b-6ca6dfd0f678"
      },
      "source": [
        "### Begin Embeddings"
      ]
    },
    {
      "cell_type": "code",
      "execution_count": 18,
      "id": "973797fc-1c03-40f1-838b-e0f9aa5ed43c",
      "metadata": {
        "tags": [],
        "id": "973797fc-1c03-40f1-838b-e0f9aa5ed43c"
      },
      "outputs": [],
      "source": [
        "# Texts, tokenizer inputs and Maxlength of inputs\n",
        "def generate_embeddings(texts, tokenizer, max_len=MAX_LEN, model_type = MODEL_TYPE):\n",
        "    \n",
        "    input_ids = np.zeros((len(texts), max_len), dtype=\"int32\")\n",
        "    token_type_ids = np.zeros((len(texts), max_len), dtype=\"int32\")\n",
        "    attention_mask = np.zeros((len(texts), max_len), dtype=\"int32\")   \n",
        "    \n",
        "    for i, text in enumerate(texts):\n",
        "        \n",
        "        token = tokenizer(text,\n",
        "                          max_length=max_len,\n",
        "                          truncation=True,\n",
        "                          padding='max_length',\n",
        "                          add_special_tokens=True)\n",
        "        \n",
        "        input_ids[i] = token['input_ids']\n",
        "        if model_type == 'bert':\n",
        "            token_type_ids[i]= token['token_type_ids']\n",
        "        attention_mask[i] = token['attention_mask']\n",
        "    \n",
        "    if model_type == 'distilbert':\n",
        "        return input_ids,attention_mask\n",
        "    elif model_type == 'bert':\n",
        "        return input_ids,token_type_ids,attention_mask\n",
        "    else:\n",
        "        pass"
      ]
    },
    {
      "cell_type": "code",
      "execution_count": 19,
      "id": "d6f484bd-fca8-4dbc-9c22-95d3e6612bd8",
      "metadata": {
        "tags": [],
        "id": "d6f484bd-fca8-4dbc-9c22-95d3e6612bd8"
      },
      "outputs": [],
      "source": [
        "X_train = generate_embeddings(X_train_text.astype(str).tolist(), tokenizer, model_type=MODEL_TYPE)\n",
        "X_valid = generate_embeddings(X_valid_text.astype(str).tolist(), tokenizer, model_type=MODEL_TYPE)\n",
        "\n",
        "y_train = y_train.values\n",
        "y_valid = y_valid.values"
      ]
    },
    {
      "cell_type": "code",
      "execution_count": 20,
      "id": "0e455168-61d9-4787-95d8-b5b795cc38ae",
      "metadata": {
        "tags": [],
        "id": "0e455168-61d9-4787-95d8-b5b795cc38ae"
      },
      "outputs": [],
      "source": [
        "train_dataset = (\n",
        "    tf.data.Dataset\n",
        "    .from_tensor_slices((X_train, y_train))\n",
        "    .batch(BATCH_SIZE)\n",
        "    .prefetch(AUTO)\n",
        ")\n",
        "\n",
        "valid_dataset = (\n",
        "    tf.data.Dataset\n",
        "    .from_tensor_slices((X_valid, y_valid))\n",
        "    .batch(BATCH_SIZE)\n",
        "    .cache()\n",
        "    .prefetch(AUTO)\n",
        ")"
      ]
    },
    {
      "cell_type": "markdown",
      "id": "7cbff16e-e1cf-4cdb-8a6b-bd90ecac958f",
      "metadata": {
        "id": "7cbff16e-e1cf-4cdb-8a6b-bd90ecac958f"
      },
      "source": [
        "## Building a Bert Model"
      ]
    },
    {
      "cell_type": "code",
      "execution_count": null,
      "id": "c3e3f5c6-5b41-4b4e-b80f-6e40536a451a",
      "metadata": {
        "tags": [],
        "id": "c3e3f5c6-5b41-4b4e-b80f-6e40536a451a"
      },
      "outputs": [],
      "source": [
        "import gc\n",
        "gc.collect()"
      ]
    },
    {
      "cell_type": "code",
      "execution_count": 25,
      "id": "b3403194-320e-415e-b502-c562c4876442",
      "metadata": {
        "tags": [],
        "id": "b3403194-320e-415e-b502-c562c4876442"
      },
      "outputs": [],
      "source": [
        "from tensorflow.keras import Sequential\n",
        "import tensorflow_hub as hub\n",
        "\n",
        "def build_model_bert(bert_model, max_len=MAX_LEN):    \n",
        "    input_ids = Input(shape=(max_len,), dtype=tf.int32, name=\"input_ids\")\n",
        "    token_type_ids = Input(shape=(max_len,), dtype=tf.int32, name=\"token_type_ids\")\n",
        "    attention_mask = Input(shape=(max_len,), dtype=tf.int32, name=\"attention_mask\")\n",
        "\n",
        "    sequence_output = bert_model(input_ids, token_type_ids=token_type_ids, attention_mask=attention_mask)[0]\n",
        "    clf_output = Dropout(.1)(sequence_output[:, 0, :])\n",
        "    dense_layer = Dense(256, activation='relu')(clf_output)\n",
        "    dense_layer = Dropout(.1)(dense_layer)\n",
        "    out = Dense(3, activation='softmax')(dense_layer)\n",
        "    \n",
        "    model = Model(inputs=[input_ids, token_type_ids, attention_mask], outputs=out)\n",
        "    model.compile(Adam(learning_rate=2e-5), loss='sparse_categorical_crossentropy', metrics=['accuracy',f1_score])\n",
        "    \n",
        "    return model\n",
        "\n",
        "# def build_model_bert_v2(bert_model, max_len=MAX_LEN, num_classes=NUM_CLASSES):    \n",
        "#     input_ids = tf.keras.Input(shape=(max_len,), dtype=tf.int32, name=\"input_ids\")\n",
        "#     token_type_ids = tf.keras.Input(shape=(max_len,), dtype=tf.int32, name=\"token_type_ids\")\n",
        "#     attention_mask = tf.keras.Input(shape=(max_len,), dtype=tf.int32, name=\"attention_mask\")\n",
        "\n",
        "#     sequence_output = bert_model(input_ids, token_type_ids=token_type_ids, attention_mask=attention_mask)[0]\n",
        "    \n",
        "#     # Use max pooling instead of [CLS] token\n",
        "#     pooled_output = tf.keras.layers.GlobalMaxPooling1D()(sequence_output)\n",
        "    \n",
        "#     # Add dense layer with L2 regularization\n",
        "#     dense_layer = tf.keras.layers.Dense(256, activation='relu', kernel_regularizer=tf.keras.regularizers.l2(0.01))(pooled_output)\n",
        "#     dense_layer = tf.keras.layers.Dropout(.1)(dense_layer)\n",
        "    \n",
        "#     # Add output layer\n",
        "#     out = tf.keras.layers.Dense(num_classes, activation='softmax')(dense_layer)\n",
        "    \n",
        "#     model = tf.keras.Model(inputs=[input_ids, token_type_ids, attention_mask], outputs=out)\n",
        "    \n",
        "#     # Use learning rate scheduler\n",
        "#     lr_scheduler = tf.keras.callbacks.LearningRateScheduler(lambda epoch: 2e-5 * (0.1 ** (epoch // 2)))\n",
        "    \n",
        "#     model.compile(tf.keras.optimizers.Adam(lr=2e-5), \n",
        "#                   loss='categorical_crossentropy', \n",
        "#                   metrics=['accuracy', f1_score])\n",
        "    \n",
        "#     return model\n",
        "\n",
        "def cal_recall(y_true, y_pred):\n",
        "    y_true = tf.ones_like(y_true)\n",
        "    true_positives = K.sum(K.round(K.clip(y_true * y_pred, 0, 1)))\n",
        "    all_positives = K.sum(K.round(K.clip(y_true, 0, 1)))\n",
        "\n",
        "    recall = true_positives / (all_positives + K.epsilon())\n",
        "    return recall\n",
        "\n",
        "def cal_precision(y_true, y_pred):\n",
        "    y_true = K.ones_like(y_true)\n",
        "    true_positives = K.sum(K.round(K.clip(y_true * y_pred, 0, 1)))\n",
        "\n",
        "    predicted_positives = K.sum(K.round(K.clip(y_pred, 0, 1)))\n",
        "    precision = true_positives / (predicted_positives + K.epsilon())\n",
        "    return precision\n",
        "\n",
        "def f1_score(y_true, y_pred):\n",
        "    precision = cal_precision(y_true, y_pred)\n",
        "    recall = cal_recall(y_true, y_pred)\n",
        "    return 2*((precision*recall)/(precision+recall+K.epsilon()))\n",
        "\n",
        "def build_model_distilbert(bert_model, max_len=MAX_LEN):    \n",
        "    input_ids = Input(shape=(max_len,), dtype=tf.int32, name=\"input_ids\")\n",
        "    attention_mask = Input(shape=(max_len,), dtype=tf.int32, name=\"attention_mask\")\n",
        "\n",
        "    sequence_output = bert_model(input_ids, attention_mask=attention_mask)[0]\n",
        "    clf_output = sequence_output[:, 0, :]\n",
        "    clf_output = Dropout(.1)(clf_output)\n",
        "    out = Dense(3, activation='softmax')(clf_output)\n",
        "    \n",
        "    model = Model(inputs=[input_ids, attention_mask], outputs=out)\n",
        "    model.compile(Adam(lr=1e-4), loss='sparse_categorical_crossentropy', metrics=[\"accuracy\",f1_score])\n",
        "    \n",
        "    return model\n",
        "\n",
        "def build_model_use():\n",
        "    hub_layer = hub.KerasLayer(\"https://tfhub.dev/google/universal-sentence-encoder/4\", output_shape=[512], input_shape=[], dtype=tf.string,\n",
        "                               trainable=True)\n",
        "    model = Sequential()\n",
        "    model.add(hub_layer)\n",
        "    for units in [16, 8]:\n",
        "        model.add(Dense(units, activation='relu'))\n",
        "        model.add(Dropout(0.3))\n",
        "    model.add(Dense(3, activation='softmax'))\n",
        "    model.compile(Adam(lr=1e-4), loss='sparse_categorical_crossentropy', metrics=[\"accuracy\",f1_score])\n",
        "    return model"
      ]
    },
    {
      "cell_type": "markdown",
      "source": [
        "Fine Tuning the model"
      ],
      "metadata": {
        "id": "O75Soey8mlNh"
      },
      "id": "O75Soey8mlNh"
    },
    {
      "cell_type": "code",
      "execution_count": 26,
      "id": "142a3504-1604-4ae3-8746-20e3766d743c",
      "metadata": {
        "tags": [],
        "id": "142a3504-1604-4ae3-8746-20e3766d743c",
        "colab": {
          "base_uri": "https://localhost:8080/"
        },
        "outputId": "4b9a176a-e9da-4dd3-9ddd-f678c0837535"
      },
      "outputs": [
        {
          "output_type": "stream",
          "name": "stderr",
          "text": [
            "Some layers from the model checkpoint at bert-base-uncased were not used when initializing TFBertModel: ['nsp___cls', 'mlm___cls']\n",
            "- This IS expected if you are initializing TFBertModel from the checkpoint of a model trained on another task or with another architecture (e.g. initializing a BertForSequenceClassification model from a BertForPreTraining model).\n",
            "- This IS NOT expected if you are initializing TFBertModel from the checkpoint of a model that you expect to be exactly identical (initializing a BertForSequenceClassification model from a BertForSequenceClassification model).\n",
            "All the layers of TFBertModel were initialized from the model checkpoint at bert-base-uncased.\n",
            "If your task is similar to the task the model of the checkpoint was trained on, you can already use TFBertModel for predictions without further training.\n"
          ]
        }
      ],
      "source": [
        "bert = TFBertModel.from_pretrained('bert-base-uncased')\n",
        "model  = build_model_bert(bert)"
      ]
    },
    {
      "cell_type": "code",
      "execution_count": 27,
      "id": "146ce777-a8cf-4d59-a0eb-0eb5ba207e0d",
      "metadata": {
        "tags": [],
        "id": "146ce777-a8cf-4d59-a0eb-0eb5ba207e0d",
        "colab": {
          "base_uri": "https://localhost:8080/"
        },
        "outputId": "78728344-d354-40dd-e9aa-a9606d9deb6d"
      },
      "outputs": [
        {
          "output_type": "stream",
          "name": "stdout",
          "text": [
            "Model: \"model_1\"\n",
            "__________________________________________________________________________________________________\n",
            " Layer (type)                   Output Shape         Param #     Connected to                     \n",
            "==================================================================================================\n",
            " input_ids (InputLayer)         [(None, 256)]        0           []                               \n",
            "                                                                                                  \n",
            " attention_mask (InputLayer)    [(None, 256)]        0           []                               \n",
            "                                                                                                  \n",
            " token_type_ids (InputLayer)    [(None, 256)]        0           []                               \n",
            "                                                                                                  \n",
            " tf_bert_model_1 (TFBertModel)  TFBaseModelOutputWi  109482240   ['input_ids[0][0]',              \n",
            "                                thPoolingAndCrossAt               'attention_mask[0][0]',         \n",
            "                                tentions(last_hidde               'token_type_ids[0][0]']         \n",
            "                                n_state=(None, 256,                                               \n",
            "                                 768),                                                            \n",
            "                                 pooler_output=(Non                                               \n",
            "                                e, 768),                                                          \n",
            "                                 past_key_values=No                                               \n",
            "                                ne, hidden_states=N                                               \n",
            "                                one, attentions=Non                                               \n",
            "                                e, cross_attentions                                               \n",
            "                                =None)                                                            \n",
            "                                                                                                  \n",
            " tf.__operators__.getitem_1 (Sl  (None, 768)         0           ['tf_bert_model_1[0][0]']        \n",
            " icingOpLambda)                                                                                   \n",
            "                                                                                                  \n",
            " dropout_76 (Dropout)           (None, 768)          0           ['tf.__operators__.getitem_1[0][0\n",
            "                                                                 ]']                              \n",
            "                                                                                                  \n",
            " dense_2 (Dense)                (None, 256)          196864      ['dropout_76[0][0]']             \n",
            "                                                                                                  \n",
            " dropout_77 (Dropout)           (None, 256)          0           ['dense_2[0][0]']                \n",
            "                                                                                                  \n",
            " dense_3 (Dense)                (None, 3)            771         ['dropout_77[0][0]']             \n",
            "                                                                                                  \n",
            "==================================================================================================\n",
            "Total params: 109,679,875\n",
            "Trainable params: 109,679,875\n",
            "Non-trainable params: 0\n",
            "__________________________________________________________________________________________________\n"
          ]
        }
      ],
      "source": [
        "model.summary()"
      ]
    },
    {
      "cell_type": "code",
      "execution_count": 28,
      "id": "3a0271e5-79fb-4089-b3c0-efd890e1c198",
      "metadata": {
        "tags": [],
        "colab": {
          "base_uri": "https://localhost:8080/",
          "height": 661
        },
        "id": "3a0271e5-79fb-4089-b3c0-efd890e1c198",
        "outputId": "6d32fd05-940a-45ae-9c1d-8a8dc5dba2e0"
      },
      "outputs": [
        {
          "output_type": "execute_result",
          "data": {
            "image/png": "[encoded data removed]",
            "text/plain": [
              "<IPython.core.display.Image object>"
            ]
          },
          "metadata": {},
          "execution_count": 28
        }
      ],
      "source": [
        "from tensorflow.keras.utils import plot_model\n",
        "\n",
        "plot_model(model)"
      ]
    },
    {
      "cell_type": "markdown",
      "source": [
        "Adding Class weights\n"
      ],
      "metadata": {
        "id": "0CVqV6_OotEt"
      },
      "id": "0CVqV6_OotEt"
    },
    {
      "cell_type": "code",
      "source": [
        "import numpy as np\n",
        "from sklearn.utils.class_weight import compute_class_weight\n",
        "\n",
        "# Compute class weights\n",
        "class_weights = compute_class_weight('balanced', classes=np.unique(y_train), y=y_train)\n",
        "\n",
        "# Convert class weights to a dictionary for passing to fit method\n",
        "class_weights_dict = dict(enumerate(class_weights))\n",
        "print(class_weights_dict)"
      ],
      "metadata": {
        "colab": {
          "base_uri": "https://localhost:8080/"
        },
        "id": "-9xnCB9Notww",
        "outputId": "379a66a2-484c-4c3f-a45f-16f5358147ce"
      },
      "id": "-9xnCB9Notww",
      "execution_count": 29,
      "outputs": [
        {
          "output_type": "stream",
          "name": "stdout",
          "text": [
            "{0: 1.896377808344796, 1: 0.5842117343785864, 2: 1.3141109654871124}\n"
          ]
        }
      ]
    },
    {
      "cell_type": "code",
      "execution_count": 30,
      "id": "9cda6f60-ee9a-4ed6-bb41-b09d592cba0e",
      "metadata": {
        "tags": [],
        "id": "9cda6f60-ee9a-4ed6-bb41-b09d592cba0e",
        "colab": {
          "base_uri": "https://localhost:8080/"
        },
        "outputId": "5a1553ff-9c14-46d0-cdd6-2e45a3798ab0"
      },
      "outputs": [
        {
          "output_type": "stream",
          "name": "stdout",
          "text": [
            "Epoch 1/25\n"
          ]
        },
        {
          "output_type": "stream",
          "name": "stderr",
          "text": [
            "WARNING:tensorflow:Gradients do not exist for variables ['tf_bert_model_1/bert/pooler/dense/kernel:0', 'tf_bert_model_1/bert/pooler/dense/bias:0'] when minimizing the loss. If you're using `model.compile()`, did you forget to provide a `loss` argument?\n",
            "WARNING:tensorflow:Gradients do not exist for variables ['tf_bert_model_1/bert/pooler/dense/kernel:0', 'tf_bert_model_1/bert/pooler/dense/bias:0'] when minimizing the loss. If you're using `model.compile()`, did you forget to provide a `loss` argument?\n",
            "WARNING:tensorflow:Gradients do not exist for variables ['tf_bert_model_1/bert/pooler/dense/kernel:0', 'tf_bert_model_1/bert/pooler/dense/bias:0'] when minimizing the loss. If you're using `model.compile()`, did you forget to provide a `loss` argument?\n",
            "WARNING:tensorflow:Gradients do not exist for variables ['tf_bert_model_1/bert/pooler/dense/kernel:0', 'tf_bert_model_1/bert/pooler/dense/bias:0'] when minimizing the loss. If you're using `model.compile()`, did you forget to provide a `loss` argument?\n"
          ]
        },
        {
          "output_type": "stream",
          "name": "stdout",
          "text": [
            "60/60 [==============================] - 74s 476ms/step - loss: 0.9556 - accuracy: 0.4625 - f1_score: 0.6079 - val_loss: 0.8379 - val_accuracy: 0.6176 - val_f1_score: 0.9341\n",
            "Epoch 2/25\n",
            "60/60 [==============================] - 24s 396ms/step - loss: 0.9098 - accuracy: 0.4667 - f1_score: 0.7946 - val_loss: 0.8924 - val_accuracy: 0.5401 - val_f1_score: 0.7006\n",
            "Epoch 3/25\n",
            "60/60 [==============================] - 22s 374ms/step - loss: 0.8127 - accuracy: 0.5479 - f1_score: 0.8262 - val_loss: 0.9554 - val_accuracy: 0.4795 - val_f1_score: 0.8940\n",
            "Epoch 4/25\n",
            "60/60 [==============================] - 21s 354ms/step - loss: 0.8886 - accuracy: 0.4896 - f1_score: 0.8007 - val_loss: 0.8814 - val_accuracy: 0.5227 - val_f1_score: 0.8138\n",
            "Epoch 5/25\n",
            "60/60 [==============================] - 20s 335ms/step - loss: 0.7900 - accuracy: 0.5656 - f1_score: 0.8389 - val_loss: 0.8424 - val_accuracy: 0.5714 - val_f1_score: 0.9104\n",
            "Epoch 6/25\n",
            "60/60 [==============================] - 20s 340ms/step - loss: 0.8341 - accuracy: 0.5417 - f1_score: 0.8444 - val_loss: 0.8929 - val_accuracy: 0.5401 - val_f1_score: 0.8312\n",
            "Epoch 7/25\n",
            "60/60 [==============================] - 18s 300ms/step - loss: 0.8271 - accuracy: 0.5323 - f1_score: 0.8499 - val_loss: 0.9082 - val_accuracy: 0.4971 - val_f1_score: 0.8027\n",
            "Epoch 8/25\n",
            "60/60 [==============================] - 19s 318ms/step - loss: 0.8810 - accuracy: 0.5146 - f1_score: 0.7940 - val_loss: 0.8624 - val_accuracy: 0.5344 - val_f1_score: 0.8161\n",
            "Epoch 9/25\n",
            "60/60 [==============================] - 17s 290ms/step - loss: 0.8331 - accuracy: 0.5219 - f1_score: 0.8042 - val_loss: 0.8745 - val_accuracy: 0.5589 - val_f1_score: 0.8444\n",
            "Epoch 10/25\n",
            "60/60 [==============================] - 17s 285ms/step - loss: 0.8449 - accuracy: 0.5167 - f1_score: 0.8251 - val_loss: 0.9440 - val_accuracy: 0.5118 - val_f1_score: 0.8536\n",
            "Epoch 11/25\n",
            "60/60 [==============================] - 17s 290ms/step - loss: 0.8579 - accuracy: 0.5177 - f1_score: 0.7938 - val_loss: 0.8877 - val_accuracy: 0.5211 - val_f1_score: 0.8699\n",
            "Epoch 12/25\n",
            "60/60 [==============================] - 17s 289ms/step - loss: 0.8019 - accuracy: 0.5823 - f1_score: 0.8391 - val_loss: 0.8160 - val_accuracy: 0.5945 - val_f1_score: 0.9033\n",
            "Epoch 13/25\n",
            "60/60 [==============================] - 17s 275ms/step - loss: 0.8261 - accuracy: 0.5365 - f1_score: 0.8506 - val_loss: 0.8389 - val_accuracy: 0.5736 - val_f1_score: 0.8268\n",
            "Epoch 14/25\n",
            "60/60 [==============================] - 16s 275ms/step - loss: 0.8137 - accuracy: 0.5542 - f1_score: 0.8314 - val_loss: 0.7782 - val_accuracy: 0.6193 - val_f1_score: 0.9181\n",
            "Epoch 15/25\n",
            "60/60 [==============================] - 16s 271ms/step - loss: 0.8082 - accuracy: 0.5542 - f1_score: 0.8358 - val_loss: 0.8299 - val_accuracy: 0.5774 - val_f1_score: 0.8836\n",
            "Epoch 16/25\n",
            "60/60 [==============================] - 16s 272ms/step - loss: 0.7933 - accuracy: 0.5448 - f1_score: 0.8721 - val_loss: 0.8720 - val_accuracy: 0.5589 - val_f1_score: 0.8306\n",
            "Epoch 17/25\n",
            "60/60 [==============================] - 16s 270ms/step - loss: 0.7839 - accuracy: 0.5677 - f1_score: 0.8606 - val_loss: 0.9118 - val_accuracy: 0.5018 - val_f1_score: 0.8651\n",
            "Epoch 18/25\n",
            "60/60 [==============================] - 16s 269ms/step - loss: 0.7816 - accuracy: 0.5458 - f1_score: 0.8894 - val_loss: 0.8565 - val_accuracy: 0.5456 - val_f1_score: 0.8400\n",
            "Epoch 19/25\n",
            "60/60 [==============================] - 17s 281ms/step - loss: 0.7839 - accuracy: 0.5521 - f1_score: 0.8362 - val_loss: 0.8403 - val_accuracy: 0.5458 - val_f1_score: 0.8700\n",
            "Epoch 20/25\n",
            "60/60 [==============================] - 16s 277ms/step - loss: 0.7980 - accuracy: 0.5323 - f1_score: 0.8423 - val_loss: 0.8720 - val_accuracy: 0.5265 - val_f1_score: 0.8758\n",
            "Epoch 21/25\n",
            "60/60 [==============================] - 17s 279ms/step - loss: 0.7938 - accuracy: 0.5479 - f1_score: 0.8999 - val_loss: 0.7780 - val_accuracy: 0.6152 - val_f1_score: 0.8678\n",
            "Epoch 22/25\n",
            "60/60 [==============================] - 16s 266ms/step - loss: 0.7883 - accuracy: 0.5500 - f1_score: 0.8418 - val_loss: 0.8317 - val_accuracy: 0.5853 - val_f1_score: 0.8465\n",
            "Epoch 23/25\n",
            "60/60 [==============================] - 17s 284ms/step - loss: 0.7913 - accuracy: 0.5479 - f1_score: 0.8579 - val_loss: 0.8522 - val_accuracy: 0.5529 - val_f1_score: 0.8028\n",
            "Epoch 24/25\n",
            "60/60 [==============================] - 16s 277ms/step - loss: 0.7510 - accuracy: 0.5823 - f1_score: 0.8576 - val_loss: 0.8794 - val_accuracy: 0.5466 - val_f1_score: 0.8958\n",
            "Epoch 25/25\n",
            "60/60 [==============================] - 16s 270ms/step - loss: 0.7731 - accuracy: 0.5594 - f1_score: 0.8699 - val_loss: 0.8454 - val_accuracy: 0.5524 - val_f1_score: 0.8567\n"
          ]
        }
      ],
      "source": [
        "train_history = model.fit(\n",
        "    train_dataset,\n",
        "    steps_per_epoch=60,\n",
        "    validation_data=valid_dataset,\n",
        "    epochs=25,\n",
        "    batch_size = 4048,\n",
        "    class_weight=class_weights_dict\n",
        ")"
      ]
    },
    {
      "cell_type": "markdown",
      "source": [
        "Saving BERT model"
      ],
      "metadata": {
        "id": "h2NpJQAlAuFq"
      },
      "id": "h2NpJQAlAuFq"
    },
    {
      "cell_type": "code",
      "source": [
        "# model.save('/content/drive/MyDrive/fourthbrain/Effective_Writing_Feedback/data/bert_0505.h5')"
      ],
      "metadata": {
        "id": "YOyiO5ivAtTk"
      },
      "id": "YOyiO5ivAtTk",
      "execution_count": 31,
      "outputs": []
    },
    {
      "cell_type": "code",
      "execution_count": 32,
      "id": "2fd64ab0-eec8-4a76-8f97-1b3d7a946d57",
      "metadata": {
        "tags": [],
        "id": "2fd64ab0-eec8-4a76-8f97-1b3d7a946d57",
        "colab": {
          "base_uri": "https://localhost:8080/"
        },
        "outputId": "1a45d496-2483-420d-8383-eb09289ad3ca"
      },
      "outputs": [
        {
          "output_type": "stream",
          "name": "stdout",
          "text": [
            "115/115 [==============================] - 11s 71ms/step\n",
            "Validation Log Loss 0.85\n"
          ]
        }
      ],
      "source": [
        "y_valid_pred = model.predict(X_valid, verbose=1)\n",
        "print(f\"Validation Log Loss {log_loss(y_valid, y_valid_pred):.2f}\")"
      ]
    },
    {
      "cell_type": "code",
      "execution_count": 33,
      "id": "a00734a1-6657-48ac-b938-b70d8bef7bc4",
      "metadata": {
        "tags": [],
        "id": "a00734a1-6657-48ac-b938-b70d8bef7bc4",
        "colab": {
          "base_uri": "https://localhost:8080/"
        },
        "outputId": "d97a41a4-1076-48ed-87dc-a96243bcdfd1"
      },
      "outputs": [
        {
          "output_type": "execute_result",
          "data": {
            "text/plain": [
              "array([5.42721990e-03, 1.16126845e-02, 7.76579797e-01, ...,\n",
              "       6.79806948e-01, 3.30080152e-01, 2.48581346e-04], dtype=float32)"
            ]
          },
          "metadata": {},
          "execution_count": 33
        }
      ],
      "source": [
        "y_valid_pred[:,0]"
      ]
    },
    {
      "cell_type": "code",
      "source": [
        "y_valid"
      ],
      "metadata": {
        "colab": {
          "base_uri": "https://localhost:8080/"
        },
        "id": "ymQPx0qmsjCr",
        "outputId": "3a7f0253-2eb4-4a9b-9c69-d8f431afb40e"
      },
      "id": "ymQPx0qmsjCr",
      "execution_count": 34,
      "outputs": [
        {
          "output_type": "execute_result",
          "data": {
            "text/plain": [
              "array([2, 1, 1, ..., 0, 0, 1])"
            ]
          },
          "metadata": {},
          "execution_count": 34
        }
      ]
    },
    {
      "cell_type": "code",
      "execution_count": 35,
      "id": "d9c7442c-79a8-4e74-80a4-619a124883e1",
      "metadata": {
        "tags": [],
        "id": "d9c7442c-79a8-4e74-80a4-619a124883e1",
        "colab": {
          "base_uri": "https://localhost:8080/"
        },
        "outputId": "c73298ec-cd06-4696-da19-ba42fa054917"
      },
      "outputs": [
        {
          "output_type": "stream",
          "name": "stdout",
          "text": [
            "115/115 [==============================] - 8s 71ms/step - loss: 0.8454 - accuracy: 0.5524 - f1_score: 0.8594\n"
          ]
        }
      ],
      "source": [
        "result = model.evaluate(X_valid, y_valid, verbose=1)"
      ]
    },
    {
      "cell_type": "code",
      "execution_count": 36,
      "id": "c7842979-3db6-460b-a348-77b7a5c5414e",
      "metadata": {
        "tags": [],
        "id": "c7842979-3db6-460b-a348-77b7a5c5414e",
        "colab": {
          "base_uri": "https://localhost:8080/",
          "height": 206
        },
        "outputId": "a05aa173-d676-4c16-9c8c-7984172e9b7b"
      },
      "outputs": [
        {
          "output_type": "execute_result",
          "data": {
            "text/plain": [
              "   true_label                          predicted_prob  predicted_label  \\\n",
              "0           2     [0.00542722, 0.08054294, 0.9140299]                2   \n",
              "1           1  [0.0116126845, 0.13078181, 0.85760546]                2   \n",
              "2           1    [0.7765798, 0.20971361, 0.013706631]                0   \n",
              "3           1    [0.24054852, 0.6743968, 0.085054696]                1   \n",
              "4           1     [0.15997845, 0.41852674, 0.4214948]                2   \n",
              "\n",
              "  true_label_class predicted_label_class  \n",
              "0        Effective             Effective  \n",
              "1         Adequate             Effective  \n",
              "2         Adequate           Ineffective  \n",
              "3         Adequate              Adequate  \n",
              "4         Adequate             Effective  "
            ],
            "text/html": [
              "\n",
              "  <div id=\"df-ce010f9a-00b3-41ab-9fec-1920a3907278\">\n",
              "    <div class=\"colab-df-container\">\n",
              "      <div>\n",
              "<style scoped>\n",
              "    .dataframe tbody tr th:only-of-type {\n",
              "        vertical-align: middle;\n",
              "    }\n",
              "\n",
              "    .dataframe tbody tr th {\n",
              "        vertical-align: top;\n",
              "    }\n",
              "\n",
              "    .dataframe thead th {\n",
              "        text-align: right;\n",
              "    }\n",
              "</style>\n",
              "<table border=\"1\" class=\"dataframe\">\n",
              "  <thead>\n",
              "    <tr style=\"text-align: right;\">\n",
              "      <th></th>\n",
              "      <th>true_label</th>\n",
              "      <th>predicted_prob</th>\n",
              "      <th>predicted_label</th>\n",
              "      <th>true_label_class</th>\n",
              "      <th>predicted_label_class</th>\n",
              "    </tr>\n",
              "  </thead>\n",
              "  <tbody>\n",
              "    <tr>\n",
              "      <th>0</th>\n",
              "      <td>2</td>\n",
              "      <td>[0.00542722, 0.08054294, 0.9140299]</td>\n",
              "      <td>2</td>\n",
              "      <td>Effective</td>\n",
              "      <td>Effective</td>\n",
              "    </tr>\n",
              "    <tr>\n",
              "      <th>1</th>\n",
              "      <td>1</td>\n",
              "      <td>[0.0116126845, 0.13078181, 0.85760546]</td>\n",
              "      <td>2</td>\n",
              "      <td>Adequate</td>\n",
              "      <td>Effective</td>\n",
              "    </tr>\n",
              "    <tr>\n",
              "      <th>2</th>\n",
              "      <td>1</td>\n",
              "      <td>[0.7765798, 0.20971361, 0.013706631]</td>\n",
              "      <td>0</td>\n",
              "      <td>Adequate</td>\n",
              "      <td>Ineffective</td>\n",
              "    </tr>\n",
              "    <tr>\n",
              "      <th>3</th>\n",
              "      <td>1</td>\n",
              "      <td>[0.24054852, 0.6743968, 0.085054696]</td>\n",
              "      <td>1</td>\n",
              "      <td>Adequate</td>\n",
              "      <td>Adequate</td>\n",
              "    </tr>\n",
              "    <tr>\n",
              "      <th>4</th>\n",
              "      <td>1</td>\n",
              "      <td>[0.15997845, 0.41852674, 0.4214948]</td>\n",
              "      <td>2</td>\n",
              "      <td>Adequate</td>\n",
              "      <td>Effective</td>\n",
              "    </tr>\n",
              "  </tbody>\n",
              "</table>\n",
              "</div>\n",
              "      <button class=\"colab-df-convert\" onclick=\"convertToInteractive('df-ce010f9a-00b3-41ab-9fec-1920a3907278')\"\n",
              "              title=\"Convert this dataframe to an interactive table.\"\n",
              "              style=\"display:none;\">\n",
              "        \n",
              "  <svg xmlns=\"http://www.w3.org/2000/svg\" height=\"24px\"viewBox=\"0 0 24 24\"\n",
              "       width=\"24px\">\n",
              "    <path d=\"M0 0h24v24H0V0z\" fill=\"none\"/>\n",
              "    <path d=\"M18.56 5.44l.94 2.06.94-2.06 2.06-.94-2.06-.94-.94-2.06-.94 2.06-2.06.94zm-11 1L8.5 8.5l.94-2.06 2.06-.94-2.06-.94L8.5 2.5l-.94 2.06-2.06.94zm10 10l.94 2.06.94-2.06 2.06-.94-2.06-.94-.94-2.06-.94 2.06-2.06.94z\"/><path d=\"M17.41 7.96l-1.37-1.37c-.4-.4-.92-.59-1.43-.59-.52 0-1.04.2-1.43.59L10.3 9.45l-7.72 7.72c-.78.78-.78 2.05 0 2.83L4 21.41c.39.39.9.59 1.41.59.51 0 1.02-.2 1.41-.59l7.78-7.78 2.81-2.81c.8-.78.8-2.07 0-2.86zM5.41 20L4 18.59l7.72-7.72 1.47 1.35L5.41 20z\"/>\n",
              "  </svg>\n",
              "      </button>\n",
              "      \n",
              "  <style>\n",
              "    .colab-df-container {\n",
              "      display:flex;\n",
              "      flex-wrap:wrap;\n",
              "      gap: 12px;\n",
              "    }\n",
              "\n",
              "    .colab-df-convert {\n",
              "      background-color: #E8F0FE;\n",
              "      border: none;\n",
              "      border-radius: 50%;\n",
              "      cursor: pointer;\n",
              "      display: none;\n",
              "      fill: #1967D2;\n",
              "      height: 32px;\n",
              "      padding: 0 0 0 0;\n",
              "      width: 32px;\n",
              "    }\n",
              "\n",
              "    .colab-df-convert:hover {\n",
              "      background-color: #E2EBFA;\n",
              "      box-shadow: 0px 1px 2px rgba(60, 64, 67, 0.3), 0px 1px 3px 1px rgba(60, 64, 67, 0.15);\n",
              "      fill: #174EA6;\n",
              "    }\n",
              "\n",
              "    [theme=dark] .colab-df-convert {\n",
              "      background-color: #3B4455;\n",
              "      fill: #D2E3FC;\n",
              "    }\n",
              "\n",
              "    [theme=dark] .colab-df-convert:hover {\n",
              "      background-color: #434B5C;\n",
              "      box-shadow: 0px 1px 3px 1px rgba(0, 0, 0, 0.15);\n",
              "      filter: drop-shadow(0px 1px 2px rgba(0, 0, 0, 0.3));\n",
              "      fill: #FFFFFF;\n",
              "    }\n",
              "  </style>\n",
              "\n",
              "      <script>\n",
              "        const buttonEl =\n",
              "          document.querySelector('#df-ce010f9a-00b3-41ab-9fec-1920a3907278 button.colab-df-convert');\n",
              "        buttonEl.style.display =\n",
              "          google.colab.kernel.accessAllowed ? 'block' : 'none';\n",
              "\n",
              "        async function convertToInteractive(key) {\n",
              "          const element = document.querySelector('#df-ce010f9a-00b3-41ab-9fec-1920a3907278');\n",
              "          const dataTable =\n",
              "            await google.colab.kernel.invokeFunction('convertToInteractive',\n",
              "                                                     [key], {});\n",
              "          if (!dataTable) return;\n",
              "\n",
              "          const docLinkHtml = 'Like what you see? Visit the ' +\n",
              "            '<a target=\"_blank\" href=https://colab.research.google.com/notebooks/data_table.ipynb>data table notebook</a>'\n",
              "            + ' to learn more about interactive tables.';\n",
              "          element.innerHTML = '';\n",
              "          dataTable['output_type'] = 'display_data';\n",
              "          await google.colab.output.renderOutput(dataTable, element);\n",
              "          const docLink = document.createElement('div');\n",
              "          docLink.innerHTML = docLinkHtml;\n",
              "          element.appendChild(docLink);\n",
              "        }\n",
              "      </script>\n",
              "    </div>\n",
              "  </div>\n",
              "  "
            ]
          },
          "metadata": {},
          "execution_count": 36
        }
      ],
      "source": [
        "output_df = pd.DataFrame(zip(y_valid, y_valid_pred, y_valid_pred.argmax(1)), columns=[\"true_label\", \"predicted_prob\",\"predicted_label\"])\n",
        "bin_map = {0:\"Ineffective\", 1:\"Adequate\", 2:\"Effective\"}\n",
        "output_df[\"true_label_class\"] = output_df[\"true_label\"].map(bin_map)\n",
        "output_df[\"predicted_label_class\"] = output_df[\"predicted_label\"].map(bin_map)\n",
        "output_df.head()"
      ]
    },
    {
      "cell_type": "code",
      "execution_count": 37,
      "id": "f78e2e8c-dfa0-419e-a218-87f4432ab62c",
      "metadata": {
        "tags": [],
        "id": "f78e2e8c-dfa0-419e-a218-87f4432ab62c",
        "colab": {
          "base_uri": "https://localhost:8080/"
        },
        "outputId": "3401f48a-3690-46f3-eade-391b2f9c9b34"
      },
      "outputs": [
        {
          "output_type": "execute_result",
          "data": {
            "text/plain": [
              "true_label_class  predicted_label_class\n",
              "Adequate          Adequate                 804\n",
              "                  Effective                559\n",
              "                  Ineffective              735\n",
              "Effective         Adequate                 125\n",
              "                  Effective                766\n",
              "                  Ineffective               42\n",
              "Ineffective       Adequate                 120\n",
              "                  Effective                 65\n",
              "                  Ineffective              461\n",
              "Name: true_label, dtype: int64"
            ]
          },
          "metadata": {},
          "execution_count": 37
        }
      ],
      "source": [
        "output_df.groupby(['true_label_class','predicted_label_class'])['true_label'].count()"
      ]
    },
    {
      "cell_type": "code",
      "execution_count": 38,
      "id": "947d8201-7bff-4d0c-8fa6-cfe6767b0fd1",
      "metadata": {
        "tags": [],
        "id": "947d8201-7bff-4d0c-8fa6-cfe6767b0fd1"
      },
      "outputs": [],
      "source": [
        "classes = output_df.true_label.unique()\n",
        "labels = output_df.true_label_class.unique()"
      ]
    },
    {
      "cell_type": "code",
      "execution_count": 39,
      "id": "7d1d0083-2529-48f1-af5b-cc562cf426a1",
      "metadata": {
        "tags": [],
        "id": "7d1d0083-2529-48f1-af5b-cc562cf426a1"
      },
      "outputs": [],
      "source": [
        "valid_predicted = np.zeros_like(y_valid_pred)\n",
        "valid_predicted[np.arange(len(y_valid_pred)), y_valid_pred.argmax(1)] = 1"
      ]
    },
    {
      "cell_type": "markdown",
      "source": [
        "**Unable to identify Effective and Ineffective labels**"
      ],
      "metadata": {
        "id": "y1BKWFA0cBlG"
      },
      "id": "y1BKWFA0cBlG"
    },
    {
      "cell_type": "code",
      "execution_count": 40,
      "id": "640e02fc-4bc1-457c-98b5-d8b9b21a1425",
      "metadata": {
        "tags": [],
        "id": "640e02fc-4bc1-457c-98b5-d8b9b21a1425",
        "colab": {
          "base_uri": "https://localhost:8080/",
          "height": 471
        },
        "outputId": "804c08a9-3006-49de-bbb3-19d5c9f812a7"
      },
      "outputs": [
        {
          "output_type": "execute_result",
          "data": {
            "text/plain": [
              "<sklearn.metrics._plot.confusion_matrix.ConfusionMatrixDisplay at 0x7f4959abb5b0>"
            ]
          },
          "metadata": {},
          "execution_count": 40
        },
        {
          "output_type": "display_data",
          "data": {
            "text/plain": [
              "<Figure size 640x480 with 2 Axes>"
            ],
            "image/png": "[encoded data removed]"
          },
          "metadata": {}
        }
      ],
      "source": [
        "ConfusionMatrixDisplay.from_predictions(y_valid, valid_predicted.argmax(axis =1), display_labels=labels, cmap=plt.cm.Blues)"
      ]
    },
    {
      "cell_type": "code",
      "source": [
        "#Get the confusion matrix\n",
        "cf_matrix = confusion_matrix(y_valid, valid_predicted.argmax(axis =1))\n",
        "print(cf_matrix)\n",
        "\n",
        "plt.title(\"Confusion Matrix - BERT \", fontsize =15)\n",
        "ax = sns.heatmap(cf_matrix/np.sum(cf_matrix), annot=True, fmt='.1%', cmap='Blues', xticklabels=labels, yticklabels=labels)\n",
        "figure = ax.get_figure()    \n",
        "figure.savefig('/content/drive/MyDrive/fourthbrain/Effective_Writing_Feedback/bert_cm.png')"
      ],
      "metadata": {
        "colab": {
          "base_uri": "https://localhost:8080/",
          "height": 508
        },
        "id": "RTZpj7Y_w9FD",
        "outputId": "04502814-07d8-4c84-abb7-b10522b53b0e"
      },
      "id": "RTZpj7Y_w9FD",
      "execution_count": 41,
      "outputs": [
        {
          "output_type": "stream",
          "name": "stdout",
          "text": [
            "[[461 120  65]\n",
            " [735 804 559]\n",
            " [ 42 125 766]]\n"
          ]
        },
        {
          "output_type": "display_data",
          "data": {
            "text/plain": [
              "<Figure size 640x480 with 2 Axes>"
            ],
            "image/png": "[encoded data removed]"
          },
          "metadata": {}
        }
      ]
    },
    {
      "cell_type": "code",
      "execution_count": 42,
      "id": "e7bb0a37-923b-445b-99ce-f99121d80b39",
      "metadata": {
        "tags": [],
        "id": "e7bb0a37-923b-445b-99ce-f99121d80b39",
        "colab": {
          "base_uri": "https://localhost:8080/"
        },
        "outputId": "5edc9314-f9ee-479f-aa7e-813775166d4e"
      },
      "outputs": [
        {
          "output_type": "stream",
          "name": "stdout",
          "text": [
            "              precision    recall  f1-score   support\n",
            "\n",
            "   Effective       0.37      0.71      0.49       646\n",
            "    Adequate       0.77      0.38      0.51      2098\n",
            " Ineffective       0.55      0.82      0.66       933\n",
            "\n",
            "    accuracy                           0.55      3677\n",
            "   macro avg       0.56      0.64      0.55      3677\n",
            "weighted avg       0.64      0.55      0.54      3677\n",
            "\n"
          ]
        }
      ],
      "source": [
        "print(classification_report(output_df['true_label'], output_df['predicted_label'], target_names = labels))"
      ]
    },
    {
      "cell_type": "code",
      "source": [
        "from sklearn.metrics import roc_auc_score\n",
        "# Extract predicted probabilities and true labels from the DataFrame\n",
        "predicted_probs = np.array(output_df[\"predicted_prob\"].tolist())\n",
        "true_labels = np.array(output_df[\"true_label\"].tolist())\n",
        "num_classes = 3\n",
        "# Compute AUC-ROC score for each class\n",
        "auc_roc_scores = []\n",
        "for i in range(num_classes):\n",
        "    auc_roc_scores.append(roc_auc_score((true_labels == i).astype(int), predicted_probs[:, i]))\n",
        "\n",
        "# Compute mean AUC-ROC score across all classes\n",
        "mean_auc_roc_score = np.mean(auc_roc_scores)"
      ],
      "metadata": {
        "id": "33S67trdrt5P"
      },
      "id": "33S67trdrt5P",
      "execution_count": 43,
      "outputs": []
    },
    {
      "cell_type": "code",
      "source": [
        "mean_auc_roc_score\n"
      ],
      "metadata": {
        "id": "DtmpsmaqtfDo",
        "outputId": "cb44d36b-9e3e-4922-83f7-06bcf9e790c7",
        "colab": {
          "base_uri": "https://localhost:8080/"
        }
      },
      "id": "DtmpsmaqtfDo",
      "execution_count": 44,
      "outputs": [
        {
          "output_type": "execute_result",
          "data": {
            "text/plain": [
              "0.8116594193591721"
            ]
          },
          "metadata": {},
          "execution_count": 44
        }
      ]
    },
    {
      "cell_type": "code",
      "source": [
        "from sklearn.metrics import roc_curve, auc\n",
        "fpr = {}\n",
        "tpr = {}\n",
        "roc_auc = {}\n",
        "for i in range(3):\n",
        "    fpr[i], tpr[i], _ = roc_curve(true_labels == i, predicted_probs[:, i])\n",
        "    roc_auc[i] = auc(fpr[i], tpr[i])\n",
        "\n",
        "plt.figure()\n",
        "colors = ['blue', 'red', 'green']\n",
        "for i, color in zip(range(3), colors):\n",
        "    plt.plot(fpr[i], tpr[i], color=color, lw=2, label='Class {0} (AUC = {1:0.2f})'.format(i, roc_auc[i]))\n",
        "plt.plot([0, 1], [0, 1], 'k--', lw=2)\n",
        "plt.xlim([0.0, 1.0])\n",
        "plt.ylim([0.0, 1.05])\n",
        "plt.xlabel('False Positive Rate')\n",
        "plt.ylabel('True Positive Rate')\n",
        "plt.title('BERT AUC-ROC')\n",
        "plt.legend(loc=\"lower right\")\n",
        "\n",
        "# plt.savefig('/content/drive/MyDrive/fourthbrain/Effective_Writing_Feedback/bert_auc_roc_curve.png',bbox_inches='tight')"
      ],
      "metadata": {
        "colab": {
          "base_uri": "https://localhost:8080/",
          "height": 472
        },
        "id": "C-VndGqrNIGH",
        "outputId": "c756d36a-2973-4cdd-c775-a72169e80820"
      },
      "id": "C-VndGqrNIGH",
      "execution_count": 48,
      "outputs": [
        {
          "output_type": "display_data",
          "data": {
            "text/plain": [
              "<Figure size 640x480 with 1 Axes>"
            ],
            "image/png": "[encoded data removed]"
          },
          "metadata": {}
        }
      ]
    },
    {
      "cell_type": "markdown",
      "source": [
        "Fine Tuning Model"
      ],
      "metadata": {
        "id": "8q06FTA8m1_1"
      },
      "id": "8q06FTA8m1_1"
    },
    {
      "cell_type": "code",
      "execution_count": null,
      "id": "37e8211e-17c5-41c5-b1dc-059feed23f0f",
      "metadata": {
        "id": "37e8211e-17c5-41c5-b1dc-059feed23f0f"
      },
      "outputs": [],
      "source": []
    },
    {
      "cell_type": "code",
      "source": [
        "# import tensorflow as tf\n",
        "# from transformers import TFBertModel\n",
        "\n",
        "# MAX_LEN = 256\n",
        "# NUM_CLASSES = 3\n",
        "# # BATCH_SIZE = 32\n",
        "# # NUM_EPOCHS = 5\n",
        "\n",
        "# def build_model_bert_v2(bert_model, max_len=MAX_LEN, num_classes=NUM_CLASSES):    \n",
        "#     input_ids = tf.keras.Input(shape=(max_len,), dtype=tf.int32, name=\"input_ids\")\n",
        "#     token_type_ids = tf.keras.Input(shape=(max_len,), dtype=tf.int32, name=\"token_type_ids\")\n",
        "#     attention_mask = tf.keras.Input(shape=(max_len,), dtype=tf.int32, name=\"attention_mask\")\n",
        "\n",
        "#     sequence_output = bert_model(input_ids, token_type_ids=token_type_ids, attention_mask=attention_mask)[0]\n",
        " \n",
        "#     # Use max pooling instead of [CLS] token\n",
        "#     pooled_output = tf.keras.layers.GlobalMaxPooling1D()(sequence_output)\n",
        "    \n",
        "#     # Add dense layer with L2 regularization\n",
        "#     dense_layer = tf.keras.layers.Dense(256, activation='relu', kernel_regularizer=tf.keras.regularizers.l2(0.01))(pooled_output)\n",
        "#     dense_layer = tf.keras.layers.Dropout(.1)(dense_layer)\n",
        "    \n",
        "#     # Add output layer\n",
        "#     out = tf.keras.layers.Dense(num_classes, activation='softmax')(dense_layer)\n",
        "    \n",
        "#     model = tf.keras.Model(inputs=[input_ids, token_type_ids, attention_mask], outputs=out)\n",
        "    \n",
        "#     # Use learning rate scheduler\n",
        "#     lr_scheduler = tf.keras.callbacks.LearningRateScheduler(lambda epoch: 2e-5 * (0.1 ** (epoch // 2)))\n",
        "    \n",
        "#     model.compile(tf.keras.optimizers.Adam(lr=2e-5), \n",
        "#                   loss='sparse_categorical_crossentropy', \n",
        "#                   metrics=['accuracy', f1_score])\n",
        "    \n",
        "#     return model\n",
        "\n",
        "# bert_v2 = TFBertModel.from_pretrained('bert-base-cased')\n",
        "# model_v2 = build_model_bert_v2(bert_v2)\n",
        "\n",
        "# # Print model summary\n",
        "# model_v2.summary()\n"
      ],
      "metadata": {
        "id": "UBHrJ-VOmk89"
      },
      "execution_count": null,
      "outputs": [],
      "id": "UBHrJ-VOmk89"
    },
    {
      "cell_type": "code",
      "execution_count": null,
      "id": "217d6649-1b09-4398-8033-8a8cf8fa75ad",
      "metadata": {
        "id": "217d6649-1b09-4398-8033-8a8cf8fa75ad"
      },
      "outputs": [],
      "source": [
        "# train_history = model_v2.fit(\n",
        "#     train_dataset,\n",
        "#     steps_per_epoch=60,\n",
        "#     validation_data=valid_dataset,\n",
        "#     epochs=25,\n",
        "#     batch_size = 4048,\n",
        "#     class_weight=class_weights_dict\n",
        "# )"
      ]
    },
    {
      "cell_type": "code",
      "source": [],
      "metadata": {
        "id": "ApQaVObbuiKi"
      },
      "id": "ApQaVObbuiKi",
      "execution_count": null,
      "outputs": []
    }
  ],
  "metadata": {
    "kernelspec": {
      "display_name": "Python 3",
      "name": "python3"
    },
    "language_info": {
      "name": "python"
    },
    "colab": {
      "provenance": [],
      "machine_shape": "hm",
      "gpuType": "A100"
    },
    "accelerator": "GPU",
    "gpuClass": "standard",
    "widgets": {
      "application/vnd.jupyter.widget-state+json": {
        "40b9888877b94acb962c3acc7b9d512b": {
          "model_module": "@jupyter-widgets/controls",
          "model_name": "HBoxModel",
          "model_module_version": "1.5.0",
          "state": {
            "_dom_classes": [],
            "_model_module": "@jupyter-widgets/controls",
            "_model_module_version": "1.5.0",
            "_model_name": "HBoxModel",
            "_view_count": null,
            "_view_module": "@jupyter-widgets/controls",
            "_view_module_version": "1.5.0",
            "_view_name": "HBoxView",
            "box_style": "",
            "children": [
              "IPY_MODEL_641a415d42c64233a9fec0e63dfb5f59",
              "IPY_MODEL_d7acf743b8164407965d49afbe02cccf",
              "IPY_MODEL_17e7b1a74b534efc950c52bd51b9efe7"
            ],
            "layout": "IPY_MODEL_5047c4f6a0374f95a0aaa5b1d96b2ea3"
          }
        },
        "641a415d42c64233a9fec0e63dfb5f59": {
          "model_module": "@jupyter-widgets/controls",
          "model_name": "HTMLModel",
          "model_module_version": "1.5.0",
          "state": {
            "_dom_classes": [],
            "_model_module": "@jupyter-widgets/controls",
            "_model_module_version": "1.5.0",
            "_model_name": "HTMLModel",
            "_view_count": null,
            "_view_module": "@jupyter-widgets/controls",
            "_view_module_version": "1.5.0",
            "_view_name": "HTMLView",
            "description": "",
            "description_tooltip": null,
            "layout": "IPY_MODEL_9f443b491e5a4aa89f78d2bd63cee8e4",
            "placeholder": "​",
            "style": "IPY_MODEL_3f82ebc35bef4089ae76d74a69538d67",
            "value": "Downloading (…)solve/main/vocab.txt: 100%"
          }
        },
        "d7acf743b8164407965d49afbe02cccf": {
          "model_module": "@jupyter-widgets/controls",
          "model_name": "FloatProgressModel",
          "model_module_version": "1.5.0",
          "state": {
            "_dom_classes": [],
            "_model_module": "@jupyter-widgets/controls",
            "_model_module_version": "1.5.0",
            "_model_name": "FloatProgressModel",
            "_view_count": null,
            "_view_module": "@jupyter-widgets/controls",
            "_view_module_version": "1.5.0",
            "_view_name": "ProgressView",
            "bar_style": "success",
            "description": "",
            "description_tooltip": null,
            "layout": "IPY_MODEL_8d178d5ffef64710be4a99d73c23f68e",
            "max": 231508,
            "min": 0,
            "orientation": "horizontal",
            "style": "IPY_MODEL_d2190613b40b4744bbd873da5106d19e",
            "value": 231508
          }
        },
        "17e7b1a74b534efc950c52bd51b9efe7": {
          "model_module": "@jupyter-widgets/controls",
          "model_name": "HTMLModel",
          "model_module_version": "1.5.0",
          "state": {
            "_dom_classes": [],
            "_model_module": "@jupyter-widgets/controls",
            "_model_module_version": "1.5.0",
            "_model_name": "HTMLModel",
            "_view_count": null,
            "_view_module": "@jupyter-widgets/controls",
            "_view_module_version": "1.5.0",
            "_view_name": "HTMLView",
            "description": "",
            "description_tooltip": null,
            "layout": "IPY_MODEL_34af6ef7a52f461bb31bd311618b36ff",
            "placeholder": "​",
            "style": "IPY_MODEL_3b617c6b37ec4ae5ae453849081538b3",
            "value": " 232k/232k [00:00&lt;00:00, 5.09MB/s]"
          }
        },
        "5047c4f6a0374f95a0aaa5b1d96b2ea3": {
          "model_module": "@jupyter-widgets/base",
          "model_name": "LayoutModel",
          "model_module_version": "1.2.0",
          "state": {
            "_model_module": "@jupyter-widgets/base",
            "_model_module_version": "1.2.0",
            "_model_name": "LayoutModel",
            "_view_count": null,
            "_view_module": "@jupyter-widgets/base",
            "_view_module_version": "1.2.0",
            "_view_name": "LayoutView",
            "align_content": null,
            "align_items": null,
            "align_self": null,
            "border": null,
            "bottom": null,
            "display": null,
            "flex": null,
            "flex_flow": null,
            "grid_area": null,
            "grid_auto_columns": null,
            "grid_auto_flow": null,
            "grid_auto_rows": null,
            "grid_column": null,
            "grid_gap": null,
            "grid_row": null,
            "grid_template_areas": null,
            "grid_template_columns": null,
            "grid_template_rows": null,
            "height": null,
            "justify_content": null,
            "justify_items": null,
            "left": null,
            "margin": null,
            "max_height": null,
            "max_width": null,
            "min_height": null,
            "min_width": null,
            "object_fit": null,
            "object_position": null,
            "order": null,
            "overflow": null,
            "overflow_x": null,
            "overflow_y": null,
            "padding": null,
            "right": null,
            "top": null,
            "visibility": null,
            "width": null
          }
        },
        "9f443b491e5a4aa89f78d2bd63cee8e4": {
          "model_module": "@jupyter-widgets/base",
          "model_name": "LayoutModel",
          "model_module_version": "1.2.0",
          "state": {
            "_model_module": "@jupyter-widgets/base",
            "_model_module_version": "1.2.0",
            "_model_name": "LayoutModel",
            "_view_count": null,
            "_view_module": "@jupyter-widgets/base",
            "_view_module_version": "1.2.0",
            "_view_name": "LayoutView",
            "align_content": null,
            "align_items": null,
            "align_self": null,
            "border": null,
            "bottom": null,
            "display": null,
            "flex": null,
            "flex_flow": null,
            "grid_area": null,
            "grid_auto_columns": null,
            "grid_auto_flow": null,
            "grid_auto_rows": null,
            "grid_column": null,
            "grid_gap": null,
            "grid_row": null,
            "grid_template_areas": null,
            "grid_template_columns": null,
            "grid_template_rows": null,
            "height": null,
            "justify_content": null,
            "justify_items": null,
            "left": null,
            "margin": null,
            "max_height": null,
            "max_width": null,
            "min_height": null,
            "min_width": null,
            "object_fit": null,
            "object_position": null,
            "order": null,
            "overflow": null,
            "overflow_x": null,
            "overflow_y": null,
            "padding": null,
            "right": null,
            "top": null,
            "visibility": null,
            "width": null
          }
        },
        "3f82ebc35bef4089ae76d74a69538d67": {
          "model_module": "@jupyter-widgets/controls",
          "model_name": "DescriptionStyleModel",
          "model_module_version": "1.5.0",
          "state": {
            "_model_module": "@jupyter-widgets/controls",
            "_model_module_version": "1.5.0",
            "_model_name": "DescriptionStyleModel",
            "_view_count": null,
            "_view_module": "@jupyter-widgets/base",
            "_view_module_version": "1.2.0",
            "_view_name": "StyleView",
            "description_width": ""
          }
        },
        "8d178d5ffef64710be4a99d73c23f68e": {
          "model_module": "@jupyter-widgets/base",
          "model_name": "LayoutModel",
          "model_module_version": "1.2.0",
          "state": {
            "_model_module": "@jupyter-widgets/base",
            "_model_module_version": "1.2.0",
            "_model_name": "LayoutModel",
            "_view_count": null,
            "_view_module": "@jupyter-widgets/base",
            "_view_module_version": "1.2.0",
            "_view_name": "LayoutView",
            "align_content": null,
            "align_items": null,
            "align_self": null,
            "border": null,
            "bottom": null,
            "display": null,
            "flex": null,
            "flex_flow": null,
            "grid_area": null,
            "grid_auto_columns": null,
            "grid_auto_flow": null,
            "grid_auto_rows": null,
            "grid_column": null,
            "grid_gap": null,
            "grid_row": null,
            "grid_template_areas": null,
            "grid_template_columns": null,
            "grid_template_rows": null,
            "height": null,
            "justify_content": null,
            "justify_items": null,
            "left": null,
            "margin": null,
            "max_height": null,
            "max_width": null,
            "min_height": null,
            "min_width": null,
            "object_fit": null,
            "object_position": null,
            "order": null,
            "overflow": null,
            "overflow_x": null,
            "overflow_y": null,
            "padding": null,
            "right": null,
            "top": null,
            "visibility": null,
            "width": null
          }
        },
        "d2190613b40b4744bbd873da5106d19e": {
          "model_module": "@jupyter-widgets/controls",
          "model_name": "ProgressStyleModel",
          "model_module_version": "1.5.0",
          "state": {
            "_model_module": "@jupyter-widgets/controls",
            "_model_module_version": "1.5.0",
            "_model_name": "ProgressStyleModel",
            "_view_count": null,
            "_view_module": "@jupyter-widgets/base",
            "_view_module_version": "1.2.0",
            "_view_name": "StyleView",
            "bar_color": null,
            "description_width": ""
          }
        },
        "34af6ef7a52f461bb31bd311618b36ff": {
          "model_module": "@jupyter-widgets/base",
          "model_name": "LayoutModel",
          "model_module_version": "1.2.0",
          "state": {
            "_model_module": "@jupyter-widgets/base",
            "_model_module_version": "1.2.0",
            "_model_name": "LayoutModel",
            "_view_count": null,
            "_view_module": "@jupyter-widgets/base",
            "_view_module_version": "1.2.0",
            "_view_name": "LayoutView",
            "align_content": null,
            "align_items": null,
            "align_self": null,
            "border": null,
            "bottom": null,
            "display": null,
            "flex": null,
            "flex_flow": null,
            "grid_area": null,
            "grid_auto_columns": null,
            "grid_auto_flow": null,
            "grid_auto_rows": null,
            "grid_column": null,
            "grid_gap": null,
            "grid_row": null,
            "grid_template_areas": null,
            "grid_template_columns": null,
            "grid_template_rows": null,
            "height": null,
            "justify_content": null,
            "justify_items": null,
            "left": null,
            "margin": null,
            "max_height": null,
            "max_width": null,
            "min_height": null,
            "min_width": null,
            "object_fit": null,
            "object_position": null,
            "order": null,
            "overflow": null,
            "overflow_x": null,
            "overflow_y": null,
            "padding": null,
            "right": null,
            "top": null,
            "visibility": null,
            "width": null
          }
        },
        "3b617c6b37ec4ae5ae453849081538b3": {
          "model_module": "@jupyter-widgets/controls",
          "model_name": "DescriptionStyleModel",
          "model_module_version": "1.5.0",
          "state": {
            "_model_module": "@jupyter-widgets/controls",
            "_model_module_version": "1.5.0",
            "_model_name": "DescriptionStyleModel",
            "_view_count": null,
            "_view_module": "@jupyter-widgets/base",
            "_view_module_version": "1.2.0",
            "_view_name": "StyleView",
            "description_width": ""
          }
        },
        "24729199e3f14607a3cbe3eb4b16b405": {
          "model_module": "@jupyter-widgets/controls",
          "model_name": "HBoxModel",
          "model_module_version": "1.5.0",
          "state": {
            "_dom_classes": [],
            "_model_module": "@jupyter-widgets/controls",
            "_model_module_version": "1.5.0",
            "_model_name": "HBoxModel",
            "_view_count": null,
            "_view_module": "@jupyter-widgets/controls",
            "_view_module_version": "1.5.0",
            "_view_name": "HBoxView",
            "box_style": "",
            "children": [
              "IPY_MODEL_d32e66d8b663482bb6b49ad4ccef7086",
              "IPY_MODEL_6e46af7d4a3a4bed868d263ba1967da9",
              "IPY_MODEL_d6894531d65948009ee7f9fb03c76072"
            ],
            "layout": "IPY_MODEL_cc2167d0b66643948e2e0f458d44f443"
          }
        },
        "d32e66d8b663482bb6b49ad4ccef7086": {
          "model_module": "@jupyter-widgets/controls",
          "model_name": "HTMLModel",
          "model_module_version": "1.5.0",
          "state": {
            "_dom_classes": [],
            "_model_module": "@jupyter-widgets/controls",
            "_model_module_version": "1.5.0",
            "_model_name": "HTMLModel",
            "_view_count": null,
            "_view_module": "@jupyter-widgets/controls",
            "_view_module_version": "1.5.0",
            "_view_name": "HTMLView",
            "description": "",
            "description_tooltip": null,
            "layout": "IPY_MODEL_6451ed2b263d4f29bd3e3492ae76e543",
            "placeholder": "​",
            "style": "IPY_MODEL_8c391c5a106c449db6fae9508b045630",
            "value": "Downloading (…)okenizer_config.json: 100%"
          }
        },
        "6e46af7d4a3a4bed868d263ba1967da9": {
          "model_module": "@jupyter-widgets/controls",
          "model_name": "FloatProgressModel",
          "model_module_version": "1.5.0",
          "state": {
            "_dom_classes": [],
            "_model_module": "@jupyter-widgets/controls",
            "_model_module_version": "1.5.0",
            "_model_name": "FloatProgressModel",
            "_view_count": null,
            "_view_module": "@jupyter-widgets/controls",
            "_view_module_version": "1.5.0",
            "_view_name": "ProgressView",
            "bar_style": "success",
            "description": "",
            "description_tooltip": null,
            "layout": "IPY_MODEL_acdba12d93bc41b599b0cb525bc0bec0",
            "max": 28,
            "min": 0,
            "orientation": "horizontal",
            "style": "IPY_MODEL_c8df42655a374a82af83cbaff3ee0a25",
            "value": 28
          }
        },
        "d6894531d65948009ee7f9fb03c76072": {
          "model_module": "@jupyter-widgets/controls",
          "model_name": "HTMLModel",
          "model_module_version": "1.5.0",
          "state": {
            "_dom_classes": [],
            "_model_module": "@jupyter-widgets/controls",
            "_model_module_version": "1.5.0",
            "_model_name": "HTMLModel",
            "_view_count": null,
            "_view_module": "@jupyter-widgets/controls",
            "_view_module_version": "1.5.0",
            "_view_name": "HTMLView",
            "description": "",
            "description_tooltip": null,
            "layout": "IPY_MODEL_40979b1ccf9746dbaf371a9cd2ddcf71",
            "placeholder": "​",
            "style": "IPY_MODEL_c2ff88f34935485f87c0df29cc588615",
            "value": " 28.0/28.0 [00:00&lt;00:00, 2.26kB/s]"
          }
        },
        "cc2167d0b66643948e2e0f458d44f443": {
          "model_module": "@jupyter-widgets/base",
          "model_name": "LayoutModel",
          "model_module_version": "1.2.0",
          "state": {
            "_model_module": "@jupyter-widgets/base",
            "_model_module_version": "1.2.0",
            "_model_name": "LayoutModel",
            "_view_count": null,
            "_view_module": "@jupyter-widgets/base",
            "_view_module_version": "1.2.0",
            "_view_name": "LayoutView",
            "align_content": null,
            "align_items": null,
            "align_self": null,
            "border": null,
            "bottom": null,
            "display": null,
            "flex": null,
            "flex_flow": null,
            "grid_area": null,
            "grid_auto_columns": null,
            "grid_auto_flow": null,
            "grid_auto_rows": null,
            "grid_column": null,
            "grid_gap": null,
            "grid_row": null,
            "grid_template_areas": null,
            "grid_template_columns": null,
            "grid_template_rows": null,
            "height": null,
            "justify_content": null,
            "justify_items": null,
            "left": null,
            "margin": null,
            "max_height": null,
            "max_width": null,
            "min_height": null,
            "min_width": null,
            "object_fit": null,
            "object_position": null,
            "order": null,
            "overflow": null,
            "overflow_x": null,
            "overflow_y": null,
            "padding": null,
            "right": null,
            "top": null,
            "visibility": null,
            "width": null
          }
        },
        "6451ed2b263d4f29bd3e3492ae76e543": {
          "model_module": "@jupyter-widgets/base",
          "model_name": "LayoutModel",
          "model_module_version": "1.2.0",
          "state": {
            "_model_module": "@jupyter-widgets/base",
            "_model_module_version": "1.2.0",
            "_model_name": "LayoutModel",
            "_view_count": null,
            "_view_module": "@jupyter-widgets/base",
            "_view_module_version": "1.2.0",
            "_view_name": "LayoutView",
            "align_content": null,
            "align_items": null,
            "align_self": null,
            "border": null,
            "bottom": null,
            "display": null,
            "flex": null,
            "flex_flow": null,
            "grid_area": null,
            "grid_auto_columns": null,
            "grid_auto_flow": null,
            "grid_auto_rows": null,
            "grid_column": null,
            "grid_gap": null,
            "grid_row": null,
            "grid_template_areas": null,
            "grid_template_columns": null,
            "grid_template_rows": null,
            "height": null,
            "justify_content": null,
            "justify_items": null,
            "left": null,
            "margin": null,
            "max_height": null,
            "max_width": null,
            "min_height": null,
            "min_width": null,
            "object_fit": null,
            "object_position": null,
            "order": null,
            "overflow": null,
            "overflow_x": null,
            "overflow_y": null,
            "padding": null,
            "right": null,
            "top": null,
            "visibility": null,
            "width": null
          }
        },
        "8c391c5a106c449db6fae9508b045630": {
          "model_module": "@jupyter-widgets/controls",
          "model_name": "DescriptionStyleModel",
          "model_module_version": "1.5.0",
          "state": {
            "_model_module": "@jupyter-widgets/controls",
            "_model_module_version": "1.5.0",
            "_model_name": "DescriptionStyleModel",
            "_view_count": null,
            "_view_module": "@jupyter-widgets/base",
            "_view_module_version": "1.2.0",
            "_view_name": "StyleView",
            "description_width": ""
          }
        },
        "acdba12d93bc41b599b0cb525bc0bec0": {
          "model_module": "@jupyter-widgets/base",
          "model_name": "LayoutModel",
          "model_module_version": "1.2.0",
          "state": {
            "_model_module": "@jupyter-widgets/base",
            "_model_module_version": "1.2.0",
            "_model_name": "LayoutModel",
            "_view_count": null,
            "_view_module": "@jupyter-widgets/base",
            "_view_module_version": "1.2.0",
            "_view_name": "LayoutView",
            "align_content": null,
            "align_items": null,
            "align_self": null,
            "border": null,
            "bottom": null,
            "display": null,
            "flex": null,
            "flex_flow": null,
            "grid_area": null,
            "grid_auto_columns": null,
            "grid_auto_flow": null,
            "grid_auto_rows": null,
            "grid_column": null,
            "grid_gap": null,
            "grid_row": null,
            "grid_template_areas": null,
            "grid_template_columns": null,
            "grid_template_rows": null,
            "height": null,
            "justify_content": null,
            "justify_items": null,
            "left": null,
            "margin": null,
            "max_height": null,
            "max_width": null,
            "min_height": null,
            "min_width": null,
            "object_fit": null,
            "object_position": null,
            "order": null,
            "overflow": null,
            "overflow_x": null,
            "overflow_y": null,
            "padding": null,
            "right": null,
            "top": null,
            "visibility": null,
            "width": null
          }
        },
        "c8df42655a374a82af83cbaff3ee0a25": {
          "model_module": "@jupyter-widgets/controls",
          "model_name": "ProgressStyleModel",
          "model_module_version": "1.5.0",
          "state": {
            "_model_module": "@jupyter-widgets/controls",
            "_model_module_version": "1.5.0",
            "_model_name": "ProgressStyleModel",
            "_view_count": null,
            "_view_module": "@jupyter-widgets/base",
            "_view_module_version": "1.2.0",
            "_view_name": "StyleView",
            "bar_color": null,
            "description_width": ""
          }
        },
        "40979b1ccf9746dbaf371a9cd2ddcf71": {
          "model_module": "@jupyter-widgets/base",
          "model_name": "LayoutModel",
          "model_module_version": "1.2.0",
          "state": {
            "_model_module": "@jupyter-widgets/base",
            "_model_module_version": "1.2.0",
            "_model_name": "LayoutModel",
            "_view_count": null,
            "_view_module": "@jupyter-widgets/base",
            "_view_module_version": "1.2.0",
            "_view_name": "LayoutView",
            "align_content": null,
            "align_items": null,
            "align_self": null,
            "border": null,
            "bottom": null,
            "display": null,
            "flex": null,
            "flex_flow": null,
            "grid_area": null,
            "grid_auto_columns": null,
            "grid_auto_flow": null,
            "grid_auto_rows": null,
            "grid_column": null,
            "grid_gap": null,
            "grid_row": null,
            "grid_template_areas": null,
            "grid_template_columns": null,
            "grid_template_rows": null,
            "height": null,
            "justify_content": null,
            "justify_items": null,
            "left": null,
            "margin": null,
            "max_height": null,
            "max_width": null,
            "min_height": null,
            "min_width": null,
            "object_fit": null,
            "object_position": null,
            "order": null,
            "overflow": null,
            "overflow_x": null,
            "overflow_y": null,
            "padding": null,
            "right": null,
            "top": null,
            "visibility": null,
            "width": null
          }
        },
        "c2ff88f34935485f87c0df29cc588615": {
          "model_module": "@jupyter-widgets/controls",
          "model_name": "DescriptionStyleModel",
          "model_module_version": "1.5.0",
          "state": {
            "_model_module": "@jupyter-widgets/controls",
            "_model_module_version": "1.5.0",
            "_model_name": "DescriptionStyleModel",
            "_view_count": null,
            "_view_module": "@jupyter-widgets/base",
            "_view_module_version": "1.2.0",
            "_view_name": "StyleView",
            "description_width": ""
          }
        },
        "5f07bc27c80f4b6d91e7587a2616c80f": {
          "model_module": "@jupyter-widgets/controls",
          "model_name": "HBoxModel",
          "model_module_version": "1.5.0",
          "state": {
            "_dom_classes": [],
            "_model_module": "@jupyter-widgets/controls",
            "_model_module_version": "1.5.0",
            "_model_name": "HBoxModel",
            "_view_count": null,
            "_view_module": "@jupyter-widgets/controls",
            "_view_module_version": "1.5.0",
            "_view_name": "HBoxView",
            "box_style": "",
            "children": [
              "IPY_MODEL_1948164e6c6f4296b6132209e9e85e19",
              "IPY_MODEL_1eaa1143ee24464a9b38d2ca2996bd1e",
              "IPY_MODEL_0eb873e3ec814b5e8ea04dafb07cc984"
            ],
            "layout": "IPY_MODEL_8525c912f6534b4e8035e42f4eb526ac"
          }
        },
        "1948164e6c6f4296b6132209e9e85e19": {
          "model_module": "@jupyter-widgets/controls",
          "model_name": "HTMLModel",
          "model_module_version": "1.5.0",
          "state": {
            "_dom_classes": [],
            "_model_module": "@jupyter-widgets/controls",
            "_model_module_version": "1.5.0",
            "_model_name": "HTMLModel",
            "_view_count": null,
            "_view_module": "@jupyter-widgets/controls",
            "_view_module_version": "1.5.0",
            "_view_name": "HTMLView",
            "description": "",
            "description_tooltip": null,
            "layout": "IPY_MODEL_8f23f975edf74ea6a68c0f6695accea7",
            "placeholder": "​",
            "style": "IPY_MODEL_749787b7a9864ab38a0105369f1abafe",
            "value": "Downloading (…)lve/main/config.json: 100%"
          }
        },
        "1eaa1143ee24464a9b38d2ca2996bd1e": {
          "model_module": "@jupyter-widgets/controls",
          "model_name": "FloatProgressModel",
          "model_module_version": "1.5.0",
          "state": {
            "_dom_classes": [],
            "_model_module": "@jupyter-widgets/controls",
            "_model_module_version": "1.5.0",
            "_model_name": "FloatProgressModel",
            "_view_count": null,
            "_view_module": "@jupyter-widgets/controls",
            "_view_module_version": "1.5.0",
            "_view_name": "ProgressView",
            "bar_style": "success",
            "description": "",
            "description_tooltip": null,
            "layout": "IPY_MODEL_b80c67c814d24ea8bfbaef969995a5f0",
            "max": 570,
            "min": 0,
            "orientation": "horizontal",
            "style": "IPY_MODEL_8185532cfc2b4cf091965ae3a7f47e0c",
            "value": 570
          }
        },
        "0eb873e3ec814b5e8ea04dafb07cc984": {
          "model_module": "@jupyter-widgets/controls",
          "model_name": "HTMLModel",
          "model_module_version": "1.5.0",
          "state": {
            "_dom_classes": [],
            "_model_module": "@jupyter-widgets/controls",
            "_model_module_version": "1.5.0",
            "_model_name": "HTMLModel",
            "_view_count": null,
            "_view_module": "@jupyter-widgets/controls",
            "_view_module_version": "1.5.0",
            "_view_name": "HTMLView",
            "description": "",
            "description_tooltip": null,
            "layout": "IPY_MODEL_04c761072cf14472b75d25714fd3014d",
            "placeholder": "​",
            "style": "IPY_MODEL_5315c35f4ecc45bbab92856f7d947065",
            "value": " 570/570 [00:00&lt;00:00, 48.1kB/s]"
          }
        },
        "8525c912f6534b4e8035e42f4eb526ac": {
          "model_module": "@jupyter-widgets/base",
          "model_name": "LayoutModel",
          "model_module_version": "1.2.0",
          "state": {
            "_model_module": "@jupyter-widgets/base",
            "_model_module_version": "1.2.0",
            "_model_name": "LayoutModel",
            "_view_count": null,
            "_view_module": "@jupyter-widgets/base",
            "_view_module_version": "1.2.0",
            "_view_name": "LayoutView",
            "align_content": null,
            "align_items": null,
            "align_self": null,
            "border": null,
            "bottom": null,
            "display": null,
            "flex": null,
            "flex_flow": null,
            "grid_area": null,
            "grid_auto_columns": null,
            "grid_auto_flow": null,
            "grid_auto_rows": null,
            "grid_column": null,
            "grid_gap": null,
            "grid_row": null,
            "grid_template_areas": null,
            "grid_template_columns": null,
            "grid_template_rows": null,
            "height": null,
            "justify_content": null,
            "justify_items": null,
            "left": null,
            "margin": null,
            "max_height": null,
            "max_width": null,
            "min_height": null,
            "min_width": null,
            "object_fit": null,
            "object_position": null,
            "order": null,
            "overflow": null,
            "overflow_x": null,
            "overflow_y": null,
            "padding": null,
            "right": null,
            "top": null,
            "visibility": null,
            "width": null
          }
        },
        "8f23f975edf74ea6a68c0f6695accea7": {
          "model_module": "@jupyter-widgets/base",
          "model_name": "LayoutModel",
          "model_module_version": "1.2.0",
          "state": {
            "_model_module": "@jupyter-widgets/base",
            "_model_module_version": "1.2.0",
            "_model_name": "LayoutModel",
            "_view_count": null,
            "_view_module": "@jupyter-widgets/base",
            "_view_module_version": "1.2.0",
            "_view_name": "LayoutView",
            "align_content": null,
            "align_items": null,
            "align_self": null,
            "border": null,
            "bottom": null,
            "display": null,
            "flex": null,
            "flex_flow": null,
            "grid_area": null,
            "grid_auto_columns": null,
            "grid_auto_flow": null,
            "grid_auto_rows": null,
            "grid_column": null,
            "grid_gap": null,
            "grid_row": null,
            "grid_template_areas": null,
            "grid_template_columns": null,
            "grid_template_rows": null,
            "height": null,
            "justify_content": null,
            "justify_items": null,
            "left": null,
            "margin": null,
            "max_height": null,
            "max_width": null,
            "min_height": null,
            "min_width": null,
            "object_fit": null,
            "object_position": null,
            "order": null,
            "overflow": null,
            "overflow_x": null,
            "overflow_y": null,
            "padding": null,
            "right": null,
            "top": null,
            "visibility": null,
            "width": null
          }
        },
        "749787b7a9864ab38a0105369f1abafe": {
          "model_module": "@jupyter-widgets/controls",
          "model_name": "DescriptionStyleModel",
          "model_module_version": "1.5.0",
          "state": {
            "_model_module": "@jupyter-widgets/controls",
            "_model_module_version": "1.5.0",
            "_model_name": "DescriptionStyleModel",
            "_view_count": null,
            "_view_module": "@jupyter-widgets/base",
            "_view_module_version": "1.2.0",
            "_view_name": "StyleView",
            "description_width": ""
          }
        },
        "b80c67c814d24ea8bfbaef969995a5f0": {
          "model_module": "@jupyter-widgets/base",
          "model_name": "LayoutModel",
          "model_module_version": "1.2.0",
          "state": {
            "_model_module": "@jupyter-widgets/base",
            "_model_module_version": "1.2.0",
            "_model_name": "LayoutModel",
            "_view_count": null,
            "_view_module": "@jupyter-widgets/base",
            "_view_module_version": "1.2.0",
            "_view_name": "LayoutView",
            "align_content": null,
            "align_items": null,
            "align_self": null,
            "border": null,
            "bottom": null,
            "display": null,
            "flex": null,
            "flex_flow": null,
            "grid_area": null,
            "grid_auto_columns": null,
            "grid_auto_flow": null,
            "grid_auto_rows": null,
            "grid_column": null,
            "grid_gap": null,
            "grid_row": null,
            "grid_template_areas": null,
            "grid_template_columns": null,
            "grid_template_rows": null,
            "height": null,
            "justify_content": null,
            "justify_items": null,
            "left": null,
            "margin": null,
            "max_height": null,
            "max_width": null,
            "min_height": null,
            "min_width": null,
            "object_fit": null,
            "object_position": null,
            "order": null,
            "overflow": null,
            "overflow_x": null,
            "overflow_y": null,
            "padding": null,
            "right": null,
            "top": null,
            "visibility": null,
            "width": null
          }
        },
        "8185532cfc2b4cf091965ae3a7f47e0c": {
          "model_module": "@jupyter-widgets/controls",
          "model_name": "ProgressStyleModel",
          "model_module_version": "1.5.0",
          "state": {
            "_model_module": "@jupyter-widgets/controls",
            "_model_module_version": "1.5.0",
            "_model_name": "ProgressStyleModel",
            "_view_count": null,
            "_view_module": "@jupyter-widgets/base",
            "_view_module_version": "1.2.0",
            "_view_name": "StyleView",
            "bar_color": null,
            "description_width": ""
          }
        },
        "04c761072cf14472b75d25714fd3014d": {
          "model_module": "@jupyter-widgets/base",
          "model_name": "LayoutModel",
          "model_module_version": "1.2.0",
          "state": {
            "_model_module": "@jupyter-widgets/base",
            "_model_module_version": "1.2.0",
            "_model_name": "LayoutModel",
            "_view_count": null,
            "_view_module": "@jupyter-widgets/base",
            "_view_module_version": "1.2.0",
            "_view_name": "LayoutView",
            "align_content": null,
            "align_items": null,
            "align_self": null,
            "border": null,
            "bottom": null,
            "display": null,
            "flex": null,
            "flex_flow": null,
            "grid_area": null,
            "grid_auto_columns": null,
            "grid_auto_flow": null,
            "grid_auto_rows": null,
            "grid_column": null,
            "grid_gap": null,
            "grid_row": null,
            "grid_template_areas": null,
            "grid_template_columns": null,
            "grid_template_rows": null,
            "height": null,
            "justify_content": null,
            "justify_items": null,
            "left": null,
            "margin": null,
            "max_height": null,
            "max_width": null,
            "min_height": null,
            "min_width": null,
            "object_fit": null,
            "object_position": null,
            "order": null,
            "overflow": null,
            "overflow_x": null,
            "overflow_y": null,
            "padding": null,
            "right": null,
            "top": null,
            "visibility": null,
            "width": null
          }
        },
        "5315c35f4ecc45bbab92856f7d947065": {
          "model_module": "@jupyter-widgets/controls",
          "model_name": "DescriptionStyleModel",
          "model_module_version": "1.5.0",
          "state": {
            "_model_module": "@jupyter-widgets/controls",
            "_model_module_version": "1.5.0",
            "_model_name": "DescriptionStyleModel",
            "_view_count": null,
            "_view_module": "@jupyter-widgets/base",
            "_view_module_version": "1.2.0",
            "_view_name": "StyleView",
            "description_width": ""
          }
        }
      }
    }
  },
  "nbformat": 4,
  "nbformat_minor": 5
}