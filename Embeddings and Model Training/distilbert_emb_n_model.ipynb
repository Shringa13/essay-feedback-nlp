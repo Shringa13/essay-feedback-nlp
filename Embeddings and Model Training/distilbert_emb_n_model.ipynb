{
  "cells": [
    {
      "cell_type": "code",
      "source": [
        "from google.colab import drive\n",
        "drive.mount('/content/drive')"
      ],
      "metadata": {
        "colab": {
          "base_uri": "https://localhost:8080/"
        },
        "id": "WoZH6276xpL5",
        "outputId": "949f2799-dba3-4a23-8da5-d1ceb643daee"
      },
      "id": "WoZH6276xpL5",
      "execution_count": 3,
      "outputs": [
        {
          "output_type": "stream",
          "name": "stdout",
          "text": [
            "Mounted at /content/drive\n"
          ]
        }
      ]
    },
    {
      "cell_type": "code",
      "source": [
        "!pip install transformers\n",
        "!pip install tensorflow"
      ],
      "metadata": {
        "colab": {
          "base_uri": "https://localhost:8080/"
        },
        "id": "iNDGc3EMx6EV",
        "outputId": "957fa8c5-53b5-404f-8248-28a43e7d217e"
      },
      "id": "iNDGc3EMx6EV",
      "execution_count": 4,
      "outputs": [
        {
          "output_type": "stream",
          "name": "stdout",
          "text": [
            "Looking in indexes: https://pypi.org/simple, https://us-python.pkg.dev/colab-wheels/public/simple/\n",
            "Collecting transformers\n",
            "  Downloading transformers-4.28.1-py3-none-any.whl (7.0 MB)\n",
            "\u001b[2K     \u001b[90m━━━━━━━━━━━━━━━━━━━━━━━━━━━━━━━━━━━━━━━━\u001b[0m \u001b[32m7.0/7.0 MB\u001b[0m \u001b[31m100.3 MB/s\u001b[0m eta \u001b[36m0:00:00\u001b[0m\n",
            "\u001b[?25hCollecting huggingface-hub<1.0,>=0.11.0\n",
            "  Downloading huggingface_hub-0.14.1-py3-none-any.whl (224 kB)\n",
            "\u001b[2K     \u001b[90m━━━━━━━━━━━━━━━━━━━━━━━━━━━━━━━━━━━━━━\u001b[0m \u001b[32m224.5/224.5 kB\u001b[0m \u001b[31m29.3 MB/s\u001b[0m eta \u001b[36m0:00:00\u001b[0m\n",
            "\u001b[?25hRequirement already satisfied: regex!=2019.12.17 in /usr/local/lib/python3.10/dist-packages (from transformers) (2022.10.31)\n",
            "Requirement already satisfied: packaging>=20.0 in /usr/local/lib/python3.10/dist-packages (from transformers) (23.1)\n",
            "Requirement already satisfied: tqdm>=4.27 in /usr/local/lib/python3.10/dist-packages (from transformers) (4.65.0)\n",
            "Requirement already satisfied: requests in /usr/local/lib/python3.10/dist-packages (from transformers) (2.27.1)\n",
            "Requirement already satisfied: filelock in /usr/local/lib/python3.10/dist-packages (from transformers) (3.12.0)\n",
            "Collecting tokenizers!=0.11.3,<0.14,>=0.11.1\n",
            "  Downloading tokenizers-0.13.3-cp310-cp310-manylinux_2_17_x86_64.manylinux2014_x86_64.whl (7.8 MB)\n",
            "\u001b[2K     \u001b[90m━━━━━━━━━━━━━━━━━━━━━━━━━━━━━━━━━━━━━━━━\u001b[0m \u001b[32m7.8/7.8 MB\u001b[0m \u001b[31m108.1 MB/s\u001b[0m eta \u001b[36m0:00:00\u001b[0m\n",
            "\u001b[?25hRequirement already satisfied: numpy>=1.17 in /usr/local/lib/python3.10/dist-packages (from transformers) (1.22.4)\n",
            "Requirement already satisfied: pyyaml>=5.1 in /usr/local/lib/python3.10/dist-packages (from transformers) (6.0)\n",
            "Requirement already satisfied: fsspec in /usr/local/lib/python3.10/dist-packages (from huggingface-hub<1.0,>=0.11.0->transformers) (2023.4.0)\n",
            "Requirement already satisfied: typing-extensions>=3.7.4.3 in /usr/local/lib/python3.10/dist-packages (from huggingface-hub<1.0,>=0.11.0->transformers) (4.5.0)\n",
            "Requirement already satisfied: certifi>=2017.4.17 in /usr/local/lib/python3.10/dist-packages (from requests->transformers) (2022.12.7)\n",
            "Requirement already satisfied: idna<4,>=2.5 in /usr/local/lib/python3.10/dist-packages (from requests->transformers) (3.4)\n",
            "Requirement already satisfied: urllib3<1.27,>=1.21.1 in /usr/local/lib/python3.10/dist-packages (from requests->transformers) (1.26.15)\n",
            "Requirement already satisfied: charset-normalizer~=2.0.0 in /usr/local/lib/python3.10/dist-packages (from requests->transformers) (2.0.12)\n",
            "Installing collected packages: tokenizers, huggingface-hub, transformers\n",
            "Successfully installed huggingface-hub-0.14.1 tokenizers-0.13.3 transformers-4.28.1\n",
            "Looking in indexes: https://pypi.org/simple, https://us-python.pkg.dev/colab-wheels/public/simple/\n",
            "Requirement already satisfied: tensorflow in /usr/local/lib/python3.10/dist-packages (2.12.0)\n",
            "Requirement already satisfied: grpcio<2.0,>=1.24.3 in /usr/local/lib/python3.10/dist-packages (from tensorflow) (1.54.0)\n",
            "Requirement already satisfied: h5py>=2.9.0 in /usr/local/lib/python3.10/dist-packages (from tensorflow) (3.8.0)\n",
            "Requirement already satisfied: termcolor>=1.1.0 in /usr/local/lib/python3.10/dist-packages (from tensorflow) (2.3.0)\n",
            "Requirement already satisfied: tensorflow-io-gcs-filesystem>=0.23.1 in /usr/local/lib/python3.10/dist-packages (from tensorflow) (0.32.0)\n",
            "Requirement already satisfied: keras<2.13,>=2.12.0 in /usr/local/lib/python3.10/dist-packages (from tensorflow) (2.12.0)\n",
            "Requirement already satisfied: tensorflow-estimator<2.13,>=2.12.0 in /usr/local/lib/python3.10/dist-packages (from tensorflow) (2.12.0)\n",
            "Requirement already satisfied: google-pasta>=0.1.1 in /usr/local/lib/python3.10/dist-packages (from tensorflow) (0.2.0)\n",
            "Requirement already satisfied: setuptools in /usr/local/lib/python3.10/dist-packages (from tensorflow) (67.7.2)\n",
            "Requirement already satisfied: jax>=0.3.15 in /usr/local/lib/python3.10/dist-packages (from tensorflow) (0.4.8)\n",
            "Requirement already satisfied: absl-py>=1.0.0 in /usr/local/lib/python3.10/dist-packages (from tensorflow) (1.4.0)\n",
            "Requirement already satisfied: flatbuffers>=2.0 in /usr/local/lib/python3.10/dist-packages (from tensorflow) (23.3.3)\n",
            "Requirement already satisfied: protobuf!=4.21.0,!=4.21.1,!=4.21.2,!=4.21.3,!=4.21.4,!=4.21.5,<5.0.0dev,>=3.20.3 in /usr/local/lib/python3.10/dist-packages (from tensorflow) (3.20.3)\n",
            "Requirement already satisfied: wrapt<1.15,>=1.11.0 in /usr/local/lib/python3.10/dist-packages (from tensorflow) (1.14.1)\n",
            "Requirement already satisfied: six>=1.12.0 in /usr/local/lib/python3.10/dist-packages (from tensorflow) (1.16.0)\n",
            "Requirement already satisfied: gast<=0.4.0,>=0.2.1 in /usr/local/lib/python3.10/dist-packages (from tensorflow) (0.4.0)\n",
            "Requirement already satisfied: tensorboard<2.13,>=2.12 in /usr/local/lib/python3.10/dist-packages (from tensorflow) (2.12.2)\n",
            "Requirement already satisfied: opt-einsum>=2.3.2 in /usr/local/lib/python3.10/dist-packages (from tensorflow) (3.3.0)\n",
            "Requirement already satisfied: typing-extensions>=3.6.6 in /usr/local/lib/python3.10/dist-packages (from tensorflow) (4.5.0)\n",
            "Requirement already satisfied: libclang>=13.0.0 in /usr/local/lib/python3.10/dist-packages (from tensorflow) (16.0.0)\n",
            "Requirement already satisfied: numpy<1.24,>=1.22 in /usr/local/lib/python3.10/dist-packages (from tensorflow) (1.22.4)\n",
            "Requirement already satisfied: astunparse>=1.6.0 in /usr/local/lib/python3.10/dist-packages (from tensorflow) (1.6.3)\n",
            "Requirement already satisfied: packaging in /usr/local/lib/python3.10/dist-packages (from tensorflow) (23.1)\n",
            "Requirement already satisfied: wheel<1.0,>=0.23.0 in /usr/local/lib/python3.10/dist-packages (from astunparse>=1.6.0->tensorflow) (0.40.0)\n",
            "Requirement already satisfied: ml-dtypes>=0.0.3 in /usr/local/lib/python3.10/dist-packages (from jax>=0.3.15->tensorflow) (0.1.0)\n",
            "Requirement already satisfied: scipy>=1.7 in /usr/local/lib/python3.10/dist-packages (from jax>=0.3.15->tensorflow) (1.10.1)\n",
            "Requirement already satisfied: werkzeug>=1.0.1 in /usr/local/lib/python3.10/dist-packages (from tensorboard<2.13,>=2.12->tensorflow) (2.3.0)\n",
            "Requirement already satisfied: tensorboard-plugin-wit>=1.6.0 in /usr/local/lib/python3.10/dist-packages (from tensorboard<2.13,>=2.12->tensorflow) (1.8.1)\n",
            "Requirement already satisfied: google-auth<3,>=1.6.3 in /usr/local/lib/python3.10/dist-packages (from tensorboard<2.13,>=2.12->tensorflow) (2.17.3)\n",
            "Requirement already satisfied: tensorboard-data-server<0.8.0,>=0.7.0 in /usr/local/lib/python3.10/dist-packages (from tensorboard<2.13,>=2.12->tensorflow) (0.7.0)\n",
            "Requirement already satisfied: google-auth-oauthlib<1.1,>=0.5 in /usr/local/lib/python3.10/dist-packages (from tensorboard<2.13,>=2.12->tensorflow) (1.0.0)\n",
            "Requirement already satisfied: requests<3,>=2.21.0 in /usr/local/lib/python3.10/dist-packages (from tensorboard<2.13,>=2.12->tensorflow) (2.27.1)\n",
            "Requirement already satisfied: markdown>=2.6.8 in /usr/local/lib/python3.10/dist-packages (from tensorboard<2.13,>=2.12->tensorflow) (3.4.3)\n",
            "Requirement already satisfied: cachetools<6.0,>=2.0.0 in /usr/local/lib/python3.10/dist-packages (from google-auth<3,>=1.6.3->tensorboard<2.13,>=2.12->tensorflow) (5.3.0)\n",
            "Requirement already satisfied: pyasn1-modules>=0.2.1 in /usr/local/lib/python3.10/dist-packages (from google-auth<3,>=1.6.3->tensorboard<2.13,>=2.12->tensorflow) (0.3.0)\n",
            "Requirement already satisfied: rsa<5,>=3.1.4 in /usr/local/lib/python3.10/dist-packages (from google-auth<3,>=1.6.3->tensorboard<2.13,>=2.12->tensorflow) (4.9)\n",
            "Requirement already satisfied: requests-oauthlib>=0.7.0 in /usr/local/lib/python3.10/dist-packages (from google-auth-oauthlib<1.1,>=0.5->tensorboard<2.13,>=2.12->tensorflow) (1.3.1)\n",
            "Requirement already satisfied: certifi>=2017.4.17 in /usr/local/lib/python3.10/dist-packages (from requests<3,>=2.21.0->tensorboard<2.13,>=2.12->tensorflow) (2022.12.7)\n",
            "Requirement already satisfied: urllib3<1.27,>=1.21.1 in /usr/local/lib/python3.10/dist-packages (from requests<3,>=2.21.0->tensorboard<2.13,>=2.12->tensorflow) (1.26.15)\n",
            "Requirement already satisfied: charset-normalizer~=2.0.0 in /usr/local/lib/python3.10/dist-packages (from requests<3,>=2.21.0->tensorboard<2.13,>=2.12->tensorflow) (2.0.12)\n",
            "Requirement already satisfied: idna<4,>=2.5 in /usr/local/lib/python3.10/dist-packages (from requests<3,>=2.21.0->tensorboard<2.13,>=2.12->tensorflow) (3.4)\n",
            "Requirement already satisfied: MarkupSafe>=2.1.1 in /usr/local/lib/python3.10/dist-packages (from werkzeug>=1.0.1->tensorboard<2.13,>=2.12->tensorflow) (2.1.2)\n",
            "Requirement already satisfied: pyasn1<0.6.0,>=0.4.6 in /usr/local/lib/python3.10/dist-packages (from pyasn1-modules>=0.2.1->google-auth<3,>=1.6.3->tensorboard<2.13,>=2.12->tensorflow) (0.5.0)\n",
            "Requirement already satisfied: oauthlib>=3.0.0 in /usr/local/lib/python3.10/dist-packages (from requests-oauthlib>=0.7.0->google-auth-oauthlib<1.1,>=0.5->tensorboard<2.13,>=2.12->tensorflow) (3.2.2)\n"
          ]
        }
      ]
    },
    {
      "cell_type": "code",
      "execution_count": 5,
      "id": "14ba2494-465d-499e-801a-6fa20f1e2de8",
      "metadata": {
        "tags": [],
        "id": "14ba2494-465d-499e-801a-6fa20f1e2de8"
      },
      "outputs": [],
      "source": [
        "from transformers import TFBertModel, BertTokenizer, AutoTokenizer, TFDistilBertModel, DistilBertTokenizer\n",
        "from tensorflow.keras.layers import Input, Dropout, Dense \n",
        "from tensorflow.keras.optimizers import Adam\n",
        "from tensorflow.keras import Model\n",
        "import tensorflow as tf \n",
        "import tensorflow.keras.backend as K\n",
        "from keras.utils.np_utils import to_categorical\n",
        "\n",
        "## for data\n",
        "import pandas as pd\n",
        "import numpy as np\n",
        "import re\n",
        "import glob\n",
        "from sklearn.model_selection import train_test_split\n",
        "from sklearn.metrics import log_loss, classification_report, ConfusionMatrixDisplay\n",
        "\n",
        "## for plotting\n",
        "import matplotlib.pyplot as plt\n",
        "import seaborn as sns\n",
        "\n",
        "\n",
        "from typing import Dict, List, Tuple\n",
        "import codecs\n",
        "from text_unidecode import unidecode\n"
      ]
    },
    {
      "cell_type": "code",
      "source": [],
      "metadata": {
        "id": "Ga6hqRF4WTRe"
      },
      "id": "Ga6hqRF4WTRe",
      "execution_count": 5,
      "outputs": []
    },
    {
      "cell_type": "code",
      "execution_count": 6,
      "id": "70490969-8f55-404c-ac03-3e68f9658c67",
      "metadata": {
        "tags": [],
        "id": "70490969-8f55-404c-ac03-3e68f9658c67"
      },
      "outputs": [],
      "source": [
        "pd.set_option('display.max_columns', None)\n",
        "pd.set_option('display.max_rows', None)\n",
        "pd.options.display.max_colwidth = 6000"
      ]
    },
    {
      "cell_type": "code",
      "execution_count": 7,
      "id": "c6ef06ec-aa45-4082-8ce7-7bde6d887c3d",
      "metadata": {
        "tags": [],
        "id": "c6ef06ec-aa45-4082-8ce7-7bde6d887c3d"
      },
      "outputs": [],
      "source": [
        "# !conda install -c conda-forge h5py -y"
      ]
    },
    {
      "cell_type": "markdown",
      "id": "77694894-1ad6-44de-9f44-ad3cadfea1e6",
      "metadata": {
        "id": "77694894-1ad6-44de-9f44-ad3cadfea1e6"
      },
      "source": [
        "## Load Data"
      ]
    },
    {
      "cell_type": "code",
      "execution_count": 8,
      "id": "7d0a6658-99f8-4a96-a430-bd6c0e1c436a",
      "metadata": {
        "tags": [],
        "id": "7d0a6658-99f8-4a96-a430-bd6c0e1c436a"
      },
      "outputs": [],
      "source": [
        "def read_data(path:str, file_type:str)-> pd.DataFrame:\n",
        "    if glob.glob(path+file_type+\".csv\"):\n",
        "        df = pd.read_csv(path+file_type+\".csv\")\n",
        "    \n",
        "    essay_dict = {}\n",
        "    for file in glob.glob(path+file_type+'/*.txt'): \n",
        "        with open(file, \"r\") as file_open:\n",
        "            filename = file.split(file_type+'/')[1].split('.txt')[0]\n",
        "            essay_dict[filename] = file_open.read()\n",
        "        \n",
        "    essay_data = pd.DataFrame.from_dict([essay_dict]).T.reset_index()\n",
        "    essay_data.columns = [\"essay_id\", \"essay_text\"]\n",
        "    train_data = pd.merge(df,essay_data,left_on = 'essay_id', right_on ='essay_id', how ='left')\n",
        "    print(file_type+\" data: \",train_data.shape)\n",
        "    return train_data"
      ]
    },
    {
      "cell_type": "code",
      "execution_count": 9,
      "id": "1de4a4e6-8540-46f9-b342-01b8e194282e",
      "metadata": {
        "tags": [],
        "colab": {
          "base_uri": "https://localhost:8080/"
        },
        "id": "1de4a4e6-8540-46f9-b342-01b8e194282e",
        "outputId": "7e705b01-356f-4cbc-9573-444eb75f1232"
      },
      "outputs": [
        {
          "output_type": "stream",
          "name": "stdout",
          "text": [
            "train data:  (36765, 6)\n",
            "test data:  (21, 5)\n",
            "(36765, 6) (21, 5)\n"
          ]
        }
      ],
      "source": [
        "filepath = '/content/drive/MyDrive/fourthbrain/Effective_Writing_Feedback/data/'\n",
        "train_data = read_data(filepath, 'train')\n",
        "test_data = read_data(filepath, 'test')\n",
        "print(train_data.shape, test_data.shape)"
      ]
    },
    {
      "cell_type": "code",
      "execution_count": 10,
      "id": "20d33514-54f1-4295-8b32-2fa0ca107c7c",
      "metadata": {
        "tags": [],
        "id": "20d33514-54f1-4295-8b32-2fa0ca107c7c"
      },
      "outputs": [],
      "source": [
        "AUTO = tf.data.experimental.AUTOTUNE\n",
        "# Configuration\n",
        "EPOCHS = 10\n",
        "BATCH_SIZE = 16\n",
        "MAX_LEN = 256\n",
        "MODEL_TYPE=\"distilbert\""
      ]
    },
    {
      "cell_type": "code",
      "execution_count": 11,
      "id": "599ac6af-834c-4863-b2d7-30efa0653cc8",
      "metadata": {
        "tags": [],
        "id": "599ac6af-834c-4863-b2d7-30efa0653cc8"
      },
      "outputs": [],
      "source": [
        "# https://www.kaggle.com/competitions/feedback-prize-2021/discussion/313330\n",
        "def replace_encoding_with_utf8(error: UnicodeError) -> Tuple[bytes, int]:\n",
        "    return error.object[error.start : error.end].encode(\"utf-8\"), error.end\n",
        "\n",
        "\n",
        "def replace_decoding_with_cp1252(error: UnicodeError) -> Tuple[str, int]:\n",
        "    return error.object[error.start : error.end].decode(\"cp1252\"), error.end\n",
        "\n",
        "# Register the encoding and decoding error handlers for `utf-8` and `cp1252`.\n",
        "codecs.register_error(\"replace_encoding_with_utf8\", replace_encoding_with_utf8)\n",
        "codecs.register_error(\"replace_decoding_with_cp1252\", replace_decoding_with_cp1252)\n",
        "\n",
        "def resolve_encodings_and_normalize(text: str) -> str:\n",
        "    \"\"\"Resolve the encoding problems and normalize the abnormal characters.\"\"\"\n",
        "    text = (\n",
        "        text.encode(\"raw_unicode_escape\")\n",
        "        .decode(\"utf-8\", errors=\"replace_decoding_with_cp1252\")\n",
        "        .encode(\"cp1252\", errors=\"replace_encoding_with_utf8\")\n",
        "        .decode(\"utf-8\", errors=\"replace_decoding_with_cp1252\")\n",
        "    )\n",
        "    text = unidecode(text)\n",
        "    return text"
      ]
    },
    {
      "cell_type": "code",
      "execution_count": 12,
      "id": "f51da798-3891-487d-a230-2db21f48c6d8",
      "metadata": {
        "tags": [],
        "id": "f51da798-3891-487d-a230-2db21f48c6d8",
        "colab": {
          "base_uri": "https://localhost:8080/",
          "height": 1000
        },
        "outputId": "2861ba84-a258-45ec-cbb5-3bd3fe5973d9"
      },
      "outputs": [
        {
          "output_type": "display_data",
          "data": {
            "text/plain": [
              "    discourse_id      essay_id  \\\n",
              "12  84942fc2ab0f  A8445CABFECE   \n",
              "\n",
              "                                                                                                                                                                                                                                                                                                                                                                                                                                                                                                                                                                                                                                                                                                                                                                                                                                              discourse_text  \\\n",
              "12  According to an article by the Edgar Snyder Firm, 21% of teens that were part of a fatal car accident was due to phones. According to the same article, 35% know the risk but continue using their phones while on the road. This shows that its beyond dangerous and irresponsible of drivers not to be fully aware of their surroundings while driving. Drivers should be able to concentrate without any distractions, because it could be fatal.According to another article, \"Distracted Driving\" by the NHTSA, there has already been about 3,000 phone related car accident deaths since 2017. The article states that teen get too distracted with their phones, which causes their accident. Accidents that can be easily avoided by focusing on the road and not a phone. Drivers should not be able to use their phones at all while driving.   \n",
              "\n",
              "   discourse_type  \\\n",
              "12       Evidence   \n",
              "\n",
              "                                                                                                                                                                                                                                                                                                                                                                                                                                                                                                                                                                                                                                                                                                                                                                                                                                                                                                                                                                                                                                                                                                                                                                                                                                                                                             essay_text  \\\n",
              "12  Phones & Driving\\n\\nDrivers should not be able to use phones while operating a vehicle. Drivers who used their phone while operating a vehicle are most likely to get into an accident that could be fatal.\\n\\nAccording to an article by the Edgar Snyder Firm, 21% of teens that were part of a fatal car accident was due to phones. According to the same article, 35% know the risk but continue using their phones while on the road. This shows that its beyond dangerous and irresponsible of drivers not to be fully aware of their surroundings while driving. Drivers should be able to concentrate without any distractions, because it could be fatal.\\n\\nAccording to another article, \"Distracted Driving\" by the NHTSA, there has already been about 3,000 phone related car accident deaths since 2017. The article states that teen get too distracted with their phones, which causes their accident. Accidents that can be easily avoided by focusing on the road and not a phone. Drivers should not be able to use their phones at all while driving.\\n\\nIn conclusion, drivers should not able to work a vehicle while using their cell phone. Drivers who uses their phones while operating a vehicle and are likely to have an accident then those who don't.                \n",
              "\n",
              "                                                                                                                                                                                                                                                                                                                                                                                                                                                                                                                                                                                                                                                                                                                                                                                                                                        normalized_discourse  \\\n",
              "12  According to an article by the Edgar Snyder Firm, 21% of teens that were part of a fatal car accident was due to phones. According to the same article, 35% know the risk but continue using their phones while on the road. This shows that its beyond dangerous and irresponsible of drivers not to be fully aware of their surroundings while driving. Drivers should be able to concentrate without any distractions, because it could be fatal.According to another article, \"Distracted Driving\" by the NHTSA, there has already been about 3,000 phone related car accident deaths since 2017. The article states that teen get too distracted with their phones, which causes their accident. Accidents that can be easily avoided by focusing on the road and not a phone. Drivers should not be able to use their phones at all while driving.   \n",
              "\n",
              "                                                                                                                                                                                                                                                                                                                                                                                                                                                                                                                                                                                                                                                                                                                                                                                                                                processed_discourse  \\\n",
              "12  according to an article by the edgar snyder firm     of teens that were part of a fatal car accident was due to phones  according to the same article     know the risk but continue using their phones while on the road  this shows that its beyond dangerous and irresponsible of drivers not to be fully aware of their surroundings while driving  drivers should be able to concentrate without any distractions because it could be fatal according to another article distracted driving by the nhtsa there has already been about      phone related car accident deaths since       the article states that teen get too distracted with their phones which causes their accident  accidents that can be easily avoided by focusing on the road and not a phone  drivers should not be able to use their phones at all while driving    \n",
              "\n",
              "                                                                                                                                                                                                                                                                                                                                                                                                                                                                                                                                                                                                                                                                                                                                                                                                                                                                                                                                                                                                                                                                                                                                                                                                                                                     processed_essay  \n",
              "12  phones   drivingdrivers should not be able to use phones while operating a vehicle  drivers who used their phone while operating a vehicle are most likely to get into an accident that could be fatal according to an article by the edgar snyder firm     of teens that were part of a fatal car accident was due to phones  according to the same article     know the risk but continue using their phones while on the road  this shows that its beyond dangerous and irresponsible of drivers not to be fully aware of their surroundings while driving  drivers should be able to concentrate without any distractions because it could be fatal according to another article distracted driving by the nhtsa there has already been about      phone related car accident deaths since       the article states that teen get too distracted with their phones which causes their accident  accidents that can be easily avoided by focusing on the road and not a phone  drivers should not be able to use their phones at all while driving in conclusion drivers should not able to work a vehicle while using their cell phone  drivers who uses their phones while operating a vehicle and are likely to have an accident then those who don t       "
            ],
            "text/html": [
              "\n",
              "  <div id=\"df-6759f61c-4124-4457-b1f3-238c31630a2b\">\n",
              "    <div class=\"colab-df-container\">\n",
              "      <div>\n",
              "<style scoped>\n",
              "    .dataframe tbody tr th:only-of-type {\n",
              "        vertical-align: middle;\n",
              "    }\n",
              "\n",
              "    .dataframe tbody tr th {\n",
              "        vertical-align: top;\n",
              "    }\n",
              "\n",
              "    .dataframe thead th {\n",
              "        text-align: right;\n",
              "    }\n",
              "</style>\n",
              "<table border=\"1\" class=\"dataframe\">\n",
              "  <thead>\n",
              "    <tr style=\"text-align: right;\">\n",
              "      <th></th>\n",
              "      <th>discourse_id</th>\n",
              "      <th>essay_id</th>\n",
              "      <th>discourse_text</th>\n",
              "      <th>discourse_type</th>\n",
              "      <th>essay_text</th>\n",
              "      <th>normalized_discourse</th>\n",
              "      <th>processed_discourse</th>\n",
              "      <th>processed_essay</th>\n",
              "    </tr>\n",
              "  </thead>\n",
              "  <tbody>\n",
              "    <tr>\n",
              "      <th>12</th>\n",
              "      <td>84942fc2ab0f</td>\n",
              "      <td>A8445CABFECE</td>\n",
              "      <td>According to an article by the Edgar Snyder Firm, 21% of teens that were part of a fatal car accident was due to phones. According to the same article, 35% know the risk but continue using their phones while on the road. This shows that its beyond dangerous and irresponsible of drivers not to be fully aware of their surroundings while driving. Drivers should be able to concentrate without any distractions, because it could be fatal.According to another article, \"Distracted Driving\" by the NHTSA, there has already been about 3,000 phone related car accident deaths since 2017. The article states that teen get too distracted with their phones, which causes their accident. Accidents that can be easily avoided by focusing on the road and not a phone. Drivers should not be able to use their phones at all while driving.</td>\n",
              "      <td>Evidence</td>\n",
              "      <td>Phones &amp; Driving\\n\\nDrivers should not be able to use phones while operating a vehicle. Drivers who used their phone while operating a vehicle are most likely to get into an accident that could be fatal.\\n\\nAccording to an article by the Edgar Snyder Firm, 21% of teens that were part of a fatal car accident was due to phones. According to the same article, 35% know the risk but continue using their phones while on the road. This shows that its beyond dangerous and irresponsible of drivers not to be fully aware of their surroundings while driving. Drivers should be able to concentrate without any distractions, because it could be fatal.\\n\\nAccording to another article, \"Distracted Driving\" by the NHTSA, there has already been about 3,000 phone related car accident deaths since 2017. The article states that teen get too distracted with their phones, which causes their accident. Accidents that can be easily avoided by focusing on the road and not a phone. Drivers should not be able to use their phones at all while driving.\\n\\nIn conclusion, drivers should not able to work a vehicle while using their cell phone. Drivers who uses their phones while operating a vehicle and are likely to have an accident then those who don't.</td>\n",
              "      <td>According to an article by the Edgar Snyder Firm, 21% of teens that were part of a fatal car accident was due to phones. According to the same article, 35% know the risk but continue using their phones while on the road. This shows that its beyond dangerous and irresponsible of drivers not to be fully aware of their surroundings while driving. Drivers should be able to concentrate without any distractions, because it could be fatal.According to another article, \"Distracted Driving\" by the NHTSA, there has already been about 3,000 phone related car accident deaths since 2017. The article states that teen get too distracted with their phones, which causes their accident. Accidents that can be easily avoided by focusing on the road and not a phone. Drivers should not be able to use their phones at all while driving.</td>\n",
              "      <td>according to an article by the edgar snyder firm     of teens that were part of a fatal car accident was due to phones  according to the same article     know the risk but continue using their phones while on the road  this shows that its beyond dangerous and irresponsible of drivers not to be fully aware of their surroundings while driving  drivers should be able to concentrate without any distractions because it could be fatal according to another article distracted driving by the nhtsa there has already been about      phone related car accident deaths since       the article states that teen get too distracted with their phones which causes their accident  accidents that can be easily avoided by focusing on the road and not a phone  drivers should not be able to use their phones at all while driving</td>\n",
              "      <td>phones   drivingdrivers should not be able to use phones while operating a vehicle  drivers who used their phone while operating a vehicle are most likely to get into an accident that could be fatal according to an article by the edgar snyder firm     of teens that were part of a fatal car accident was due to phones  according to the same article     know the risk but continue using their phones while on the road  this shows that its beyond dangerous and irresponsible of drivers not to be fully aware of their surroundings while driving  drivers should be able to concentrate without any distractions because it could be fatal according to another article distracted driving by the nhtsa there has already been about      phone related car accident deaths since       the article states that teen get too distracted with their phones which causes their accident  accidents that can be easily avoided by focusing on the road and not a phone  drivers should not be able to use their phones at all while driving in conclusion drivers should not able to work a vehicle while using their cell phone  drivers who uses their phones while operating a vehicle and are likely to have an accident then those who don t</td>\n",
              "    </tr>\n",
              "  </tbody>\n",
              "</table>\n",
              "</div>\n",
              "      <button class=\"colab-df-convert\" onclick=\"convertToInteractive('df-6759f61c-4124-4457-b1f3-238c31630a2b')\"\n",
              "              title=\"Convert this dataframe to an interactive table.\"\n",
              "              style=\"display:none;\">\n",
              "        \n",
              "  <svg xmlns=\"http://www.w3.org/2000/svg\" height=\"24px\"viewBox=\"0 0 24 24\"\n",
              "       width=\"24px\">\n",
              "    <path d=\"M0 0h24v24H0V0z\" fill=\"none\"/>\n",
              "    <path d=\"M18.56 5.44l.94 2.06.94-2.06 2.06-.94-2.06-.94-.94-2.06-.94 2.06-2.06.94zm-11 1L8.5 8.5l.94-2.06 2.06-.94-2.06-.94L8.5 2.5l-.94 2.06-2.06.94zm10 10l.94 2.06.94-2.06 2.06-.94-2.06-.94-.94-2.06-.94 2.06-2.06.94z\"/><path d=\"M17.41 7.96l-1.37-1.37c-.4-.4-.92-.59-1.43-.59-.52 0-1.04.2-1.43.59L10.3 9.45l-7.72 7.72c-.78.78-.78 2.05 0 2.83L4 21.41c.39.39.9.59 1.41.59.51 0 1.02-.2 1.41-.59l7.78-7.78 2.81-2.81c.8-.78.8-2.07 0-2.86zM5.41 20L4 18.59l7.72-7.72 1.47 1.35L5.41 20z\"/>\n",
              "  </svg>\n",
              "      </button>\n",
              "      \n",
              "  <style>\n",
              "    .colab-df-container {\n",
              "      display:flex;\n",
              "      flex-wrap:wrap;\n",
              "      gap: 12px;\n",
              "    }\n",
              "\n",
              "    .colab-df-convert {\n",
              "      background-color: #E8F0FE;\n",
              "      border: none;\n",
              "      border-radius: 50%;\n",
              "      cursor: pointer;\n",
              "      display: none;\n",
              "      fill: #1967D2;\n",
              "      height: 32px;\n",
              "      padding: 0 0 0 0;\n",
              "      width: 32px;\n",
              "    }\n",
              "\n",
              "    .colab-df-convert:hover {\n",
              "      background-color: #E2EBFA;\n",
              "      box-shadow: 0px 1px 2px rgba(60, 64, 67, 0.3), 0px 1px 3px 1px rgba(60, 64, 67, 0.15);\n",
              "      fill: #174EA6;\n",
              "    }\n",
              "\n",
              "    [theme=dark] .colab-df-convert {\n",
              "      background-color: #3B4455;\n",
              "      fill: #D2E3FC;\n",
              "    }\n",
              "\n",
              "    [theme=dark] .colab-df-convert:hover {\n",
              "      background-color: #434B5C;\n",
              "      box-shadow: 0px 1px 3px 1px rgba(0, 0, 0, 0.15);\n",
              "      filter: drop-shadow(0px 1px 2px rgba(0, 0, 0, 0.3));\n",
              "      fill: #FFFFFF;\n",
              "    }\n",
              "  </style>\n",
              "\n",
              "      <script>\n",
              "        const buttonEl =\n",
              "          document.querySelector('#df-6759f61c-4124-4457-b1f3-238c31630a2b button.colab-df-convert');\n",
              "        buttonEl.style.display =\n",
              "          google.colab.kernel.accessAllowed ? 'block' : 'none';\n",
              "\n",
              "        async function convertToInteractive(key) {\n",
              "          const element = document.querySelector('#df-6759f61c-4124-4457-b1f3-238c31630a2b');\n",
              "          const dataTable =\n",
              "            await google.colab.kernel.invokeFunction('convertToInteractive',\n",
              "                                                     [key], {});\n",
              "          if (!dataTable) return;\n",
              "\n",
              "          const docLinkHtml = 'Like what you see? Visit the ' +\n",
              "            '<a target=\"_blank\" href=https://colab.research.google.com/notebooks/data_table.ipynb>data table notebook</a>'\n",
              "            + ' to learn more about interactive tables.';\n",
              "          element.innerHTML = '';\n",
              "          dataTable['output_type'] = 'display_data';\n",
              "          await google.colab.output.renderOutput(dataTable, element);\n",
              "          const docLink = document.createElement('div');\n",
              "          docLink.innerHTML = docLinkHtml;\n",
              "          element.appendChild(docLink);\n",
              "        }\n",
              "      </script>\n",
              "    </div>\n",
              "  </div>\n",
              "  "
            ]
          },
          "metadata": {}
        }
      ],
      "source": [
        "def cleanup_text(text):\n",
        "    punctuation_signs = list(\"?:!,;\")\n",
        "    text = text.replace(\"\\n\",\"\")\n",
        "    text = text.replace(\"\\r\", \" \")\n",
        "    text = text.replace(\"    \", \" \")\n",
        "    text = text.replace('\"', '')\n",
        "    text = text.replace(\"'s\", \"\")\n",
        "    for punct_sign in punctuation_signs:\n",
        "      text = text.replace(punct_sign, '')\n",
        "    words = re.sub(pattern = '[^a-zA-Z]',repl = ' ', string = text)\n",
        "    words = words.lower()\n",
        "    return words\n",
        "\n",
        "\n",
        "train_data['processed_discourse'] = train_data['discourse_text'].apply(cleanup_text)\n",
        "train_data['processed_essay'] = train_data['essay_text'].apply(cleanup_text)\n",
        "\n",
        "\n",
        "test_data['normalized_discourse'] = test_data['discourse_text'].apply(resolve_encodings_and_normalize)\n",
        "test_data['processed_discourse'] = test_data['normalized_discourse'].apply(cleanup_text)\n",
        "\n",
        "test_data['processed_essay'] = test_data['essay_text'].apply(resolve_encodings_and_normalize)\n",
        "test_data['processed_essay'] = test_data['processed_essay'].apply(cleanup_text)\n",
        "display(test_data[test_data['discourse_id'] == '84942fc2ab0f'].head(1))"
      ]
    },
    {
      "cell_type": "markdown",
      "id": "a7c305e9-ae41-42b5-bc04-79abf26a040c",
      "metadata": {
        "id": "a7c305e9-ae41-42b5-bc04-79abf26a040c"
      },
      "source": [
        "## BERT Encoder"
      ]
    },
    {
      "cell_type": "code",
      "execution_count": 13,
      "id": "dec0a09c-8955-4fbc-a61b-dd3a85d65c01",
      "metadata": {
        "tags": [],
        "id": "dec0a09c-8955-4fbc-a61b-dd3a85d65c01",
        "colab": {
          "base_uri": "https://localhost:8080/",
          "height": 113,
          "referenced_widgets": [
            "e0e7ba665cd044c19dad214f6107d278",
            "82e5218984064917882b537a298dbd84",
            "f8e440f806e04aad974bf422960dc848",
            "29544027e426439e9822f95c7c01b199",
            "c69438fa335e49d59e9a1b435539852e",
            "921158d8676b421da9c53897cbbeca92",
            "929bcc0eb5d24f76b08ca196d75e0a15",
            "61e86f99a03f4fe7bec6472606d12f69",
            "6be0fcba60bc4b1ca5a51946bf6b2cad",
            "fdd70928e296451a892ec46121117e47",
            "be35691312a44dfca449e87fb4f8eb9d",
            "991fcb95744249f296701ffa10fcf881",
            "81e34f6000bb45548506a9d13f0a1601",
            "c13af37a8fcf4815bc9f7f799dd2f6ed",
            "6b17981f9136482bb7707951c7802edc",
            "7831fbe9e77843ae845e222778e07796",
            "04f1940c55ed4fd79ba858190b8cb1f6",
            "932097f5ebfc4b99aa4156e3bb9f4141",
            "14270fd4995a4c09bd583a80a5e02d1d",
            "67fef5709c9b40d5a0f433f7f0cdbeb6",
            "2b146b58892f4d85825ea9e8b79a50de",
            "70d6b5c92dd747f9a401fb16a3eccdba",
            "873897753ff348c69f44543c85a5e04c",
            "6e398668630e4024b74def73e3fc2fbb",
            "54d14a2209064cb7946d5f8b1f4061d9",
            "9ccb9860558e4c60ad7ed9db090a48ce",
            "399feda53d7c4598adeed1057cc93dd4",
            "6580f87cf6eb42ad9642f85db433ca42",
            "1171ea591a304a14ba72ad9489ab5280",
            "b7d8d1a8aa394e528bda2a0243368e4e",
            "65e8b5bab3084a4b9ba65a5b8bd052ae",
            "8c0542b00aa140f381609bd27a36ca25",
            "d41092b396da4670999e53c659c96644"
          ]
        },
        "outputId": "1bd4bd1d-75c6-48e5-ad12-ef9b34748287"
      },
      "outputs": [
        {
          "output_type": "display_data",
          "data": {
            "text/plain": [
              "Downloading (…)solve/main/vocab.txt:   0%|          | 0.00/232k [00:00<?, ?B/s]"
            ],
            "application/vnd.jupyter.widget-view+json": {
              "version_major": 2,
              "version_minor": 0,
              "model_id": "e0e7ba665cd044c19dad214f6107d278"
            }
          },
          "metadata": {}
        },
        {
          "output_type": "display_data",
          "data": {
            "text/plain": [
              "Downloading (…)okenizer_config.json:   0%|          | 0.00/28.0 [00:00<?, ?B/s]"
            ],
            "application/vnd.jupyter.widget-view+json": {
              "version_major": 2,
              "version_minor": 0,
              "model_id": "991fcb95744249f296701ffa10fcf881"
            }
          },
          "metadata": {}
        },
        {
          "output_type": "display_data",
          "data": {
            "text/plain": [
              "Downloading (…)lve/main/config.json:   0%|          | 0.00/483 [00:00<?, ?B/s]"
            ],
            "application/vnd.jupyter.widget-view+json": {
              "version_major": 2,
              "version_minor": 0,
              "model_id": "873897753ff348c69f44543c85a5e04c"
            }
          },
          "metadata": {}
        }
      ],
      "source": [
        "if MODEL_TYPE==\"bert\":\n",
        "    tokenizer = DistilBertTokenizer.from_pretrained('bert-base-uncased', do_lower_case=True)\n",
        "elif MODEL_TYPE==\"distilbert\":\n",
        "    tokenizer = DistilBertTokenizer.from_pretrained('distilbert-base-uncased', do_lower_case=True)\n",
        "# Save the loaded tokenizer locally\n",
        "tokenizer.save_pretrained('.')\n",
        "sep = tokenizer.sep_token\n"
      ]
    },
    {
      "cell_type": "code",
      "execution_count": 14,
      "id": "b947a1bc-10d2-43f6-8ea7-5121f215584b",
      "metadata": {
        "tags": [],
        "colab": {
          "base_uri": "https://localhost:8080/",
          "height": 1000
        },
        "id": "b947a1bc-10d2-43f6-8ea7-5121f215584b",
        "outputId": "ace93868-ca9e-43fc-a001-ec287e2b7839"
      },
      "outputs": [
        {
          "output_type": "execute_result",
          "data": {
            "text/plain": [
              "   discourse_id      essay_id  \\\n",
              "0  0013cc385424  007ACE74B050   \n",
              "1  9704a709b505  007ACE74B050   \n",
              "\n",
              "                                                                                                                                                                                                                                                                                                                  discourse_text  \\\n",
              "0  Hi, i'm Isaac, i'm going to be writing about how this face on Mars is a natural landform or if there is life on Mars that made it. The story is about how NASA took a picture of Mars and a face was seen on the planet. NASA doesn't know if the landform was created by life on Mars, or if it is just a natural landform.    \n",
              "1                                                                                                             On my perspective, I think that the face is a natural landform because I dont think that there is any life on Mars. In these next few paragraphs, I'll be talking about how I think that is is a natural landform    \n",
              "\n",
              "  discourse_type discourse_effectiveness  \\\n",
              "0           Lead                Adequate   \n",
              "1       Position                Adequate   \n",
              "\n",
              "                                                                                                                                                                                                                                                                                                                                                                                                                                                                                                                                                                                                                                                                                                                                                                                                                                                                                                                                                                                                                                                                                                                                                                                                                                                                                                                                                                                                                                                                                                                                                                                                                                                                                                                                                                                                                                                                                         essay_text  \\\n",
              "0  Hi, i'm Isaac, i'm going to be writing about how this face on Mars is a natural landform or if there is life on Mars that made it. The story is about how NASA took a picture of Mars and a face was seen on the planet. NASA doesn't know if the landform was created by life on Mars, or if it is just a natural landform. On my perspective, I think that the face is a natural landform because I dont think that there is any life on Mars. In these next few paragraphs, I'll be talking about how I think that is is a natural landform\\n\\nI think that the face is a natural landform because there is no life on Mars that we have descovered yet. If life was on Mars, we would know by now. The reason why I think it is a natural landform because, nobody live on Mars in order to create the figure. It says in paragraph 9, \"It's not easy to target Cydonia,\" in which he is saying that its not easy to know if it is a natural landform at this point. In all that they're saying, its probably a natural landform.\\n\\nPeople thought that the face was formed by alieans because they thought that there was life on Mars. though some say that life on Mars does exist, I think that there is no life on Mars.\\n\\nIt says in paragraph 7, on April 5, 1998, Mars Global Surveyor flew over Cydonia for the first time. Michael Malin took a picture of Mars with his Orbiter Camera, that the face was a natural landform. Everyone who thought it was made by alieans even though it wasn't, was not satisfied. I think they were not satisfied because they have thought since 1976 that it was really formed by alieans.\\n\\nThough people were not satified about how the landform was a natural landform, in all, we new that alieans did not form the face. I would like to know how the landform was formed. we know now that life on Mars doesn't exist.                \n",
              "1  Hi, i'm Isaac, i'm going to be writing about how this face on Mars is a natural landform or if there is life on Mars that made it. The story is about how NASA took a picture of Mars and a face was seen on the planet. NASA doesn't know if the landform was created by life on Mars, or if it is just a natural landform. On my perspective, I think that the face is a natural landform because I dont think that there is any life on Mars. In these next few paragraphs, I'll be talking about how I think that is is a natural landform\\n\\nI think that the face is a natural landform because there is no life on Mars that we have descovered yet. If life was on Mars, we would know by now. The reason why I think it is a natural landform because, nobody live on Mars in order to create the figure. It says in paragraph 9, \"It's not easy to target Cydonia,\" in which he is saying that its not easy to know if it is a natural landform at this point. In all that they're saying, its probably a natural landform.\\n\\nPeople thought that the face was formed by alieans because they thought that there was life on Mars. though some say that life on Mars does exist, I think that there is no life on Mars.\\n\\nIt says in paragraph 7, on April 5, 1998, Mars Global Surveyor flew over Cydonia for the first time. Michael Malin took a picture of Mars with his Orbiter Camera, that the face was a natural landform. Everyone who thought it was made by alieans even though it wasn't, was not satisfied. I think they were not satisfied because they have thought since 1976 that it was really formed by alieans.\\n\\nThough people were not satified about how the landform was a natural landform, in all, we new that alieans did not form the face. I would like to know how the landform was formed. we know now that life on Mars doesn't exist.                \n",
              "\n",
              "                                                                                                                                                                                                                                                                                                          processed_discourse  \\\n",
              "0  hi i m isaac i m going to be writing about how this face on mars is a natural landform or if there is life on mars that made it  the story is about how nasa took a picture of mars and a face was seen on the planet  nasa doesn t know if the landform was created by life on mars or if it is just a natural landform     \n",
              "1                                                                                                            on my perspective i think that the face is a natural landform because i dont think that there is any life on mars  in these next few paragraphs i ll be talking about how i think that is is a natural landform    \n",
              "\n",
              "                                                                                                                                                                                                                                                                                                                                                                                                                                                                                                                                                                                                                                                                                                                                                                                                                                                                                                                                                                                                                                                                                                                                                                                                                                                                                                                                                                                                                                                                                                                                                                                                                                                                                                                                                                                                                                     processed_essay  \\\n",
              "0  hi i m isaac i m going to be writing about how this face on mars is a natural landform or if there is life on mars that made it  the story is about how nasa took a picture of mars and a face was seen on the planet  nasa doesn t know if the landform was created by life on mars or if it is just a natural landform  on my perspective i think that the face is a natural landform because i dont think that there is any life on mars  in these next few paragraphs i ll be talking about how i think that is is a natural landformi think that the face is a natural landform because there is no life on mars that we have descovered yet  if life was on mars we would know by now  the reason why i think it is a natural landform because nobody live on mars in order to create the figure  it says in paragraph   it not easy to target cydonia in which he is saying that its not easy to know if it is a natural landform at this point  in all that they re saying its probably a natural landform people thought that the face was formed by alieans because they thought that there was life on mars  though some say that life on mars does exist i think that there is no life on mars it says in paragraph   on april        mars global surveyor flew over cydonia for the first time  michael malin took a picture of mars with his orbiter camera that the face was a natural landform  everyone who thought it was made by alieans even though it wasn t was not satisfied  i think they were not satisfied because they have thought since      that it was really formed by alieans though people were not satified about how the landform was a natural landform in all we new that alieans did not form the face  i would like to know how the landform was formed  we know now that life on mars doesn t exist        \n",
              "1  hi i m isaac i m going to be writing about how this face on mars is a natural landform or if there is life on mars that made it  the story is about how nasa took a picture of mars and a face was seen on the planet  nasa doesn t know if the landform was created by life on mars or if it is just a natural landform  on my perspective i think that the face is a natural landform because i dont think that there is any life on mars  in these next few paragraphs i ll be talking about how i think that is is a natural landformi think that the face is a natural landform because there is no life on mars that we have descovered yet  if life was on mars we would know by now  the reason why i think it is a natural landform because nobody live on mars in order to create the figure  it says in paragraph   it not easy to target cydonia in which he is saying that its not easy to know if it is a natural landform at this point  in all that they re saying its probably a natural landform people thought that the face was formed by alieans because they thought that there was life on mars  though some say that life on mars does exist i think that there is no life on mars it says in paragraph   on april        mars global surveyor flew over cydonia for the first time  michael malin took a picture of mars with his orbiter camera that the face was a natural landform  everyone who thought it was made by alieans even though it wasn t was not satisfied  i think they were not satisfied because they have thought since      that it was really formed by alieans though people were not satified about how the landform was a natural landform in all we new that alieans did not form the face  i would like to know how the landform was formed  we know now that life on mars doesn t exist        \n",
              "\n",
              "                                                                                                                                                                                                                                                                                                                                   inputs  \n",
              "0  Lead[SEP]Hi, i'm Isaac, i'm going to be writing about how this face on Mars is a natural landform or if there is life on Mars that made it. The story is about how NASA took a picture of Mars and a face was seen on the planet. NASA doesn't know if the landform was created by life on Mars, or if it is just a natural landform.   \n",
              "1                                                                                                         Position[SEP]On my perspective, I think that the face is a natural landform because I dont think that there is any life on Mars. In these next few paragraphs, I'll be talking about how I think that is is a natural landform   "
            ],
            "text/html": [
              "\n",
              "  <div id=\"df-22a2a5c1-af44-4d99-9581-9dfc51d8969e\">\n",
              "    <div class=\"colab-df-container\">\n",
              "      <div>\n",
              "<style scoped>\n",
              "    .dataframe tbody tr th:only-of-type {\n",
              "        vertical-align: middle;\n",
              "    }\n",
              "\n",
              "    .dataframe tbody tr th {\n",
              "        vertical-align: top;\n",
              "    }\n",
              "\n",
              "    .dataframe thead th {\n",
              "        text-align: right;\n",
              "    }\n",
              "</style>\n",
              "<table border=\"1\" class=\"dataframe\">\n",
              "  <thead>\n",
              "    <tr style=\"text-align: right;\">\n",
              "      <th></th>\n",
              "      <th>discourse_id</th>\n",
              "      <th>essay_id</th>\n",
              "      <th>discourse_text</th>\n",
              "      <th>discourse_type</th>\n",
              "      <th>discourse_effectiveness</th>\n",
              "      <th>essay_text</th>\n",
              "      <th>processed_discourse</th>\n",
              "      <th>processed_essay</th>\n",
              "      <th>inputs</th>\n",
              "    </tr>\n",
              "  </thead>\n",
              "  <tbody>\n",
              "    <tr>\n",
              "      <th>0</th>\n",
              "      <td>0013cc385424</td>\n",
              "      <td>007ACE74B050</td>\n",
              "      <td>Hi, i'm Isaac, i'm going to be writing about how this face on Mars is a natural landform or if there is life on Mars that made it. The story is about how NASA took a picture of Mars and a face was seen on the planet. NASA doesn't know if the landform was created by life on Mars, or if it is just a natural landform.</td>\n",
              "      <td>Lead</td>\n",
              "      <td>Adequate</td>\n",
              "      <td>Hi, i'm Isaac, i'm going to be writing about how this face on Mars is a natural landform or if there is life on Mars that made it. The story is about how NASA took a picture of Mars and a face was seen on the planet. NASA doesn't know if the landform was created by life on Mars, or if it is just a natural landform. On my perspective, I think that the face is a natural landform because I dont think that there is any life on Mars. In these next few paragraphs, I'll be talking about how I think that is is a natural landform\\n\\nI think that the face is a natural landform because there is no life on Mars that we have descovered yet. If life was on Mars, we would know by now. The reason why I think it is a natural landform because, nobody live on Mars in order to create the figure. It says in paragraph 9, \"It's not easy to target Cydonia,\" in which he is saying that its not easy to know if it is a natural landform at this point. In all that they're saying, its probably a natural landform.\\n\\nPeople thought that the face was formed by alieans because they thought that there was life on Mars. though some say that life on Mars does exist, I think that there is no life on Mars.\\n\\nIt says in paragraph 7, on April 5, 1998, Mars Global Surveyor flew over Cydonia for the first time. Michael Malin took a picture of Mars with his Orbiter Camera, that the face was a natural landform. Everyone who thought it was made by alieans even though it wasn't, was not satisfied. I think they were not satisfied because they have thought since 1976 that it was really formed by alieans.\\n\\nThough people were not satified about how the landform was a natural landform, in all, we new that alieans did not form the face. I would like to know how the landform was formed. we know now that life on Mars doesn't exist.</td>\n",
              "      <td>hi i m isaac i m going to be writing about how this face on mars is a natural landform or if there is life on mars that made it  the story is about how nasa took a picture of mars and a face was seen on the planet  nasa doesn t know if the landform was created by life on mars or if it is just a natural landform</td>\n",
              "      <td>hi i m isaac i m going to be writing about how this face on mars is a natural landform or if there is life on mars that made it  the story is about how nasa took a picture of mars and a face was seen on the planet  nasa doesn t know if the landform was created by life on mars or if it is just a natural landform  on my perspective i think that the face is a natural landform because i dont think that there is any life on mars  in these next few paragraphs i ll be talking about how i think that is is a natural landformi think that the face is a natural landform because there is no life on mars that we have descovered yet  if life was on mars we would know by now  the reason why i think it is a natural landform because nobody live on mars in order to create the figure  it says in paragraph   it not easy to target cydonia in which he is saying that its not easy to know if it is a natural landform at this point  in all that they re saying its probably a natural landform people thought that the face was formed by alieans because they thought that there was life on mars  though some say that life on mars does exist i think that there is no life on mars it says in paragraph   on april        mars global surveyor flew over cydonia for the first time  michael malin took a picture of mars with his orbiter camera that the face was a natural landform  everyone who thought it was made by alieans even though it wasn t was not satisfied  i think they were not satisfied because they have thought since      that it was really formed by alieans though people were not satified about how the landform was a natural landform in all we new that alieans did not form the face  i would like to know how the landform was formed  we know now that life on mars doesn t exist</td>\n",
              "      <td>Lead[SEP]Hi, i'm Isaac, i'm going to be writing about how this face on Mars is a natural landform or if there is life on Mars that made it. The story is about how NASA took a picture of Mars and a face was seen on the planet. NASA doesn't know if the landform was created by life on Mars, or if it is just a natural landform.</td>\n",
              "    </tr>\n",
              "    <tr>\n",
              "      <th>1</th>\n",
              "      <td>9704a709b505</td>\n",
              "      <td>007ACE74B050</td>\n",
              "      <td>On my perspective, I think that the face is a natural landform because I dont think that there is any life on Mars. In these next few paragraphs, I'll be talking about how I think that is is a natural landform</td>\n",
              "      <td>Position</td>\n",
              "      <td>Adequate</td>\n",
              "      <td>Hi, i'm Isaac, i'm going to be writing about how this face on Mars is a natural landform or if there is life on Mars that made it. The story is about how NASA took a picture of Mars and a face was seen on the planet. NASA doesn't know if the landform was created by life on Mars, or if it is just a natural landform. On my perspective, I think that the face is a natural landform because I dont think that there is any life on Mars. In these next few paragraphs, I'll be talking about how I think that is is a natural landform\\n\\nI think that the face is a natural landform because there is no life on Mars that we have descovered yet. If life was on Mars, we would know by now. The reason why I think it is a natural landform because, nobody live on Mars in order to create the figure. It says in paragraph 9, \"It's not easy to target Cydonia,\" in which he is saying that its not easy to know if it is a natural landform at this point. In all that they're saying, its probably a natural landform.\\n\\nPeople thought that the face was formed by alieans because they thought that there was life on Mars. though some say that life on Mars does exist, I think that there is no life on Mars.\\n\\nIt says in paragraph 7, on April 5, 1998, Mars Global Surveyor flew over Cydonia for the first time. Michael Malin took a picture of Mars with his Orbiter Camera, that the face was a natural landform. Everyone who thought it was made by alieans even though it wasn't, was not satisfied. I think they were not satisfied because they have thought since 1976 that it was really formed by alieans.\\n\\nThough people were not satified about how the landform was a natural landform, in all, we new that alieans did not form the face. I would like to know how the landform was formed. we know now that life on Mars doesn't exist.</td>\n",
              "      <td>on my perspective i think that the face is a natural landform because i dont think that there is any life on mars  in these next few paragraphs i ll be talking about how i think that is is a natural landform</td>\n",
              "      <td>hi i m isaac i m going to be writing about how this face on mars is a natural landform or if there is life on mars that made it  the story is about how nasa took a picture of mars and a face was seen on the planet  nasa doesn t know if the landform was created by life on mars or if it is just a natural landform  on my perspective i think that the face is a natural landform because i dont think that there is any life on mars  in these next few paragraphs i ll be talking about how i think that is is a natural landformi think that the face is a natural landform because there is no life on mars that we have descovered yet  if life was on mars we would know by now  the reason why i think it is a natural landform because nobody live on mars in order to create the figure  it says in paragraph   it not easy to target cydonia in which he is saying that its not easy to know if it is a natural landform at this point  in all that they re saying its probably a natural landform people thought that the face was formed by alieans because they thought that there was life on mars  though some say that life on mars does exist i think that there is no life on mars it says in paragraph   on april        mars global surveyor flew over cydonia for the first time  michael malin took a picture of mars with his orbiter camera that the face was a natural landform  everyone who thought it was made by alieans even though it wasn t was not satisfied  i think they were not satisfied because they have thought since      that it was really formed by alieans though people were not satified about how the landform was a natural landform in all we new that alieans did not form the face  i would like to know how the landform was formed  we know now that life on mars doesn t exist</td>\n",
              "      <td>Position[SEP]On my perspective, I think that the face is a natural landform because I dont think that there is any life on Mars. In these next few paragraphs, I'll be talking about how I think that is is a natural landform</td>\n",
              "    </tr>\n",
              "  </tbody>\n",
              "</table>\n",
              "</div>\n",
              "      <button class=\"colab-df-convert\" onclick=\"convertToInteractive('df-22a2a5c1-af44-4d99-9581-9dfc51d8969e')\"\n",
              "              title=\"Convert this dataframe to an interactive table.\"\n",
              "              style=\"display:none;\">\n",
              "        \n",
              "  <svg xmlns=\"http://www.w3.org/2000/svg\" height=\"24px\"viewBox=\"0 0 24 24\"\n",
              "       width=\"24px\">\n",
              "    <path d=\"M0 0h24v24H0V0z\" fill=\"none\"/>\n",
              "    <path d=\"M18.56 5.44l.94 2.06.94-2.06 2.06-.94-2.06-.94-.94-2.06-.94 2.06-2.06.94zm-11 1L8.5 8.5l.94-2.06 2.06-.94-2.06-.94L8.5 2.5l-.94 2.06-2.06.94zm10 10l.94 2.06.94-2.06 2.06-.94-2.06-.94-.94-2.06-.94 2.06-2.06.94z\"/><path d=\"M17.41 7.96l-1.37-1.37c-.4-.4-.92-.59-1.43-.59-.52 0-1.04.2-1.43.59L10.3 9.45l-7.72 7.72c-.78.78-.78 2.05 0 2.83L4 21.41c.39.39.9.59 1.41.59.51 0 1.02-.2 1.41-.59l7.78-7.78 2.81-2.81c.8-.78.8-2.07 0-2.86zM5.41 20L4 18.59l7.72-7.72 1.47 1.35L5.41 20z\"/>\n",
              "  </svg>\n",
              "      </button>\n",
              "      \n",
              "  <style>\n",
              "    .colab-df-container {\n",
              "      display:flex;\n",
              "      flex-wrap:wrap;\n",
              "      gap: 12px;\n",
              "    }\n",
              "\n",
              "    .colab-df-convert {\n",
              "      background-color: #E8F0FE;\n",
              "      border: none;\n",
              "      border-radius: 50%;\n",
              "      cursor: pointer;\n",
              "      display: none;\n",
              "      fill: #1967D2;\n",
              "      height: 32px;\n",
              "      padding: 0 0 0 0;\n",
              "      width: 32px;\n",
              "    }\n",
              "\n",
              "    .colab-df-convert:hover {\n",
              "      background-color: #E2EBFA;\n",
              "      box-shadow: 0px 1px 2px rgba(60, 64, 67, 0.3), 0px 1px 3px 1px rgba(60, 64, 67, 0.15);\n",
              "      fill: #174EA6;\n",
              "    }\n",
              "\n",
              "    [theme=dark] .colab-df-convert {\n",
              "      background-color: #3B4455;\n",
              "      fill: #D2E3FC;\n",
              "    }\n",
              "\n",
              "    [theme=dark] .colab-df-convert:hover {\n",
              "      background-color: #434B5C;\n",
              "      box-shadow: 0px 1px 3px 1px rgba(0, 0, 0, 0.15);\n",
              "      filter: drop-shadow(0px 1px 2px rgba(0, 0, 0, 0.3));\n",
              "      fill: #FFFFFF;\n",
              "    }\n",
              "  </style>\n",
              "\n",
              "      <script>\n",
              "        const buttonEl =\n",
              "          document.querySelector('#df-22a2a5c1-af44-4d99-9581-9dfc51d8969e button.colab-df-convert');\n",
              "        buttonEl.style.display =\n",
              "          google.colab.kernel.accessAllowed ? 'block' : 'none';\n",
              "\n",
              "        async function convertToInteractive(key) {\n",
              "          const element = document.querySelector('#df-22a2a5c1-af44-4d99-9581-9dfc51d8969e');\n",
              "          const dataTable =\n",
              "            await google.colab.kernel.invokeFunction('convertToInteractive',\n",
              "                                                     [key], {});\n",
              "          if (!dataTable) return;\n",
              "\n",
              "          const docLinkHtml = 'Like what you see? Visit the ' +\n",
              "            '<a target=\"_blank\" href=https://colab.research.google.com/notebooks/data_table.ipynb>data table notebook</a>'\n",
              "            + ' to learn more about interactive tables.';\n",
              "          element.innerHTML = '';\n",
              "          dataTable['output_type'] = 'display_data';\n",
              "          await google.colab.output.renderOutput(dataTable, element);\n",
              "          const docLink = document.createElement('div');\n",
              "          docLink.innerHTML = docLinkHtml;\n",
              "          element.appendChild(docLink);\n",
              "        }\n",
              "      </script>\n",
              "    </div>\n",
              "  </div>\n",
              "  "
            ]
          },
          "metadata": {},
          "execution_count": 14
        }
      ],
      "source": [
        "train_data['inputs'] = train_data.discourse_type + sep +train_data.discourse_text\n",
        "train_data.head(2)"
      ]
    },
    {
      "cell_type": "code",
      "execution_count": 15,
      "id": "eb55bbcf-6bc7-492f-a03a-edae2a1af857",
      "metadata": {
        "tags": [],
        "id": "eb55bbcf-6bc7-492f-a03a-edae2a1af857"
      },
      "outputs": [],
      "source": [
        "bin_map = {\"discourse_effectiveness\": {\"Ineffective\": 0, \"Adequate\": 1, \"Effective\": 2}}\n",
        "train_data = train_data.replace(bin_map)\n",
        "train_data = train_data.rename(columns = {\"discourse_effectiveness\": \"label\"})\n"
      ]
    },
    {
      "cell_type": "code",
      "execution_count": 16,
      "id": "9e38ff16-0b1b-404e-811e-76ff3808702c",
      "metadata": {
        "tags": [],
        "colab": {
          "base_uri": "https://localhost:8080/",
          "height": 1000
        },
        "id": "9e38ff16-0b1b-404e-811e-76ff3808702c",
        "outputId": "1c7eb0cd-97bc-4049-f4b8-3a652dfa1e5f"
      },
      "outputs": [
        {
          "output_type": "execute_result",
          "data": {
            "text/plain": [
              "   discourse_id      essay_id  \\\n",
              "0  0013cc385424  007ACE74B050   \n",
              "1  9704a709b505  007ACE74B050   \n",
              "\n",
              "                                                                                                                                                                                                                                                                                                                  discourse_text  \\\n",
              "0  Hi, i'm Isaac, i'm going to be writing about how this face on Mars is a natural landform or if there is life on Mars that made it. The story is about how NASA took a picture of Mars and a face was seen on the planet. NASA doesn't know if the landform was created by life on Mars, or if it is just a natural landform.    \n",
              "1                                                                                                             On my perspective, I think that the face is a natural landform because I dont think that there is any life on Mars. In these next few paragraphs, I'll be talking about how I think that is is a natural landform    \n",
              "\n",
              "  discourse_type  label  \\\n",
              "0           Lead      1   \n",
              "1       Position      1   \n",
              "\n",
              "                                                                                                                                                                                                                                                                                                                                                                                                                                                                                                                                                                                                                                                                                                                                                                                                                                                                                                                                                                                                                                                                                                                                                                                                                                                                                                                                                                                                                                                                                                                                                                                                                                                                                                                                                                                                                                                                                         essay_text  \\\n",
              "0  Hi, i'm Isaac, i'm going to be writing about how this face on Mars is a natural landform or if there is life on Mars that made it. The story is about how NASA took a picture of Mars and a face was seen on the planet. NASA doesn't know if the landform was created by life on Mars, or if it is just a natural landform. On my perspective, I think that the face is a natural landform because I dont think that there is any life on Mars. In these next few paragraphs, I'll be talking about how I think that is is a natural landform\\n\\nI think that the face is a natural landform because there is no life on Mars that we have descovered yet. If life was on Mars, we would know by now. The reason why I think it is a natural landform because, nobody live on Mars in order to create the figure. It says in paragraph 9, \"It's not easy to target Cydonia,\" in which he is saying that its not easy to know if it is a natural landform at this point. In all that they're saying, its probably a natural landform.\\n\\nPeople thought that the face was formed by alieans because they thought that there was life on Mars. though some say that life on Mars does exist, I think that there is no life on Mars.\\n\\nIt says in paragraph 7, on April 5, 1998, Mars Global Surveyor flew over Cydonia for the first time. Michael Malin took a picture of Mars with his Orbiter Camera, that the face was a natural landform. Everyone who thought it was made by alieans even though it wasn't, was not satisfied. I think they were not satisfied because they have thought since 1976 that it was really formed by alieans.\\n\\nThough people were not satified about how the landform was a natural landform, in all, we new that alieans did not form the face. I would like to know how the landform was formed. we know now that life on Mars doesn't exist.                \n",
              "1  Hi, i'm Isaac, i'm going to be writing about how this face on Mars is a natural landform or if there is life on Mars that made it. The story is about how NASA took a picture of Mars and a face was seen on the planet. NASA doesn't know if the landform was created by life on Mars, or if it is just a natural landform. On my perspective, I think that the face is a natural landform because I dont think that there is any life on Mars. In these next few paragraphs, I'll be talking about how I think that is is a natural landform\\n\\nI think that the face is a natural landform because there is no life on Mars that we have descovered yet. If life was on Mars, we would know by now. The reason why I think it is a natural landform because, nobody live on Mars in order to create the figure. It says in paragraph 9, \"It's not easy to target Cydonia,\" in which he is saying that its not easy to know if it is a natural landform at this point. In all that they're saying, its probably a natural landform.\\n\\nPeople thought that the face was formed by alieans because they thought that there was life on Mars. though some say that life on Mars does exist, I think that there is no life on Mars.\\n\\nIt says in paragraph 7, on April 5, 1998, Mars Global Surveyor flew over Cydonia for the first time. Michael Malin took a picture of Mars with his Orbiter Camera, that the face was a natural landform. Everyone who thought it was made by alieans even though it wasn't, was not satisfied. I think they were not satisfied because they have thought since 1976 that it was really formed by alieans.\\n\\nThough people were not satified about how the landform was a natural landform, in all, we new that alieans did not form the face. I would like to know how the landform was formed. we know now that life on Mars doesn't exist.                \n",
              "\n",
              "                                                                                                                                                                                                                                                                                                          processed_discourse  \\\n",
              "0  hi i m isaac i m going to be writing about how this face on mars is a natural landform or if there is life on mars that made it  the story is about how nasa took a picture of mars and a face was seen on the planet  nasa doesn t know if the landform was created by life on mars or if it is just a natural landform     \n",
              "1                                                                                                            on my perspective i think that the face is a natural landform because i dont think that there is any life on mars  in these next few paragraphs i ll be talking about how i think that is is a natural landform    \n",
              "\n",
              "                                                                                                                                                                                                                                                                                                                                                                                                                                                                                                                                                                                                                                                                                                                                                                                                                                                                                                                                                                                                                                                                                                                                                                                                                                                                                                                                                                                                                                                                                                                                                                                                                                                                                                                                                                                                                                     processed_essay  \\\n",
              "0  hi i m isaac i m going to be writing about how this face on mars is a natural landform or if there is life on mars that made it  the story is about how nasa took a picture of mars and a face was seen on the planet  nasa doesn t know if the landform was created by life on mars or if it is just a natural landform  on my perspective i think that the face is a natural landform because i dont think that there is any life on mars  in these next few paragraphs i ll be talking about how i think that is is a natural landformi think that the face is a natural landform because there is no life on mars that we have descovered yet  if life was on mars we would know by now  the reason why i think it is a natural landform because nobody live on mars in order to create the figure  it says in paragraph   it not easy to target cydonia in which he is saying that its not easy to know if it is a natural landform at this point  in all that they re saying its probably a natural landform people thought that the face was formed by alieans because they thought that there was life on mars  though some say that life on mars does exist i think that there is no life on mars it says in paragraph   on april        mars global surveyor flew over cydonia for the first time  michael malin took a picture of mars with his orbiter camera that the face was a natural landform  everyone who thought it was made by alieans even though it wasn t was not satisfied  i think they were not satisfied because they have thought since      that it was really formed by alieans though people were not satified about how the landform was a natural landform in all we new that alieans did not form the face  i would like to know how the landform was formed  we know now that life on mars doesn t exist        \n",
              "1  hi i m isaac i m going to be writing about how this face on mars is a natural landform or if there is life on mars that made it  the story is about how nasa took a picture of mars and a face was seen on the planet  nasa doesn t know if the landform was created by life on mars or if it is just a natural landform  on my perspective i think that the face is a natural landform because i dont think that there is any life on mars  in these next few paragraphs i ll be talking about how i think that is is a natural landformi think that the face is a natural landform because there is no life on mars that we have descovered yet  if life was on mars we would know by now  the reason why i think it is a natural landform because nobody live on mars in order to create the figure  it says in paragraph   it not easy to target cydonia in which he is saying that its not easy to know if it is a natural landform at this point  in all that they re saying its probably a natural landform people thought that the face was formed by alieans because they thought that there was life on mars  though some say that life on mars does exist i think that there is no life on mars it says in paragraph   on april        mars global surveyor flew over cydonia for the first time  michael malin took a picture of mars with his orbiter camera that the face was a natural landform  everyone who thought it was made by alieans even though it wasn t was not satisfied  i think they were not satisfied because they have thought since      that it was really formed by alieans though people were not satified about how the landform was a natural landform in all we new that alieans did not form the face  i would like to know how the landform was formed  we know now that life on mars doesn t exist        \n",
              "\n",
              "                                                                                                                                                                                                                                                                                                                                   inputs  \n",
              "0  Lead[SEP]Hi, i'm Isaac, i'm going to be writing about how this face on Mars is a natural landform or if there is life on Mars that made it. The story is about how NASA took a picture of Mars and a face was seen on the planet. NASA doesn't know if the landform was created by life on Mars, or if it is just a natural landform.   \n",
              "1                                                                                                         Position[SEP]On my perspective, I think that the face is a natural landform because I dont think that there is any life on Mars. In these next few paragraphs, I'll be talking about how I think that is is a natural landform   "
            ],
            "text/html": [
              "\n",
              "  <div id=\"df-363841b5-fa54-42c9-bb7d-4ba2b25a45e3\">\n",
              "    <div class=\"colab-df-container\">\n",
              "      <div>\n",
              "<style scoped>\n",
              "    .dataframe tbody tr th:only-of-type {\n",
              "        vertical-align: middle;\n",
              "    }\n",
              "\n",
              "    .dataframe tbody tr th {\n",
              "        vertical-align: top;\n",
              "    }\n",
              "\n",
              "    .dataframe thead th {\n",
              "        text-align: right;\n",
              "    }\n",
              "</style>\n",
              "<table border=\"1\" class=\"dataframe\">\n",
              "  <thead>\n",
              "    <tr style=\"text-align: right;\">\n",
              "      <th></th>\n",
              "      <th>discourse_id</th>\n",
              "      <th>essay_id</th>\n",
              "      <th>discourse_text</th>\n",
              "      <th>discourse_type</th>\n",
              "      <th>label</th>\n",
              "      <th>essay_text</th>\n",
              "      <th>processed_discourse</th>\n",
              "      <th>processed_essay</th>\n",
              "      <th>inputs</th>\n",
              "    </tr>\n",
              "  </thead>\n",
              "  <tbody>\n",
              "    <tr>\n",
              "      <th>0</th>\n",
              "      <td>0013cc385424</td>\n",
              "      <td>007ACE74B050</td>\n",
              "      <td>Hi, i'm Isaac, i'm going to be writing about how this face on Mars is a natural landform or if there is life on Mars that made it. The story is about how NASA took a picture of Mars and a face was seen on the planet. NASA doesn't know if the landform was created by life on Mars, or if it is just a natural landform.</td>\n",
              "      <td>Lead</td>\n",
              "      <td>1</td>\n",
              "      <td>Hi, i'm Isaac, i'm going to be writing about how this face on Mars is a natural landform or if there is life on Mars that made it. The story is about how NASA took a picture of Mars and a face was seen on the planet. NASA doesn't know if the landform was created by life on Mars, or if it is just a natural landform. On my perspective, I think that the face is a natural landform because I dont think that there is any life on Mars. In these next few paragraphs, I'll be talking about how I think that is is a natural landform\\n\\nI think that the face is a natural landform because there is no life on Mars that we have descovered yet. If life was on Mars, we would know by now. The reason why I think it is a natural landform because, nobody live on Mars in order to create the figure. It says in paragraph 9, \"It's not easy to target Cydonia,\" in which he is saying that its not easy to know if it is a natural landform at this point. In all that they're saying, its probably a natural landform.\\n\\nPeople thought that the face was formed by alieans because they thought that there was life on Mars. though some say that life on Mars does exist, I think that there is no life on Mars.\\n\\nIt says in paragraph 7, on April 5, 1998, Mars Global Surveyor flew over Cydonia for the first time. Michael Malin took a picture of Mars with his Orbiter Camera, that the face was a natural landform. Everyone who thought it was made by alieans even though it wasn't, was not satisfied. I think they were not satisfied because they have thought since 1976 that it was really formed by alieans.\\n\\nThough people were not satified about how the landform was a natural landform, in all, we new that alieans did not form the face. I would like to know how the landform was formed. we know now that life on Mars doesn't exist.</td>\n",
              "      <td>hi i m isaac i m going to be writing about how this face on mars is a natural landform or if there is life on mars that made it  the story is about how nasa took a picture of mars and a face was seen on the planet  nasa doesn t know if the landform was created by life on mars or if it is just a natural landform</td>\n",
              "      <td>hi i m isaac i m going to be writing about how this face on mars is a natural landform or if there is life on mars that made it  the story is about how nasa took a picture of mars and a face was seen on the planet  nasa doesn t know if the landform was created by life on mars or if it is just a natural landform  on my perspective i think that the face is a natural landform because i dont think that there is any life on mars  in these next few paragraphs i ll be talking about how i think that is is a natural landformi think that the face is a natural landform because there is no life on mars that we have descovered yet  if life was on mars we would know by now  the reason why i think it is a natural landform because nobody live on mars in order to create the figure  it says in paragraph   it not easy to target cydonia in which he is saying that its not easy to know if it is a natural landform at this point  in all that they re saying its probably a natural landform people thought that the face was formed by alieans because they thought that there was life on mars  though some say that life on mars does exist i think that there is no life on mars it says in paragraph   on april        mars global surveyor flew over cydonia for the first time  michael malin took a picture of mars with his orbiter camera that the face was a natural landform  everyone who thought it was made by alieans even though it wasn t was not satisfied  i think they were not satisfied because they have thought since      that it was really formed by alieans though people were not satified about how the landform was a natural landform in all we new that alieans did not form the face  i would like to know how the landform was formed  we know now that life on mars doesn t exist</td>\n",
              "      <td>Lead[SEP]Hi, i'm Isaac, i'm going to be writing about how this face on Mars is a natural landform or if there is life on Mars that made it. The story is about how NASA took a picture of Mars and a face was seen on the planet. NASA doesn't know if the landform was created by life on Mars, or if it is just a natural landform.</td>\n",
              "    </tr>\n",
              "    <tr>\n",
              "      <th>1</th>\n",
              "      <td>9704a709b505</td>\n",
              "      <td>007ACE74B050</td>\n",
              "      <td>On my perspective, I think that the face is a natural landform because I dont think that there is any life on Mars. In these next few paragraphs, I'll be talking about how I think that is is a natural landform</td>\n",
              "      <td>Position</td>\n",
              "      <td>1</td>\n",
              "      <td>Hi, i'm Isaac, i'm going to be writing about how this face on Mars is a natural landform or if there is life on Mars that made it. The story is about how NASA took a picture of Mars and a face was seen on the planet. NASA doesn't know if the landform was created by life on Mars, or if it is just a natural landform. On my perspective, I think that the face is a natural landform because I dont think that there is any life on Mars. In these next few paragraphs, I'll be talking about how I think that is is a natural landform\\n\\nI think that the face is a natural landform because there is no life on Mars that we have descovered yet. If life was on Mars, we would know by now. The reason why I think it is a natural landform because, nobody live on Mars in order to create the figure. It says in paragraph 9, \"It's not easy to target Cydonia,\" in which he is saying that its not easy to know if it is a natural landform at this point. In all that they're saying, its probably a natural landform.\\n\\nPeople thought that the face was formed by alieans because they thought that there was life on Mars. though some say that life on Mars does exist, I think that there is no life on Mars.\\n\\nIt says in paragraph 7, on April 5, 1998, Mars Global Surveyor flew over Cydonia for the first time. Michael Malin took a picture of Mars with his Orbiter Camera, that the face was a natural landform. Everyone who thought it was made by alieans even though it wasn't, was not satisfied. I think they were not satisfied because they have thought since 1976 that it was really formed by alieans.\\n\\nThough people were not satified about how the landform was a natural landform, in all, we new that alieans did not form the face. I would like to know how the landform was formed. we know now that life on Mars doesn't exist.</td>\n",
              "      <td>on my perspective i think that the face is a natural landform because i dont think that there is any life on mars  in these next few paragraphs i ll be talking about how i think that is is a natural landform</td>\n",
              "      <td>hi i m isaac i m going to be writing about how this face on mars is a natural landform or if there is life on mars that made it  the story is about how nasa took a picture of mars and a face was seen on the planet  nasa doesn t know if the landform was created by life on mars or if it is just a natural landform  on my perspective i think that the face is a natural landform because i dont think that there is any life on mars  in these next few paragraphs i ll be talking about how i think that is is a natural landformi think that the face is a natural landform because there is no life on mars that we have descovered yet  if life was on mars we would know by now  the reason why i think it is a natural landform because nobody live on mars in order to create the figure  it says in paragraph   it not easy to target cydonia in which he is saying that its not easy to know if it is a natural landform at this point  in all that they re saying its probably a natural landform people thought that the face was formed by alieans because they thought that there was life on mars  though some say that life on mars does exist i think that there is no life on mars it says in paragraph   on april        mars global surveyor flew over cydonia for the first time  michael malin took a picture of mars with his orbiter camera that the face was a natural landform  everyone who thought it was made by alieans even though it wasn t was not satisfied  i think they were not satisfied because they have thought since      that it was really formed by alieans though people were not satified about how the landform was a natural landform in all we new that alieans did not form the face  i would like to know how the landform was formed  we know now that life on mars doesn t exist</td>\n",
              "      <td>Position[SEP]On my perspective, I think that the face is a natural landform because I dont think that there is any life on Mars. In these next few paragraphs, I'll be talking about how I think that is is a natural landform</td>\n",
              "    </tr>\n",
              "  </tbody>\n",
              "</table>\n",
              "</div>\n",
              "      <button class=\"colab-df-convert\" onclick=\"convertToInteractive('df-363841b5-fa54-42c9-bb7d-4ba2b25a45e3')\"\n",
              "              title=\"Convert this dataframe to an interactive table.\"\n",
              "              style=\"display:none;\">\n",
              "        \n",
              "  <svg xmlns=\"http://www.w3.org/2000/svg\" height=\"24px\"viewBox=\"0 0 24 24\"\n",
              "       width=\"24px\">\n",
              "    <path d=\"M0 0h24v24H0V0z\" fill=\"none\"/>\n",
              "    <path d=\"M18.56 5.44l.94 2.06.94-2.06 2.06-.94-2.06-.94-.94-2.06-.94 2.06-2.06.94zm-11 1L8.5 8.5l.94-2.06 2.06-.94-2.06-.94L8.5 2.5l-.94 2.06-2.06.94zm10 10l.94 2.06.94-2.06 2.06-.94-2.06-.94-.94-2.06-.94 2.06-2.06.94z\"/><path d=\"M17.41 7.96l-1.37-1.37c-.4-.4-.92-.59-1.43-.59-.52 0-1.04.2-1.43.59L10.3 9.45l-7.72 7.72c-.78.78-.78 2.05 0 2.83L4 21.41c.39.39.9.59 1.41.59.51 0 1.02-.2 1.41-.59l7.78-7.78 2.81-2.81c.8-.78.8-2.07 0-2.86zM5.41 20L4 18.59l7.72-7.72 1.47 1.35L5.41 20z\"/>\n",
              "  </svg>\n",
              "      </button>\n",
              "      \n",
              "  <style>\n",
              "    .colab-df-container {\n",
              "      display:flex;\n",
              "      flex-wrap:wrap;\n",
              "      gap: 12px;\n",
              "    }\n",
              "\n",
              "    .colab-df-convert {\n",
              "      background-color: #E8F0FE;\n",
              "      border: none;\n",
              "      border-radius: 50%;\n",
              "      cursor: pointer;\n",
              "      display: none;\n",
              "      fill: #1967D2;\n",
              "      height: 32px;\n",
              "      padding: 0 0 0 0;\n",
              "      width: 32px;\n",
              "    }\n",
              "\n",
              "    .colab-df-convert:hover {\n",
              "      background-color: #E2EBFA;\n",
              "      box-shadow: 0px 1px 2px rgba(60, 64, 67, 0.3), 0px 1px 3px 1px rgba(60, 64, 67, 0.15);\n",
              "      fill: #174EA6;\n",
              "    }\n",
              "\n",
              "    [theme=dark] .colab-df-convert {\n",
              "      background-color: #3B4455;\n",
              "      fill: #D2E3FC;\n",
              "    }\n",
              "\n",
              "    [theme=dark] .colab-df-convert:hover {\n",
              "      background-color: #434B5C;\n",
              "      box-shadow: 0px 1px 3px 1px rgba(0, 0, 0, 0.15);\n",
              "      filter: drop-shadow(0px 1px 2px rgba(0, 0, 0, 0.3));\n",
              "      fill: #FFFFFF;\n",
              "    }\n",
              "  </style>\n",
              "\n",
              "      <script>\n",
              "        const buttonEl =\n",
              "          document.querySelector('#df-363841b5-fa54-42c9-bb7d-4ba2b25a45e3 button.colab-df-convert');\n",
              "        buttonEl.style.display =\n",
              "          google.colab.kernel.accessAllowed ? 'block' : 'none';\n",
              "\n",
              "        async function convertToInteractive(key) {\n",
              "          const element = document.querySelector('#df-363841b5-fa54-42c9-bb7d-4ba2b25a45e3');\n",
              "          const dataTable =\n",
              "            await google.colab.kernel.invokeFunction('convertToInteractive',\n",
              "                                                     [key], {});\n",
              "          if (!dataTable) return;\n",
              "\n",
              "          const docLinkHtml = 'Like what you see? Visit the ' +\n",
              "            '<a target=\"_blank\" href=https://colab.research.google.com/notebooks/data_table.ipynb>data table notebook</a>'\n",
              "            + ' to learn more about interactive tables.';\n",
              "          element.innerHTML = '';\n",
              "          dataTable['output_type'] = 'display_data';\n",
              "          await google.colab.output.renderOutput(dataTable, element);\n",
              "          const docLink = document.createElement('div');\n",
              "          docLink.innerHTML = docLinkHtml;\n",
              "          element.appendChild(docLink);\n",
              "        }\n",
              "      </script>\n",
              "    </div>\n",
              "  </div>\n",
              "  "
            ]
          },
          "metadata": {},
          "execution_count": 16
        }
      ],
      "source": [
        "train_data.head(2)"
      ]
    },
    {
      "cell_type": "code",
      "execution_count": 17,
      "id": "7a18c583-1a65-458a-a7f8-e69058060f8d",
      "metadata": {
        "tags": [],
        "colab": {
          "base_uri": "https://localhost:8080/"
        },
        "id": "7a18c583-1a65-458a-a7f8-e69058060f8d",
        "outputId": "1fe35584-f565-49ae-ab75-6096bd0483e5"
      },
      "outputs": [
        {
          "output_type": "execute_result",
          "data": {
            "text/plain": [
              "1    20977\n",
              "2     9326\n",
              "0     6462\n",
              "Name: label, dtype: int64"
            ]
          },
          "metadata": {},
          "execution_count": 17
        }
      ],
      "source": [
        "train_data.label.value_counts()"
      ]
    },
    {
      "cell_type": "code",
      "execution_count": 18,
      "id": "10bbca88-d44b-4055-9815-1218486de27e",
      "metadata": {
        "tags": [],
        "id": "10bbca88-d44b-4055-9815-1218486de27e"
      },
      "outputs": [],
      "source": [
        "from sklearn.model_selection import train_test_split\n",
        "X_train_text, X_valid_text, y_train, y_valid = train_test_split(train_data['inputs'], train_data['label'], test_size=0.1, random_state=42,\\\n",
        "                                                      stratify=train_data[\"label\"])\n",
        "#X_train.shape,X_valid.shape,y_train.shape,y_valid.shape"
      ]
    },
    {
      "cell_type": "markdown",
      "id": "f410c666-0a06-4a29-aa8b-6ca6dfd0f678",
      "metadata": {
        "tags": [],
        "id": "f410c666-0a06-4a29-aa8b-6ca6dfd0f678"
      },
      "source": [
        "### Begin Embeddings"
      ]
    },
    {
      "cell_type": "code",
      "execution_count": 19,
      "id": "973797fc-1c03-40f1-838b-e0f9aa5ed43c",
      "metadata": {
        "tags": [],
        "id": "973797fc-1c03-40f1-838b-e0f9aa5ed43c"
      },
      "outputs": [],
      "source": [
        "# Texts, tokenizer inputs and Maxlength of inputs\n",
        "def bert_encode(texts, tokenizer, max_len=MAX_LEN, distil=False):\n",
        "    \n",
        "    input_ids = np.zeros((len(texts), max_len), dtype=\"int32\")\n",
        "    attention_mask = np.zeros((len(texts), max_len), dtype=\"int32\")\n",
        "    \n",
        "    for i, text in enumerate(texts):\n",
        "        # print(i, text)\n",
        "        token = tokenizer(text,\n",
        "                          max_length=max_len,\n",
        "                          truncation=True,\n",
        "                          padding='max_length',\n",
        "                          add_special_tokens=True)\n",
        "\n",
        "        input_ids[i] = token['input_ids']\n",
        "        # if not distil:\n",
        "        #     token_type_ids.append(token['token_type_ids'])\n",
        "        attention_mask[i] = token['attention_mask']\n",
        "    \n",
        "    # if distil:\n",
        "    #     np.array(input_ids), np.array(attention_mask)\n",
        "    return input_ids,attention_mask\n"
      ]
    },
    {
      "cell_type": "code",
      "execution_count": 20,
      "id": "d6f484bd-fca8-4dbc-9c22-95d3e6612bd8",
      "metadata": {
        "tags": [],
        "id": "d6f484bd-fca8-4dbc-9c22-95d3e6612bd8"
      },
      "outputs": [],
      "source": [
        "X_train = bert_encode(X_train_text.astype(str), tokenizer, distil=True)\n",
        "X_valid = bert_encode(X_valid_text.astype(str), tokenizer, distil=True)\n",
        "\n",
        "y_train = y_train.values\n",
        "y_valid = y_valid.values"
      ]
    },
    {
      "cell_type": "code",
      "execution_count": 21,
      "id": "be51200f-db2a-43b5-840a-d9339ec520e4",
      "metadata": {
        "tags": [],
        "id": "be51200f-db2a-43b5-840a-d9339ec520e4"
      },
      "outputs": [],
      "source": [
        "# X_train"
      ]
    },
    {
      "cell_type": "code",
      "execution_count": 22,
      "id": "0e455168-61d9-4787-95d8-b5b795cc38ae",
      "metadata": {
        "tags": [],
        "id": "0e455168-61d9-4787-95d8-b5b795cc38ae"
      },
      "outputs": [],
      "source": [
        "train_dataset = (\n",
        "    tf.data.Dataset\n",
        "    .from_tensor_slices((X_train, y_train))\n",
        "    .batch(BATCH_SIZE)\n",
        "    .prefetch(AUTO)\n",
        ")\n",
        "\n",
        "valid_dataset = (\n",
        "    tf.data.Dataset\n",
        "    .from_tensor_slices((X_valid, y_valid))\n",
        "    .batch(BATCH_SIZE)\n",
        "    .cache()\n",
        "    .prefetch(AUTO)\n",
        ")"
      ]
    },
    {
      "cell_type": "markdown",
      "id": "7cbff16e-e1cf-4cdb-8a6b-bd90ecac958f",
      "metadata": {
        "id": "7cbff16e-e1cf-4cdb-8a6b-bd90ecac958f"
      },
      "source": [
        "## Building a Bert Model"
      ]
    },
    {
      "cell_type": "code",
      "execution_count": 23,
      "id": "c3e3f5c6-5b41-4b4e-b80f-6e40536a451a",
      "metadata": {
        "tags": [],
        "colab": {
          "base_uri": "https://localhost:8080/"
        },
        "id": "c3e3f5c6-5b41-4b4e-b80f-6e40536a451a",
        "outputId": "df3ec93d-adb7-4f7b-dfe9-4805e454e6c2"
      },
      "outputs": [
        {
          "output_type": "execute_result",
          "data": {
            "text/plain": [
              "8"
            ]
          },
          "metadata": {},
          "execution_count": 23
        }
      ],
      "source": [
        "import gc\n",
        "gc.collect()"
      ]
    },
    {
      "cell_type": "code",
      "execution_count": 24,
      "id": "b3403194-320e-415e-b502-c562c4876442",
      "metadata": {
        "tags": [],
        "id": "b3403194-320e-415e-b502-c562c4876442"
      },
      "outputs": [],
      "source": [
        "from tensorflow.keras import Sequential\n",
        "import tensorflow_hub as hub\n",
        "\n",
        "\n",
        "def build_model_bert(bert_model, max_len=MAX_LEN):    \n",
        "    input_ids = Input(shape=(max_len,), dtype=tf.int32, name=\"input_ids\")\n",
        "    token_type_ids = Input(shape=(max_len,), dtype=tf.int32, name=\"token_type_ids\")\n",
        "    attention_mask = Input(shape=(max_len,), dtype=tf.int32, name=\"attention_mask\")\n",
        "\n",
        "    sequence_output = bert_model(input_ids, token_type_ids=token_type_ids, attention_mask=attention_mask)[0]\n",
        "    clf_output = sequence_output[:, 0, :]\n",
        "    clf_output = Dropout(.1)(clf_output)\n",
        "    out = Dense(3, activation='softmax')(clf_output)\n",
        "    out = Dense(3, activation='relu')(clf_output)\n",
        "    \n",
        "    model = Model(inputs=[input_ids, token_type_ids, attention_mask], outputs=out)\n",
        "    model.compile(Adam(lr=1e-4), loss='sparse_categorical_crossentropy', metrics=['accuracy'])\n",
        "    \n",
        "    return model\n",
        "\n",
        "def cal_recall(y_true, y_pred):\n",
        "    y_true = tf.ones_like(y_true)\n",
        "    true_positives = K.sum(K.round(K.clip(y_true * y_pred, 0, 1)))\n",
        "    all_positives = K.sum(K.round(K.clip(y_true, 0, 1)))\n",
        "\n",
        "    recall = true_positives / (all_positives + K.epsilon())\n",
        "    return recall\n",
        "\n",
        "def cal_precision(y_true, y_pred):\n",
        "    y_true = K.ones_like(y_true)\n",
        "    true_positives = K.sum(K.round(K.clip(y_true * y_pred, 0, 1)))\n",
        "\n",
        "    predicted_positives = K.sum(K.round(K.clip(y_pred, 0, 1)))\n",
        "    precision = true_positives / (predicted_positives + K.epsilon())\n",
        "    return precision\n",
        "\n",
        "def f1_score(y_true, y_pred):\n",
        "    precision = cal_precision(y_true, y_pred)\n",
        "    recall = cal_recall(y_true, y_pred)\n",
        "    return 2*((precision*recall)/(precision+recall+K.epsilon()))\n",
        "\n",
        "def build_model_distilbert(bert_model, max_len=MAX_LEN):    \n",
        "    input_ids = Input(shape=(max_len,), dtype=tf.int32, name=\"input_ids\")\n",
        "    attention_mask = Input(shape=(max_len,), dtype=tf.int32, name=\"attention_mask\")\n",
        "\n",
        "    sequence_output = bert_model(input_ids, attention_mask=attention_mask)[0]\n",
        "    clf_output = sequence_output[:, 0, :]\n",
        "    clf_output = Dropout(.1)(clf_output)\n",
        "    out = Dense(3, activation='softmax')(clf_output)\n",
        "    \n",
        "    model = Model(inputs=[input_ids, attention_mask], outputs=out)\n",
        "    model.compile(Adam(lr=1e-4), loss='sparse_categorical_crossentropy', metrics=[\"accuracy\",f1_score])\n",
        "    \n",
        "    return model\n",
        "\n",
        "def build_model_use():\n",
        "    hub_layer = hub.KerasLayer(\"https://tfhub.dev/google/universal-sentence-encoder/4\", output_shape=[512], input_shape=[], dtype=tf.string,\n",
        "                               trainable=True)\n",
        "    model = Sequential()\n",
        "    model.add(hub_layer)\n",
        "    for units in [16, 8]:\n",
        "        model.add(Dense(units, activation='relu'))\n",
        "        model.add(Dropout(0.3))\n",
        "    model.add(Dense(3, activation='softmax'))\n",
        "    model.compile(Adam(lr=1e-4), loss='sparse_categorical_crossentropy', metrics=[\"accuracy\",f1_score])\n",
        "    return model"
      ]
    },
    {
      "cell_type": "code",
      "execution_count": 25,
      "id": "142a3504-1604-4ae3-8746-20e3766d743c",
      "metadata": {
        "tags": [],
        "id": "142a3504-1604-4ae3-8746-20e3766d743c",
        "colab": {
          "base_uri": "https://localhost:8080/",
          "height": 176,
          "referenced_widgets": [
            "9d13d1a82cb94f97bebfbbd5a5398927",
            "765a29d6e2794ed6853c1f714469e532",
            "15d509c5f3b24b4b8dfe024fd40b00e4",
            "8befd8834e4e44e3b42f5b435f547581",
            "f2dc01efe9ed4bd58e1248365e8e198c",
            "cc51f8e462b24005bec28bef6110e67b",
            "9065e7bc9c134bfc89393becad7491a4",
            "4fdefe3a040f4c1cbb5be1bbe1276a75",
            "cd7930dab0134deb9c32dcd6d466c51a",
            "4b3f9e26d1db4e4ea3a3074aaf69b4d2",
            "ff347b17e1a84bf2b7c1f958baea4ba7"
          ]
        },
        "outputId": "90064c95-c01a-435d-8971-d8a589b8888f"
      },
      "outputs": [
        {
          "output_type": "display_data",
          "data": {
            "text/plain": [
              "Downloading tf_model.h5:   0%|          | 0.00/363M [00:00<?, ?B/s]"
            ],
            "application/vnd.jupyter.widget-view+json": {
              "version_major": 2,
              "version_minor": 0,
              "model_id": "9d13d1a82cb94f97bebfbbd5a5398927"
            }
          },
          "metadata": {}
        },
        {
          "output_type": "stream",
          "name": "stderr",
          "text": [
            "Some layers from the model checkpoint at distilbert-base-uncased were not used when initializing TFDistilBertModel: ['activation_13', 'vocab_transform', 'vocab_layer_norm', 'vocab_projector']\n",
            "- This IS expected if you are initializing TFDistilBertModel from the checkpoint of a model trained on another task or with another architecture (e.g. initializing a BertForSequenceClassification model from a BertForPreTraining model).\n",
            "- This IS NOT expected if you are initializing TFDistilBertModel from the checkpoint of a model that you expect to be exactly identical (initializing a BertForSequenceClassification model from a BertForSequenceClassification model).\n",
            "All the layers of TFDistilBertModel were initialized from the model checkpoint at distilbert-base-uncased.\n",
            "If your task is similar to the task the model of the checkpoint was trained on, you can already use TFDistilBertModel for predictions without further training.\n",
            "WARNING:absl:`lr` is deprecated in Keras optimizer, please use `learning_rate` or use the legacy optimizer, e.g.,tf.keras.optimizers.legacy.Adam.\n"
          ]
        }
      ],
      "source": [
        "distil_bert = TFDistilBertModel.from_pretrained('distilbert-base-uncased')\n",
        "model  = build_model_distilbert(distil_bert)"
      ]
    },
    {
      "cell_type": "code",
      "execution_count": 26,
      "id": "146ce777-a8cf-4d59-a0eb-0eb5ba207e0d",
      "metadata": {
        "tags": [],
        "id": "146ce777-a8cf-4d59-a0eb-0eb5ba207e0d",
        "colab": {
          "base_uri": "https://localhost:8080/"
        },
        "outputId": "fc86f71c-96f0-479d-877e-8ec8d60fe8e6"
      },
      "outputs": [
        {
          "output_type": "stream",
          "name": "stdout",
          "text": [
            "Model: \"model\"\n",
            "__________________________________________________________________________________________________\n",
            " Layer (type)                   Output Shape         Param #     Connected to                     \n",
            "==================================================================================================\n",
            " input_ids (InputLayer)         [(None, 256)]        0           []                               \n",
            "                                                                                                  \n",
            " attention_mask (InputLayer)    [(None, 256)]        0           []                               \n",
            "                                                                                                  \n",
            " tf_distil_bert_model (TFDistil  TFBaseModelOutput(l  66362880   ['input_ids[0][0]',              \n",
            " BertModel)                     ast_hidden_state=(N               'attention_mask[0][0]']         \n",
            "                                one, 256, 768),                                                   \n",
            "                                 hidden_states=None                                               \n",
            "                                , attentions=None)                                                \n",
            "                                                                                                  \n",
            " tf.__operators__.getitem (Slic  (None, 768)         0           ['tf_distil_bert_model[0][0]']   \n",
            " ingOpLambda)                                                                                     \n",
            "                                                                                                  \n",
            " dropout_19 (Dropout)           (None, 768)          0           ['tf.__operators__.getitem[0][0]'\n",
            "                                                                 ]                                \n",
            "                                                                                                  \n",
            " dense (Dense)                  (None, 3)            2307        ['dropout_19[0][0]']             \n",
            "                                                                                                  \n",
            "==================================================================================================\n",
            "Total params: 66,365,187\n",
            "Trainable params: 66,365,187\n",
            "Non-trainable params: 0\n",
            "__________________________________________________________________________________________________\n"
          ]
        }
      ],
      "source": [
        "model.summary()"
      ]
    },
    {
      "cell_type": "code",
      "execution_count": 27,
      "id": "3a0271e5-79fb-4089-b3c0-efd890e1c198",
      "metadata": {
        "tags": [],
        "colab": {
          "base_uri": "https://localhost:8080/",
          "height": 466
        },
        "id": "3a0271e5-79fb-4089-b3c0-efd890e1c198",
        "outputId": "46c9dd5c-0858-4341-b1b0-ac05f37232f9"
      },
      "outputs": [
        {
          "output_type": "execute_result",
          "data": {
            "image/png": "[encoded data removed]",
            "text/plain": [
              "<IPython.core.display.Image object>"
            ]
          },
          "metadata": {},
          "execution_count": 27
        }
      ],
      "source": [
        "from tensorflow.keras.utils import plot_model\n",
        "\n",
        "plot_model(model)"
      ]
    },
    {
      "cell_type": "code",
      "execution_count": 29,
      "id": "9cda6f60-ee9a-4ed6-bb41-b09d592cba0e",
      "metadata": {
        "tags": [],
        "id": "9cda6f60-ee9a-4ed6-bb41-b09d592cba0e",
        "colab": {
          "base_uri": "https://localhost:8080/"
        },
        "outputId": "93e642db-8777-4630-eaf1-dcbb919ac7fd"
      },
      "outputs": [
        {
          "output_type": "stream",
          "name": "stdout",
          "text": [
            "Epoch 1/25\n",
            "60/60 [==============================] - 8s 135ms/step - loss: 0.9911 - accuracy: 0.5771 - f1_score: 0.8744 - val_loss: 1.0478 - val_accuracy: 0.5706 - val_f1_score: 1.0000\n",
            "Epoch 2/25\n",
            "60/60 [==============================] - 8s 133ms/step - loss: 1.0341 - accuracy: 0.5281 - f1_score: 0.7691 - val_loss: 0.9743 - val_accuracy: 0.5706 - val_f1_score: 1.0000\n",
            "Epoch 3/25\n",
            "60/60 [==============================] - 8s 134ms/step - loss: 0.9982 - accuracy: 0.5479 - f1_score: 0.8091 - val_loss: 0.9929 - val_accuracy: 0.5706 - val_f1_score: 1.0000\n",
            "Epoch 4/25\n",
            "60/60 [==============================] - 8s 132ms/step - loss: 0.9979 - accuracy: 0.5646 - f1_score: 0.8789 - val_loss: 0.9800 - val_accuracy: 0.5706 - val_f1_score: 1.0000\n",
            "Epoch 5/25\n",
            "60/60 [==============================] - 8s 134ms/step - loss: 0.9840 - accuracy: 0.5740 - f1_score: 0.8489 - val_loss: 1.0212 - val_accuracy: 0.5706 - val_f1_score: 1.0000\n",
            "Epoch 6/25\n",
            "60/60 [==============================] - 13s 214ms/step - loss: 1.0021 - accuracy: 0.5635 - f1_score: 0.8867 - val_loss: 0.9817 - val_accuracy: 0.5706 - val_f1_score: 1.0000\n",
            "Epoch 7/25\n",
            "60/60 [==============================] - 10s 171ms/step - loss: 1.0870 - accuracy: 0.5354 - f1_score: 0.7607 - val_loss: 0.9761 - val_accuracy: 0.5706 - val_f1_score: 1.0000\n",
            "Epoch 8/25\n",
            "60/60 [==============================] - 11s 185ms/step - loss: 0.9976 - accuracy: 0.5698 - f1_score: 0.8995 - val_loss: 0.9861 - val_accuracy: 0.5706 - val_f1_score: 0.0000e+00\n",
            "Epoch 9/25\n",
            "60/60 [==============================] - 9s 156ms/step - loss: 1.0080 - accuracy: 0.5531 - f1_score: 0.7771 - val_loss: 1.0562 - val_accuracy: 0.2537 - val_f1_score: 0.0000e+00\n",
            "Epoch 10/25\n",
            "60/60 [==============================] - 9s 153ms/step - loss: 1.0230 - accuracy: 0.5396 - f1_score: 0.7410 - val_loss: 1.0265 - val_accuracy: 0.5706 - val_f1_score: 1.0000\n",
            "Epoch 11/25\n",
            "60/60 [==============================] - 9s 159ms/step - loss: 1.0319 - accuracy: 0.5542 - f1_score: 0.8350 - val_loss: 0.9868 - val_accuracy: 0.5706 - val_f1_score: 1.0000\n",
            "Epoch 12/25\n",
            "60/60 [==============================] - 9s 156ms/step - loss: 0.9755 - accuracy: 0.5875 - f1_score: 0.9612 - val_loss: 0.9807 - val_accuracy: 0.5706 - val_f1_score: 1.0000\n",
            "Epoch 13/25\n",
            "60/60 [==============================] - 9s 143ms/step - loss: 1.0166 - accuracy: 0.5500 - f1_score: 0.7525 - val_loss: 0.9845 - val_accuracy: 0.5706 - val_f1_score: 1.0000\n",
            "Epoch 14/25\n",
            "60/60 [==============================] - 8s 142ms/step - loss: 1.0035 - accuracy: 0.5615 - f1_score: 0.8069 - val_loss: 0.9795 - val_accuracy: 0.5706 - val_f1_score: 1.0000\n",
            "Epoch 15/25\n",
            "60/60 [==============================] - 8s 139ms/step - loss: 0.9765 - accuracy: 0.5823 - f1_score: 0.9226 - val_loss: 0.9762 - val_accuracy: 0.5706 - val_f1_score: 1.0000\n",
            "Epoch 16/25\n",
            "60/60 [==============================] - 8s 140ms/step - loss: 0.9821 - accuracy: 0.5813 - f1_score: 0.9042 - val_loss: 0.9758 - val_accuracy: 0.5706 - val_f1_score: 1.0000\n",
            "Epoch 17/25\n",
            "60/60 [==============================] - 8s 135ms/step - loss: 0.9857 - accuracy: 0.5625 - f1_score: 0.9474 - val_loss: 0.9869 - val_accuracy: 0.5706 - val_f1_score: 0.0000e+00\n",
            "Epoch 18/25\n",
            "60/60 [==============================] - 8s 136ms/step - loss: 1.0019 - accuracy: 0.5552 - f1_score: 0.7098 - val_loss: 0.9757 - val_accuracy: 0.5706 - val_f1_score: 1.0000\n",
            "Epoch 19/25\n",
            "60/60 [==============================] - 9s 150ms/step - loss: 0.9892 - accuracy: 0.5740 - f1_score: 0.9272 - val_loss: 0.9755 - val_accuracy: 0.5706 - val_f1_score: 1.0000\n",
            "Epoch 20/25\n",
            "60/60 [==============================] - 9s 146ms/step - loss: 0.9828 - accuracy: 0.5854 - f1_score: 0.8275 - val_loss: 0.9823 - val_accuracy: 0.5706 - val_f1_score: 1.0000\n",
            "Epoch 21/25\n",
            "60/60 [==============================] - 9s 147ms/step - loss: 0.9686 - accuracy: 0.5969 - f1_score: 0.9869 - val_loss: 0.9870 - val_accuracy: 0.5706 - val_f1_score: 1.0000\n",
            "Epoch 22/25\n",
            "60/60 [==============================] - 8s 132ms/step - loss: 0.9952 - accuracy: 0.5604 - f1_score: 0.8875 - val_loss: 0.9814 - val_accuracy: 0.5706 - val_f1_score: 1.0000\n",
            "Epoch 23/25\n",
            "60/60 [==============================] - 9s 153ms/step - loss: 1.0054 - accuracy: 0.5479 - f1_score: 0.7332 - val_loss: 0.9760 - val_accuracy: 0.5706 - val_f1_score: 1.0000\n",
            "Epoch 24/25\n",
            "60/60 [==============================] - 9s 147ms/step - loss: 0.9823 - accuracy: 0.5646 - f1_score: 0.8305 - val_loss: 1.0133 - val_accuracy: 0.5706 - val_f1_score: 0.0000e+00\n",
            "Epoch 25/25\n",
            "60/60 [==============================] - 8s 135ms/step - loss: 0.9961 - accuracy: 0.5729 - f1_score: 0.8656 - val_loss: 0.9759 - val_accuracy: 0.5706 - val_f1_score: 1.0000\n"
          ]
        }
      ],
      "source": [
        "train_history = model.fit(\n",
        "    train_dataset,\n",
        "    steps_per_epoch=60,\n",
        "    validation_data=valid_dataset,\n",
        "    epochs=25,\n",
        "    batch_size = 4048\n",
        ")"
      ]
    },
    {
      "cell_type": "code",
      "execution_count": 36,
      "id": "2fd64ab0-eec8-4a76-8f97-1b3d7a946d57",
      "metadata": {
        "tags": [],
        "id": "2fd64ab0-eec8-4a76-8f97-1b3d7a946d57",
        "colab": {
          "base_uri": "https://localhost:8080/"
        },
        "outputId": "14cfaaf7-e7a2-405b-9ba1-e168ea632d85"
      },
      "outputs": [
        {
          "output_type": "stream",
          "name": "stdout",
          "text": [
            "115/115 [==============================] - 6s 35ms/step\n",
            "Validation Log Loss 0.98\n"
          ]
        }
      ],
      "source": [
        "y_valid_pred = model.predict(X_valid, verbose=1)\n",
        "print(f\"Validation Log Loss {log_loss(y_valid, y_valid_pred):.2f}\")"
      ]
    },
    {
      "cell_type": "code",
      "execution_count": 37,
      "id": "a00734a1-6657-48ac-b938-b70d8bef7bc4",
      "metadata": {
        "tags": [],
        "id": "a00734a1-6657-48ac-b938-b70d8bef7bc4",
        "colab": {
          "base_uri": "https://localhost:8080/"
        },
        "outputId": "e346fc60-d69b-4a2f-fcb3-25d307975979"
      },
      "outputs": [
        {
          "output_type": "execute_result",
          "data": {
            "text/plain": [
              "array([0.2020378 , 0.20203666, 0.2020431 , ..., 0.20204006, 0.20204292,\n",
              "       0.2020399 ], dtype=float32)"
            ]
          },
          "metadata": {},
          "execution_count": 37
        }
      ],
      "source": [
        "y_valid_pred[:,0]"
      ]
    },
    {
      "cell_type": "code",
      "execution_count": 38,
      "id": "d9c7442c-79a8-4e74-80a4-619a124883e1",
      "metadata": {
        "tags": [],
        "id": "d9c7442c-79a8-4e74-80a4-619a124883e1",
        "colab": {
          "base_uri": "https://localhost:8080/"
        },
        "outputId": "da2b316e-4428-4c78-881f-422967c12822"
      },
      "outputs": [
        {
          "output_type": "stream",
          "name": "stdout",
          "text": [
            "115/115 [==============================] - 4s 36ms/step - loss: 0.9759 - accuracy: 0.5706 - f1_score: 1.0000\n"
          ]
        }
      ],
      "source": [
        "result = model.evaluate(X_valid, y_valid, verbose=1)"
      ]
    },
    {
      "cell_type": "code",
      "execution_count": 39,
      "id": "c7842979-3db6-460b-a348-77b7a5c5414e",
      "metadata": {
        "tags": [],
        "id": "c7842979-3db6-460b-a348-77b7a5c5414e",
        "colab": {
          "base_uri": "https://localhost:8080/",
          "height": 206
        },
        "outputId": "0c1b4c50-07f8-434d-fb9c-7c1ac792d7ae"
      },
      "outputs": [
        {
          "output_type": "execute_result",
          "data": {
            "text/plain": [
              "   true_label                        predicted_prob  predicted_label  \\\n",
              "0           2    [0.2020378, 0.5543022, 0.24366005]                1   \n",
              "1           1   [0.20203666, 0.5543047, 0.24365853]                1   \n",
              "2           1    [0.2020431, 0.5542964, 0.24366054]                1   \n",
              "3           1   [0.20204392, 0.5542926, 0.24366349]                1   \n",
              "4           1  [0.20203902, 0.55429715, 0.24366377]                1   \n",
              "\n",
              "  true_label_class predicted_label_class  \n",
              "0        Effective              Adequate  \n",
              "1         Adequate              Adequate  \n",
              "2         Adequate              Adequate  \n",
              "3         Adequate              Adequate  \n",
              "4         Adequate              Adequate  "
            ],
            "text/html": [
              "\n",
              "  <div id=\"df-6c923907-b8a4-4b38-bbef-858baf584781\">\n",
              "    <div class=\"colab-df-container\">\n",
              "      <div>\n",
              "<style scoped>\n",
              "    .dataframe tbody tr th:only-of-type {\n",
              "        vertical-align: middle;\n",
              "    }\n",
              "\n",
              "    .dataframe tbody tr th {\n",
              "        vertical-align: top;\n",
              "    }\n",
              "\n",
              "    .dataframe thead th {\n",
              "        text-align: right;\n",
              "    }\n",
              "</style>\n",
              "<table border=\"1\" class=\"dataframe\">\n",
              "  <thead>\n",
              "    <tr style=\"text-align: right;\">\n",
              "      <th></th>\n",
              "      <th>true_label</th>\n",
              "      <th>predicted_prob</th>\n",
              "      <th>predicted_label</th>\n",
              "      <th>true_label_class</th>\n",
              "      <th>predicted_label_class</th>\n",
              "    </tr>\n",
              "  </thead>\n",
              "  <tbody>\n",
              "    <tr>\n",
              "      <th>0</th>\n",
              "      <td>2</td>\n",
              "      <td>[0.2020378, 0.5543022, 0.24366005]</td>\n",
              "      <td>1</td>\n",
              "      <td>Effective</td>\n",
              "      <td>Adequate</td>\n",
              "    </tr>\n",
              "    <tr>\n",
              "      <th>1</th>\n",
              "      <td>1</td>\n",
              "      <td>[0.20203666, 0.5543047, 0.24365853]</td>\n",
              "      <td>1</td>\n",
              "      <td>Adequate</td>\n",
              "      <td>Adequate</td>\n",
              "    </tr>\n",
              "    <tr>\n",
              "      <th>2</th>\n",
              "      <td>1</td>\n",
              "      <td>[0.2020431, 0.5542964, 0.24366054]</td>\n",
              "      <td>1</td>\n",
              "      <td>Adequate</td>\n",
              "      <td>Adequate</td>\n",
              "    </tr>\n",
              "    <tr>\n",
              "      <th>3</th>\n",
              "      <td>1</td>\n",
              "      <td>[0.20204392, 0.5542926, 0.24366349]</td>\n",
              "      <td>1</td>\n",
              "      <td>Adequate</td>\n",
              "      <td>Adequate</td>\n",
              "    </tr>\n",
              "    <tr>\n",
              "      <th>4</th>\n",
              "      <td>1</td>\n",
              "      <td>[0.20203902, 0.55429715, 0.24366377]</td>\n",
              "      <td>1</td>\n",
              "      <td>Adequate</td>\n",
              "      <td>Adequate</td>\n",
              "    </tr>\n",
              "  </tbody>\n",
              "</table>\n",
              "</div>\n",
              "      <button class=\"colab-df-convert\" onclick=\"convertToInteractive('df-6c923907-b8a4-4b38-bbef-858baf584781')\"\n",
              "              title=\"Convert this dataframe to an interactive table.\"\n",
              "              style=\"display:none;\">\n",
              "        \n",
              "  <svg xmlns=\"http://www.w3.org/2000/svg\" height=\"24px\"viewBox=\"0 0 24 24\"\n",
              "       width=\"24px\">\n",
              "    <path d=\"M0 0h24v24H0V0z\" fill=\"none\"/>\n",
              "    <path d=\"M18.56 5.44l.94 2.06.94-2.06 2.06-.94-2.06-.94-.94-2.06-.94 2.06-2.06.94zm-11 1L8.5 8.5l.94-2.06 2.06-.94-2.06-.94L8.5 2.5l-.94 2.06-2.06.94zm10 10l.94 2.06.94-2.06 2.06-.94-2.06-.94-.94-2.06-.94 2.06-2.06.94z\"/><path d=\"M17.41 7.96l-1.37-1.37c-.4-.4-.92-.59-1.43-.59-.52 0-1.04.2-1.43.59L10.3 9.45l-7.72 7.72c-.78.78-.78 2.05 0 2.83L4 21.41c.39.39.9.59 1.41.59.51 0 1.02-.2 1.41-.59l7.78-7.78 2.81-2.81c.8-.78.8-2.07 0-2.86zM5.41 20L4 18.59l7.72-7.72 1.47 1.35L5.41 20z\"/>\n",
              "  </svg>\n",
              "      </button>\n",
              "      \n",
              "  <style>\n",
              "    .colab-df-container {\n",
              "      display:flex;\n",
              "      flex-wrap:wrap;\n",
              "      gap: 12px;\n",
              "    }\n",
              "\n",
              "    .colab-df-convert {\n",
              "      background-color: #E8F0FE;\n",
              "      border: none;\n",
              "      border-radius: 50%;\n",
              "      cursor: pointer;\n",
              "      display: none;\n",
              "      fill: #1967D2;\n",
              "      height: 32px;\n",
              "      padding: 0 0 0 0;\n",
              "      width: 32px;\n",
              "    }\n",
              "\n",
              "    .colab-df-convert:hover {\n",
              "      background-color: #E2EBFA;\n",
              "      box-shadow: 0px 1px 2px rgba(60, 64, 67, 0.3), 0px 1px 3px 1px rgba(60, 64, 67, 0.15);\n",
              "      fill: #174EA6;\n",
              "    }\n",
              "\n",
              "    [theme=dark] .colab-df-convert {\n",
              "      background-color: #3B4455;\n",
              "      fill: #D2E3FC;\n",
              "    }\n",
              "\n",
              "    [theme=dark] .colab-df-convert:hover {\n",
              "      background-color: #434B5C;\n",
              "      box-shadow: 0px 1px 3px 1px rgba(0, 0, 0, 0.15);\n",
              "      filter: drop-shadow(0px 1px 2px rgba(0, 0, 0, 0.3));\n",
              "      fill: #FFFFFF;\n",
              "    }\n",
              "  </style>\n",
              "\n",
              "      <script>\n",
              "        const buttonEl =\n",
              "          document.querySelector('#df-6c923907-b8a4-4b38-bbef-858baf584781 button.colab-df-convert');\n",
              "        buttonEl.style.display =\n",
              "          google.colab.kernel.accessAllowed ? 'block' : 'none';\n",
              "\n",
              "        async function convertToInteractive(key) {\n",
              "          const element = document.querySelector('#df-6c923907-b8a4-4b38-bbef-858baf584781');\n",
              "          const dataTable =\n",
              "            await google.colab.kernel.invokeFunction('convertToInteractive',\n",
              "                                                     [key], {});\n",
              "          if (!dataTable) return;\n",
              "\n",
              "          const docLinkHtml = 'Like what you see? Visit the ' +\n",
              "            '<a target=\"_blank\" href=https://colab.research.google.com/notebooks/data_table.ipynb>data table notebook</a>'\n",
              "            + ' to learn more about interactive tables.';\n",
              "          element.innerHTML = '';\n",
              "          dataTable['output_type'] = 'display_data';\n",
              "          await google.colab.output.renderOutput(dataTable, element);\n",
              "          const docLink = document.createElement('div');\n",
              "          docLink.innerHTML = docLinkHtml;\n",
              "          element.appendChild(docLink);\n",
              "        }\n",
              "      </script>\n",
              "    </div>\n",
              "  </div>\n",
              "  "
            ]
          },
          "metadata": {},
          "execution_count": 39
        }
      ],
      "source": [
        "output_df = pd.DataFrame(zip(y_valid, y_valid_pred, y_valid_pred.argmax(1)), columns=[\"true_label\", \"predicted_prob\",\"predicted_label\"])\n",
        "bin_map = {0:\"Ineffective\", 1:\"Adequate\", 2:\"Effective\"}\n",
        "output_df[\"true_label_class\"] = output_df[\"true_label\"].map(bin_map)\n",
        "output_df[\"predicted_label_class\"] = output_df[\"predicted_label\"].map(bin_map)\n",
        "output_df.head()"
      ]
    },
    {
      "cell_type": "code",
      "execution_count": 40,
      "id": "f78e2e8c-dfa0-419e-a218-87f4432ab62c",
      "metadata": {
        "tags": [],
        "id": "f78e2e8c-dfa0-419e-a218-87f4432ab62c",
        "colab": {
          "base_uri": "https://localhost:8080/"
        },
        "outputId": "0c752567-d032-479f-c76a-eaeb1ebb7cba"
      },
      "outputs": [
        {
          "output_type": "execute_result",
          "data": {
            "text/plain": [
              "true_label_class  predicted_label_class\n",
              "Adequate          Adequate                 2098\n",
              "Effective         Adequate                  933\n",
              "Ineffective       Adequate                  646\n",
              "Name: true_label, dtype: int64"
            ]
          },
          "metadata": {},
          "execution_count": 40
        }
      ],
      "source": [
        "output_df.groupby(['true_label_class','predicted_label_class'])['true_label'].count()"
      ]
    },
    {
      "cell_type": "code",
      "execution_count": 41,
      "id": "947d8201-7bff-4d0c-8fa6-cfe6767b0fd1",
      "metadata": {
        "tags": [],
        "id": "947d8201-7bff-4d0c-8fa6-cfe6767b0fd1"
      },
      "outputs": [],
      "source": [
        "classes = output_df.true_label.unique()\n",
        "labels = output_df.true_label_class.unique()"
      ]
    },
    {
      "cell_type": "code",
      "execution_count": 42,
      "id": "7d1d0083-2529-48f1-af5b-cc562cf426a1",
      "metadata": {
        "tags": [],
        "id": "7d1d0083-2529-48f1-af5b-cc562cf426a1"
      },
      "outputs": [],
      "source": [
        "valid_predicted = np.zeros_like(y_valid_pred)\n",
        "valid_predicted[np.arange(len(y_valid_pred)), y_valid_pred.argmax(1)] = 1"
      ]
    },
    {
      "cell_type": "markdown",
      "source": [
        "**Unable to identify Effective and Ineffective labels**"
      ],
      "metadata": {
        "id": "y1BKWFA0cBlG"
      },
      "id": "y1BKWFA0cBlG"
    },
    {
      "cell_type": "code",
      "execution_count": 43,
      "id": "640e02fc-4bc1-457c-98b5-d8b9b21a1425",
      "metadata": {
        "tags": [],
        "id": "640e02fc-4bc1-457c-98b5-d8b9b21a1425",
        "colab": {
          "base_uri": "https://localhost:8080/",
          "height": 467
        },
        "outputId": "203e5297-ad60-4985-bc58-3426d0273f2b"
      },
      "outputs": [
        {
          "output_type": "execute_result",
          "data": {
            "text/plain": [
              "<sklearn.metrics._plot.confusion_matrix.ConfusionMatrixDisplay at 0x7fcd387cc8b0>"
            ]
          },
          "metadata": {},
          "execution_count": 43
        },
        {
          "output_type": "display_data",
          "data": {
            "text/plain": [
              "<Figure size 640x480 with 2 Axes>"
            ],
            "image/png": "[encoded data removed]"
          },
          "metadata": {}
        }
      ],
      "source": [
        "ConfusionMatrixDisplay.from_predictions(y_valid, valid_predicted.argmax(axis =1), display_labels=labels, cmap=plt.cm.Blues)"
      ]
    },
    {
      "cell_type": "code",
      "execution_count": 44,
      "id": "e7bb0a37-923b-445b-99ce-f99121d80b39",
      "metadata": {
        "tags": [],
        "id": "e7bb0a37-923b-445b-99ce-f99121d80b39",
        "colab": {
          "base_uri": "https://localhost:8080/"
        },
        "outputId": "4a7baf7d-fdd3-49a2-9eab-e5399d4e1d14"
      },
      "outputs": [
        {
          "output_type": "stream",
          "name": "stdout",
          "text": [
            "              precision    recall  f1-score   support\n",
            "\n",
            "   Effective       0.00      0.00      0.00       646\n",
            "    Adequate       0.57      1.00      0.73      2098\n",
            " Ineffective       0.00      0.00      0.00       933\n",
            "\n",
            "    accuracy                           0.57      3677\n",
            "   macro avg       0.19      0.33      0.24      3677\n",
            "weighted avg       0.33      0.57      0.41      3677\n",
            "\n"
          ]
        },
        {
          "output_type": "stream",
          "name": "stderr",
          "text": [
            "/usr/local/lib/python3.10/dist-packages/sklearn/metrics/_classification.py:1344: UndefinedMetricWarning: Precision and F-score are ill-defined and being set to 0.0 in labels with no predicted samples. Use `zero_division` parameter to control this behavior.\n",
            "  _warn_prf(average, modifier, msg_start, len(result))\n",
            "/usr/local/lib/python3.10/dist-packages/sklearn/metrics/_classification.py:1344: UndefinedMetricWarning: Precision and F-score are ill-defined and being set to 0.0 in labels with no predicted samples. Use `zero_division` parameter to control this behavior.\n",
            "  _warn_prf(average, modifier, msg_start, len(result))\n",
            "/usr/local/lib/python3.10/dist-packages/sklearn/metrics/_classification.py:1344: UndefinedMetricWarning: Precision and F-score are ill-defined and being set to 0.0 in labels with no predicted samples. Use `zero_division` parameter to control this behavior.\n",
            "  _warn_prf(average, modifier, msg_start, len(result))\n"
          ]
        }
      ],
      "source": [
        "print(classification_report(output_df['true_label'], output_df['predicted_label'], target_names = labels))"
      ]
    },
    {
      "cell_type": "code",
      "execution_count": null,
      "id": "37e8211e-17c5-41c5-b1dc-059feed23f0f",
      "metadata": {
        "id": "37e8211e-17c5-41c5-b1dc-059feed23f0f"
      },
      "outputs": [],
      "source": []
    },
    {
      "cell_type": "code",
      "execution_count": null,
      "id": "217d6649-1b09-4398-8033-8a8cf8fa75ad",
      "metadata": {
        "id": "217d6649-1b09-4398-8033-8a8cf8fa75ad"
      },
      "outputs": [],
      "source": []
    }
  ],
  "metadata": {
    "kernelspec": {
      "display_name": "Python 3",
      "name": "python3"
    },
    "language_info": {
      "name": "python"
    },
    "colab": {
      "provenance": [],
      "machine_shape": "hm",
      "gpuType": "A100"
    },
    "accelerator": "GPU",
    "gpuClass": "standard",
    "widgets": {
      "application/vnd.jupyter.widget-state+json": {
        "e0e7ba665cd044c19dad214f6107d278": {
          "model_module": "@jupyter-widgets/controls",
          "model_name": "HBoxModel",
          "model_module_version": "1.5.0",
          "state": {
            "_dom_classes": [],
            "_model_module": "@jupyter-widgets/controls",
            "_model_module_version": "1.5.0",
            "_model_name": "HBoxModel",
            "_view_count": null,
            "_view_module": "@jupyter-widgets/controls",
            "_view_module_version": "1.5.0",
            "_view_name": "HBoxView",
            "box_style": "",
            "children": [
              "IPY_MODEL_82e5218984064917882b537a298dbd84",
              "IPY_MODEL_f8e440f806e04aad974bf422960dc848",
              "IPY_MODEL_29544027e426439e9822f95c7c01b199"
            ],
            "layout": "IPY_MODEL_c69438fa335e49d59e9a1b435539852e"
          }
        },
        "82e5218984064917882b537a298dbd84": {
          "model_module": "@jupyter-widgets/controls",
          "model_name": "HTMLModel",
          "model_module_version": "1.5.0",
          "state": {
            "_dom_classes": [],
            "_model_module": "@jupyter-widgets/controls",
            "_model_module_version": "1.5.0",
            "_model_name": "HTMLModel",
            "_view_count": null,
            "_view_module": "@jupyter-widgets/controls",
            "_view_module_version": "1.5.0",
            "_view_name": "HTMLView",
            "description": "",
            "description_tooltip": null,
            "layout": "IPY_MODEL_921158d8676b421da9c53897cbbeca92",
            "placeholder": "​",
            "style": "IPY_MODEL_929bcc0eb5d24f76b08ca196d75e0a15",
            "value": "Downloading (…)solve/main/vocab.txt: 100%"
          }
        },
        "f8e440f806e04aad974bf422960dc848": {
          "model_module": "@jupyter-widgets/controls",
          "model_name": "FloatProgressModel",
          "model_module_version": "1.5.0",
          "state": {
            "_dom_classes": [],
            "_model_module": "@jupyter-widgets/controls",
            "_model_module_version": "1.5.0",
            "_model_name": "FloatProgressModel",
            "_view_count": null,
            "_view_module": "@jupyter-widgets/controls",
            "_view_module_version": "1.5.0",
            "_view_name": "ProgressView",
            "bar_style": "success",
            "description": "",
            "description_tooltip": null,
            "layout": "IPY_MODEL_61e86f99a03f4fe7bec6472606d12f69",
            "max": 231508,
            "min": 0,
            "orientation": "horizontal",
            "style": "IPY_MODEL_6be0fcba60bc4b1ca5a51946bf6b2cad",
            "value": 231508
          }
        },
        "29544027e426439e9822f95c7c01b199": {
          "model_module": "@jupyter-widgets/controls",
          "model_name": "HTMLModel",
          "model_module_version": "1.5.0",
          "state": {
            "_dom_classes": [],
            "_model_module": "@jupyter-widgets/controls",
            "_model_module_version": "1.5.0",
            "_model_name": "HTMLModel",
            "_view_count": null,
            "_view_module": "@jupyter-widgets/controls",
            "_view_module_version": "1.5.0",
            "_view_name": "HTMLView",
            "description": "",
            "description_tooltip": null,
            "layout": "IPY_MODEL_fdd70928e296451a892ec46121117e47",
            "placeholder": "​",
            "style": "IPY_MODEL_be35691312a44dfca449e87fb4f8eb9d",
            "value": " 232k/232k [00:00&lt;00:00, 1.00MB/s]"
          }
        },
        "c69438fa335e49d59e9a1b435539852e": {
          "model_module": "@jupyter-widgets/base",
          "model_name": "LayoutModel",
          "model_module_version": "1.2.0",
          "state": {
            "_model_module": "@jupyter-widgets/base",
            "_model_module_version": "1.2.0",
            "_model_name": "LayoutModel",
            "_view_count": null,
            "_view_module": "@jupyter-widgets/base",
            "_view_module_version": "1.2.0",
            "_view_name": "LayoutView",
            "align_content": null,
            "align_items": null,
            "align_self": null,
            "border": null,
            "bottom": null,
            "display": null,
            "flex": null,
            "flex_flow": null,
            "grid_area": null,
            "grid_auto_columns": null,
            "grid_auto_flow": null,
            "grid_auto_rows": null,
            "grid_column": null,
            "grid_gap": null,
            "grid_row": null,
            "grid_template_areas": null,
            "grid_template_columns": null,
            "grid_template_rows": null,
            "height": null,
            "justify_content": null,
            "justify_items": null,
            "left": null,
            "margin": null,
            "max_height": null,
            "max_width": null,
            "min_height": null,
            "min_width": null,
            "object_fit": null,
            "object_position": null,
            "order": null,
            "overflow": null,
            "overflow_x": null,
            "overflow_y": null,
            "padding": null,
            "right": null,
            "top": null,
            "visibility": null,
            "width": null
          }
        },
        "921158d8676b421da9c53897cbbeca92": {
          "model_module": "@jupyter-widgets/base",
          "model_name": "LayoutModel",
          "model_module_version": "1.2.0",
          "state": {
            "_model_module": "@jupyter-widgets/base",
            "_model_module_version": "1.2.0",
            "_model_name": "LayoutModel",
            "_view_count": null,
            "_view_module": "@jupyter-widgets/base",
            "_view_module_version": "1.2.0",
            "_view_name": "LayoutView",
            "align_content": null,
            "align_items": null,
            "align_self": null,
            "border": null,
            "bottom": null,
            "display": null,
            "flex": null,
            "flex_flow": null,
            "grid_area": null,
            "grid_auto_columns": null,
            "grid_auto_flow": null,
            "grid_auto_rows": null,
            "grid_column": null,
            "grid_gap": null,
            "grid_row": null,
            "grid_template_areas": null,
            "grid_template_columns": null,
            "grid_template_rows": null,
            "height": null,
            "justify_content": null,
            "justify_items": null,
            "left": null,
            "margin": null,
            "max_height": null,
            "max_width": null,
            "min_height": null,
            "min_width": null,
            "object_fit": null,
            "object_position": null,
            "order": null,
            "overflow": null,
            "overflow_x": null,
            "overflow_y": null,
            "padding": null,
            "right": null,
            "top": null,
            "visibility": null,
            "width": null
          }
        },
        "929bcc0eb5d24f76b08ca196d75e0a15": {
          "model_module": "@jupyter-widgets/controls",
          "model_name": "DescriptionStyleModel",
          "model_module_version": "1.5.0",
          "state": {
            "_model_module": "@jupyter-widgets/controls",
            "_model_module_version": "1.5.0",
            "_model_name": "DescriptionStyleModel",
            "_view_count": null,
            "_view_module": "@jupyter-widgets/base",
            "_view_module_version": "1.2.0",
            "_view_name": "StyleView",
            "description_width": ""
          }
        },
        "61e86f99a03f4fe7bec6472606d12f69": {
          "model_module": "@jupyter-widgets/base",
          "model_name": "LayoutModel",
          "model_module_version": "1.2.0",
          "state": {
            "_model_module": "@jupyter-widgets/base",
            "_model_module_version": "1.2.0",
            "_model_name": "LayoutModel",
            "_view_count": null,
            "_view_module": "@jupyter-widgets/base",
            "_view_module_version": "1.2.0",
            "_view_name": "LayoutView",
            "align_content": null,
            "align_items": null,
            "align_self": null,
            "border": null,
            "bottom": null,
            "display": null,
            "flex": null,
            "flex_flow": null,
            "grid_area": null,
            "grid_auto_columns": null,
            "grid_auto_flow": null,
            "grid_auto_rows": null,
            "grid_column": null,
            "grid_gap": null,
            "grid_row": null,
            "grid_template_areas": null,
            "grid_template_columns": null,
            "grid_template_rows": null,
            "height": null,
            "justify_content": null,
            "justify_items": null,
            "left": null,
            "margin": null,
            "max_height": null,
            "max_width": null,
            "min_height": null,
            "min_width": null,
            "object_fit": null,
            "object_position": null,
            "order": null,
            "overflow": null,
            "overflow_x": null,
            "overflow_y": null,
            "padding": null,
            "right": null,
            "top": null,
            "visibility": null,
            "width": null
          }
        },
        "6be0fcba60bc4b1ca5a51946bf6b2cad": {
          "model_module": "@jupyter-widgets/controls",
          "model_name": "ProgressStyleModel",
          "model_module_version": "1.5.0",
          "state": {
            "_model_module": "@jupyter-widgets/controls",
            "_model_module_version": "1.5.0",
            "_model_name": "ProgressStyleModel",
            "_view_count": null,
            "_view_module": "@jupyter-widgets/base",
            "_view_module_version": "1.2.0",
            "_view_name": "StyleView",
            "bar_color": null,
            "description_width": ""
          }
        },
        "fdd70928e296451a892ec46121117e47": {
          "model_module": "@jupyter-widgets/base",
          "model_name": "LayoutModel",
          "model_module_version": "1.2.0",
          "state": {
            "_model_module": "@jupyter-widgets/base",
            "_model_module_version": "1.2.0",
            "_model_name": "LayoutModel",
            "_view_count": null,
            "_view_module": "@jupyter-widgets/base",
            "_view_module_version": "1.2.0",
            "_view_name": "LayoutView",
            "align_content": null,
            "align_items": null,
            "align_self": null,
            "border": null,
            "bottom": null,
            "display": null,
            "flex": null,
            "flex_flow": null,
            "grid_area": null,
            "grid_auto_columns": null,
            "grid_auto_flow": null,
            "grid_auto_rows": null,
            "grid_column": null,
            "grid_gap": null,
            "grid_row": null,
            "grid_template_areas": null,
            "grid_template_columns": null,
            "grid_template_rows": null,
            "height": null,
            "justify_content": null,
            "justify_items": null,
            "left": null,
            "margin": null,
            "max_height": null,
            "max_width": null,
            "min_height": null,
            "min_width": null,
            "object_fit": null,
            "object_position": null,
            "order": null,
            "overflow": null,
            "overflow_x": null,
            "overflow_y": null,
            "padding": null,
            "right": null,
            "top": null,
            "visibility": null,
            "width": null
          }
        },
        "be35691312a44dfca449e87fb4f8eb9d": {
          "model_module": "@jupyter-widgets/controls",
          "model_name": "DescriptionStyleModel",
          "model_module_version": "1.5.0",
          "state": {
            "_model_module": "@jupyter-widgets/controls",
            "_model_module_version": "1.5.0",
            "_model_name": "DescriptionStyleModel",
            "_view_count": null,
            "_view_module": "@jupyter-widgets/base",
            "_view_module_version": "1.2.0",
            "_view_name": "StyleView",
            "description_width": ""
          }
        },
        "991fcb95744249f296701ffa10fcf881": {
          "model_module": "@jupyter-widgets/controls",
          "model_name": "HBoxModel",
          "model_module_version": "1.5.0",
          "state": {
            "_dom_classes": [],
            "_model_module": "@jupyter-widgets/controls",
            "_model_module_version": "1.5.0",
            "_model_name": "HBoxModel",
            "_view_count": null,
            "_view_module": "@jupyter-widgets/controls",
            "_view_module_version": "1.5.0",
            "_view_name": "HBoxView",
            "box_style": "",
            "children": [
              "IPY_MODEL_81e34f6000bb45548506a9d13f0a1601",
              "IPY_MODEL_c13af37a8fcf4815bc9f7f799dd2f6ed",
              "IPY_MODEL_6b17981f9136482bb7707951c7802edc"
            ],
            "layout": "IPY_MODEL_7831fbe9e77843ae845e222778e07796"
          }
        },
        "81e34f6000bb45548506a9d13f0a1601": {
          "model_module": "@jupyter-widgets/controls",
          "model_name": "HTMLModel",
          "model_module_version": "1.5.0",
          "state": {
            "_dom_classes": [],
            "_model_module": "@jupyter-widgets/controls",
            "_model_module_version": "1.5.0",
            "_model_name": "HTMLModel",
            "_view_count": null,
            "_view_module": "@jupyter-widgets/controls",
            "_view_module_version": "1.5.0",
            "_view_name": "HTMLView",
            "description": "",
            "description_tooltip": null,
            "layout": "IPY_MODEL_04f1940c55ed4fd79ba858190b8cb1f6",
            "placeholder": "​",
            "style": "IPY_MODEL_932097f5ebfc4b99aa4156e3bb9f4141",
            "value": "Downloading (…)okenizer_config.json: 100%"
          }
        },
        "c13af37a8fcf4815bc9f7f799dd2f6ed": {
          "model_module": "@jupyter-widgets/controls",
          "model_name": "FloatProgressModel",
          "model_module_version": "1.5.0",
          "state": {
            "_dom_classes": [],
            "_model_module": "@jupyter-widgets/controls",
            "_model_module_version": "1.5.0",
            "_model_name": "FloatProgressModel",
            "_view_count": null,
            "_view_module": "@jupyter-widgets/controls",
            "_view_module_version": "1.5.0",
            "_view_name": "ProgressView",
            "bar_style": "success",
            "description": "",
            "description_tooltip": null,
            "layout": "IPY_MODEL_14270fd4995a4c09bd583a80a5e02d1d",
            "max": 28,
            "min": 0,
            "orientation": "horizontal",
            "style": "IPY_MODEL_67fef5709c9b40d5a0f433f7f0cdbeb6",
            "value": 28
          }
        },
        "6b17981f9136482bb7707951c7802edc": {
          "model_module": "@jupyter-widgets/controls",
          "model_name": "HTMLModel",
          "model_module_version": "1.5.0",
          "state": {
            "_dom_classes": [],
            "_model_module": "@jupyter-widgets/controls",
            "_model_module_version": "1.5.0",
            "_model_name": "HTMLModel",
            "_view_count": null,
            "_view_module": "@jupyter-widgets/controls",
            "_view_module_version": "1.5.0",
            "_view_name": "HTMLView",
            "description": "",
            "description_tooltip": null,
            "layout": "IPY_MODEL_2b146b58892f4d85825ea9e8b79a50de",
            "placeholder": "​",
            "style": "IPY_MODEL_70d6b5c92dd747f9a401fb16a3eccdba",
            "value": " 28.0/28.0 [00:00&lt;00:00, 2.54kB/s]"
          }
        },
        "7831fbe9e77843ae845e222778e07796": {
          "model_module": "@jupyter-widgets/base",
          "model_name": "LayoutModel",
          "model_module_version": "1.2.0",
          "state": {
            "_model_module": "@jupyter-widgets/base",
            "_model_module_version": "1.2.0",
            "_model_name": "LayoutModel",
            "_view_count": null,
            "_view_module": "@jupyter-widgets/base",
            "_view_module_version": "1.2.0",
            "_view_name": "LayoutView",
            "align_content": null,
            "align_items": null,
            "align_self": null,
            "border": null,
            "bottom": null,
            "display": null,
            "flex": null,
            "flex_flow": null,
            "grid_area": null,
            "grid_auto_columns": null,
            "grid_auto_flow": null,
            "grid_auto_rows": null,
            "grid_column": null,
            "grid_gap": null,
            "grid_row": null,
            "grid_template_areas": null,
            "grid_template_columns": null,
            "grid_template_rows": null,
            "height": null,
            "justify_content": null,
            "justify_items": null,
            "left": null,
            "margin": null,
            "max_height": null,
            "max_width": null,
            "min_height": null,
            "min_width": null,
            "object_fit": null,
            "object_position": null,
            "order": null,
            "overflow": null,
            "overflow_x": null,
            "overflow_y": null,
            "padding": null,
            "right": null,
            "top": null,
            "visibility": null,
            "width": null
          }
        },
        "04f1940c55ed4fd79ba858190b8cb1f6": {
          "model_module": "@jupyter-widgets/base",
          "model_name": "LayoutModel",
          "model_module_version": "1.2.0",
          "state": {
            "_model_module": "@jupyter-widgets/base",
            "_model_module_version": "1.2.0",
            "_model_name": "LayoutModel",
            "_view_count": null,
            "_view_module": "@jupyter-widgets/base",
            "_view_module_version": "1.2.0",
            "_view_name": "LayoutView",
            "align_content": null,
            "align_items": null,
            "align_self": null,
            "border": null,
            "bottom": null,
            "display": null,
            "flex": null,
            "flex_flow": null,
            "grid_area": null,
            "grid_auto_columns": null,
            "grid_auto_flow": null,
            "grid_auto_rows": null,
            "grid_column": null,
            "grid_gap": null,
            "grid_row": null,
            "grid_template_areas": null,
            "grid_template_columns": null,
            "grid_template_rows": null,
            "height": null,
            "justify_content": null,
            "justify_items": null,
            "left": null,
            "margin": null,
            "max_height": null,
            "max_width": null,
            "min_height": null,
            "min_width": null,
            "object_fit": null,
            "object_position": null,
            "order": null,
            "overflow": null,
            "overflow_x": null,
            "overflow_y": null,
            "padding": null,
            "right": null,
            "top": null,
            "visibility": null,
            "width": null
          }
        },
        "932097f5ebfc4b99aa4156e3bb9f4141": {
          "model_module": "@jupyter-widgets/controls",
          "model_name": "DescriptionStyleModel",
          "model_module_version": "1.5.0",
          "state": {
            "_model_module": "@jupyter-widgets/controls",
            "_model_module_version": "1.5.0",
            "_model_name": "DescriptionStyleModel",
            "_view_count": null,
            "_view_module": "@jupyter-widgets/base",
            "_view_module_version": "1.2.0",
            "_view_name": "StyleView",
            "description_width": ""
          }
        },
        "14270fd4995a4c09bd583a80a5e02d1d": {
          "model_module": "@jupyter-widgets/base",
          "model_name": "LayoutModel",
          "model_module_version": "1.2.0",
          "state": {
            "_model_module": "@jupyter-widgets/base",
            "_model_module_version": "1.2.0",
            "_model_name": "LayoutModel",
            "_view_count": null,
            "_view_module": "@jupyter-widgets/base",
            "_view_module_version": "1.2.0",
            "_view_name": "LayoutView",
            "align_content": null,
            "align_items": null,
            "align_self": null,
            "border": null,
            "bottom": null,
            "display": null,
            "flex": null,
            "flex_flow": null,
            "grid_area": null,
            "grid_auto_columns": null,
            "grid_auto_flow": null,
            "grid_auto_rows": null,
            "grid_column": null,
            "grid_gap": null,
            "grid_row": null,
            "grid_template_areas": null,
            "grid_template_columns": null,
            "grid_template_rows": null,
            "height": null,
            "justify_content": null,
            "justify_items": null,
            "left": null,
            "margin": null,
            "max_height": null,
            "max_width": null,
            "min_height": null,
            "min_width": null,
            "object_fit": null,
            "object_position": null,
            "order": null,
            "overflow": null,
            "overflow_x": null,
            "overflow_y": null,
            "padding": null,
            "right": null,
            "top": null,
            "visibility": null,
            "width": null
          }
        },
        "67fef5709c9b40d5a0f433f7f0cdbeb6": {
          "model_module": "@jupyter-widgets/controls",
          "model_name": "ProgressStyleModel",
          "model_module_version": "1.5.0",
          "state": {
            "_model_module": "@jupyter-widgets/controls",
            "_model_module_version": "1.5.0",
            "_model_name": "ProgressStyleModel",
            "_view_count": null,
            "_view_module": "@jupyter-widgets/base",
            "_view_module_version": "1.2.0",
            "_view_name": "StyleView",
            "bar_color": null,
            "description_width": ""
          }
        },
        "2b146b58892f4d85825ea9e8b79a50de": {
          "model_module": "@jupyter-widgets/base",
          "model_name": "LayoutModel",
          "model_module_version": "1.2.0",
          "state": {
            "_model_module": "@jupyter-widgets/base",
            "_model_module_version": "1.2.0",
            "_model_name": "LayoutModel",
            "_view_count": null,
            "_view_module": "@jupyter-widgets/base",
            "_view_module_version": "1.2.0",
            "_view_name": "LayoutView",
            "align_content": null,
            "align_items": null,
            "align_self": null,
            "border": null,
            "bottom": null,
            "display": null,
            "flex": null,
            "flex_flow": null,
            "grid_area": null,
            "grid_auto_columns": null,
            "grid_auto_flow": null,
            "grid_auto_rows": null,
            "grid_column": null,
            "grid_gap": null,
            "grid_row": null,
            "grid_template_areas": null,
            "grid_template_columns": null,
            "grid_template_rows": null,
            "height": null,
            "justify_content": null,
            "justify_items": null,
            "left": null,
            "margin": null,
            "max_height": null,
            "max_width": null,
            "min_height": null,
            "min_width": null,
            "object_fit": null,
            "object_position": null,
            "order": null,
            "overflow": null,
            "overflow_x": null,
            "overflow_y": null,
            "padding": null,
            "right": null,
            "top": null,
            "visibility": null,
            "width": null
          }
        },
        "70d6b5c92dd747f9a401fb16a3eccdba": {
          "model_module": "@jupyter-widgets/controls",
          "model_name": "DescriptionStyleModel",
          "model_module_version": "1.5.0",
          "state": {
            "_model_module": "@jupyter-widgets/controls",
            "_model_module_version": "1.5.0",
            "_model_name": "DescriptionStyleModel",
            "_view_count": null,
            "_view_module": "@jupyter-widgets/base",
            "_view_module_version": "1.2.0",
            "_view_name": "StyleView",
            "description_width": ""
          }
        },
        "873897753ff348c69f44543c85a5e04c": {
          "model_module": "@jupyter-widgets/controls",
          "model_name": "HBoxModel",
          "model_module_version": "1.5.0",
          "state": {
            "_dom_classes": [],
            "_model_module": "@jupyter-widgets/controls",
            "_model_module_version": "1.5.0",
            "_model_name": "HBoxModel",
            "_view_count": null,
            "_view_module": "@jupyter-widgets/controls",
            "_view_module_version": "1.5.0",
            "_view_name": "HBoxView",
            "box_style": "",
            "children": [
              "IPY_MODEL_6e398668630e4024b74def73e3fc2fbb",
              "IPY_MODEL_54d14a2209064cb7946d5f8b1f4061d9",
              "IPY_MODEL_9ccb9860558e4c60ad7ed9db090a48ce"
            ],
            "layout": "IPY_MODEL_399feda53d7c4598adeed1057cc93dd4"
          }
        },
        "6e398668630e4024b74def73e3fc2fbb": {
          "model_module": "@jupyter-widgets/controls",
          "model_name": "HTMLModel",
          "model_module_version": "1.5.0",
          "state": {
            "_dom_classes": [],
            "_model_module": "@jupyter-widgets/controls",
            "_model_module_version": "1.5.0",
            "_model_name": "HTMLModel",
            "_view_count": null,
            "_view_module": "@jupyter-widgets/controls",
            "_view_module_version": "1.5.0",
            "_view_name": "HTMLView",
            "description": "",
            "description_tooltip": null,
            "layout": "IPY_MODEL_6580f87cf6eb42ad9642f85db433ca42",
            "placeholder": "​",
            "style": "IPY_MODEL_1171ea591a304a14ba72ad9489ab5280",
            "value": "Downloading (…)lve/main/config.json: 100%"
          }
        },
        "54d14a2209064cb7946d5f8b1f4061d9": {
          "model_module": "@jupyter-widgets/controls",
          "model_name": "FloatProgressModel",
          "model_module_version": "1.5.0",
          "state": {
            "_dom_classes": [],
            "_model_module": "@jupyter-widgets/controls",
            "_model_module_version": "1.5.0",
            "_model_name": "FloatProgressModel",
            "_view_count": null,
            "_view_module": "@jupyter-widgets/controls",
            "_view_module_version": "1.5.0",
            "_view_name": "ProgressView",
            "bar_style": "success",
            "description": "",
            "description_tooltip": null,
            "layout": "IPY_MODEL_b7d8d1a8aa394e528bda2a0243368e4e",
            "max": 483,
            "min": 0,
            "orientation": "horizontal",
            "style": "IPY_MODEL_65e8b5bab3084a4b9ba65a5b8bd052ae",
            "value": 483
          }
        },
        "9ccb9860558e4c60ad7ed9db090a48ce": {
          "model_module": "@jupyter-widgets/controls",
          "model_name": "HTMLModel",
          "model_module_version": "1.5.0",
          "state": {
            "_dom_classes": [],
            "_model_module": "@jupyter-widgets/controls",
            "_model_module_version": "1.5.0",
            "_model_name": "HTMLModel",
            "_view_count": null,
            "_view_module": "@jupyter-widgets/controls",
            "_view_module_version": "1.5.0",
            "_view_name": "HTMLView",
            "description": "",
            "description_tooltip": null,
            "layout": "IPY_MODEL_8c0542b00aa140f381609bd27a36ca25",
            "placeholder": "​",
            "style": "IPY_MODEL_d41092b396da4670999e53c659c96644",
            "value": " 483/483 [00:00&lt;00:00, 46.1kB/s]"
          }
        },
        "399feda53d7c4598adeed1057cc93dd4": {
          "model_module": "@jupyter-widgets/base",
          "model_name": "LayoutModel",
          "model_module_version": "1.2.0",
          "state": {
            "_model_module": "@jupyter-widgets/base",
            "_model_module_version": "1.2.0",
            "_model_name": "LayoutModel",
            "_view_count": null,
            "_view_module": "@jupyter-widgets/base",
            "_view_module_version": "1.2.0",
            "_view_name": "LayoutView",
            "align_content": null,
            "align_items": null,
            "align_self": null,
            "border": null,
            "bottom": null,
            "display": null,
            "flex": null,
            "flex_flow": null,
            "grid_area": null,
            "grid_auto_columns": null,
            "grid_auto_flow": null,
            "grid_auto_rows": null,
            "grid_column": null,
            "grid_gap": null,
            "grid_row": null,
            "grid_template_areas": null,
            "grid_template_columns": null,
            "grid_template_rows": null,
            "height": null,
            "justify_content": null,
            "justify_items": null,
            "left": null,
            "margin": null,
            "max_height": null,
            "max_width": null,
            "min_height": null,
            "min_width": null,
            "object_fit": null,
            "object_position": null,
            "order": null,
            "overflow": null,
            "overflow_x": null,
            "overflow_y": null,
            "padding": null,
            "right": null,
            "top": null,
            "visibility": null,
            "width": null
          }
        },
        "6580f87cf6eb42ad9642f85db433ca42": {
          "model_module": "@jupyter-widgets/base",
          "model_name": "LayoutModel",
          "model_module_version": "1.2.0",
          "state": {
            "_model_module": "@jupyter-widgets/base",
            "_model_module_version": "1.2.0",
            "_model_name": "LayoutModel",
            "_view_count": null,
            "_view_module": "@jupyter-widgets/base",
            "_view_module_version": "1.2.0",
            "_view_name": "LayoutView",
            "align_content": null,
            "align_items": null,
            "align_self": null,
            "border": null,
            "bottom": null,
            "display": null,
            "flex": null,
            "flex_flow": null,
            "grid_area": null,
            "grid_auto_columns": null,
            "grid_auto_flow": null,
            "grid_auto_rows": null,
            "grid_column": null,
            "grid_gap": null,
            "grid_row": null,
            "grid_template_areas": null,
            "grid_template_columns": null,
            "grid_template_rows": null,
            "height": null,
            "justify_content": null,
            "justify_items": null,
            "left": null,
            "margin": null,
            "max_height": null,
            "max_width": null,
            "min_height": null,
            "min_width": null,
            "object_fit": null,
            "object_position": null,
            "order": null,
            "overflow": null,
            "overflow_x": null,
            "overflow_y": null,
            "padding": null,
            "right": null,
            "top": null,
            "visibility": null,
            "width": null
          }
        },
        "1171ea591a304a14ba72ad9489ab5280": {
          "model_module": "@jupyter-widgets/controls",
          "model_name": "DescriptionStyleModel",
          "model_module_version": "1.5.0",
          "state": {
            "_model_module": "@jupyter-widgets/controls",
            "_model_module_version": "1.5.0",
            "_model_name": "DescriptionStyleModel",
            "_view_count": null,
            "_view_module": "@jupyter-widgets/base",
            "_view_module_version": "1.2.0",
            "_view_name": "StyleView",
            "description_width": ""
          }
        },
        "b7d8d1a8aa394e528bda2a0243368e4e": {
          "model_module": "@jupyter-widgets/base",
          "model_name": "LayoutModel",
          "model_module_version": "1.2.0",
          "state": {
            "_model_module": "@jupyter-widgets/base",
            "_model_module_version": "1.2.0",
            "_model_name": "LayoutModel",
            "_view_count": null,
            "_view_module": "@jupyter-widgets/base",
            "_view_module_version": "1.2.0",
            "_view_name": "LayoutView",
            "align_content": null,
            "align_items": null,
            "align_self": null,
            "border": null,
            "bottom": null,
            "display": null,
            "flex": null,
            "flex_flow": null,
            "grid_area": null,
            "grid_auto_columns": null,
            "grid_auto_flow": null,
            "grid_auto_rows": null,
            "grid_column": null,
            "grid_gap": null,
            "grid_row": null,
            "grid_template_areas": null,
            "grid_template_columns": null,
            "grid_template_rows": null,
            "height": null,
            "justify_content": null,
            "justify_items": null,
            "left": null,
            "margin": null,
            "max_height": null,
            "max_width": null,
            "min_height": null,
            "min_width": null,
            "object_fit": null,
            "object_position": null,
            "order": null,
            "overflow": null,
            "overflow_x": null,
            "overflow_y": null,
            "padding": null,
            "right": null,
            "top": null,
            "visibility": null,
            "width": null
          }
        },
        "65e8b5bab3084a4b9ba65a5b8bd052ae": {
          "model_module": "@jupyter-widgets/controls",
          "model_name": "ProgressStyleModel",
          "model_module_version": "1.5.0",
          "state": {
            "_model_module": "@jupyter-widgets/controls",
            "_model_module_version": "1.5.0",
            "_model_name": "ProgressStyleModel",
            "_view_count": null,
            "_view_module": "@jupyter-widgets/base",
            "_view_module_version": "1.2.0",
            "_view_name": "StyleView",
            "bar_color": null,
            "description_width": ""
          }
        },
        "8c0542b00aa140f381609bd27a36ca25": {
          "model_module": "@jupyter-widgets/base",
          "model_name": "LayoutModel",
          "model_module_version": "1.2.0",
          "state": {
            "_model_module": "@jupyter-widgets/base",
            "_model_module_version": "1.2.0",
            "_model_name": "LayoutModel",
            "_view_count": null,
            "_view_module": "@jupyter-widgets/base",
            "_view_module_version": "1.2.0",
            "_view_name": "LayoutView",
            "align_content": null,
            "align_items": null,
            "align_self": null,
            "border": null,
            "bottom": null,
            "display": null,
            "flex": null,
            "flex_flow": null,
            "grid_area": null,
            "grid_auto_columns": null,
            "grid_auto_flow": null,
            "grid_auto_rows": null,
            "grid_column": null,
            "grid_gap": null,
            "grid_row": null,
            "grid_template_areas": null,
            "grid_template_columns": null,
            "grid_template_rows": null,
            "height": null,
            "justify_content": null,
            "justify_items": null,
            "left": null,
            "margin": null,
            "max_height": null,
            "max_width": null,
            "min_height": null,
            "min_width": null,
            "object_fit": null,
            "object_position": null,
            "order": null,
            "overflow": null,
            "overflow_x": null,
            "overflow_y": null,
            "padding": null,
            "right": null,
            "top": null,
            "visibility": null,
            "width": null
          }
        },
        "d41092b396da4670999e53c659c96644": {
          "model_module": "@jupyter-widgets/controls",
          "model_name": "DescriptionStyleModel",
          "model_module_version": "1.5.0",
          "state": {
            "_model_module": "@jupyter-widgets/controls",
            "_model_module_version": "1.5.0",
            "_model_name": "DescriptionStyleModel",
            "_view_count": null,
            "_view_module": "@jupyter-widgets/base",
            "_view_module_version": "1.2.0",
            "_view_name": "StyleView",
            "description_width": ""
          }
        },
        "9d13d1a82cb94f97bebfbbd5a5398927": {
          "model_module": "@jupyter-widgets/controls",
          "model_name": "HBoxModel",
          "model_module_version": "1.5.0",
          "state": {
            "_dom_classes": [],
            "_model_module": "@jupyter-widgets/controls",
            "_model_module_version": "1.5.0",
            "_model_name": "HBoxModel",
            "_view_count": null,
            "_view_module": "@jupyter-widgets/controls",
            "_view_module_version": "1.5.0",
            "_view_name": "HBoxView",
            "box_style": "",
            "children": [
              "IPY_MODEL_765a29d6e2794ed6853c1f714469e532",
              "IPY_MODEL_15d509c5f3b24b4b8dfe024fd40b00e4",
              "IPY_MODEL_8befd8834e4e44e3b42f5b435f547581"
            ],
            "layout": "IPY_MODEL_f2dc01efe9ed4bd58e1248365e8e198c"
          }
        },
        "765a29d6e2794ed6853c1f714469e532": {
          "model_module": "@jupyter-widgets/controls",
          "model_name": "HTMLModel",
          "model_module_version": "1.5.0",
          "state": {
            "_dom_classes": [],
            "_model_module": "@jupyter-widgets/controls",
            "_model_module_version": "1.5.0",
            "_model_name": "HTMLModel",
            "_view_count": null,
            "_view_module": "@jupyter-widgets/controls",
            "_view_module_version": "1.5.0",
            "_view_name": "HTMLView",
            "description": "",
            "description_tooltip": null,
            "layout": "IPY_MODEL_cc51f8e462b24005bec28bef6110e67b",
            "placeholder": "​",
            "style": "IPY_MODEL_9065e7bc9c134bfc89393becad7491a4",
            "value": "Downloading tf_model.h5: 100%"
          }
        },
        "15d509c5f3b24b4b8dfe024fd40b00e4": {
          "model_module": "@jupyter-widgets/controls",
          "model_name": "FloatProgressModel",
          "model_module_version": "1.5.0",
          "state": {
            "_dom_classes": [],
            "_model_module": "@jupyter-widgets/controls",
            "_model_module_version": "1.5.0",
            "_model_name": "FloatProgressModel",
            "_view_count": null,
            "_view_module": "@jupyter-widgets/controls",
            "_view_module_version": "1.5.0",
            "_view_name": "ProgressView",
            "bar_style": "success",
            "description": "",
            "description_tooltip": null,
            "layout": "IPY_MODEL_4fdefe3a040f4c1cbb5be1bbe1276a75",
            "max": 363423424,
            "min": 0,
            "orientation": "horizontal",
            "style": "IPY_MODEL_cd7930dab0134deb9c32dcd6d466c51a",
            "value": 363423424
          }
        },
        "8befd8834e4e44e3b42f5b435f547581": {
          "model_module": "@jupyter-widgets/controls",
          "model_name": "HTMLModel",
          "model_module_version": "1.5.0",
          "state": {
            "_dom_classes": [],
            "_model_module": "@jupyter-widgets/controls",
            "_model_module_version": "1.5.0",
            "_model_name": "HTMLModel",
            "_view_count": null,
            "_view_module": "@jupyter-widgets/controls",
            "_view_module_version": "1.5.0",
            "_view_name": "HTMLView",
            "description": "",
            "description_tooltip": null,
            "layout": "IPY_MODEL_4b3f9e26d1db4e4ea3a3074aaf69b4d2",
            "placeholder": "​",
            "style": "IPY_MODEL_ff347b17e1a84bf2b7c1f958baea4ba7",
            "value": " 363M/363M [00:00&lt;00:00, 480MB/s]"
          }
        },
        "f2dc01efe9ed4bd58e1248365e8e198c": {
          "model_module": "@jupyter-widgets/base",
          "model_name": "LayoutModel",
          "model_module_version": "1.2.0",
          "state": {
            "_model_module": "@jupyter-widgets/base",
            "_model_module_version": "1.2.0",
            "_model_name": "LayoutModel",
            "_view_count": null,
            "_view_module": "@jupyter-widgets/base",
            "_view_module_version": "1.2.0",
            "_view_name": "LayoutView",
            "align_content": null,
            "align_items": null,
            "align_self": null,
            "border": null,
            "bottom": null,
            "display": null,
            "flex": null,
            "flex_flow": null,
            "grid_area": null,
            "grid_auto_columns": null,
            "grid_auto_flow": null,
            "grid_auto_rows": null,
            "grid_column": null,
            "grid_gap": null,
            "grid_row": null,
            "grid_template_areas": null,
            "grid_template_columns": null,
            "grid_template_rows": null,
            "height": null,
            "justify_content": null,
            "justify_items": null,
            "left": null,
            "margin": null,
            "max_height": null,
            "max_width": null,
            "min_height": null,
            "min_width": null,
            "object_fit": null,
            "object_position": null,
            "order": null,
            "overflow": null,
            "overflow_x": null,
            "overflow_y": null,
            "padding": null,
            "right": null,
            "top": null,
            "visibility": null,
            "width": null
          }
        },
        "cc51f8e462b24005bec28bef6110e67b": {
          "model_module": "@jupyter-widgets/base",
          "model_name": "LayoutModel",
          "model_module_version": "1.2.0",
          "state": {
            "_model_module": "@jupyter-widgets/base",
            "_model_module_version": "1.2.0",
            "_model_name": "LayoutModel",
            "_view_count": null,
            "_view_module": "@jupyter-widgets/base",
            "_view_module_version": "1.2.0",
            "_view_name": "LayoutView",
            "align_content": null,
            "align_items": null,
            "align_self": null,
            "border": null,
            "bottom": null,
            "display": null,
            "flex": null,
            "flex_flow": null,
            "grid_area": null,
            "grid_auto_columns": null,
            "grid_auto_flow": null,
            "grid_auto_rows": null,
            "grid_column": null,
            "grid_gap": null,
            "grid_row": null,
            "grid_template_areas": null,
            "grid_template_columns": null,
            "grid_template_rows": null,
            "height": null,
            "justify_content": null,
            "justify_items": null,
            "left": null,
            "margin": null,
            "max_height": null,
            "max_width": null,
            "min_height": null,
            "min_width": null,
            "object_fit": null,
            "object_position": null,
            "order": null,
            "overflow": null,
            "overflow_x": null,
            "overflow_y": null,
            "padding": null,
            "right": null,
            "top": null,
            "visibility": null,
            "width": null
          }
        },
        "9065e7bc9c134bfc89393becad7491a4": {
          "model_module": "@jupyter-widgets/controls",
          "model_name": "DescriptionStyleModel",
          "model_module_version": "1.5.0",
          "state": {
            "_model_module": "@jupyter-widgets/controls",
            "_model_module_version": "1.5.0",
            "_model_name": "DescriptionStyleModel",
            "_view_count": null,
            "_view_module": "@jupyter-widgets/base",
            "_view_module_version": "1.2.0",
            "_view_name": "StyleView",
            "description_width": ""
          }
        },
        "4fdefe3a040f4c1cbb5be1bbe1276a75": {
          "model_module": "@jupyter-widgets/base",
          "model_name": "LayoutModel",
          "model_module_version": "1.2.0",
          "state": {
            "_model_module": "@jupyter-widgets/base",
            "_model_module_version": "1.2.0",
            "_model_name": "LayoutModel",
            "_view_count": null,
            "_view_module": "@jupyter-widgets/base",
            "_view_module_version": "1.2.0",
            "_view_name": "LayoutView",
            "align_content": null,
            "align_items": null,
            "align_self": null,
            "border": null,
            "bottom": null,
            "display": null,
            "flex": null,
            "flex_flow": null,
            "grid_area": null,
            "grid_auto_columns": null,
            "grid_auto_flow": null,
            "grid_auto_rows": null,
            "grid_column": null,
            "grid_gap": null,
            "grid_row": null,
            "grid_template_areas": null,
            "grid_template_columns": null,
            "grid_template_rows": null,
            "height": null,
            "justify_content": null,
            "justify_items": null,
            "left": null,
            "margin": null,
            "max_height": null,
            "max_width": null,
            "min_height": null,
            "min_width": null,
            "object_fit": null,
            "object_position": null,
            "order": null,
            "overflow": null,
            "overflow_x": null,
            "overflow_y": null,
            "padding": null,
            "right": null,
            "top": null,
            "visibility": null,
            "width": null
          }
        },
        "cd7930dab0134deb9c32dcd6d466c51a": {
          "model_module": "@jupyter-widgets/controls",
          "model_name": "ProgressStyleModel",
          "model_module_version": "1.5.0",
          "state": {
            "_model_module": "@jupyter-widgets/controls",
            "_model_module_version": "1.5.0",
            "_model_name": "ProgressStyleModel",
            "_view_count": null,
            "_view_module": "@jupyter-widgets/base",
            "_view_module_version": "1.2.0",
            "_view_name": "StyleView",
            "bar_color": null,
            "description_width": ""
          }
        },
        "4b3f9e26d1db4e4ea3a3074aaf69b4d2": {
          "model_module": "@jupyter-widgets/base",
          "model_name": "LayoutModel",
          "model_module_version": "1.2.0",
          "state": {
            "_model_module": "@jupyter-widgets/base",
            "_model_module_version": "1.2.0",
            "_model_name": "LayoutModel",
            "_view_count": null,
            "_view_module": "@jupyter-widgets/base",
            "_view_module_version": "1.2.0",
            "_view_name": "LayoutView",
            "align_content": null,
            "align_items": null,
            "align_self": null,
            "border": null,
            "bottom": null,
            "display": null,
            "flex": null,
            "flex_flow": null,
            "grid_area": null,
            "grid_auto_columns": null,
            "grid_auto_flow": null,
            "grid_auto_rows": null,
            "grid_column": null,
            "grid_gap": null,
            "grid_row": null,
            "grid_template_areas": null,
            "grid_template_columns": null,
            "grid_template_rows": null,
            "height": null,
            "justify_content": null,
            "justify_items": null,
            "left": null,
            "margin": null,
            "max_height": null,
            "max_width": null,
            "min_height": null,
            "min_width": null,
            "object_fit": null,
            "object_position": null,
            "order": null,
            "overflow": null,
            "overflow_x": null,
            "overflow_y": null,
            "padding": null,
            "right": null,
            "top": null,
            "visibility": null,
            "width": null
          }
        },
        "ff347b17e1a84bf2b7c1f958baea4ba7": {
          "model_module": "@jupyter-widgets/controls",
          "model_name": "DescriptionStyleModel",
          "model_module_version": "1.5.0",
          "state": {
            "_model_module": "@jupyter-widgets/controls",
            "_model_module_version": "1.5.0",
            "_model_name": "DescriptionStyleModel",
            "_view_count": null,
            "_view_module": "@jupyter-widgets/base",
            "_view_module_version": "1.2.0",
            "_view_name": "StyleView",
            "description_width": ""
          }
        }
      }
    }
  },
  "nbformat": 4,
  "nbformat_minor": 5
}