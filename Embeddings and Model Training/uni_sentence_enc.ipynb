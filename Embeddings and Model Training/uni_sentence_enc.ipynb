{
 "cells": [
  {
   "cell_type": "code",
   "execution_count": 1,
   "id": "1d33074c",
   "metadata": {
    "execution": {
     "iopub.execute_input": "2023-04-27T06:54:17.057949Z",
     "iopub.status.busy": "2023-04-27T06:54:17.057186Z",
     "iopub.status.idle": "2023-04-27T06:54:21.269336Z",
     "shell.execute_reply": "2023-04-27T06:54:21.268242Z",
     "shell.execute_reply.started": "2023-04-27T06:54:17.057910Z"
    },
    "executionInfo": {
     "elapsed": 25816,
     "status": "ok",
     "timestamp": 1682231191636,
     "user": {
      "displayName": "Shringa Bais",
      "userId": "09868022155344754933"
     },
     "user_tz": 420
    },
    "id": "14ba2494-465d-499e-801a-6fa20f1e2de8",
    "tags": []
   },
   "outputs": [],
   "source": [
    "from transformers import TFBertModel, BertTokenizer, AutoTokenizer, TFDistilBertModel, DistilBertTokenizer\n",
    "from tensorflow.keras.layers import Input, Dropout, Dense \n",
    "from tensorflow.keras.optimizers import Adam\n",
    "from tensorflow.keras import Model\n",
    "import tensorflow as tf \n",
    "import tensorflow.keras.backend as K\n",
    "from keras.utils.np_utils import to_categorical\n",
    "\n",
    "## for data\n",
    "import pandas as pd\n",
    "import numpy as np\n",
    "import re\n",
    "import os\n",
    "import glob\n",
    "from sklearn.model_selection import train_test_split\n",
    "from sklearn.metrics import log_loss, classification_report, ConfusionMatrixDisplay, precision_recall_fscore_support\n",
    "\n",
    "## for plotting\n",
    "import matplotlib.pyplot as plt\n",
    "import seaborn as sns\n"
   ]
  },
  {
   "cell_type": "code",
   "execution_count": 2,
   "id": "8c779d5c",
   "metadata": {
    "execution": {
     "iopub.execute_input": "2023-04-27T06:54:21.272133Z",
     "iopub.status.busy": "2023-04-27T06:54:21.271287Z",
     "iopub.status.idle": "2023-04-27T06:54:21.279349Z",
     "shell.execute_reply": "2023-04-27T06:54:21.278203Z",
     "shell.execute_reply.started": "2023-04-27T06:54:21.272092Z"
    },
    "executionInfo": {
     "elapsed": 286,
     "status": "ok",
     "timestamp": 1682231263202,
     "user": {
      "displayName": "Shringa Bais",
      "userId": "09868022155344754933"
     },
     "user_tz": 420
    },
    "id": "70490969-8f55-404c-ac03-3e68f9658c67",
    "tags": []
   },
   "outputs": [],
   "source": [
    "pd.set_option('display.max_columns', None)\n",
    "pd.set_option('display.max_rows', None)\n",
    "pd.options.display.max_colwidth = 6000"
   ]
  },
  {
   "cell_type": "code",
   "execution_count": null,
   "id": "ff4f98ce",
   "metadata": {
    "id": "c6ef06ec-aa45-4082-8ce7-7bde6d887c3d",
    "tags": []
   },
   "outputs": [],
   "source": [
    "# !conda install -c conda-forge h5py -y"
   ]
  },
  {
   "cell_type": "markdown",
   "id": "d4fea46d",
   "metadata": {
    "id": "77694894-1ad6-44de-9f44-ad3cadfea1e6"
   },
   "source": [
    "## Load Data"
   ]
  },
  {
   "cell_type": "code",
   "execution_count": 3,
   "id": "05b20a14",
   "metadata": {
    "execution": {
     "iopub.execute_input": "2023-04-27T06:54:21.281149Z",
     "iopub.status.busy": "2023-04-27T06:54:21.280776Z",
     "iopub.status.idle": "2023-04-27T06:54:21.290610Z",
     "shell.execute_reply": "2023-04-27T06:54:21.289586Z",
     "shell.execute_reply.started": "2023-04-27T06:54:21.281110Z"
    }
   },
   "outputs": [],
   "source": [
    "def read_data(path:str, file_type:str)-> pd.DataFrame:\n",
    "    if glob.glob(path+file_type+\".csv\"):\n",
    "        df = pd.read_csv(path+file_type+\".csv\")\n",
    "    \n",
    "    essay_dict = {}\n",
    "    for file in glob.glob(path+file_type+'/*.txt'): \n",
    "        with open(file, \"r\") as file_open:\n",
    "            filename = file.split('train/')[1].split('.txt')[0]\n",
    "            essay_dict[filename] = file_open.read()\n",
    "        \n",
    "    essay_data = pd.DataFrame.from_dict([essay_dict]).T.reset_index()\n",
    "    essay_data.columns = [\"essay_id\", \"essay_text\"]\n",
    "    train_data = pd.merge(df,essay_data,left_on = 'essay_id', right_on ='essay_id', how ='left')\n",
    "    print(\"Train data: \",train_data.shape)\n",
    "    return train_data"
   ]
  },
  {
   "cell_type": "code",
   "execution_count": 4,
   "id": "64a0b76c",
   "metadata": {
    "colab": {
     "base_uri": "https://localhost:8080/"
    },
    "execution": {
     "iopub.execute_input": "2023-04-27T06:54:21.294026Z",
     "iopub.status.busy": "2023-04-27T06:54:21.293257Z",
     "iopub.status.idle": "2023-04-27T06:54:23.364684Z",
     "shell.execute_reply": "2023-04-27T06:54:23.363590Z",
     "shell.execute_reply.started": "2023-04-27T06:54:21.293989Z"
    },
    "executionInfo": {
     "elapsed": 548,
     "status": "ok",
     "timestamp": 1682231266129,
     "user": {
      "displayName": "Shringa Bais",
      "userId": "09868022155344754933"
     },
     "user_tz": 420
    },
    "id": "7d0a6658-99f8-4a96-a430-bd6c0e1c436a",
    "outputId": "6463e3ca-cc04-43c1-8771-c5898f305e80",
    "tags": []
   },
   "outputs": [
    {
     "name": "stdout",
     "output_type": "stream",
     "text": [
      "Train data:  (36765, 6)\n"
     ]
    },
    {
     "data": {
      "text/plain": [
       "(36765, 6)"
      ]
     },
     "execution_count": 4,
     "metadata": {},
     "output_type": "execute_result"
    }
   ],
   "source": [
    "filepath = '/kaggle/input/feedback-prize-effectiveness/'\n",
    "train_data = read_data(filepath, 'train')\n",
    "train_data.shape"
   ]
  },
  {
   "cell_type": "code",
   "execution_count": 5,
   "id": "a4e3d231",
   "metadata": {
    "colab": {
     "base_uri": "https://localhost:8080/",
     "height": 173
    },
    "execution": {
     "iopub.execute_input": "2023-04-27T06:54:23.366572Z",
     "iopub.status.busy": "2023-04-27T06:54:23.366197Z",
     "iopub.status.idle": "2023-04-27T06:54:23.382054Z",
     "shell.execute_reply": "2023-04-27T06:54:23.380884Z",
     "shell.execute_reply.started": "2023-04-27T06:54:23.366526Z"
    },
    "executionInfo": {
     "elapsed": 204,
     "status": "ok",
     "timestamp": 1682231266823,
     "user": {
      "displayName": "Shringa Bais",
      "userId": "09868022155344754933"
     },
     "user_tz": 420
    },
    "id": "1de4a4e6-8540-46f9-b342-01b8e194282e",
    "outputId": "f14b8e8c-11e1-4878-b792-6b28817b95ba",
    "tags": []
   },
   "outputs": [
    {
     "data": {
      "text/html": [
       "<div>\n",
       "<style scoped>\n",
       "    .dataframe tbody tr th:only-of-type {\n",
       "        vertical-align: middle;\n",
       "    }\n",
       "\n",
       "    .dataframe tbody tr th {\n",
       "        vertical-align: top;\n",
       "    }\n",
       "\n",
       "    .dataframe thead th {\n",
       "        text-align: right;\n",
       "    }\n",
       "</style>\n",
       "<table border=\"1\" class=\"dataframe\">\n",
       "  <thead>\n",
       "    <tr style=\"text-align: right;\">\n",
       "      <th></th>\n",
       "      <th>discourse_id</th>\n",
       "      <th>essay_id</th>\n",
       "      <th>discourse_text</th>\n",
       "      <th>discourse_type</th>\n",
       "      <th>discourse_effectiveness</th>\n",
       "      <th>essay_text</th>\n",
       "    </tr>\n",
       "  </thead>\n",
       "  <tbody>\n",
       "    <tr>\n",
       "      <th>0</th>\n",
       "      <td>0013cc385424</td>\n",
       "      <td>007ACE74B050</td>\n",
       "      <td>Hi, i'm Isaac, i'm going to be writing about how this face on Mars is a natural landform or if there is life on Mars that made it. The story is about how NASA took a picture of Mars and a face was seen on the planet. NASA doesn't know if the landform was created by life on Mars, or if it is just a natural landform.</td>\n",
       "      <td>Lead</td>\n",
       "      <td>Adequate</td>\n",
       "      <td>Hi, i'm Isaac, i'm going to be writing about how this face on Mars is a natural landform or if there is life on Mars that made it. The story is about how NASA took a picture of Mars and a face was seen on the planet. NASA doesn't know if the landform was created by life on Mars, or if it is just a natural landform. On my perspective, I think that the face is a natural landform because I dont think that there is any life on Mars. In these next few paragraphs, I'll be talking about how I think that is is a natural landform\\n\\nI think that the face is a natural landform because there is no life on Mars that we have descovered yet. If life was on Mars, we would know by now. The reason why I think it is a natural landform because, nobody live on Mars in order to create the figure. It says in paragraph 9, \"It's not easy to target Cydonia,\" in which he is saying that its not easy to know if it is a natural landform at this point. In all that they're saying, its probably a natural landform.\\n\\nPeople thought that the face was formed by alieans because they thought that there was life on Mars. though some say that life on Mars does exist, I think that there is no life on Mars.\\n\\nIt says in paragraph 7, on April 5, 1998, Mars Global Surveyor flew over Cydonia for the first time. Michael Malin took a picture of Mars with his Orbiter Camera, that the face was a natural landform. Everyone who thought it was made by alieans even though it wasn't, was not satisfied. I think they were not satisfied because they have thought since 1976 that it was really formed by alieans.\\n\\nThough people were not satified about how the landform was a natural landform, in all, we new that alieans did not form the face. I would like to know how the landform was formed. we know now that life on Mars doesn't exist.</td>\n",
       "    </tr>\n",
       "    <tr>\n",
       "      <th>1</th>\n",
       "      <td>9704a709b505</td>\n",
       "      <td>007ACE74B050</td>\n",
       "      <td>On my perspective, I think that the face is a natural landform because I dont think that there is any life on Mars. In these next few paragraphs, I'll be talking about how I think that is is a natural landform</td>\n",
       "      <td>Position</td>\n",
       "      <td>Adequate</td>\n",
       "      <td>Hi, i'm Isaac, i'm going to be writing about how this face on Mars is a natural landform or if there is life on Mars that made it. The story is about how NASA took a picture of Mars and a face was seen on the planet. NASA doesn't know if the landform was created by life on Mars, or if it is just a natural landform. On my perspective, I think that the face is a natural landform because I dont think that there is any life on Mars. In these next few paragraphs, I'll be talking about how I think that is is a natural landform\\n\\nI think that the face is a natural landform because there is no life on Mars that we have descovered yet. If life was on Mars, we would know by now. The reason why I think it is a natural landform because, nobody live on Mars in order to create the figure. It says in paragraph 9, \"It's not easy to target Cydonia,\" in which he is saying that its not easy to know if it is a natural landform at this point. In all that they're saying, its probably a natural landform.\\n\\nPeople thought that the face was formed by alieans because they thought that there was life on Mars. though some say that life on Mars does exist, I think that there is no life on Mars.\\n\\nIt says in paragraph 7, on April 5, 1998, Mars Global Surveyor flew over Cydonia for the first time. Michael Malin took a picture of Mars with his Orbiter Camera, that the face was a natural landform. Everyone who thought it was made by alieans even though it wasn't, was not satisfied. I think they were not satisfied because they have thought since 1976 that it was really formed by alieans.\\n\\nThough people were not satified about how the landform was a natural landform, in all, we new that alieans did not form the face. I would like to know how the landform was formed. we know now that life on Mars doesn't exist.</td>\n",
       "    </tr>\n",
       "  </tbody>\n",
       "</table>\n",
       "</div>"
      ],
      "text/plain": [
       "   discourse_id      essay_id  \\\n",
       "0  0013cc385424  007ACE74B050   \n",
       "1  9704a709b505  007ACE74B050   \n",
       "\n",
       "                                                                                                                                                                                                                                                                                                                  discourse_text  \\\n",
       "0  Hi, i'm Isaac, i'm going to be writing about how this face on Mars is a natural landform or if there is life on Mars that made it. The story is about how NASA took a picture of Mars and a face was seen on the planet. NASA doesn't know if the landform was created by life on Mars, or if it is just a natural landform.    \n",
       "1                                                                                                             On my perspective, I think that the face is a natural landform because I dont think that there is any life on Mars. In these next few paragraphs, I'll be talking about how I think that is is a natural landform    \n",
       "\n",
       "  discourse_type discourse_effectiveness  \\\n",
       "0           Lead                Adequate   \n",
       "1       Position                Adequate   \n",
       "\n",
       "                                                                                                                                                                                                                                                                                                                                                                                                                                                                                                                                                                                                                                                                                                                                                                                                                                                                                                                                                                                                                                                                                                                                                                                                                                                                                                                                                                                                                                                                                                                                                                                                                                                                                                                                                                                                                                                                                         essay_text  \n",
       "0  Hi, i'm Isaac, i'm going to be writing about how this face on Mars is a natural landform or if there is life on Mars that made it. The story is about how NASA took a picture of Mars and a face was seen on the planet. NASA doesn't know if the landform was created by life on Mars, or if it is just a natural landform. On my perspective, I think that the face is a natural landform because I dont think that there is any life on Mars. In these next few paragraphs, I'll be talking about how I think that is is a natural landform\\n\\nI think that the face is a natural landform because there is no life on Mars that we have descovered yet. If life was on Mars, we would know by now. The reason why I think it is a natural landform because, nobody live on Mars in order to create the figure. It says in paragraph 9, \"It's not easy to target Cydonia,\" in which he is saying that its not easy to know if it is a natural landform at this point. In all that they're saying, its probably a natural landform.\\n\\nPeople thought that the face was formed by alieans because they thought that there was life on Mars. though some say that life on Mars does exist, I think that there is no life on Mars.\\n\\nIt says in paragraph 7, on April 5, 1998, Mars Global Surveyor flew over Cydonia for the first time. Michael Malin took a picture of Mars with his Orbiter Camera, that the face was a natural landform. Everyone who thought it was made by alieans even though it wasn't, was not satisfied. I think they were not satisfied because they have thought since 1976 that it was really formed by alieans.\\n\\nThough people were not satified about how the landform was a natural landform, in all, we new that alieans did not form the face. I would like to know how the landform was formed. we know now that life on Mars doesn't exist.               \n",
       "1  Hi, i'm Isaac, i'm going to be writing about how this face on Mars is a natural landform or if there is life on Mars that made it. The story is about how NASA took a picture of Mars and a face was seen on the planet. NASA doesn't know if the landform was created by life on Mars, or if it is just a natural landform. On my perspective, I think that the face is a natural landform because I dont think that there is any life on Mars. In these next few paragraphs, I'll be talking about how I think that is is a natural landform\\n\\nI think that the face is a natural landform because there is no life on Mars that we have descovered yet. If life was on Mars, we would know by now. The reason why I think it is a natural landform because, nobody live on Mars in order to create the figure. It says in paragraph 9, \"It's not easy to target Cydonia,\" in which he is saying that its not easy to know if it is a natural landform at this point. In all that they're saying, its probably a natural landform.\\n\\nPeople thought that the face was formed by alieans because they thought that there was life on Mars. though some say that life on Mars does exist, I think that there is no life on Mars.\\n\\nIt says in paragraph 7, on April 5, 1998, Mars Global Surveyor flew over Cydonia for the first time. Michael Malin took a picture of Mars with his Orbiter Camera, that the face was a natural landform. Everyone who thought it was made by alieans even though it wasn't, was not satisfied. I think they were not satisfied because they have thought since 1976 that it was really formed by alieans.\\n\\nThough people were not satified about how the landform was a natural landform, in all, we new that alieans did not form the face. I would like to know how the landform was formed. we know now that life on Mars doesn't exist.               "
      ]
     },
     "execution_count": 5,
     "metadata": {},
     "output_type": "execute_result"
    }
   ],
   "source": [
    "train_data.head(2)"
   ]
  },
  {
   "cell_type": "code",
   "execution_count": 6,
   "id": "51da6fa0",
   "metadata": {
    "colab": {
     "base_uri": "https://localhost:8080/",
     "height": 337
    },
    "execution": {
     "iopub.execute_input": "2023-04-27T06:54:23.384169Z",
     "iopub.status.busy": "2023-04-27T06:54:23.383813Z",
     "iopub.status.idle": "2023-04-27T06:54:23.875618Z",
     "shell.execute_reply": "2023-04-27T06:54:23.874478Z",
     "shell.execute_reply.started": "2023-04-27T06:54:23.384132Z"
    },
    "executionInfo": {
     "elapsed": 674,
     "status": "ok",
     "timestamp": 1682231269051,
     "user": {
      "displayName": "Shringa Bais",
      "userId": "09868022155344754933"
     },
     "user_tz": 420
    },
    "id": "599ac6af-834c-4863-b2d7-30efa0653cc8",
    "outputId": "27df5373-b965-4cf9-89ec-5d894fbcc4ab",
    "tags": []
   },
   "outputs": [
    {
     "data": {
      "text/html": [
       "<div>\n",
       "<style scoped>\n",
       "    .dataframe tbody tr th:only-of-type {\n",
       "        vertical-align: middle;\n",
       "    }\n",
       "\n",
       "    .dataframe tbody tr th {\n",
       "        vertical-align: top;\n",
       "    }\n",
       "\n",
       "    .dataframe thead th {\n",
       "        text-align: right;\n",
       "    }\n",
       "</style>\n",
       "<table border=\"1\" class=\"dataframe\">\n",
       "  <thead>\n",
       "    <tr style=\"text-align: right;\">\n",
       "      <th></th>\n",
       "      <th>discourse_id</th>\n",
       "      <th>essay_id</th>\n",
       "      <th>discourse_text</th>\n",
       "      <th>discourse_type</th>\n",
       "      <th>discourse_effectiveness</th>\n",
       "      <th>essay_text</th>\n",
       "      <th>text_preprocessed</th>\n",
       "      <th>text_len</th>\n",
       "    </tr>\n",
       "  </thead>\n",
       "  <tbody>\n",
       "    <tr>\n",
       "      <th>0</th>\n",
       "      <td>0013cc385424</td>\n",
       "      <td>007ACE74B050</td>\n",
       "      <td>Hi, i'm Isaac, i'm going to be writing about how this face on Mars is a natural landform or if there is life on Mars that made it. The story is about how NASA took a picture of Mars and a face was seen on the planet. NASA doesn't know if the landform was created by life on Mars, or if it is just a natural landform.</td>\n",
       "      <td>Lead</td>\n",
       "      <td>Adequate</td>\n",
       "      <td>Hi, i'm Isaac, i'm going to be writing about how this face on Mars is a natural landform or if there is life on Mars that made it. The story is about how NASA took a picture of Mars and a face was seen on the planet. NASA doesn't know if the landform was created by life on Mars, or if it is just a natural landform. On my perspective, I think that the face is a natural landform because I dont think that there is any life on Mars. In these next few paragraphs, I'll be talking about how I think that is is a natural landform\\n\\nI think that the face is a natural landform because there is no life on Mars that we have descovered yet. If life was on Mars, we would know by now. The reason why I think it is a natural landform because, nobody live on Mars in order to create the figure. It says in paragraph 9, \"It's not easy to target Cydonia,\" in which he is saying that its not easy to know if it is a natural landform at this point. In all that they're saying, its probably a natural landform.\\n\\nPeople thought that the face was formed by alieans because they thought that there was life on Mars. though some say that life on Mars does exist, I think that there is no life on Mars.\\n\\nIt says in paragraph 7, on April 5, 1998, Mars Global Surveyor flew over Cydonia for the first time. Michael Malin took a picture of Mars with his Orbiter Camera, that the face was a natural landform. Everyone who thought it was made by alieans even though it wasn't, was not satisfied. I think they were not satisfied because they have thought since 1976 that it was really formed by alieans.\\n\\nThough people were not satified about how the landform was a natural landform, in all, we new that alieans did not form the face. I would like to know how the landform was formed. we know now that life on Mars doesn't exist.</td>\n",
       "      <td>hi  i m isaac  i m going to be writing about how this face on mars is a natural landform or if there is life on mars that made it  the story is about how nasa took a picture of mars and a face was seen on the planet  nasa doesn t know if the landform was created by life on mars  or if it is just a natural landform</td>\n",
       "      <td>317</td>\n",
       "    </tr>\n",
       "    <tr>\n",
       "      <th>1</th>\n",
       "      <td>9704a709b505</td>\n",
       "      <td>007ACE74B050</td>\n",
       "      <td>On my perspective, I think that the face is a natural landform because I dont think that there is any life on Mars. In these next few paragraphs, I'll be talking about how I think that is is a natural landform</td>\n",
       "      <td>Position</td>\n",
       "      <td>Adequate</td>\n",
       "      <td>Hi, i'm Isaac, i'm going to be writing about how this face on Mars is a natural landform or if there is life on Mars that made it. The story is about how NASA took a picture of Mars and a face was seen on the planet. NASA doesn't know if the landform was created by life on Mars, or if it is just a natural landform. On my perspective, I think that the face is a natural landform because I dont think that there is any life on Mars. In these next few paragraphs, I'll be talking about how I think that is is a natural landform\\n\\nI think that the face is a natural landform because there is no life on Mars that we have descovered yet. If life was on Mars, we would know by now. The reason why I think it is a natural landform because, nobody live on Mars in order to create the figure. It says in paragraph 9, \"It's not easy to target Cydonia,\" in which he is saying that its not easy to know if it is a natural landform at this point. In all that they're saying, its probably a natural landform.\\n\\nPeople thought that the face was formed by alieans because they thought that there was life on Mars. though some say that life on Mars does exist, I think that there is no life on Mars.\\n\\nIt says in paragraph 7, on April 5, 1998, Mars Global Surveyor flew over Cydonia for the first time. Michael Malin took a picture of Mars with his Orbiter Camera, that the face was a natural landform. Everyone who thought it was made by alieans even though it wasn't, was not satisfied. I think they were not satisfied because they have thought since 1976 that it was really formed by alieans.\\n\\nThough people were not satified about how the landform was a natural landform, in all, we new that alieans did not form the face. I would like to know how the landform was formed. we know now that life on Mars doesn't exist.</td>\n",
       "      <td>on my perspective  i think that the face is a natural landform because i dont think that there is any life on mars  in these next few paragraphs  i ll be talking about how i think that is is a natural landform</td>\n",
       "      <td>210</td>\n",
       "    </tr>\n",
       "  </tbody>\n",
       "</table>\n",
       "</div>"
      ],
      "text/plain": [
       "   discourse_id      essay_id  \\\n",
       "0  0013cc385424  007ACE74B050   \n",
       "1  9704a709b505  007ACE74B050   \n",
       "\n",
       "                                                                                                                                                                                                                                                                                                                  discourse_text  \\\n",
       "0  Hi, i'm Isaac, i'm going to be writing about how this face on Mars is a natural landform or if there is life on Mars that made it. The story is about how NASA took a picture of Mars and a face was seen on the planet. NASA doesn't know if the landform was created by life on Mars, or if it is just a natural landform.    \n",
       "1                                                                                                             On my perspective, I think that the face is a natural landform because I dont think that there is any life on Mars. In these next few paragraphs, I'll be talking about how I think that is is a natural landform    \n",
       "\n",
       "  discourse_type discourse_effectiveness  \\\n",
       "0           Lead                Adequate   \n",
       "1       Position                Adequate   \n",
       "\n",
       "                                                                                                                                                                                                                                                                                                                                                                                                                                                                                                                                                                                                                                                                                                                                                                                                                                                                                                                                                                                                                                                                                                                                                                                                                                                                                                                                                                                                                                                                                                                                                                                                                                                                                                                                                                                                                                                                                         essay_text  \\\n",
       "0  Hi, i'm Isaac, i'm going to be writing about how this face on Mars is a natural landform or if there is life on Mars that made it. The story is about how NASA took a picture of Mars and a face was seen on the planet. NASA doesn't know if the landform was created by life on Mars, or if it is just a natural landform. On my perspective, I think that the face is a natural landform because I dont think that there is any life on Mars. In these next few paragraphs, I'll be talking about how I think that is is a natural landform\\n\\nI think that the face is a natural landform because there is no life on Mars that we have descovered yet. If life was on Mars, we would know by now. The reason why I think it is a natural landform because, nobody live on Mars in order to create the figure. It says in paragraph 9, \"It's not easy to target Cydonia,\" in which he is saying that its not easy to know if it is a natural landform at this point. In all that they're saying, its probably a natural landform.\\n\\nPeople thought that the face was formed by alieans because they thought that there was life on Mars. though some say that life on Mars does exist, I think that there is no life on Mars.\\n\\nIt says in paragraph 7, on April 5, 1998, Mars Global Surveyor flew over Cydonia for the first time. Michael Malin took a picture of Mars with his Orbiter Camera, that the face was a natural landform. Everyone who thought it was made by alieans even though it wasn't, was not satisfied. I think they were not satisfied because they have thought since 1976 that it was really formed by alieans.\\n\\nThough people were not satified about how the landform was a natural landform, in all, we new that alieans did not form the face. I would like to know how the landform was formed. we know now that life on Mars doesn't exist.                \n",
       "1  Hi, i'm Isaac, i'm going to be writing about how this face on Mars is a natural landform or if there is life on Mars that made it. The story is about how NASA took a picture of Mars and a face was seen on the planet. NASA doesn't know if the landform was created by life on Mars, or if it is just a natural landform. On my perspective, I think that the face is a natural landform because I dont think that there is any life on Mars. In these next few paragraphs, I'll be talking about how I think that is is a natural landform\\n\\nI think that the face is a natural landform because there is no life on Mars that we have descovered yet. If life was on Mars, we would know by now. The reason why I think it is a natural landform because, nobody live on Mars in order to create the figure. It says in paragraph 9, \"It's not easy to target Cydonia,\" in which he is saying that its not easy to know if it is a natural landform at this point. In all that they're saying, its probably a natural landform.\\n\\nPeople thought that the face was formed by alieans because they thought that there was life on Mars. though some say that life on Mars does exist, I think that there is no life on Mars.\\n\\nIt says in paragraph 7, on April 5, 1998, Mars Global Surveyor flew over Cydonia for the first time. Michael Malin took a picture of Mars with his Orbiter Camera, that the face was a natural landform. Everyone who thought it was made by alieans even though it wasn't, was not satisfied. I think they were not satisfied because they have thought since 1976 that it was really formed by alieans.\\n\\nThough people were not satified about how the landform was a natural landform, in all, we new that alieans did not form the face. I would like to know how the landform was formed. we know now that life on Mars doesn't exist.                \n",
       "\n",
       "                                                                                                                                                                                                                                                                                                               text_preprocessed  \\\n",
       "0  hi  i m isaac  i m going to be writing about how this face on mars is a natural landform or if there is life on mars that made it  the story is about how nasa took a picture of mars and a face was seen on the planet  nasa doesn t know if the landform was created by life on mars  or if it is just a natural landform     \n",
       "1                                                                                                             on my perspective  i think that the face is a natural landform because i dont think that there is any life on mars  in these next few paragraphs  i ll be talking about how i think that is is a natural landform    \n",
       "\n",
       "   text_len  \n",
       "0       317  \n",
       "1       210  "
      ]
     },
     "metadata": {},
     "output_type": "display_data"
    }
   ],
   "source": [
    "def cleanup_text(text):\n",
    "    words = re.sub(pattern = '[^a-zA-Z]',repl = ' ', string = text)\n",
    "    words = words.lower()\n",
    "    return words\n",
    "\n",
    "def get_len(text):\n",
    "    return len(text)\n",
    "\n",
    "\n",
    "train_data['text_preprocessed'] = train_data['discourse_text'].apply(cleanup_text)\n",
    "train_data['text_len'] = train_data['text_preprocessed'].apply(get_len)\n",
    "display(train_data.head(2))"
   ]
  },
  {
   "cell_type": "code",
   "execution_count": 7,
   "id": "ebb7cf99",
   "metadata": {
    "execution": {
     "iopub.execute_input": "2023-04-27T06:54:23.879032Z",
     "iopub.status.busy": "2023-04-27T06:54:23.878254Z",
     "iopub.status.idle": "2023-04-27T06:54:23.889984Z",
     "shell.execute_reply": "2023-04-27T06:54:23.888328Z",
     "shell.execute_reply.started": "2023-04-27T06:54:23.878989Z"
    }
   },
   "outputs": [
    {
     "data": {
      "text/plain": [
       "Adequate       20977\n",
       "Effective       9326\n",
       "Ineffective     6462\n",
       "Name: discourse_effectiveness, dtype: int64"
      ]
     },
     "execution_count": 7,
     "metadata": {},
     "output_type": "execute_result"
    }
   ],
   "source": [
    "train_data.discourse_effectiveness.value_counts()"
   ]
  },
  {
   "cell_type": "code",
   "execution_count": 8,
   "id": "8eaaf5e5",
   "metadata": {
    "execution": {
     "iopub.execute_input": "2023-04-27T06:54:23.893583Z",
     "iopub.status.busy": "2023-04-27T06:54:23.893282Z",
     "iopub.status.idle": "2023-04-27T06:54:23.898462Z",
     "shell.execute_reply": "2023-04-27T06:54:23.897120Z",
     "shell.execute_reply.started": "2023-04-27T06:54:23.893546Z"
    },
    "executionInfo": {
     "elapsed": 132,
     "status": "ok",
     "timestamp": 1682231267840,
     "user": {
      "displayName": "Shringa Bais",
      "userId": "09868022155344754933"
     },
     "user_tz": 420
    },
    "id": "20d33514-54f1-4295-8b32-2fa0ca107c7c",
    "tags": []
   },
   "outputs": [],
   "source": [
    "AUTO = tf.data.experimental.AUTOTUNE\n",
    "# Configuration\n",
    "EPOCHS = 10\n",
    "BATCH_SIZE = 16\n",
    "MAX_LEN = 256\n",
    "MODEL_TYPE=\"distilbert\""
   ]
  },
  {
   "cell_type": "code",
   "execution_count": null,
   "id": "a1c761f2",
   "metadata": {
    "id": "f51da798-3891-487d-a230-2db21f48c6d8",
    "tags": []
   },
   "outputs": [],
   "source": []
  },
  {
   "cell_type": "markdown",
   "id": "12bcc653",
   "metadata": {
    "id": "a7c305e9-ae41-42b5-bc04-79abf26a040c"
   },
   "source": [
    "## BERT Encoder"
   ]
  },
  {
   "cell_type": "code",
   "execution_count": null,
   "id": "796d1ca7",
   "metadata": {
    "executionInfo": {
     "elapsed": 147,
     "status": "ok",
     "timestamp": 1682231270495,
     "user": {
      "displayName": "Shringa Bais",
      "userId": "09868022155344754933"
     },
     "user_tz": 420
    },
    "id": "01c32b4f-2d38-423e-9e84-50105e161988",
    "tags": []
   },
   "outputs": [],
   "source": [
    "# text =[\"Lead[SEP]Hi, i'm Isaac, i'm going to be writing about how this face on Mars is a natural landform or if there is life on Mars that made it. The story is about how NASA took a picture of Mars and a face was seen on the planet. NASA doesn't know if the landform was created by life on Mars, or if it is just a natural landform.\"]\n",
    "\n",
    "# bert_encode(text, tokenizer, distil=True)"
   ]
  },
  {
   "cell_type": "code",
   "execution_count": null,
   "id": "5544c1cf",
   "metadata": {
    "executionInfo": {
     "elapsed": 326,
     "status": "ok",
     "timestamp": 1682231272016,
     "user": {
      "displayName": "Shringa Bais",
      "userId": "09868022155344754933"
     },
     "user_tz": 420
    },
    "id": "dec0a09c-8955-4fbc-a61b-dd3a85d65c01",
    "tags": []
   },
   "outputs": [],
   "source": [
    "# if MODEL_TYPE==\"bert\":\n",
    "#     tokenizer = DistilBertTokenizer.from_pretrained('bert-base-uncased', do_lower_case=True)\n",
    "# elif MODEL_TYPE==\"distilbert\":\n",
    "#     tokenizer = DistilBertTokenizer.from_pretrained('distilbert-base-uncased', do_lower_case=True)\n",
    "# # Save the loaded tokenizer locally\n",
    "# tokenizer.save_pretrained('.')\n",
    "# sep = tokenizer.sep_token\n"
   ]
  },
  {
   "cell_type": "code",
   "execution_count": 9,
   "id": "ce7330e5",
   "metadata": {
    "colab": {
     "base_uri": "https://localhost:8080/",
     "height": 243
    },
    "execution": {
     "iopub.execute_input": "2023-04-27T06:54:29.755856Z",
     "iopub.status.busy": "2023-04-27T06:54:29.754821Z",
     "iopub.status.idle": "2023-04-27T06:54:29.789844Z",
     "shell.execute_reply": "2023-04-27T06:54:29.788661Z",
     "shell.execute_reply.started": "2023-04-27T06:54:29.755799Z"
    },
    "executionInfo": {
     "elapsed": 165,
     "status": "ok",
     "timestamp": 1682231274389,
     "user": {
      "displayName": "Shringa Bais",
      "userId": "09868022155344754933"
     },
     "user_tz": 420
    },
    "id": "b947a1bc-10d2-43f6-8ea7-5121f215584b",
    "outputId": "212d38ab-21a1-4f06-8c6b-3de42f6f6950",
    "tags": []
   },
   "outputs": [
    {
     "data": {
      "text/html": [
       "<div>\n",
       "<style scoped>\n",
       "    .dataframe tbody tr th:only-of-type {\n",
       "        vertical-align: middle;\n",
       "    }\n",
       "\n",
       "    .dataframe tbody tr th {\n",
       "        vertical-align: top;\n",
       "    }\n",
       "\n",
       "    .dataframe thead th {\n",
       "        text-align: right;\n",
       "    }\n",
       "</style>\n",
       "<table border=\"1\" class=\"dataframe\">\n",
       "  <thead>\n",
       "    <tr style=\"text-align: right;\">\n",
       "      <th></th>\n",
       "      <th>discourse_id</th>\n",
       "      <th>essay_id</th>\n",
       "      <th>discourse_text</th>\n",
       "      <th>discourse_type</th>\n",
       "      <th>discourse_effectiveness</th>\n",
       "      <th>essay_text</th>\n",
       "      <th>text_preprocessed</th>\n",
       "      <th>text_len</th>\n",
       "      <th>inputs</th>\n",
       "    </tr>\n",
       "  </thead>\n",
       "  <tbody>\n",
       "    <tr>\n",
       "      <th>0</th>\n",
       "      <td>0013cc385424</td>\n",
       "      <td>007ACE74B050</td>\n",
       "      <td>Hi, i'm Isaac, i'm going to be writing about how this face on Mars is a natural landform or if there is life on Mars that made it. The story is about how NASA took a picture of Mars and a face was seen on the planet. NASA doesn't know if the landform was created by life on Mars, or if it is just a natural landform.</td>\n",
       "      <td>Lead</td>\n",
       "      <td>Adequate</td>\n",
       "      <td>Hi, i'm Isaac, i'm going to be writing about how this face on Mars is a natural landform or if there is life on Mars that made it. The story is about how NASA took a picture of Mars and a face was seen on the planet. NASA doesn't know if the landform was created by life on Mars, or if it is just a natural landform. On my perspective, I think that the face is a natural landform because I dont think that there is any life on Mars. In these next few paragraphs, I'll be talking about how I think that is is a natural landform\\n\\nI think that the face is a natural landform because there is no life on Mars that we have descovered yet. If life was on Mars, we would know by now. The reason why I think it is a natural landform because, nobody live on Mars in order to create the figure. It says in paragraph 9, \"It's not easy to target Cydonia,\" in which he is saying that its not easy to know if it is a natural landform at this point. In all that they're saying, its probably a natural landform.\\n\\nPeople thought that the face was formed by alieans because they thought that there was life on Mars. though some say that life on Mars does exist, I think that there is no life on Mars.\\n\\nIt says in paragraph 7, on April 5, 1998, Mars Global Surveyor flew over Cydonia for the first time. Michael Malin took a picture of Mars with his Orbiter Camera, that the face was a natural landform. Everyone who thought it was made by alieans even though it wasn't, was not satisfied. I think they were not satisfied because they have thought since 1976 that it was really formed by alieans.\\n\\nThough people were not satified about how the landform was a natural landform, in all, we new that alieans did not form the face. I would like to know how the landform was formed. we know now that life on Mars doesn't exist.</td>\n",
       "      <td>hi  i m isaac  i m going to be writing about how this face on mars is a natural landform or if there is life on mars that made it  the story is about how nasa took a picture of mars and a face was seen on the planet  nasa doesn t know if the landform was created by life on mars  or if it is just a natural landform</td>\n",
       "      <td>317</td>\n",
       "      <td>Lead &lt;SEP&gt; Hi, i'm Isaac, i'm going to be writing about how this face on Mars is a natural landform or if there is life on Mars that made it. The story is about how NASA took a picture of Mars and a face was seen on the planet. NASA doesn't know if the landform was created by life on Mars, or if it is just a natural landform.</td>\n",
       "    </tr>\n",
       "    <tr>\n",
       "      <th>1</th>\n",
       "      <td>9704a709b505</td>\n",
       "      <td>007ACE74B050</td>\n",
       "      <td>On my perspective, I think that the face is a natural landform because I dont think that there is any life on Mars. In these next few paragraphs, I'll be talking about how I think that is is a natural landform</td>\n",
       "      <td>Position</td>\n",
       "      <td>Adequate</td>\n",
       "      <td>Hi, i'm Isaac, i'm going to be writing about how this face on Mars is a natural landform or if there is life on Mars that made it. The story is about how NASA took a picture of Mars and a face was seen on the planet. NASA doesn't know if the landform was created by life on Mars, or if it is just a natural landform. On my perspective, I think that the face is a natural landform because I dont think that there is any life on Mars. In these next few paragraphs, I'll be talking about how I think that is is a natural landform\\n\\nI think that the face is a natural landform because there is no life on Mars that we have descovered yet. If life was on Mars, we would know by now. The reason why I think it is a natural landform because, nobody live on Mars in order to create the figure. It says in paragraph 9, \"It's not easy to target Cydonia,\" in which he is saying that its not easy to know if it is a natural landform at this point. In all that they're saying, its probably a natural landform.\\n\\nPeople thought that the face was formed by alieans because they thought that there was life on Mars. though some say that life on Mars does exist, I think that there is no life on Mars.\\n\\nIt says in paragraph 7, on April 5, 1998, Mars Global Surveyor flew over Cydonia for the first time. Michael Malin took a picture of Mars with his Orbiter Camera, that the face was a natural landform. Everyone who thought it was made by alieans even though it wasn't, was not satisfied. I think they were not satisfied because they have thought since 1976 that it was really formed by alieans.\\n\\nThough people were not satified about how the landform was a natural landform, in all, we new that alieans did not form the face. I would like to know how the landform was formed. we know now that life on Mars doesn't exist.</td>\n",
       "      <td>on my perspective  i think that the face is a natural landform because i dont think that there is any life on mars  in these next few paragraphs  i ll be talking about how i think that is is a natural landform</td>\n",
       "      <td>210</td>\n",
       "      <td>Position &lt;SEP&gt; On my perspective, I think that the face is a natural landform because I dont think that there is any life on Mars. In these next few paragraphs, I'll be talking about how I think that is is a natural landform</td>\n",
       "    </tr>\n",
       "  </tbody>\n",
       "</table>\n",
       "</div>"
      ],
      "text/plain": [
       "   discourse_id      essay_id  \\\n",
       "0  0013cc385424  007ACE74B050   \n",
       "1  9704a709b505  007ACE74B050   \n",
       "\n",
       "                                                                                                                                                                                                                                                                                                                  discourse_text  \\\n",
       "0  Hi, i'm Isaac, i'm going to be writing about how this face on Mars is a natural landform or if there is life on Mars that made it. The story is about how NASA took a picture of Mars and a face was seen on the planet. NASA doesn't know if the landform was created by life on Mars, or if it is just a natural landform.    \n",
       "1                                                                                                             On my perspective, I think that the face is a natural landform because I dont think that there is any life on Mars. In these next few paragraphs, I'll be talking about how I think that is is a natural landform    \n",
       "\n",
       "  discourse_type discourse_effectiveness  \\\n",
       "0           Lead                Adequate   \n",
       "1       Position                Adequate   \n",
       "\n",
       "                                                                                                                                                                                                                                                                                                                                                                                                                                                                                                                                                                                                                                                                                                                                                                                                                                                                                                                                                                                                                                                                                                                                                                                                                                                                                                                                                                                                                                                                                                                                                                                                                                                                                                                                                                                                                                                                                         essay_text  \\\n",
       "0  Hi, i'm Isaac, i'm going to be writing about how this face on Mars is a natural landform or if there is life on Mars that made it. The story is about how NASA took a picture of Mars and a face was seen on the planet. NASA doesn't know if the landform was created by life on Mars, or if it is just a natural landform. On my perspective, I think that the face is a natural landform because I dont think that there is any life on Mars. In these next few paragraphs, I'll be talking about how I think that is is a natural landform\\n\\nI think that the face is a natural landform because there is no life on Mars that we have descovered yet. If life was on Mars, we would know by now. The reason why I think it is a natural landform because, nobody live on Mars in order to create the figure. It says in paragraph 9, \"It's not easy to target Cydonia,\" in which he is saying that its not easy to know if it is a natural landform at this point. In all that they're saying, its probably a natural landform.\\n\\nPeople thought that the face was formed by alieans because they thought that there was life on Mars. though some say that life on Mars does exist, I think that there is no life on Mars.\\n\\nIt says in paragraph 7, on April 5, 1998, Mars Global Surveyor flew over Cydonia for the first time. Michael Malin took a picture of Mars with his Orbiter Camera, that the face was a natural landform. Everyone who thought it was made by alieans even though it wasn't, was not satisfied. I think they were not satisfied because they have thought since 1976 that it was really formed by alieans.\\n\\nThough people were not satified about how the landform was a natural landform, in all, we new that alieans did not form the face. I would like to know how the landform was formed. we know now that life on Mars doesn't exist.                \n",
       "1  Hi, i'm Isaac, i'm going to be writing about how this face on Mars is a natural landform or if there is life on Mars that made it. The story is about how NASA took a picture of Mars and a face was seen on the planet. NASA doesn't know if the landform was created by life on Mars, or if it is just a natural landform. On my perspective, I think that the face is a natural landform because I dont think that there is any life on Mars. In these next few paragraphs, I'll be talking about how I think that is is a natural landform\\n\\nI think that the face is a natural landform because there is no life on Mars that we have descovered yet. If life was on Mars, we would know by now. The reason why I think it is a natural landform because, nobody live on Mars in order to create the figure. It says in paragraph 9, \"It's not easy to target Cydonia,\" in which he is saying that its not easy to know if it is a natural landform at this point. In all that they're saying, its probably a natural landform.\\n\\nPeople thought that the face was formed by alieans because they thought that there was life on Mars. though some say that life on Mars does exist, I think that there is no life on Mars.\\n\\nIt says in paragraph 7, on April 5, 1998, Mars Global Surveyor flew over Cydonia for the first time. Michael Malin took a picture of Mars with his Orbiter Camera, that the face was a natural landform. Everyone who thought it was made by alieans even though it wasn't, was not satisfied. I think they were not satisfied because they have thought since 1976 that it was really formed by alieans.\\n\\nThough people were not satified about how the landform was a natural landform, in all, we new that alieans did not form the face. I would like to know how the landform was formed. we know now that life on Mars doesn't exist.                \n",
       "\n",
       "                                                                                                                                                                                                                                                                                                               text_preprocessed  \\\n",
       "0  hi  i m isaac  i m going to be writing about how this face on mars is a natural landform or if there is life on mars that made it  the story is about how nasa took a picture of mars and a face was seen on the planet  nasa doesn t know if the landform was created by life on mars  or if it is just a natural landform     \n",
       "1                                                                                                             on my perspective  i think that the face is a natural landform because i dont think that there is any life on mars  in these next few paragraphs  i ll be talking about how i think that is is a natural landform    \n",
       "\n",
       "   text_len  \\\n",
       "0       317   \n",
       "1       210   \n",
       "\n",
       "                                                                                                                                                                                                                                                                                                                                     inputs  \n",
       "0  Lead <SEP> Hi, i'm Isaac, i'm going to be writing about how this face on Mars is a natural landform or if there is life on Mars that made it. The story is about how NASA took a picture of Mars and a face was seen on the planet. NASA doesn't know if the landform was created by life on Mars, or if it is just a natural landform.   \n",
       "1                                                                                                         Position <SEP> On my perspective, I think that the face is a natural landform because I dont think that there is any life on Mars. In these next few paragraphs, I'll be talking about how I think that is is a natural landform   "
      ]
     },
     "execution_count": 9,
     "metadata": {},
     "output_type": "execute_result"
    }
   ],
   "source": [
    "train_data['inputs'] = train_data.discourse_type + \" <SEP> \" +train_data.discourse_text\n",
    "train_data.head(2)"
   ]
  },
  {
   "cell_type": "code",
   "execution_count": 10,
   "id": "2decd630",
   "metadata": {
    "execution": {
     "iopub.execute_input": "2023-04-27T06:54:30.167806Z",
     "iopub.status.busy": "2023-04-27T06:54:30.166945Z",
     "iopub.status.idle": "2023-04-27T06:54:30.176843Z",
     "shell.execute_reply": "2023-04-27T06:54:30.175622Z",
     "shell.execute_reply.started": "2023-04-27T06:54:30.167768Z"
    },
    "executionInfo": {
     "elapsed": 154,
     "status": "ok",
     "timestamp": 1682231275251,
     "user": {
      "displayName": "Shringa Bais",
      "userId": "09868022155344754933"
     },
     "user_tz": 420
    },
    "id": "eb55bbcf-6bc7-492f-a03a-edae2a1af857",
    "tags": []
   },
   "outputs": [],
   "source": [
    "bin_map = {\"Ineffective\": 0, \"Adequate\": 1, \"Effective\": 2}\n",
    "train_data[\"label\"] = train_data[\"discourse_effectiveness\"].map(bin_map)\n",
    "\n",
    "# categorical_labels = to_categorical(int_labels, num_classes=None)"
   ]
  },
  {
   "cell_type": "code",
   "execution_count": 11,
   "id": "f48a0764",
   "metadata": {
    "colab": {
     "base_uri": "https://localhost:8080/",
     "height": 243
    },
    "execution": {
     "iopub.execute_input": "2023-04-27T06:54:31.647913Z",
     "iopub.status.busy": "2023-04-27T06:54:31.646922Z",
     "iopub.status.idle": "2023-04-27T06:54:31.662984Z",
     "shell.execute_reply": "2023-04-27T06:54:31.661797Z",
     "shell.execute_reply.started": "2023-04-27T06:54:31.647857Z"
    },
    "executionInfo": {
     "elapsed": 139,
     "status": "ok",
     "timestamp": 1682231275925,
     "user": {
      "displayName": "Shringa Bais",
      "userId": "09868022155344754933"
     },
     "user_tz": 420
    },
    "id": "9e38ff16-0b1b-404e-811e-76ff3808702c",
    "outputId": "35ab880b-6003-4c12-8ec3-3ba037886adb",
    "tags": []
   },
   "outputs": [
    {
     "data": {
      "text/html": [
       "<div>\n",
       "<style scoped>\n",
       "    .dataframe tbody tr th:only-of-type {\n",
       "        vertical-align: middle;\n",
       "    }\n",
       "\n",
       "    .dataframe tbody tr th {\n",
       "        vertical-align: top;\n",
       "    }\n",
       "\n",
       "    .dataframe thead th {\n",
       "        text-align: right;\n",
       "    }\n",
       "</style>\n",
       "<table border=\"1\" class=\"dataframe\">\n",
       "  <thead>\n",
       "    <tr style=\"text-align: right;\">\n",
       "      <th></th>\n",
       "      <th>discourse_id</th>\n",
       "      <th>essay_id</th>\n",
       "      <th>discourse_text</th>\n",
       "      <th>discourse_type</th>\n",
       "      <th>discourse_effectiveness</th>\n",
       "      <th>essay_text</th>\n",
       "      <th>text_preprocessed</th>\n",
       "      <th>text_len</th>\n",
       "      <th>inputs</th>\n",
       "      <th>label</th>\n",
       "    </tr>\n",
       "  </thead>\n",
       "  <tbody>\n",
       "    <tr>\n",
       "      <th>0</th>\n",
       "      <td>0013cc385424</td>\n",
       "      <td>007ACE74B050</td>\n",
       "      <td>Hi, i'm Isaac, i'm going to be writing about how this face on Mars is a natural landform or if there is life on Mars that made it. The story is about how NASA took a picture of Mars and a face was seen on the planet. NASA doesn't know if the landform was created by life on Mars, or if it is just a natural landform.</td>\n",
       "      <td>Lead</td>\n",
       "      <td>Adequate</td>\n",
       "      <td>Hi, i'm Isaac, i'm going to be writing about how this face on Mars is a natural landform or if there is life on Mars that made it. The story is about how NASA took a picture of Mars and a face was seen on the planet. NASA doesn't know if the landform was created by life on Mars, or if it is just a natural landform. On my perspective, I think that the face is a natural landform because I dont think that there is any life on Mars. In these next few paragraphs, I'll be talking about how I think that is is a natural landform\\n\\nI think that the face is a natural landform because there is no life on Mars that we have descovered yet. If life was on Mars, we would know by now. The reason why I think it is a natural landform because, nobody live on Mars in order to create the figure. It says in paragraph 9, \"It's not easy to target Cydonia,\" in which he is saying that its not easy to know if it is a natural landform at this point. In all that they're saying, its probably a natural landform.\\n\\nPeople thought that the face was formed by alieans because they thought that there was life on Mars. though some say that life on Mars does exist, I think that there is no life on Mars.\\n\\nIt says in paragraph 7, on April 5, 1998, Mars Global Surveyor flew over Cydonia for the first time. Michael Malin took a picture of Mars with his Orbiter Camera, that the face was a natural landform. Everyone who thought it was made by alieans even though it wasn't, was not satisfied. I think they were not satisfied because they have thought since 1976 that it was really formed by alieans.\\n\\nThough people were not satified about how the landform was a natural landform, in all, we new that alieans did not form the face. I would like to know how the landform was formed. we know now that life on Mars doesn't exist.</td>\n",
       "      <td>hi  i m isaac  i m going to be writing about how this face on mars is a natural landform or if there is life on mars that made it  the story is about how nasa took a picture of mars and a face was seen on the planet  nasa doesn t know if the landform was created by life on mars  or if it is just a natural landform</td>\n",
       "      <td>317</td>\n",
       "      <td>Lead &lt;SEP&gt; Hi, i'm Isaac, i'm going to be writing about how this face on Mars is a natural landform or if there is life on Mars that made it. The story is about how NASA took a picture of Mars and a face was seen on the planet. NASA doesn't know if the landform was created by life on Mars, or if it is just a natural landform.</td>\n",
       "      <td>1</td>\n",
       "    </tr>\n",
       "  </tbody>\n",
       "</table>\n",
       "</div>"
      ],
      "text/plain": [
       "   discourse_id      essay_id  \\\n",
       "0  0013cc385424  007ACE74B050   \n",
       "\n",
       "                                                                                                                                                                                                                                                                                                                  discourse_text  \\\n",
       "0  Hi, i'm Isaac, i'm going to be writing about how this face on Mars is a natural landform or if there is life on Mars that made it. The story is about how NASA took a picture of Mars and a face was seen on the planet. NASA doesn't know if the landform was created by life on Mars, or if it is just a natural landform.    \n",
       "\n",
       "  discourse_type discourse_effectiveness  \\\n",
       "0           Lead                Adequate   \n",
       "\n",
       "                                                                                                                                                                                                                                                                                                                                                                                                                                                                                                                                                                                                                                                                                                                                                                                                                                                                                                                                                                                                                                                                                                                                                                                                                                                                                                                                                                                                                                                                                                                                                                                                                                                                                                                                                                                                                                                                                         essay_text  \\\n",
       "0  Hi, i'm Isaac, i'm going to be writing about how this face on Mars is a natural landform or if there is life on Mars that made it. The story is about how NASA took a picture of Mars and a face was seen on the planet. NASA doesn't know if the landform was created by life on Mars, or if it is just a natural landform. On my perspective, I think that the face is a natural landform because I dont think that there is any life on Mars. In these next few paragraphs, I'll be talking about how I think that is is a natural landform\\n\\nI think that the face is a natural landform because there is no life on Mars that we have descovered yet. If life was on Mars, we would know by now. The reason why I think it is a natural landform because, nobody live on Mars in order to create the figure. It says in paragraph 9, \"It's not easy to target Cydonia,\" in which he is saying that its not easy to know if it is a natural landform at this point. In all that they're saying, its probably a natural landform.\\n\\nPeople thought that the face was formed by alieans because they thought that there was life on Mars. though some say that life on Mars does exist, I think that there is no life on Mars.\\n\\nIt says in paragraph 7, on April 5, 1998, Mars Global Surveyor flew over Cydonia for the first time. Michael Malin took a picture of Mars with his Orbiter Camera, that the face was a natural landform. Everyone who thought it was made by alieans even though it wasn't, was not satisfied. I think they were not satisfied because they have thought since 1976 that it was really formed by alieans.\\n\\nThough people were not satified about how the landform was a natural landform, in all, we new that alieans did not form the face. I would like to know how the landform was formed. we know now that life on Mars doesn't exist.                \n",
       "\n",
       "                                                                                                                                                                                                                                                                                                               text_preprocessed  \\\n",
       "0  hi  i m isaac  i m going to be writing about how this face on mars is a natural landform or if there is life on mars that made it  the story is about how nasa took a picture of mars and a face was seen on the planet  nasa doesn t know if the landform was created by life on mars  or if it is just a natural landform     \n",
       "\n",
       "   text_len  \\\n",
       "0       317   \n",
       "\n",
       "                                                                                                                                                                                                                                                                                                                                     inputs  \\\n",
       "0  Lead <SEP> Hi, i'm Isaac, i'm going to be writing about how this face on Mars is a natural landform or if there is life on Mars that made it. The story is about how NASA took a picture of Mars and a face was seen on the planet. NASA doesn't know if the landform was created by life on Mars, or if it is just a natural landform.    \n",
       "\n",
       "   label  \n",
       "0      1  "
      ]
     },
     "execution_count": 11,
     "metadata": {},
     "output_type": "execute_result"
    }
   ],
   "source": [
    "# train_data[\"model_input\"] = train_data['inputs'] +\"##\"+train_data['essay_text'] \n",
    "train_data.head(1)"
   ]
  },
  {
   "cell_type": "code",
   "execution_count": 12,
   "id": "7d9ab7ff",
   "metadata": {
    "colab": {
     "base_uri": "https://localhost:8080/"
    },
    "execution": {
     "iopub.execute_input": "2023-04-27T06:54:37.332562Z",
     "iopub.status.busy": "2023-04-27T06:54:37.332162Z",
     "iopub.status.idle": "2023-04-27T06:54:37.341819Z",
     "shell.execute_reply": "2023-04-27T06:54:37.340627Z",
     "shell.execute_reply.started": "2023-04-27T06:54:37.332501Z"
    },
    "executionInfo": {
     "elapsed": 136,
     "status": "ok",
     "timestamp": 1682231277945,
     "user": {
      "displayName": "Shringa Bais",
      "userId": "09868022155344754933"
     },
     "user_tz": 420
    },
    "id": "7a18c583-1a65-458a-a7f8-e69058060f8d",
    "outputId": "dfd5e89b-d9ae-449b-d7a9-62b4fd4690a1",
    "tags": []
   },
   "outputs": [
    {
     "data": {
      "text/plain": [
       "1    20977\n",
       "2     9326\n",
       "0     6462\n",
       "Name: label, dtype: int64"
      ]
     },
     "execution_count": 12,
     "metadata": {},
     "output_type": "execute_result"
    }
   ],
   "source": [
    "train_data.label.value_counts()"
   ]
  },
  {
   "cell_type": "code",
   "execution_count": 14,
   "id": "13d02134",
   "metadata": {
    "execution": {
     "iopub.execute_input": "2023-04-27T06:55:15.979844Z",
     "iopub.status.busy": "2023-04-27T06:55:15.978853Z",
     "iopub.status.idle": "2023-04-27T06:55:16.003988Z",
     "shell.execute_reply": "2023-04-27T06:55:16.002821Z",
     "shell.execute_reply.started": "2023-04-27T06:55:15.979786Z"
    },
    "executionInfo": {
     "elapsed": 141,
     "status": "ok",
     "timestamp": 1682231278633,
     "user": {
      "displayName": "Shringa Bais",
      "userId": "09868022155344754933"
     },
     "user_tz": 420
    },
    "id": "10bbca88-d44b-4055-9815-1218486de27e",
    "tags": []
   },
   "outputs": [
    {
     "name": "stdout",
     "output_type": "stream",
     "text": [
      "(33088,) (3677,) (33088,) (3677,)\n"
     ]
    }
   ],
   "source": [
    "from sklearn.model_selection import train_test_split\n",
    "X_train, X_valid, y_train, y_valid = train_test_split(train_data['inputs'], train_data['label'], test_size=0.1, random_state=42, stratify=train_data[\"label\"])\n",
    "print(X_train.shape,X_valid.shape,y_train.shape,y_valid.shape)"
   ]
  },
  {
   "cell_type": "code",
   "execution_count": null,
   "id": "77adfd08",
   "metadata": {},
   "outputs": [],
   "source": []
  },
  {
   "cell_type": "markdown",
   "id": "cb4ec30c",
   "metadata": {
    "id": "7cbff16e-e1cf-4cdb-8a6b-bd90ecac958f"
   },
   "source": [
    "## Building a Bert Model"
   ]
  },
  {
   "cell_type": "code",
   "execution_count": 15,
   "id": "65ae05b7",
   "metadata": {
    "colab": {
     "base_uri": "https://localhost:8080/"
    },
    "execution": {
     "iopub.execute_input": "2023-04-27T06:55:21.109302Z",
     "iopub.status.busy": "2023-04-27T06:55:21.108920Z",
     "iopub.status.idle": "2023-04-27T06:55:21.332899Z",
     "shell.execute_reply": "2023-04-27T06:55:21.331580Z",
     "shell.execute_reply.started": "2023-04-27T06:55:21.109268Z"
    },
    "executionInfo": {
     "elapsed": 554,
     "status": "ok",
     "timestamp": 1682231281504,
     "user": {
      "displayName": "Shringa Bais",
      "userId": "09868022155344754933"
     },
     "user_tz": 420
    },
    "id": "c3e3f5c6-5b41-4b4e-b80f-6e40536a451a",
    "outputId": "cef680e2-89b9-48cb-e009-7e4b9558470b",
    "tags": []
   },
   "outputs": [
    {
     "data": {
      "text/plain": [
       "100"
      ]
     },
     "execution_count": 15,
     "metadata": {},
     "output_type": "execute_result"
    }
   ],
   "source": [
    "import gc\n",
    "gc.collect()"
   ]
  },
  {
   "cell_type": "code",
   "execution_count": 16,
   "id": "40a4d0fa",
   "metadata": {
    "execution": {
     "iopub.execute_input": "2023-04-27T06:55:22.409189Z",
     "iopub.status.busy": "2023-04-27T06:55:22.408451Z",
     "iopub.status.idle": "2023-04-27T06:55:30.355796Z",
     "shell.execute_reply": "2023-04-27T06:55:30.354716Z",
     "shell.execute_reply.started": "2023-04-27T06:55:22.409147Z"
    }
   },
   "outputs": [],
   "source": [
    "from keras.callbacks import ReduceLROnPlateau, ModelCheckpoint\n",
    "from tensorflow.keras import Sequential, layers\n",
    "import tensorflow_hub as hub\n",
    "\n",
    "mcp_save = ModelCheckpoint('.ckpt.hdf5', save_best_only=True, monitor=\"val_f1_score\", mode='max')\n",
    "reduce_lr_loss = ReduceLROnPlateau(monitor=\"val_f1_score\", factor=0.1, patience=7, verbose=1, epsilon=1e-4, mode='min')\n",
    "hub_layer = hub.KerasLayer(\"https://tfhub.dev/google/universal-sentence-encoder/4\", output_shape=[512], input_shape=[], dtype=tf.string,trainable=False)"
   ]
  },
  {
   "cell_type": "code",
   "execution_count": 17,
   "id": "0b4ac4f3",
   "metadata": {
    "execution": {
     "iopub.execute_input": "2023-04-27T06:55:37.547182Z",
     "iopub.status.busy": "2023-04-27T06:55:37.546716Z",
     "iopub.status.idle": "2023-04-27T06:55:37.563730Z",
     "shell.execute_reply": "2023-04-27T06:55:37.562585Z",
     "shell.execute_reply.started": "2023-04-27T06:55:37.547143Z"
    },
    "executionInfo": {
     "elapsed": 2,
     "status": "ok",
     "timestamp": 1682231393203,
     "user": {
      "displayName": "Shringa Bais",
      "userId": "09868022155344754933"
     },
     "user_tz": 420
    },
    "id": "b3403194-320e-415e-b502-c562c4876442",
    "tags": []
   },
   "outputs": [],
   "source": [
    "def build_model_bert(bert_model, max_len=MAX_LEN):    \n",
    "    input_ids = Input(shape=(max_len,), dtype=tf.int32, name=\"input_ids\")\n",
    "    token_type_ids = Input(shape=(max_len,), dtype=tf.int32, name=\"token_type_ids\")\n",
    "    attention_mask = Input(shape=(max_len,), dtype=tf.int32, name=\"attention_mask\")\n",
    "\n",
    "    sequence_output = bert_model(input_ids, token_type_ids=token_type_ids, attention_mask=attention_mask)[0]\n",
    "    clf_output = sequence_output[:, 0, :]\n",
    "    clf_output = Dropout(.1)(clf_output)\n",
    "    out = Dense(3, activation='softmax')(clf_output)\n",
    "    out = Dense(3, activation='relu')(clf_output)\n",
    "    \n",
    "    model = Model(inputs=[input_ids, token_type_ids, attention_mask], outputs=out)\n",
    "    model.compile(Adam(lr=1e-4), loss='sparse_categorical_crossentropy', metrics=['categorical_accuracy'])\n",
    "    \n",
    "    return model\n",
    "\n",
    "def cal_recall(y_true, y_pred):\n",
    "    y_true = tf.ones_like(y_true)\n",
    "    true_positives = K.sum(K.round(K.clip(y_true * y_pred, 0, 1)))\n",
    "    all_positives = K.sum(K.round(K.clip(y_true, 0, 1)))\n",
    "\n",
    "    recall = true_positives / (all_positives + K.epsilon())\n",
    "    return recall\n",
    "\n",
    "def cal_precision(y_true, y_pred):\n",
    "    y_true = K.ones_like(y_true)\n",
    "    true_positives = K.sum(K.round(K.clip(y_true * y_pred, 0, 1)))\n",
    "\n",
    "    predicted_positives = K.sum(K.round(K.clip(y_pred, 0, 1)))\n",
    "    precision = true_positives / (predicted_positives + K.epsilon())\n",
    "    return precision\n",
    "\n",
    "def f1_score(y_true, y_pred):\n",
    "    precision = cal_precision(y_true, y_pred)\n",
    "    recall = cal_recall(y_true, y_pred)\n",
    "    return 2*((precision*recall)/(precision+recall+K.epsilon()))\n",
    "\n",
    "def build_model_distilbert(bert_model, max_len=MAX_LEN):    \n",
    "    input_ids = Input(shape=(max_len,), dtype=tf.int32, name=\"input_ids\")\n",
    "    attention_mask = Input(shape=(max_len,), dtype=tf.int32, name=\"attention_mask\")\n",
    "\n",
    "    sequence_output = bert_model(input_ids, attention_mask=attention_mask)[0]\n",
    "    clf_output = sequence_output[:, 0, :]\n",
    "    clf_output = Dropout(.1)(clf_output)\n",
    "    out = Dense(3, activation='softmax')(clf_output)\n",
    "    \n",
    "    model = Model(inputs=[input_ids, attention_mask], outputs=out)\n",
    "    model.compile(Adam(lr=1e-4), loss='sparse_categorical_crossentropy', metrics=[\"categorical_accuracy\",f1_score])\n",
    "    \n",
    "    return model\n",
    "\n",
    "\n",
    "def build_model_use(hub_layer=hub_layer):\n",
    "    \n",
    "    model = Sequential()\n",
    "    model.add(hub_layer)\n",
    "    for units in [128, 64, 16]:\n",
    "        model.add(Dense(units, activation='selu'))\n",
    "        model.add(Dropout(0.35))\n",
    "    model.add(Dense(3, activation='softmax'))\n",
    "    model.compile(Adam(lr=1e-4), loss='sparse_categorical_crossentropy', metrics=[\"categorical_accuracy\",f1_score])\n",
    "    return model"
   ]
  },
  {
   "cell_type": "code",
   "execution_count": 19,
   "id": "a981f18d",
   "metadata": {
    "colab": {
     "base_uri": "https://localhost:8080/"
    },
    "execution": {
     "iopub.execute_input": "2023-04-27T06:55:40.611259Z",
     "iopub.status.busy": "2023-04-27T06:55:40.610149Z",
     "iopub.status.idle": "2023-04-27T06:55:41.254575Z",
     "shell.execute_reply": "2023-04-27T06:55:41.253569Z",
     "shell.execute_reply.started": "2023-04-27T06:55:40.611212Z"
    },
    "executionInfo": {
     "elapsed": 4623,
     "status": "ok",
     "timestamp": 1682231414400,
     "user": {
      "displayName": "Shringa Bais",
      "userId": "09868022155344754933"
     },
     "user_tz": 420
    },
    "id": "9ab4829a-e8f6-4c45-88c1-3dd5b790d813",
    "outputId": "edaf9be4-c6af-44b7-b96f-408e2566ad84",
    "tags": []
   },
   "outputs": [],
   "source": [
    "use_model = build_model_use()"
   ]
  },
  {
   "cell_type": "code",
   "execution_count": 20,
   "id": "d38c8c53",
   "metadata": {
    "colab": {
     "base_uri": "https://localhost:8080/"
    },
    "execution": {
     "iopub.execute_input": "2023-04-27T06:55:51.209505Z",
     "iopub.status.busy": "2023-04-27T06:55:51.209129Z",
     "iopub.status.idle": "2023-04-27T06:55:51.241846Z",
     "shell.execute_reply": "2023-04-27T06:55:51.241034Z",
     "shell.execute_reply.started": "2023-04-27T06:55:51.209472Z"
    },
    "executionInfo": {
     "elapsed": 151,
     "status": "ok",
     "timestamp": 1682231417220,
     "user": {
      "displayName": "Shringa Bais",
      "userId": "09868022155344754933"
     },
     "user_tz": 420
    },
    "id": "68b0ec75-8858-4478-b4ee-7f1073a4a7d9",
    "outputId": "f2a45527-1f1b-4841-f96e-908aa9533ec1",
    "tags": []
   },
   "outputs": [
    {
     "name": "stdout",
     "output_type": "stream",
     "text": [
      "Model: \"sequential\"\n",
      "_________________________________________________________________\n",
      " Layer (type)                Output Shape              Param #   \n",
      "=================================================================\n",
      " keras_layer (KerasLayer)    (None, 512)               256797824 \n",
      "                                                                 \n",
      " dense (Dense)               (None, 128)               65664     \n",
      "                                                                 \n",
      " dropout (Dropout)           (None, 128)               0         \n",
      "                                                                 \n",
      " dense_1 (Dense)             (None, 64)                8256      \n",
      "                                                                 \n",
      " dropout_1 (Dropout)         (None, 64)                0         \n",
      "                                                                 \n",
      " dense_2 (Dense)             (None, 16)                1040      \n",
      "                                                                 \n",
      " dropout_2 (Dropout)         (None, 16)                0         \n",
      "                                                                 \n",
      " dense_3 (Dense)             (None, 3)                 51        \n",
      "                                                                 \n",
      "=================================================================\n",
      "Total params: 256,872,835\n",
      "Trainable params: 75,011\n",
      "Non-trainable params: 256,797,824\n",
      "_________________________________________________________________\n"
     ]
    }
   ],
   "source": [
    "use_model.summary()"
   ]
  },
  {
   "cell_type": "code",
   "execution_count": 23,
   "id": "67027f30",
   "metadata": {
    "colab": {
     "base_uri": "https://localhost:8080/",
     "height": 661
    },
    "execution": {
     "iopub.execute_input": "2023-04-27T06:55:54.917953Z",
     "iopub.status.busy": "2023-04-27T06:55:54.917338Z",
     "iopub.status.idle": "2023-04-27T06:55:55.123669Z",
     "shell.execute_reply": "2023-04-27T06:55:55.122486Z",
     "shell.execute_reply.started": "2023-04-27T06:55:54.917913Z"
    },
    "executionInfo": {
     "elapsed": 1109,
     "status": "ok",
     "timestamp": 1682231422088,
     "user": {
      "displayName": "Shringa Bais",
      "userId": "09868022155344754933"
     },
     "user_tz": 420
    },
    "id": "3a0271e5-79fb-4089-b3c0-efd890e1c198",
    "outputId": "9f6ba85b-b8c3-4758-cbbe-614b55d7c4a1",
    "tags": []
   },
   "outputs": [
    {
     "data": {
      "image/png": "[encoded data removed]",
      "text/plain": [
       "<IPython.core.display.Image object>"
      ]
     },
     "execution_count": 23,
     "metadata": {},
     "output_type": "execute_result"
    }
   ],
   "source": [
    "from tensorflow.keras.utils import plot_model\n",
    "\n",
    "plot_model(use_model)"
   ]
  },
  {
   "cell_type": "code",
   "execution_count": 24,
   "id": "628678ed",
   "metadata": {
    "execution": {
     "iopub.execute_input": "2023-04-27T06:56:00.057384Z",
     "iopub.status.busy": "2023-04-27T06:56:00.056382Z",
     "iopub.status.idle": "2023-04-27T06:56:00.062296Z",
     "shell.execute_reply": "2023-04-27T06:56:00.061020Z",
     "shell.execute_reply.started": "2023-04-27T06:56:00.057340Z"
    },
    "executionInfo": {
     "elapsed": 1,
     "status": "ok",
     "timestamp": 1682211337320,
     "user": {
      "displayName": "Shringa Bais",
      "userId": "09868022155344754933"
     },
     "user_tz": 420
    },
    "id": "9cda6f60-ee9a-4ed6-bb41-b09d592cba0e",
    "tags": []
   },
   "outputs": [],
   "source": [
    "# train_history = model.fit(\n",
    "#     train_dataset,\n",
    "#     steps_per_epoch=100,\n",
    "#     validation_data=valid_dataset,\n",
    "#     epochs=5,\n",
    "#     batch_size = 4048\n",
    "# )"
   ]
  },
  {
   "cell_type": "code",
   "execution_count": 25,
   "id": "2602edd6",
   "metadata": {
    "execution": {
     "iopub.execute_input": "2023-04-27T06:56:00.250938Z",
     "iopub.status.busy": "2023-04-27T06:56:00.250324Z",
     "iopub.status.idle": "2023-04-27T06:56:00.257547Z",
     "shell.execute_reply": "2023-04-27T06:56:00.256240Z",
     "shell.execute_reply.started": "2023-04-27T06:56:00.250905Z"
    }
   },
   "outputs": [
    {
     "data": {
      "text/plain": [
       "'\\n1 (Adequate)    20977\\n2 (Effective)    9326\\n0 (Ineffective)   6462\\n'"
      ]
     },
     "execution_count": 25,
     "metadata": {},
     "output_type": "execute_result"
    }
   ],
   "source": [
    "\"\"\"\n",
    "1 (Adequate)    20977\n",
    "2 (Effective)    9326\n",
    "0 (Ineffective)   6462\n",
    "\"\"\""
   ]
  },
  {
   "cell_type": "code",
   "execution_count": 42,
   "id": "47e4fde2",
   "metadata": {
    "execution": {
     "iopub.execute_input": "2023-04-27T07:11:00.838700Z",
     "iopub.status.busy": "2023-04-27T07:11:00.837994Z",
     "iopub.status.idle": "2023-04-27T07:11:00.853933Z",
     "shell.execute_reply": "2023-04-27T07:11:00.852772Z",
     "shell.execute_reply.started": "2023-04-27T07:11:00.838657Z"
    }
   },
   "outputs": [
    {
     "name": "stdout",
     "output_type": "stream",
     "text": [
      "{0: 1.896377808344796, 1: 0.5842117343785864, 2: 1.3141109654871124} {0: 1.2, 1: 0.88, 2: 1.98}\n"
     ]
    }
   ],
   "source": [
    "from sklearn.utils.class_weight import compute_class_weight\n",
    "class_weights_array = compute_class_weight(class_weight = \"balanced\", classes=np.unique(y_train), y=y_train)\n",
    "\n",
    "old_class_weights = dict(zip(np.unique(y_train), class_weights_array))\n",
    "class_weights = {0: 1.2, 1: 0.88, 2: 1.98}\n",
    "print(old_class_weights, class_weights)"
   ]
  },
  {
   "cell_type": "code",
   "execution_count": 46,
   "id": "fb74385b",
   "metadata": {
    "execution": {
     "iopub.execute_input": "2023-04-27T07:12:07.498734Z",
     "iopub.status.busy": "2023-04-27T07:12:07.498234Z",
     "iopub.status.idle": "2023-04-27T07:12:07.757714Z",
     "shell.execute_reply": "2023-04-27T07:12:07.756377Z",
     "shell.execute_reply.started": "2023-04-27T07:12:07.498691Z"
    }
   },
   "outputs": [
    {
     "data": {
      "text/plain": [
       "46"
      ]
     },
     "execution_count": 46,
     "metadata": {},
     "output_type": "execute_result"
    }
   ],
   "source": [
    "import gc\n",
    "gc.collect()"
   ]
  },
  {
   "cell_type": "code",
   "execution_count": 47,
   "id": "97f8941a",
   "metadata": {
    "colab": {
     "base_uri": "https://localhost:8080/"
    },
    "execution": {
     "iopub.execute_input": "2023-04-27T07:12:08.589755Z",
     "iopub.status.busy": "2023-04-27T07:12:08.588578Z",
     "iopub.status.idle": "2023-04-27T07:16:21.760340Z",
     "shell.execute_reply": "2023-04-27T07:16:21.759343Z",
     "shell.execute_reply.started": "2023-04-27T07:12:08.589704Z"
    },
    "id": "c4a6aa89-de83-4a5e-8934-e5b0320d78d1",
    "outputId": "0e362167-7c62-452f-c3cb-c907add97444",
    "tags": []
   },
   "outputs": [
    {
     "name": "stdout",
     "output_type": "stream",
     "text": [
      "Epoch 1/25\n",
      "117/117 [==============================] - 10s 86ms/step - loss: 0.9479 - categorical_accuracy: 0.1008 - f1_score: 0.9016 - val_loss: 0.8307 - val_categorical_accuracy: 0.1212 - val_f1_score: 0.9067\n",
      "Epoch 2/25\n",
      "117/117 [==============================] - 10s 86ms/step - loss: 0.9477 - categorical_accuracy: 0.1007 - f1_score: 0.9044 - val_loss: 0.8163 - val_categorical_accuracy: 0.1170 - val_f1_score: 0.9061\n",
      "Epoch 3/25\n",
      "117/117 [==============================] - 11s 97ms/step - loss: 0.9454 - categorical_accuracy: 0.0994 - f1_score: 0.9065 - val_loss: 0.8330 - val_categorical_accuracy: 0.1197 - val_f1_score: 0.9060\n",
      "Epoch 4/25\n",
      "117/117 [==============================] - 10s 83ms/step - loss: 0.9446 - categorical_accuracy: 0.0994 - f1_score: 0.9014 - val_loss: 0.8346 - val_categorical_accuracy: 0.0952 - val_f1_score: 0.9248\n",
      "Epoch 5/25\n",
      "117/117 [==============================] - 10s 85ms/step - loss: 0.9475 - categorical_accuracy: 0.1017 - f1_score: 0.9053 - val_loss: 0.8224 - val_categorical_accuracy: 0.1221 - val_f1_score: 0.9061\n",
      "Epoch 6/25\n",
      "117/117 [==============================] - 10s 85ms/step - loss: 0.9432 - categorical_accuracy: 0.1004 - f1_score: 0.9089 - val_loss: 0.8172 - val_categorical_accuracy: 0.0970 - val_f1_score: 0.9217\n",
      "Epoch 7/25\n",
      "117/117 [==============================] - 10s 87ms/step - loss: 0.9439 - categorical_accuracy: 0.1013 - f1_score: 0.9102 - val_loss: 0.8372 - val_categorical_accuracy: 0.1309 - val_f1_score: 0.9061\n",
      "Epoch 8/25\n",
      "117/117 [==============================] - 10s 86ms/step - loss: 0.9406 - categorical_accuracy: 0.1049 - f1_score: 0.9011 - val_loss: 0.8282 - val_categorical_accuracy: 0.0722 - val_f1_score: 0.9277\n",
      "Epoch 9/25\n",
      "117/117 [==============================] - 10s 83ms/step - loss: 0.9415 - categorical_accuracy: 0.1004 - f1_score: 0.9077 - val_loss: 0.8191 - val_categorical_accuracy: 0.1248 - val_f1_score: 0.9137\n",
      "Epoch 10/25\n",
      "117/117 [==============================] - 11s 90ms/step - loss: 0.9434 - categorical_accuracy: 0.1008 - f1_score: 0.9070 - val_loss: 0.8174 - val_categorical_accuracy: 0.0931 - val_f1_score: 0.9203\n",
      "Epoch 11/25\n",
      "117/117 [==============================] - 10s 83ms/step - loss: 0.9417 - categorical_accuracy: 0.1024 - f1_score: 0.9046 - val_loss: 0.8216 - val_categorical_accuracy: 0.1024 - val_f1_score: 0.9107\n",
      "Epoch 12/25\n",
      "117/117 [==============================] - 10s 84ms/step - loss: 0.9366 - categorical_accuracy: 0.1025 - f1_score: 0.9106 - val_loss: 0.8255 - val_categorical_accuracy: 0.1100 - val_f1_score: 0.9098\n",
      "Epoch 13/25\n",
      "117/117 [==============================] - 10s 88ms/step - loss: 0.9398 - categorical_accuracy: 0.0986 - f1_score: 0.9100 - val_loss: 0.8142 - val_categorical_accuracy: 0.1366 - val_f1_score: 0.9114\n",
      "Epoch 14/25\n",
      "117/117 [==============================] - 10s 82ms/step - loss: 0.9409 - categorical_accuracy: 0.1050 - f1_score: 0.9060 - val_loss: 0.8127 - val_categorical_accuracy: 0.0988 - val_f1_score: 0.9186\n",
      "Epoch 15/25\n",
      "117/117 [==============================] - 10s 86ms/step - loss: 0.9358 - categorical_accuracy: 0.1007 - f1_score: 0.9066 - val_loss: 0.8236 - val_categorical_accuracy: 0.1194 - val_f1_score: 0.8980\n",
      "Epoch 16/25\n",
      "117/117 [==============================] - 11s 91ms/step - loss: 0.9382 - categorical_accuracy: 0.1035 - f1_score: 0.9037 - val_loss: 0.8237 - val_categorical_accuracy: 0.1541 - val_f1_score: 0.9066\n",
      "Epoch 17/25\n",
      "117/117 [==============================] - 10s 83ms/step - loss: 0.9376 - categorical_accuracy: 0.1033 - f1_score: 0.9044 - val_loss: 0.8177 - val_categorical_accuracy: 0.1000 - val_f1_score: 0.9124\n",
      "Epoch 18/25\n",
      "117/117 [==============================] - 10s 86ms/step - loss: 0.9360 - categorical_accuracy: 0.1047 - f1_score: 0.9076 - val_loss: 0.8392 - val_categorical_accuracy: 0.1179 - val_f1_score: 0.9118\n",
      "Epoch 19/25\n",
      "117/117 [==============================] - 11s 92ms/step - loss: 0.9356 - categorical_accuracy: 0.1002 - f1_score: 0.9077 - val_loss: 0.8290 - val_categorical_accuracy: 0.1351 - val_f1_score: 0.9046\n",
      "Epoch 20/25\n",
      "117/117 [==============================] - 10s 84ms/step - loss: 0.9326 - categorical_accuracy: 0.1055 - f1_score: 0.9077 - val_loss: 0.8223 - val_categorical_accuracy: 0.1263 - val_f1_score: 0.8947\n",
      "Epoch 21/25\n",
      "117/117 [==============================] - 10s 84ms/step - loss: 0.9328 - categorical_accuracy: 0.1022 - f1_score: 0.9050 - val_loss: 0.8158 - val_categorical_accuracy: 0.1055 - val_f1_score: 0.8938\n",
      "Epoch 22/25\n",
      "117/117 [==============================] - 11s 97ms/step - loss: 0.9354 - categorical_accuracy: 0.1015 - f1_score: 0.9072 - val_loss: 0.8120 - val_categorical_accuracy: 0.1151 - val_f1_score: 0.9076\n",
      "Epoch 23/25\n",
      "117/117 [==============================] - 10s 84ms/step - loss: 0.9300 - categorical_accuracy: 0.1038 - f1_score: 0.9083 - val_loss: 0.8248 - val_categorical_accuracy: 0.1106 - val_f1_score: 0.9113\n",
      "Epoch 24/25\n",
      "117/117 [==============================] - 10s 85ms/step - loss: 0.9301 - categorical_accuracy: 0.1044 - f1_score: 0.9086 - val_loss: 0.8146 - val_categorical_accuracy: 0.0958 - val_f1_score: 0.9254\n",
      "Epoch 25/25\n",
      "117/117 [==============================] - 10s 87ms/step - loss: 0.9305 - categorical_accuracy: 0.0983 - f1_score: 0.9062 - val_loss: 0.8166 - val_categorical_accuracy: 0.1290 - val_f1_score: 0.9082\n"
     ]
    }
   ],
   "source": [
    "train_history = use_model.fit(\n",
    "    x=X_train,\n",
    "    y=y_train,\n",
    "    epochs=25,\n",
    "    batch_size = 256,\n",
    "    validation_split=.10,\n",
    "    class_weight=class_weights)"
   ]
  },
  {
   "cell_type": "markdown",
   "id": "7babfd50",
   "metadata": {},
   "source": [
    "## Saving Model"
   ]
  },
  {
   "cell_type": "code",
   "execution_count": 61,
   "id": "42999d41",
   "metadata": {
    "execution": {
     "iopub.execute_input": "2023-04-27T07:19:54.110823Z",
     "iopub.status.busy": "2023-04-27T07:19:54.109632Z",
     "iopub.status.idle": "2023-04-27T07:19:56.321275Z",
     "shell.execute_reply": "2023-04-27T07:19:56.320208Z",
     "shell.execute_reply.started": "2023-04-27T07:19:54.110776Z"
    }
   },
   "outputs": [],
   "source": [
    "use_model.save('/kaggle/working/use_final.h5')"
   ]
  },
  {
   "cell_type": "markdown",
   "id": "9c3f5c61",
   "metadata": {},
   "source": [
    "## Load Model"
   ]
  },
  {
   "cell_type": "code",
   "execution_count": null,
   "id": "0f695471",
   "metadata": {},
   "outputs": [],
   "source": [
    "# from tensorflow.keras.models import load_model\n",
    "# import transformers\n",
    "# use_model = load_model('/kaggle/working/use_test1_0636.h5')"
   ]
  },
  {
   "cell_type": "markdown",
   "id": "661c9314",
   "metadata": {},
   "source": [
    "## Validation and Prediction"
   ]
  },
  {
   "cell_type": "code",
   "execution_count": 62,
   "id": "55266af5",
   "metadata": {
    "execution": {
     "iopub.execute_input": "2023-04-27T07:21:51.791920Z",
     "iopub.status.busy": "2023-04-27T07:21:51.790884Z",
     "iopub.status.idle": "2023-04-27T07:21:53.578555Z",
     "shell.execute_reply": "2023-04-27T07:21:53.577571Z",
     "shell.execute_reply.started": "2023-04-27T07:21:51.791875Z"
    },
    "executionInfo": {
     "elapsed": 2,
     "status": "aborted",
     "timestamp": 1682229088552,
     "user": {
      "displayName": "Shringa Bais",
      "userId": "09868022155344754933"
     },
     "user_tz": 420
    },
    "id": "2fd64ab0-eec8-4a76-8f97-1b3d7a946d57",
    "tags": []
   },
   "outputs": [
    {
     "name": "stdout",
     "output_type": "stream",
     "text": [
      "115/115 [==============================] - 2s 15ms/step\n",
      "Validation Log Loss 0.80\n"
     ]
    }
   ],
   "source": [
    "y_valid_pred = use_model.predict(X_valid, verbose=1)\n",
    "print(f\"Validation Log Loss {log_loss(y_valid, y_valid_pred):.2f}\")"
   ]
  },
  {
   "cell_type": "code",
   "execution_count": 63,
   "id": "269edb0a",
   "metadata": {
    "execution": {
     "iopub.execute_input": "2023-04-27T07:21:55.275571Z",
     "iopub.status.busy": "2023-04-27T07:21:55.274581Z",
     "iopub.status.idle": "2023-04-27T07:21:57.883572Z",
     "shell.execute_reply": "2023-04-27T07:21:57.882573Z",
     "shell.execute_reply.started": "2023-04-27T07:21:55.275488Z"
    },
    "executionInfo": {
     "elapsed": 2,
     "status": "aborted",
     "timestamp": 1682229088552,
     "user": {
      "displayName": "Shringa Bais",
      "userId": "09868022155344754933"
     },
     "user_tz": 420
    },
    "id": "d9c7442c-79a8-4e74-80a4-619a124883e1",
    "tags": []
   },
   "outputs": [
    {
     "name": "stdout",
     "output_type": "stream",
     "text": [
      "115/115 [==============================] - 2s 14ms/step - loss: 0.8000 - categorical_accuracy: 0.1273 - f1_score: 0.9054\n"
     ]
    }
   ],
   "source": [
    "result = use_model.evaluate(X_valid, y_valid, verbose=1)"
   ]
  },
  {
   "cell_type": "code",
   "execution_count": 64,
   "id": "d8454252",
   "metadata": {
    "execution": {
     "iopub.execute_input": "2023-04-27T07:21:59.873784Z",
     "iopub.status.busy": "2023-04-27T07:21:59.872738Z",
     "iopub.status.idle": "2023-04-27T07:21:59.898603Z",
     "shell.execute_reply": "2023-04-27T07:21:59.897624Z",
     "shell.execute_reply.started": "2023-04-27T07:21:59.873745Z"
    },
    "executionInfo": {
     "elapsed": 1,
     "status": "aborted",
     "timestamp": 1682229088552,
     "user": {
      "displayName": "Shringa Bais",
      "userId": "09868022155344754933"
     },
     "user_tz": 420
    },
    "id": "c7842979-3db6-460b-a348-77b7a5c5414e",
    "tags": []
   },
   "outputs": [
    {
     "data": {
      "text/html": [
       "<div>\n",
       "<style scoped>\n",
       "    .dataframe tbody tr th:only-of-type {\n",
       "        vertical-align: middle;\n",
       "    }\n",
       "\n",
       "    .dataframe tbody tr th {\n",
       "        vertical-align: top;\n",
       "    }\n",
       "\n",
       "    .dataframe thead th {\n",
       "        text-align: right;\n",
       "    }\n",
       "</style>\n",
       "<table border=\"1\" class=\"dataframe\">\n",
       "  <thead>\n",
       "    <tr style=\"text-align: right;\">\n",
       "      <th></th>\n",
       "      <th>true_label</th>\n",
       "      <th>predicted_prob</th>\n",
       "      <th>predicted_label</th>\n",
       "      <th>true_label_class</th>\n",
       "      <th>predicted_label_class</th>\n",
       "    </tr>\n",
       "  </thead>\n",
       "  <tbody>\n",
       "    <tr>\n",
       "      <th>0</th>\n",
       "      <td>2</td>\n",
       "      <td>[0.0030110013, 0.07595071, 0.9210383]</td>\n",
       "      <td>2</td>\n",
       "      <td>Effective</td>\n",
       "      <td>Effective</td>\n",
       "    </tr>\n",
       "    <tr>\n",
       "      <th>1</th>\n",
       "      <td>1</td>\n",
       "      <td>[0.0060420376, 0.13232163, 0.86163634]</td>\n",
       "      <td>2</td>\n",
       "      <td>Adequate</td>\n",
       "      <td>Effective</td>\n",
       "    </tr>\n",
       "    <tr>\n",
       "      <th>2</th>\n",
       "      <td>1</td>\n",
       "      <td>[0.29494727, 0.4789419, 0.22611082]</td>\n",
       "      <td>1</td>\n",
       "      <td>Adequate</td>\n",
       "      <td>Adequate</td>\n",
       "    </tr>\n",
       "    <tr>\n",
       "      <th>3</th>\n",
       "      <td>1</td>\n",
       "      <td>[0.14208849, 0.81774235, 0.0401691]</td>\n",
       "      <td>1</td>\n",
       "      <td>Adequate</td>\n",
       "      <td>Adequate</td>\n",
       "    </tr>\n",
       "    <tr>\n",
       "      <th>4</th>\n",
       "      <td>1</td>\n",
       "      <td>[0.12368091, 0.49077174, 0.3855473]</td>\n",
       "      <td>1</td>\n",
       "      <td>Adequate</td>\n",
       "      <td>Adequate</td>\n",
       "    </tr>\n",
       "  </tbody>\n",
       "</table>\n",
       "</div>"
      ],
      "text/plain": [
       "   true_label                          predicted_prob  predicted_label  \\\n",
       "0           2   [0.0030110013, 0.07595071, 0.9210383]                2   \n",
       "1           1  [0.0060420376, 0.13232163, 0.86163634]                2   \n",
       "2           1     [0.29494727, 0.4789419, 0.22611082]                1   \n",
       "3           1     [0.14208849, 0.81774235, 0.0401691]                1   \n",
       "4           1     [0.12368091, 0.49077174, 0.3855473]                1   \n",
       "\n",
       "  true_label_class predicted_label_class  \n",
       "0        Effective             Effective  \n",
       "1         Adequate             Effective  \n",
       "2         Adequate              Adequate  \n",
       "3         Adequate              Adequate  \n",
       "4         Adequate              Adequate  "
      ]
     },
     "execution_count": 64,
     "metadata": {},
     "output_type": "execute_result"
    }
   ],
   "source": [
    "output_df = pd.DataFrame(zip(y_valid, y_valid_pred, y_valid_pred.argmax(1)), columns=[\"true_label\", \"predicted_prob\",\"predicted_label\"])\n",
    "bin_map = {0:\"Ineffective\", 1:\"Adequate\", 2:\"Effective\"}\n",
    "output_df[\"true_label_class\"] = output_df[\"true_label\"].map(bin_map)\n",
    "output_df[\"predicted_label_class\"] = output_df[\"predicted_label\"].map(bin_map)\n",
    "output_df.head()"
   ]
  },
  {
   "cell_type": "code",
   "execution_count": 65,
   "id": "784364c3",
   "metadata": {
    "execution": {
     "iopub.execute_input": "2023-04-27T07:22:02.611397Z",
     "iopub.status.busy": "2023-04-27T07:22:02.610185Z",
     "iopub.status.idle": "2023-04-27T07:22:02.623218Z",
     "shell.execute_reply": "2023-04-27T07:22:02.621890Z",
     "shell.execute_reply.started": "2023-04-27T07:22:02.611343Z"
    },
    "executionInfo": {
     "elapsed": 1,
     "status": "aborted",
     "timestamp": 1682229088552,
     "user": {
      "displayName": "Shringa Bais",
      "userId": "09868022155344754933"
     },
     "user_tz": 420
    },
    "id": "f78e2e8c-dfa0-419e-a218-87f4432ab62c",
    "tags": []
   },
   "outputs": [
    {
     "data": {
      "text/plain": [
       "true_label_class  predicted_label_class\n",
       "Adequate          Adequate                 1411\n",
       "                  Effective                 441\n",
       "                  Ineffective               246\n",
       "Effective         Adequate                  253\n",
       "                  Effective                 668\n",
       "                  Ineffective                12\n",
       "Ineffective       Adequate                  386\n",
       "                  Effective                  50\n",
       "                  Ineffective               210\n",
       "Name: true_label, dtype: int64"
      ]
     },
     "execution_count": 65,
     "metadata": {},
     "output_type": "execute_result"
    }
   ],
   "source": [
    "output_df.groupby(['true_label_class','predicted_label_class'])['true_label'].count()"
   ]
  },
  {
   "cell_type": "code",
   "execution_count": 66,
   "id": "105fa8cf",
   "metadata": {
    "execution": {
     "iopub.execute_input": "2023-04-27T07:22:04.040945Z",
     "iopub.status.busy": "2023-04-27T07:22:04.039990Z",
     "iopub.status.idle": "2023-04-27T07:22:04.048989Z",
     "shell.execute_reply": "2023-04-27T07:22:04.047585Z",
     "shell.execute_reply.started": "2023-04-27T07:22:04.040903Z"
    },
    "executionInfo": {
     "elapsed": 2,
     "status": "aborted",
     "timestamp": 1682229088553,
     "user": {
      "displayName": "Shringa Bais",
      "userId": "09868022155344754933"
     },
     "user_tz": 420
    },
    "id": "947d8201-7bff-4d0c-8fa6-cfe6767b0fd1",
    "tags": []
   },
   "outputs": [],
   "source": [
    "classes = output_df.true_label.unique()\n",
    "labels = output_df.true_label_class.unique()"
   ]
  },
  {
   "cell_type": "code",
   "execution_count": 67,
   "id": "a6c54f0e",
   "metadata": {
    "execution": {
     "iopub.execute_input": "2023-04-27T07:22:04.658758Z",
     "iopub.status.busy": "2023-04-27T07:22:04.657601Z",
     "iopub.status.idle": "2023-04-27T07:22:04.664565Z",
     "shell.execute_reply": "2023-04-27T07:22:04.663265Z",
     "shell.execute_reply.started": "2023-04-27T07:22:04.658707Z"
    },
    "executionInfo": {
     "elapsed": 2,
     "status": "aborted",
     "timestamp": 1682229088553,
     "user": {
      "displayName": "Shringa Bais",
      "userId": "09868022155344754933"
     },
     "user_tz": 420
    },
    "id": "7d1d0083-2529-48f1-af5b-cc562cf426a1",
    "tags": []
   },
   "outputs": [],
   "source": [
    "valid_predicted = np.zeros_like(y_valid_pred)\n",
    "valid_predicted[np.arange(len(y_valid_pred)), y_valid_pred.argmax(1)] = 1"
   ]
  },
  {
   "cell_type": "code",
   "execution_count": 68,
   "id": "2c3290dc",
   "metadata": {
    "execution": {
     "iopub.execute_input": "2023-04-27T07:22:05.517590Z",
     "iopub.status.busy": "2023-04-27T07:22:05.516654Z",
     "iopub.status.idle": "2023-04-27T07:22:05.522974Z",
     "shell.execute_reply": "2023-04-27T07:22:05.521565Z",
     "shell.execute_reply.started": "2023-04-27T07:22:05.517538Z"
    },
    "executionInfo": {
     "elapsed": 2,
     "status": "aborted",
     "timestamp": 1682229088553,
     "user": {
      "displayName": "Shringa Bais",
      "userId": "09868022155344754933"
     },
     "user_tz": 420
    },
    "id": "e71642f7-8d60-420a-adf6-2578b13f308f",
    "tags": []
   },
   "outputs": [],
   "source": [
    "# ConfusionMatrixDisplay.from_predictions(y_valid, valid_predicted.argmax(axis =1), display_labels=classes, cmap=plt.cm.Blues)"
   ]
  },
  {
   "cell_type": "code",
   "execution_count": 69,
   "id": "765b2424",
   "metadata": {
    "execution": {
     "iopub.execute_input": "2023-04-27T07:22:06.036244Z",
     "iopub.status.busy": "2023-04-27T07:22:06.034742Z",
     "iopub.status.idle": "2023-04-27T07:22:06.476661Z",
     "shell.execute_reply": "2023-04-27T07:22:06.475631Z",
     "shell.execute_reply.started": "2023-04-27T07:22:06.036187Z"
    },
    "executionInfo": {
     "elapsed": 2,
     "status": "aborted",
     "timestamp": 1682229088553,
     "user": {
      "displayName": "Shringa Bais",
      "userId": "09868022155344754933"
     },
     "user_tz": 420
    },
    "id": "640e02fc-4bc1-457c-98b5-d8b9b21a1425",
    "tags": []
   },
   "outputs": [
    {
     "data": {
      "image/png": "[encoded data removed]",
      "text/plain": [
       "<Figure size 640x480 with 2 Axes>"
      ]
     },
     "metadata": {},
     "output_type": "display_data"
    }
   ],
   "source": [
    "cm = ConfusionMatrixDisplay.from_predictions(y_valid, valid_predicted.argmax(axis =1),\\\n",
    "                                        display_labels=labels, cmap=plt.cm.Blues)\n",
    "\n",
    "cm.figure_.savefig('/kaggle/working/confusion_matrix_cls1.png')"
   ]
  },
  {
   "cell_type": "code",
   "execution_count": 70,
   "id": "e3c7d037",
   "metadata": {
    "execution": {
     "iopub.execute_input": "2023-04-27T07:22:09.197958Z",
     "iopub.status.busy": "2023-04-27T07:22:09.197004Z",
     "iopub.status.idle": "2023-04-27T07:22:09.213869Z",
     "shell.execute_reply": "2023-04-27T07:22:09.212626Z",
     "shell.execute_reply.started": "2023-04-27T07:22:09.197917Z"
    },
    "executionInfo": {
     "elapsed": 2,
     "status": "aborted",
     "timestamp": 1682229088553,
     "user": {
      "displayName": "Shringa Bais",
      "userId": "09868022155344754933"
     },
     "user_tz": 420
    },
    "id": "e7bb0a37-923b-445b-99ce-f99121d80b39",
    "tags": []
   },
   "outputs": [
    {
     "name": "stdout",
     "output_type": "stream",
     "text": [
      "              precision    recall  f1-score   support\n",
      "\n",
      "   Effective       0.45      0.33      0.38       646\n",
      "    Adequate       0.69      0.67      0.68      2098\n",
      " Ineffective       0.58      0.72      0.64       933\n",
      "\n",
      "    accuracy                           0.62      3677\n",
      "   macro avg       0.57      0.57      0.57      3677\n",
      "weighted avg       0.62      0.62      0.62      3677\n",
      "\n"
     ]
    }
   ],
   "source": [
    "report = classification_report(output_df['true_label'], output_df['predicted_label'], target_names = labels)\n",
    "print(report)"
   ]
  },
  {
   "cell_type": "code",
   "execution_count": 71,
   "id": "c4105bf7",
   "metadata": {
    "execution": {
     "iopub.execute_input": "2023-04-27T07:22:11.226796Z",
     "iopub.status.busy": "2023-04-27T07:22:11.226181Z",
     "iopub.status.idle": "2023-04-27T07:22:11.233777Z",
     "shell.execute_reply": "2023-04-27T07:22:11.232656Z",
     "shell.execute_reply.started": "2023-04-27T07:22:11.226756Z"
    }
   },
   "outputs": [],
   "source": [
    "def pandas_classification_report(y_true, y_pred):\n",
    "    metrics_summary = precision_recall_fscore_support(\n",
    "            y_true=y_true, \n",
    "            y_pred=y_pred)\n",
    "    \n",
    "    avg = list(precision_recall_fscore_support(\n",
    "            y_true=y_true, \n",
    "            y_pred=y_pred,\n",
    "            average='weighted'))\n",
    "\n",
    "    metrics_sum_index = ['precision', 'recall', 'f1-score', 'support']\n",
    "    class_report_df = pd.DataFrame(\n",
    "        list(metrics_summary),\n",
    "        index=metrics_sum_index)\n",
    "    \n",
    "    support = class_report_df.loc['support']\n",
    "    total = support.sum() \n",
    "    avg[-1] = total\n",
    "    \n",
    "    class_report_df['avg / total'] = avg\n",
    "\n",
    "    return class_report_df.T"
   ]
  },
  {
   "cell_type": "code",
   "execution_count": 72,
   "id": "3643f470",
   "metadata": {
    "execution": {
     "iopub.execute_input": "2023-04-27T07:22:12.911775Z",
     "iopub.status.busy": "2023-04-27T07:22:12.911172Z",
     "iopub.status.idle": "2023-04-27T07:22:12.926467Z",
     "shell.execute_reply": "2023-04-27T07:22:12.925425Z",
     "shell.execute_reply.started": "2023-04-27T07:22:12.911736Z"
    }
   },
   "outputs": [],
   "source": [
    "p_cr = pandas_classification_report(y_true=output_df['true_label'], y_pred=output_df['predicted_label'])\n",
    "p_cr.to_csv('/kaggle/working/cls1_cr.csv',  sep=',')"
   ]
  },
  {
   "cell_type": "code",
   "execution_count": 73,
   "id": "ce32f76c",
   "metadata": {
    "execution": {
     "iopub.execute_input": "2023-04-27T07:22:13.286478Z",
     "iopub.status.busy": "2023-04-27T07:22:13.286134Z",
     "iopub.status.idle": "2023-04-27T07:22:13.525790Z",
     "shell.execute_reply": "2023-04-27T07:22:13.524769Z",
     "shell.execute_reply.started": "2023-04-27T07:22:13.286445Z"
    }
   },
   "outputs": [
    {
     "data": {
      "image/png": "[encoded data removed]",
      "text/plain": [
       "<Figure size 640x480 with 1 Axes>"
      ]
     },
     "metadata": {},
     "output_type": "display_data"
    },
    {
     "data": {
      "text/plain": [
       "<Figure size 640x480 with 0 Axes>"
      ]
     },
     "metadata": {},
     "output_type": "display_data"
    }
   ],
   "source": [
    "import matplotlib.pyplot as plt\n",
    "plt.plot(train_history.history[\"f1_score\"])\n",
    "plt.plot(train_history.history[\"val_f1_score\"])\n",
    "plt.title('model accuracy')\n",
    "plt.ylabel('accuracy')\n",
    "plt.xlabel('epoch')\n",
    "plt.legend(['train', 'val'], loc='upper left')\n",
    "plt.show()\n",
    "plt.savefig('/kaggle/working/accuracy_cls1.png', bbox_inches='tight')"
   ]
  },
  {
   "cell_type": "code",
   "execution_count": 74,
   "id": "d217935a",
   "metadata": {
    "execution": {
     "iopub.execute_input": "2023-04-27T07:22:15.771670Z",
     "iopub.status.busy": "2023-04-27T07:22:15.771228Z",
     "iopub.status.idle": "2023-04-27T07:22:16.002448Z",
     "shell.execute_reply": "2023-04-27T07:22:16.001411Z",
     "shell.execute_reply.started": "2023-04-27T07:22:15.771628Z"
    }
   },
   "outputs": [
    {
     "data": {
      "image/png": "[encoded data removed]",
      "text/plain": [
       "<Figure size 640x480 with 1 Axes>"
      ]
     },
     "metadata": {},
     "output_type": "display_data"
    },
    {
     "data": {
      "text/plain": [
       "<Figure size 640x480 with 0 Axes>"
      ]
     },
     "metadata": {},
     "output_type": "display_data"
    }
   ],
   "source": [
    "train_history.history.keys()\n",
    "plt.plot(train_history.history[\"loss\"])\n",
    "plt.plot(train_history.history[\"val_loss\"])\n",
    "plt.title('model loss')\n",
    "plt.ylabel('loss')\n",
    "plt.xlabel('epoch')\n",
    "plt.legend(['train', 'val'], loc='upper left')\n",
    "plt.show()\n",
    "plt.savefig('/kaggle/working/loss_cls1.png', bbox_inches='tight')"
   ]
  },
  {
   "cell_type": "markdown",
   "id": "87496a86",
   "metadata": {},
   "source": [
    "Ineffective\": 0, \"Adequate\": 1, \"Effective\": 2"
   ]
  },
  {
   "cell_type": "code",
   "execution_count": 75,
   "id": "4e1b255c",
   "metadata": {
    "execution": {
     "iopub.execute_input": "2023-04-27T07:22:18.940229Z",
     "iopub.status.busy": "2023-04-27T07:22:18.939459Z",
     "iopub.status.idle": "2023-04-27T07:22:18.948248Z",
     "shell.execute_reply": "2023-04-27T07:22:18.947174Z",
     "shell.execute_reply.started": "2023-04-27T07:22:18.940186Z"
    },
    "executionInfo": {
     "elapsed": 169,
     "status": "aborted",
     "timestamp": 1682229088720,
     "user": {
      "displayName": "Shringa Bais",
      "userId": "09868022155344754933"
     },
     "user_tz": 420
    },
    "id": "66e1b87d-c5b2-4e8a-8a6d-3b7da7fde33c",
    "tags": []
   },
   "outputs": [
    {
     "data": {
      "text/plain": [
       "1    2098\n",
       "2     933\n",
       "0     646\n",
       "Name: true_label, dtype: int64"
      ]
     },
     "execution_count": 75,
     "metadata": {},
     "output_type": "execute_result"
    }
   ],
   "source": [
    "output_df['true_label'].value_counts()"
   ]
  },
  {
   "cell_type": "code",
   "execution_count": 76,
   "id": "cfc3a23e",
   "metadata": {
    "execution": {
     "iopub.execute_input": "2023-04-27T07:22:20.120953Z",
     "iopub.status.busy": "2023-04-27T07:22:20.120024Z",
     "iopub.status.idle": "2023-04-27T07:22:20.129257Z",
     "shell.execute_reply": "2023-04-27T07:22:20.128173Z",
     "shell.execute_reply.started": "2023-04-27T07:22:20.120912Z"
    }
   },
   "outputs": [
    {
     "data": {
      "text/plain": [
       "1    20977\n",
       "2     9326\n",
       "0     6462\n",
       "Name: label, dtype: int64"
      ]
     },
     "execution_count": 76,
     "metadata": {},
     "output_type": "execute_result"
    }
   ],
   "source": [
    "train_data['label'].value_counts()"
   ]
  }
 ],
 "metadata": {
  "colab": {
   "provenance": []
  },
  "kernelspec": {
   "display_name": "Python 3 (ipykernel)",
   "language": "python",
   "name": "python3"
  },
  "language_info": {
   "codemirror_mode": {
    "name": "ipython",
    "version": 3
   },
   "file_extension": ".py",
   "mimetype": "text/x-python",
   "name": "python",
   "nbconvert_exporter": "python",
   "pygments_lexer": "ipython3",
   "version": "3.11.1"
  }
 },
 "nbformat": 4,
 "nbformat_minor": 5
}
